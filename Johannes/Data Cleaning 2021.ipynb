{
 "cells": [
  {
   "cell_type": "code",
   "execution_count": 1,
   "metadata": {},
   "outputs": [],
   "source": [
    "import feather\n",
    "import pandas as pd\n",
    "import numpy as np\n",
    "import seaborn as sns\n",
    "import matplotlib.pyplot as plt\n",
    "%matplotlib inline"
   ]
  },
  {
   "cell_type": "code",
   "execution_count": 2,
   "metadata": {},
   "outputs": [
    {
     "name": "stderr",
     "output_type": "stream",
     "text": [
      "C:\\Users\\jppot\\Anaconda3\\lib\\site-packages\\IPython\\core\\interactiveshell.py:3326: DtypeWarning: Columns (5,7) have mixed types.Specify dtype option on import or set low_memory=False.\n",
      "  exec(code_obj, self.user_global_ns, self.user_ns)\n",
      "C:\\Users\\jppot\\Anaconda3\\lib\\site-packages\\IPython\\core\\interactiveshell.py:3326: DtypeWarning: Columns (7) have mixed types.Specify dtype option on import or set low_memory=False.\n",
      "  exec(code_obj, self.user_global_ns, self.user_ns)\n"
     ]
    }
   ],
   "source": [
    "NY1221 = pd.read_csv('202112-citibike-tripdata.csv')\n",
    "NY1121 = pd.read_csv('202111-citibike-tripdata.csv')\n",
    "NY1021 = pd.read_csv('202110-citibike-tripdata.csv')\n",
    "NY0921 = pd.read_csv('202109-citibike-tripdata.csv')\n",
    "NY0821 = pd.read_csv('202108-citibike-tripdata.csv') \n",
    "NY0721 = pd.read_csv('202107-citibike-tripdata.csv')\n",
    "NY0621 = pd.read_csv('202106-citibike-tripdata.csv')\n",
    "NY0521 = pd.read_csv('202105-citibike-tripdata.csv') \n",
    "NY0421 = pd.read_csv('202104-citibike-tripdata.csv') \n",
    "NY0321 = pd.read_csv('202103-citibike-tripdata.csv') \n",
    "NY0221 = pd.read_csv('202102-citibike-tripdata.csv') \n",
    "NY0121 = pd.read_csv('202101-citibike-tripdata.csv') "
   ]
  },
  {
   "cell_type": "code",
   "execution_count": 4,
   "metadata": {},
   "outputs": [
    {
     "name": "stdout",
     "output_type": "stream",
     "text": [
      "<class 'pandas.core.frame.DataFrame'>\n",
      "RangeIndex: 1748287 entries, 0 to 1748286\n",
      "Data columns (total 13 columns):\n",
      " #   Column              Dtype  \n",
      "---  ------              -----  \n",
      " 0   ride_id             object \n",
      " 1   rideable_type       object \n",
      " 2   started_at          object \n",
      " 3   ended_at            object \n",
      " 4   start_station_name  object \n",
      " 5   start_station_id    object \n",
      " 6   end_station_name    object \n",
      " 7   end_station_id      object \n",
      " 8   start_lat           float64\n",
      " 9   start_lng           float64\n",
      " 10  end_lat             float64\n",
      " 11  end_lng             float64\n",
      " 12  member_casual       object \n",
      "dtypes: float64(4), object(9)\n",
      "memory usage: 173.4+ MB\n",
      "<class 'pandas.core.frame.DataFrame'>\n",
      "RangeIndex: 2159283 entries, 0 to 2159282\n",
      "Data columns (total 13 columns):\n",
      " #   Column              Dtype  \n",
      "---  ------              -----  \n",
      " 0   ride_id             object \n",
      " 1   rideable_type       object \n",
      " 2   started_at          object \n",
      " 3   ended_at            object \n",
      " 4   start_station_name  object \n",
      " 5   start_station_id    object \n",
      " 6   end_station_name    object \n",
      " 7   end_station_id      object \n",
      " 8   start_lat           float64\n",
      " 9   start_lng           float64\n",
      " 10  end_lat             float64\n",
      " 11  end_lng             float64\n",
      " 12  member_casual       object \n",
      "dtypes: float64(4), object(9)\n",
      "memory usage: 214.2+ MB\n",
      "<class 'pandas.core.frame.DataFrame'>\n",
      "RangeIndex: 3069239 entries, 0 to 3069238\n",
      "Data columns (total 13 columns):\n",
      " #   Column              Dtype  \n",
      "---  ------              -----  \n",
      " 0   ride_id             object \n",
      " 1   rideable_type       object \n",
      " 2   started_at          object \n",
      " 3   ended_at            object \n",
      " 4   start_station_name  object \n",
      " 5   start_station_id    object \n",
      " 6   end_station_name    object \n",
      " 7   end_station_id      object \n",
      " 8   start_lat           float64\n",
      " 9   start_lng           float64\n",
      " 10  end_lat             float64\n",
      " 11  end_lng             float64\n",
      " 12  member_casual       object \n",
      "dtypes: float64(4), object(9)\n",
      "memory usage: 304.4+ MB\n",
      "<class 'pandas.core.frame.DataFrame'>\n",
      "RangeIndex: 3280221 entries, 0 to 3280220\n",
      "Data columns (total 13 columns):\n",
      " #   Column              Dtype  \n",
      "---  ------              -----  \n",
      " 0   ride_id             object \n",
      " 1   rideable_type       object \n",
      " 2   started_at          object \n",
      " 3   ended_at            object \n",
      " 4   start_station_name  object \n",
      " 5   start_station_id    float64\n",
      " 6   end_station_name    object \n",
      " 7   end_station_id      object \n",
      " 8   start_lat           float64\n",
      " 9   start_lng           float64\n",
      " 10  end_lat             float64\n",
      " 11  end_lng             float64\n",
      " 12  member_casual       object \n",
      "dtypes: float64(5), object(8)\n",
      "memory usage: 325.3+ MB\n",
      "<class 'pandas.core.frame.DataFrame'>\n",
      "RangeIndex: 3072478 entries, 0 to 3072477\n",
      "Data columns (total 13 columns):\n",
      " #   Column              Dtype  \n",
      "---  ------              -----  \n",
      " 0   ride_id             object \n",
      " 1   rideable_type       object \n",
      " 2   started_at          object \n",
      " 3   ended_at            object \n",
      " 4   start_station_name  object \n",
      " 5   start_station_id    float64\n",
      " 6   end_station_name    object \n",
      " 7   end_station_id      object \n",
      " 8   start_lat           float64\n",
      " 9   start_lng           float64\n",
      " 10  end_lat             float64\n",
      " 11  end_lng             float64\n",
      " 12  member_casual       object \n",
      "dtypes: float64(5), object(8)\n",
      "memory usage: 304.7+ MB\n",
      "<class 'pandas.core.frame.DataFrame'>\n",
      "RangeIndex: 3084537 entries, 0 to 3084536\n",
      "Data columns (total 13 columns):\n",
      " #   Column              Dtype  \n",
      "---  ------              -----  \n",
      " 0   ride_id             object \n",
      " 1   rideable_type       object \n",
      " 2   started_at          object \n",
      " 3   ended_at            object \n",
      " 4   start_station_name  object \n",
      " 5   start_station_id    float64\n",
      " 6   end_station_name    object \n",
      " 7   end_station_id      object \n",
      " 8   start_lat           float64\n",
      " 9   start_lng           float64\n",
      " 10  end_lat             float64\n",
      " 11  end_lng             float64\n",
      " 12  member_casual       object \n",
      "dtypes: float64(5), object(8)\n",
      "memory usage: 305.9+ MB\n",
      "<class 'pandas.core.frame.DataFrame'>\n",
      "RangeIndex: 3177517 entries, 0 to 3177516\n",
      "Data columns (total 13 columns):\n",
      " #   Column              Dtype  \n",
      "---  ------              -----  \n",
      " 0   ride_id             object \n",
      " 1   rideable_type       object \n",
      " 2   started_at          object \n",
      " 3   ended_at            object \n",
      " 4   start_station_name  object \n",
      " 5   start_station_id    float64\n",
      " 6   end_station_name    object \n",
      " 7   end_station_id      object \n",
      " 8   start_lat           float64\n",
      " 9   start_lng           float64\n",
      " 10  end_lat             float64\n",
      " 11  end_lng             float64\n",
      " 12  member_casual       object \n",
      "dtypes: float64(5), object(8)\n",
      "memory usage: 315.2+ MB\n",
      "<class 'pandas.core.frame.DataFrame'>\n",
      "RangeIndex: 2724165 entries, 0 to 2724164\n",
      "Data columns (total 13 columns):\n",
      " #   Column              Dtype  \n",
      "---  ------              -----  \n",
      " 0   ride_id             object \n",
      " 1   rideable_type       object \n",
      " 2   started_at          object \n",
      " 3   ended_at            object \n",
      " 4   start_station_name  object \n",
      " 5   start_station_id    object \n",
      " 6   end_station_name    object \n",
      " 7   end_station_id      object \n",
      " 8   start_lat           float64\n",
      " 9   start_lng           float64\n",
      " 10  end_lat             float64\n",
      " 11  end_lng             float64\n",
      " 12  member_casual       object \n",
      "dtypes: float64(4), object(9)\n",
      "memory usage: 270.2+ MB\n",
      "<class 'pandas.core.frame.DataFrame'>\n",
      "RangeIndex: 2067669 entries, 0 to 2067668\n",
      "Data columns (total 13 columns):\n",
      " #   Column              Dtype  \n",
      "---  ------              -----  \n",
      " 0   ride_id             object \n",
      " 1   rideable_type       object \n",
      " 2   started_at          object \n",
      " 3   ended_at            object \n",
      " 4   start_station_name  object \n",
      " 5   start_station_id    object \n",
      " 6   end_station_name    object \n",
      " 7   end_station_id      object \n",
      " 8   start_lat           float64\n",
      " 9   start_lng           float64\n",
      " 10  end_lat             float64\n",
      " 11  end_lng             float64\n",
      " 12  member_casual       object \n",
      "dtypes: float64(4), object(9)\n",
      "memory usage: 205.1+ MB\n",
      "<class 'pandas.core.frame.DataFrame'>\n",
      "RangeIndex: 1531094 entries, 0 to 1531093\n",
      "Data columns (total 13 columns):\n",
      " #   Column              Non-Null Count    Dtype  \n",
      "---  ------              --------------    -----  \n",
      " 0   ride_id             1531094 non-null  object \n",
      " 1   rideable_type       1531094 non-null  object \n",
      " 2   started_at          1531094 non-null  object \n",
      " 3   ended_at            1531094 non-null  object \n",
      " 4   start_station_name  1531094 non-null  object \n",
      " 5   start_station_id    1531094 non-null  object \n",
      " 6   end_station_name    1527893 non-null  object \n",
      " 7   end_station_id      1527893 non-null  object \n",
      " 8   start_lat           1531094 non-null  float64\n",
      " 9   start_lng           1531094 non-null  float64\n",
      " 10  end_lat             1527893 non-null  float64\n",
      " 11  end_lng             1527893 non-null  float64\n",
      " 12  member_casual       1531094 non-null  object \n",
      "dtypes: float64(4), object(9)\n",
      "memory usage: 151.9+ MB\n",
      "<class 'pandas.core.frame.DataFrame'>\n",
      "RangeIndex: 649983 entries, 0 to 649982\n",
      "Data columns (total 13 columns):\n",
      " #   Column              Non-Null Count   Dtype  \n",
      "---  ------              --------------   -----  \n",
      " 0   ride_id             649983 non-null  object \n",
      " 1   rideable_type       649983 non-null  object \n",
      " 2   started_at          649983 non-null  object \n",
      " 3   ended_at            649983 non-null  object \n",
      " 4   start_station_name  649983 non-null  object \n",
      " 5   start_station_id    649983 non-null  object \n",
      " 6   end_station_name    648651 non-null  object \n",
      " 7   end_station_id      648651 non-null  object \n",
      " 8   start_lat           649983 non-null  float64\n",
      " 9   start_lng           649983 non-null  float64\n",
      " 10  end_lat             648651 non-null  float64\n",
      " 11  end_lng             648651 non-null  float64\n",
      " 12  member_casual       649983 non-null  object \n",
      "dtypes: float64(4), object(9)\n",
      "memory usage: 64.5+ MB\n",
      "<class 'pandas.core.frame.DataFrame'>\n",
      "RangeIndex: 1095346 entries, 0 to 1095345\n",
      "Data columns (total 15 columns):\n",
      " #   Column                   Non-Null Count    Dtype  \n",
      "---  ------                   --------------    -----  \n",
      " 0   tripduration             1095346 non-null  int64  \n",
      " 1   starttime                1095346 non-null  object \n",
      " 2   stoptime                 1095346 non-null  object \n",
      " 3   start station id         1095346 non-null  int64  \n",
      " 4   start station name       1095346 non-null  object \n",
      " 5   start station latitude   1095346 non-null  float64\n",
      " 6   start station longitude  1095346 non-null  float64\n",
      " 7   end station id           1095346 non-null  int64  \n",
      " 8   end station name         1095346 non-null  object \n",
      " 9   end station latitude     1095346 non-null  float64\n",
      " 10  end station longitude    1095346 non-null  float64\n",
      " 11  bikeid                   1095346 non-null  int64  \n",
      " 12  usertype                 1095346 non-null  object \n",
      " 13  birth year               1095346 non-null  int64  \n",
      " 14  gender                   1095346 non-null  int64  \n",
      "dtypes: float64(4), int64(6), object(5)\n",
      "memory usage: 125.4+ MB\n"
     ]
    }
   ],
   "source": [
    "NY1221.info()\n",
    "NY1121.info()\n",
    "NY1021.info()\n",
    "NY0921.info()\n",
    "NY0821.info()\n",
    "NY0721.info()\n",
    "NY0621.info()\n",
    "NY0521.info()\n",
    "NY0421.info()\n",
    "NY0321.info()\n",
    "NY0221.info()\n",
    "NY0121.info()"
   ]
  },
  {
   "cell_type": "code",
   "execution_count": 6,
   "metadata": {},
   "outputs": [],
   "source": [
    "def Col_rename(df):\n",
    "    for i in list(df.columns):\n",
    "        if i in ['starttime','started_at','Start Time']:\n",
    "            df.rename({i:'start_time'}, axis=1, inplace = True)\n",
    "        if i in ['member_casual','User Type','usertype']:\n",
    "            df.rename({i: 'user_type'}, axis =1, inplace = True)\n",
    "        if i in ['tripduration' , 'Trip Duration']:\n",
    "            df.rename({i: 'duration'}, axis =1, inplace = True)\n",
    "        if i in ['stoptime'  , 'Stop Time'  ,'ended_at']:\n",
    "            df.rename({i: 'end_time'}, axis =1, inplace = True)\n",
    "        if i in ['start station id',  'Start Station ID' ]:\n",
    "            df.rename({i: 'start_station_id'}, axis =1, inplace = True)\n",
    "        if i in ['start station name' , 'Start Station Name' ]:\n",
    "            df.rename({i: 'start_station_name'}, axis =1, inplace = True)\n",
    "        if i in ['start station latitude' , 'Start Station Latitude' ]:\n",
    "            df.rename({i: 'start_lat'}, axis =1, inplace = True)\n",
    "        if i in ['start station longitude', 'Start Station Longitude' ]:\n",
    "            df.rename({i: 'start_lng'}, axis =1, inplace = True)\n",
    "        if i in ['end station id' , 'End Station ID' ]:\n",
    "            df.rename({i: 'end_station_id'}, axis =1, inplace = True)\n",
    "        if i in ['end station name' ,'End Station Name']:\n",
    "            df.rename({i: 'end_station_name'}, axis =1, inplace = True)\n",
    "        if i in ['end station latitude'  ,'End Station Latitude']:\n",
    "            df.rename({i: 'end_lat'}, axis =1, inplace = True)\n",
    "        if i in ['end station longitude', 'End Station Longitude']:\n",
    "            df.rename({i: 'end_lng'}, axis =1, inplace = True)"
   ]
  },
  {
   "cell_type": "code",
   "execution_count": 38,
   "metadata": {},
   "outputs": [],
   "source": [
    "# drop rows with missing end station   \n",
    "def Drop_end(df):\n",
    "    df = df.dropna(how='any', subset=['end_station_name', 'end_lng'], inplace = True)\n",
    "      \n",
    "\n",
    "# downsize memory for user_type and duration columns \n",
    "def Downsize_memory(df):\n",
    "     df['user_type'] = df['user_type'].astype('category')\n",
    "     df['duration'] = df['duration'].astype('int32')\n",
    "\n",
    "# reorder columns and drop columns: birth year, gender, bikeid, rideid            \n",
    "def Col_reorder(df):\n",
    "    \n",
    "    df = df[['start_time','end_time','duration',\n",
    "             'start_station_name','start_station_id',\n",
    "             'end_station_name','end_station_id',\n",
    "             'start_lat','start_lng', 'end_lat','end_lng', 'user_type']]\n",
    "    return df\n",
    "\n",
    "\n",
    "\n"
   ]
  },
  {
   "cell_type": "code",
   "execution_count": 39,
   "metadata": {},
   "outputs": [],
   "source": [
    "# make columms uniform & drop empty rows \n",
    "def clean_df(df): \n",
    "\n",
    "    Col_rename(df)\n",
    "    Col_to_dt(df)\n",
    "    Col_duration(df)\n",
    "    Statid_to_string(df)\n",
    "    User_binary(df)\n",
    "    Drop_end(df)\n",
    "    Downsize_memory(df)\n",
    "    df = Col_reorder(df)\n",
    "\n",
    "    return df"
   ]
  },
  {
   "cell_type": "code",
   "execution_count": 71,
   "metadata": {},
   "outputs": [],
   "source": [
    "NY1221 = clean_df(NY1221)\n",
    "NY1121 = clean_df(NY1121)\n",
    "NY1021 = clean_df(NY1021)\n",
    "NY0921 = clean_df(NY0921)\n",
    "NY0821 = clean_df(NY0821)\n",
    "NY0721 = clean_df(NY0721)\n",
    "NY0621 = clean_df(NY0621)\n",
    "NY0521 = clean_df(NY0521)\n",
    "NY0521 = clean_df(NY0421)\n",
    "NY0321 = clean_df(NY0321)\n",
    "NY0221 = clean_df(NY0221)\n",
    "NY0121 = clean_df(NY0121)"
   ]
  },
  {
   "cell_type": "code",
   "execution_count": 72,
   "metadata": {},
   "outputs": [],
   "source": [
    "feather.write_dataframe(NY1221, 'NY1221.feather')\n",
    "feather.write_dataframe(NY1121, 'NY1121.feather')\n",
    "feather.write_dataframe(NY1021, 'NY1021.feather')\n",
    "feather.write_dataframe(NY0921, 'NY0921.feather')\n",
    "feather.write_dataframe(NY0821, 'NY0821.feather')\n",
    "feather.write_dataframe(NY0721, 'NY0721.feather')\n",
    "feather.write_dataframe(NY0621, 'NY0621.feather')\n",
    "feather.write_dataframe(NY0521, 'NY0521.feather')\n",
    "feather.write_dataframe(NY0421, 'NY0421.feather')\n",
    "feather.write_dataframe(NY0321, 'NY0321.feather')\n",
    "feather.write_dataframe(NY0221, 'NY0221.feather')\n",
    "feather.write_dataframe(NY0121, 'NY0121.feather')"
   ]
  },
  {
   "cell_type": "code",
   "execution_count": 73,
   "metadata": {},
   "outputs": [],
   "source": [
    "NY122021 = feather.read_dataframe('NY1221.feather')\n",
    "NY112021 = feather.read_dataframe('NY1121.feather')\n",
    "NY102021 = feather.read_dataframe('NY1021.feather')\n",
    "NY092021 = feather.read_dataframe('NY0921.feather')\n",
    "NY082021 = feather.read_dataframe('NY0821.feather')\n",
    "NY072021 = feather.read_dataframe('NY0721.feather')\n",
    "NY062021 = feather.read_dataframe('NY0621.feather')\n",
    "NY052021 = feather.read_dataframe('NY0521.feather')\n",
    "NY042021 = feather.read_dataframe('NY0421.feather')\n",
    "NY032021 = feather.read_dataframe('NY0321.feather')\n",
    "NY022021 = feather.read_dataframe('NY0221.feather')\n",
    "NY012021 = feather.read_dataframe('NY0121.feather')"
   ]
  },
  {
   "cell_type": "code",
   "execution_count": 74,
   "metadata": {},
   "outputs": [
    {
     "name": "stdout",
     "output_type": "stream",
     "text": [
      "<class 'pandas.core.frame.DataFrame'>\n",
      "RangeIndex: 1739708 entries, 0 to 1739707\n",
      "Data columns (total 12 columns):\n",
      " #   Column              Dtype         \n",
      "---  ------              -----         \n",
      " 0   start_time          datetime64[ns]\n",
      " 1   end_time            datetime64[ns]\n",
      " 2   duration            int32         \n",
      " 3   start_station_name  object        \n",
      " 4   start_station_id    object        \n",
      " 5   end_station_name    object        \n",
      " 6   end_station_id      object        \n",
      " 7   start_lat           float64       \n",
      " 8   start_lng           float64       \n",
      " 9   end_lat             float64       \n",
      " 10  end_lng             float64       \n",
      " 11  user_type           category      \n",
      "dtypes: category(1), datetime64[ns](2), float64(4), int32(1), object(4)\n",
      "memory usage: 141.0+ MB\n"
     ]
    }
   ],
   "source": [
    "NY122021.info()"
   ]
  },
  {
   "cell_type": "code",
   "execution_count": 75,
   "metadata": {},
   "outputs": [],
   "source": [
    "NY2021_concat = pd.concat([NY122021, NY122021,NY102021,NY092021, NY082021,NY072021, NY062021, NY052021, NY042021, NY032021, NY022021,NY012021 ], axis=0)"
   ]
  },
  {
   "cell_type": "code",
   "execution_count": 76,
   "metadata": {},
   "outputs": [
    {
     "name": "stdout",
     "output_type": "stream",
     "text": [
      "<class 'pandas.core.frame.DataFrame'>\n",
      "Int64Index: 26499105 entries, 0 to 1095345\n",
      "Data columns (total 14 columns):\n",
      " #   Column              Dtype         \n",
      "---  ------              -----         \n",
      " 0   start_time          datetime64[ns]\n",
      " 1   end_time            datetime64[ns]\n",
      " 2   duration            int32         \n",
      " 3   start_station_name  object        \n",
      " 4   start_station_id    object        \n",
      " 5   end_station_name    object        \n",
      " 6   end_station_id      object        \n",
      " 7   start_lat           float64       \n",
      " 8   start_lng           float64       \n",
      " 9   end_lat             float64       \n",
      " 10  end_lng             float64       \n",
      " 11  user_type           category      \n",
      " 12  ride_id             object        \n",
      " 13  rideable_type       object        \n",
      "dtypes: category(1), datetime64[ns](2), float64(4), int32(1), object(6)\n",
      "memory usage: 2.7+ GB\n"
     ]
    }
   ],
   "source": [
    "NY2021_concat.info()"
   ]
  },
  {
   "cell_type": "code",
   "execution_count": null,
   "metadata": {},
   "outputs": [],
   "source": []
  },
  {
   "cell_type": "code",
   "execution_count": null,
   "metadata": {},
   "outputs": [],
   "source": []
  },
  {
   "cell_type": "code",
   "execution_count": null,
   "metadata": {},
   "outputs": [],
   "source": []
  },
  {
   "cell_type": "code",
   "execution_count": null,
   "metadata": {},
   "outputs": [],
   "source": []
  },
  {
   "cell_type": "code",
   "execution_count": null,
   "metadata": {},
   "outputs": [],
   "source": []
  },
  {
   "cell_type": "code",
   "execution_count": null,
   "metadata": {},
   "outputs": [],
   "source": []
  },
  {
   "cell_type": "code",
   "execution_count": null,
   "metadata": {},
   "outputs": [],
   "source": []
  },
  {
   "cell_type": "code",
   "execution_count": null,
   "metadata": {},
   "outputs": [],
   "source": []
  },
  {
   "cell_type": "code",
   "execution_count": null,
   "metadata": {},
   "outputs": [],
   "source": []
  },
  {
   "cell_type": "code",
   "execution_count": null,
   "metadata": {},
   "outputs": [],
   "source": []
  },
  {
   "cell_type": "code",
   "execution_count": null,
   "metadata": {},
   "outputs": [],
   "source": []
  },
  {
   "cell_type": "code",
   "execution_count": null,
   "metadata": {},
   "outputs": [],
   "source": []
  },
  {
   "cell_type": "code",
   "execution_count": null,
   "metadata": {},
   "outputs": [],
   "source": []
  },
  {
   "cell_type": "code",
   "execution_count": null,
   "metadata": {},
   "outputs": [],
   "source": []
  },
  {
   "cell_type": "code",
   "execution_count": null,
   "metadata": {},
   "outputs": [],
   "source": []
  },
  {
   "cell_type": "code",
   "execution_count": null,
   "metadata": {},
   "outputs": [],
   "source": []
  },
  {
   "cell_type": "code",
   "execution_count": null,
   "metadata": {},
   "outputs": [],
   "source": []
  },
  {
   "cell_type": "code",
   "execution_count": null,
   "metadata": {},
   "outputs": [],
   "source": []
  },
  {
   "cell_type": "code",
   "execution_count": null,
   "metadata": {},
   "outputs": [],
   "source": []
  },
  {
   "cell_type": "code",
   "execution_count": null,
   "metadata": {},
   "outputs": [],
   "source": []
  },
  {
   "cell_type": "code",
   "execution_count": null,
   "metadata": {},
   "outputs": [],
   "source": []
  },
  {
   "cell_type": "code",
   "execution_count": null,
   "metadata": {},
   "outputs": [],
   "source": []
  },
  {
   "cell_type": "code",
   "execution_count": null,
   "metadata": {},
   "outputs": [],
   "source": []
  },
  {
   "cell_type": "code",
   "execution_count": null,
   "metadata": {
    "scrolled": false
   },
   "outputs": [],
   "source": [
    "NY042019.head()"
   ]
  },
  {
   "cell_type": "code",
   "execution_count": null,
   "metadata": {},
   "outputs": [],
   "source": [
    "NY042019.info()"
   ]
  },
  {
   "cell_type": "code",
   "execution_count": null,
   "metadata": {},
   "outputs": [],
   "source": [
    "def Col_rename(df):\n",
    "    for i in list(df.columns):\n",
    "        if i in ['starttime','started_at','Start Time']:\n",
    "            df.rename({i:'start_time'}, axis=1, inplace = True)\n",
    "        if i in ['member_casual','User Type','usertype']:\n",
    "            df.rename({i: 'user_type'}, axis =1, inplace = True)\n",
    "        if i in ['tripduration' , 'Trip Duration']:\n",
    "            df.rename({i: 'duration'}, axis =1, inplace = True)\n",
    "        if i in ['stoptime'  , 'Stop Time'  ,'ended_at']:\n",
    "            df.rename({i: 'end_time'}, axis =1, inplace = True)\n",
    "        if i in ['start station id',  'Start Station ID' ]:\n",
    "            df.rename({i: 'start_station_id'}, axis =1, inplace = True)\n",
    "        if i in ['start station name' , 'Start Station Name' ]:\n",
    "            df.rename({i: 'start_station_name'}, axis =1, inplace = True)\n",
    "        if i in ['start station latitude' , 'Start Station Latitude' ]:\n",
    "            df.rename({i: 'start_lat'}, axis =1, inplace = True)\n",
    "        if i in ['start station longitude', 'Start Station Longitude' ]:\n",
    "            df.rename({i: 'start_lng'}, axis =1, inplace = True)\n",
    "        if i in ['end station id' , 'End Station ID' ]:\n",
    "            df.rename({i: 'end_station_id'}, axis =1, inplace = True)\n",
    "        if i in ['end station name' ,'End Station Name']:\n",
    "            df.rename({i: 'end_station_name'}, axis =1, inplace = True)\n",
    "        if i in ['end station latitude'  ,'End Station Latitude']:\n",
    "            df.rename({i: 'end_lat'}, axis =1, inplace = True)\n",
    "        if i in ['end station longitude', 'End Station Longitude']:\n",
    "            df.rename({i: 'end_lng'}, axis =1, inplace = True)"
   ]
  },
  {
   "cell_type": "code",
   "execution_count": null,
   "metadata": {},
   "outputs": [],
   "source": [
    "Col_rename(NY042019)"
   ]
  },
  {
   "cell_type": "code",
   "execution_count": null,
   "metadata": {},
   "outputs": [],
   "source": [
    "NY042019.head()"
   ]
  },
  {
   "cell_type": "code",
   "execution_count": null,
   "metadata": {},
   "outputs": [],
   "source": [
    "NY042019.info()"
   ]
  },
  {
   "cell_type": "code",
   "execution_count": null,
   "metadata": {},
   "outputs": [],
   "source": [
    "def Col_to_dt(df):\n",
    "    df[[\"start_time\", \"end_time\"]] = df[[\"start_time\", \"end_time\"]].apply(pd.to_datetime)\n",
    "\n",
    "def Col_duration(df):\n",
    "    if 'duration' in list(df.columns):\n",
    "        df['duration'] = df['duration'].astype(float)\n",
    "    else: \n",
    "        df['duration'] = (df[\"end_time\"] - df[\"start_time\"]).astype('timedelta64[s]')\n",
    "        \n",
    "\n",
    "def Statid_to_string(df):\n",
    "    df['start_station_id'] = df['start_station_id'].astype(str)\n",
    "    df['end_station_id'] = df['end_station_id'].astype(str)\n",
    "    \n",
    "def User_binary(df): \n",
    "    user_dict = {'member': 1, 'casual': 0, \n",
    "                 'Subscriber': 1, 'Customer': 0, \n",
    "                 'subscriber': 1, 'customer': 0}\n",
    "    df['user_type'] = df['user_type'].map(user_dict)\n",
    "    df['user_type'].fillna(0, inplace=True)\n",
    "    \n",
    "    \n",
    "#def Drop_cols(df):\n",
    "    #cols_to_drop = ['birth year','Birth Year', \n",
    "                    #'gender', 'Gender',\n",
    "                    #'bikeid','Bike ID',\n",
    "                    #'ride_id','rideable_type']\n",
    "    #df = df.drop(cols_to_drop, axis=1, errors='ignore')"
   ]
  },
  {
   "cell_type": "code",
   "execution_count": null,
   "metadata": {},
   "outputs": [],
   "source": [
    "Col_to_dt(NY042019)"
   ]
  },
  {
   "cell_type": "code",
   "execution_count": null,
   "metadata": {
    "scrolled": true
   },
   "outputs": [],
   "source": [
    "NY042019.head()"
   ]
  },
  {
   "cell_type": "code",
   "execution_count": null,
   "metadata": {},
   "outputs": [],
   "source": [
    "NY042019.info()"
   ]
  },
  {
   "cell_type": "code",
   "execution_count": null,
   "metadata": {},
   "outputs": [],
   "source": [
    "User_binary(NY042019)"
   ]
  },
  {
   "cell_type": "code",
   "execution_count": null,
   "metadata": {},
   "outputs": [],
   "source": [
    "NY042019.head()"
   ]
  },
  {
   "cell_type": "code",
   "execution_count": null,
   "metadata": {},
   "outputs": [],
   "source": [
    "NY042019.info()"
   ]
  },
  {
   "cell_type": "code",
   "execution_count": null,
   "metadata": {},
   "outputs": [],
   "source": [
    "Statid_to_string(NY042019)"
   ]
  },
  {
   "cell_type": "code",
   "execution_count": null,
   "metadata": {},
   "outputs": [],
   "source": [
    "NY042019.head()"
   ]
  },
  {
   "cell_type": "code",
   "execution_count": null,
   "metadata": {},
   "outputs": [],
   "source": [
    "NY042019.info()"
   ]
  },
  {
   "cell_type": "code",
   "execution_count": null,
   "metadata": {},
   "outputs": [],
   "source": [
    "Col_duration(NY042019)"
   ]
  },
  {
   "cell_type": "code",
   "execution_count": null,
   "metadata": {},
   "outputs": [],
   "source": [
    "NY042019.head()"
   ]
  },
  {
   "cell_type": "code",
   "execution_count": null,
   "metadata": {},
   "outputs": [],
   "source": [
    "NY042019.info()"
   ]
  },
  {
   "cell_type": "code",
   "execution_count": null,
   "metadata": {},
   "outputs": [],
   "source": []
  },
  {
   "cell_type": "code",
   "execution_count": null,
   "metadata": {},
   "outputs": [],
   "source": [
    "NY042019.head()"
   ]
  },
  {
   "cell_type": "code",
   "execution_count": null,
   "metadata": {},
   "outputs": [],
   "source": [
    "NY042019.info()"
   ]
  },
  {
   "cell_type": "code",
   "execution_count": null,
   "metadata": {},
   "outputs": [],
   "source": [
    "df['weekday'] = df['date'].apply(lambda x: parse(str(x)).strftime(\"%A\"))"
   ]
  },
  {
   "cell_type": "code",
   "execution_count": null,
   "metadata": {},
   "outputs": [],
   "source": [
    "NY042019.head()"
   ]
  },
  {
   "cell_type": "code",
   "execution_count": null,
   "metadata": {},
   "outputs": [],
   "source": []
  },
  {
   "cell_type": "code",
   "execution_count": null,
   "metadata": {},
   "outputs": [],
   "source": [
    "NY042019.info()"
   ]
  }
 ],
 "metadata": {
  "kernelspec": {
   "display_name": "Python 3",
   "language": "python",
   "name": "python3"
  },
  "language_info": {
   "codemirror_mode": {
    "name": "ipython",
    "version": 3
   },
   "file_extension": ".py",
   "mimetype": "text/x-python",
   "name": "python",
   "nbconvert_exporter": "python",
   "pygments_lexer": "ipython3",
   "version": "3.7.4"
  }
 },
 "nbformat": 4,
 "nbformat_minor": 2
}
