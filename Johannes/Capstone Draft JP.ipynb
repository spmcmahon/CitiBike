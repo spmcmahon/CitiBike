{
 "cells": [
  {
   "cell_type": "markdown",
   "metadata": {},
   "source": [
    "## General DA on 1 month's data"
   ]
  },
  {
   "cell_type": "code",
   "execution_count": 36,
   "metadata": {},
   "outputs": [],
   "source": [
    "import feather\n",
    "import pandas as pd\n",
    "import numpy as np\n",
    "import seaborn as sns\n",
    "import matplotlib.pyplot as plt\n",
    "%matplotlib inline"
   ]
  },
  {
   "cell_type": "code",
   "execution_count": 35,
   "metadata": {
    "scrolled": true
   },
   "outputs": [
    {
     "name": "stdout",
     "output_type": "stream",
     "text": [
      "Collecting feather-format\n",
      "  Downloading https://files.pythonhosted.org/packages/67/e8/ee99f142f19d35588501943510f8217f9dd77184574b0c933c53218e0f19/feather-format-0.4.1.tar.gz\n",
      "Collecting pyarrow>=0.4.0 (from feather-format)\n",
      "  Downloading https://files.pythonhosted.org/packages/9d/fe/a16add73cdb106328ee84b17f690b86484e4b5966ab82fe5eb4bad1054b9/pyarrow-7.0.0-cp37-cp37m-win_amd64.whl (16.0MB)\n",
      "Requirement already satisfied: numpy>=1.16.6 in c:\\users\\jppot\\anaconda3\\lib\\site-packages (from pyarrow>=0.4.0->feather-format) (1.21.5)\n",
      "Building wheels for collected packages: feather-format\n",
      "  Building wheel for feather-format (setup.py): started\n",
      "  Building wheel for feather-format (setup.py): finished with status 'done'\n",
      "  Created wheel for feather-format: filename=feather_format-0.4.1-cp37-none-any.whl size=2462 sha256=76fe763f91bcf446c6343db2a0862b1050da6ba5ecb543c5eba8a298026f6535\n",
      "  Stored in directory: C:\\Users\\jppot\\AppData\\Local\\pip\\Cache\\wheels\\0b\\c4\\c6\\2b568ff878182aab814bcfd3db31fdd0055a4b2a249a7921eb\n",
      "Successfully built feather-format\n",
      "Installing collected packages: pyarrow, feather-format\n",
      "Successfully installed feather-format-0.4.1 pyarrow-7.0.0\n"
     ]
    }
   ],
   "source": [
    "!pip install feather-format"
   ]
  },
  {
   "cell_type": "code",
   "execution_count": 49,
   "metadata": {},
   "outputs": [
    {
     "name": "stdout",
     "output_type": "stream",
     "text": [
      "Wall time: 2.96 s\n"
     ]
    }
   ],
   "source": [
    "%time cb_df = pd.read_csv('202003-citibike-tripdata.csv')"
   ]
  },
  {
   "cell_type": "code",
   "execution_count": 45,
   "metadata": {},
   "outputs": [
    {
     "name": "stdout",
     "output_type": "stream",
     "text": [
      "Wall time: 983 ms\n"
     ]
    }
   ],
   "source": [
    " %time df = feather.read_dataframe('test.feather')"
   ]
  },
  {
   "cell_type": "code",
   "execution_count": 46,
   "metadata": {},
   "outputs": [
    {
     "name": "stdout",
     "output_type": "stream",
     "text": [
      "Wall time: 0 ns\n"
     ]
    },
    {
     "data": {
      "text/html": [
       "<div>\n",
       "<style scoped>\n",
       "    .dataframe tbody tr th:only-of-type {\n",
       "        vertical-align: middle;\n",
       "    }\n",
       "\n",
       "    .dataframe tbody tr th {\n",
       "        vertical-align: top;\n",
       "    }\n",
       "\n",
       "    .dataframe thead th {\n",
       "        text-align: right;\n",
       "    }\n",
       "</style>\n",
       "<table border=\"1\" class=\"dataframe\">\n",
       "  <thead>\n",
       "    <tr style=\"text-align: right;\">\n",
       "      <th></th>\n",
       "      <th>tripduration</th>\n",
       "      <th>starttime</th>\n",
       "      <th>stoptime</th>\n",
       "      <th>start station id</th>\n",
       "      <th>start station name</th>\n",
       "      <th>start station latitude</th>\n",
       "      <th>start station longitude</th>\n",
       "      <th>end station id</th>\n",
       "      <th>end station name</th>\n",
       "      <th>end station latitude</th>\n",
       "      <th>end station longitude</th>\n",
       "      <th>bikeid</th>\n",
       "      <th>usertype</th>\n",
       "      <th>birth year</th>\n",
       "      <th>gender</th>\n",
       "    </tr>\n",
       "  </thead>\n",
       "  <tbody>\n",
       "    <tr>\n",
       "      <th>0</th>\n",
       "      <td>1589</td>\n",
       "      <td>2020-03-01 00:00:03.6400</td>\n",
       "      <td>2020-03-01 00:26:32.9860</td>\n",
       "      <td>224</td>\n",
       "      <td>Spruce St &amp; Nassau St</td>\n",
       "      <td>40.711464</td>\n",
       "      <td>-74.005524</td>\n",
       "      <td>3574</td>\n",
       "      <td>Prospect Pl &amp; Underhill Ave</td>\n",
       "      <td>40.676969</td>\n",
       "      <td>-73.965790</td>\n",
       "      <td>16214</td>\n",
       "      <td>Subscriber</td>\n",
       "      <td>1980</td>\n",
       "      <td>1</td>\n",
       "    </tr>\n",
       "    <tr>\n",
       "      <th>1</th>\n",
       "      <td>389</td>\n",
       "      <td>2020-03-01 00:00:16.7560</td>\n",
       "      <td>2020-03-01 00:06:46.0620</td>\n",
       "      <td>293</td>\n",
       "      <td>Lafayette St &amp; E 8 St</td>\n",
       "      <td>40.730207</td>\n",
       "      <td>-73.991026</td>\n",
       "      <td>223</td>\n",
       "      <td>W 13 St &amp; 7 Ave</td>\n",
       "      <td>40.737815</td>\n",
       "      <td>-73.999947</td>\n",
       "      <td>29994</td>\n",
       "      <td>Subscriber</td>\n",
       "      <td>1991</td>\n",
       "      <td>2</td>\n",
       "    </tr>\n",
       "    <tr>\n",
       "      <th>2</th>\n",
       "      <td>614</td>\n",
       "      <td>2020-03-01 00:00:20.0580</td>\n",
       "      <td>2020-03-01 00:10:34.2200</td>\n",
       "      <td>379</td>\n",
       "      <td>W 31 St &amp; 7 Ave</td>\n",
       "      <td>40.749156</td>\n",
       "      <td>-73.991600</td>\n",
       "      <td>515</td>\n",
       "      <td>W 43 St &amp; 10 Ave</td>\n",
       "      <td>40.760094</td>\n",
       "      <td>-73.994618</td>\n",
       "      <td>39853</td>\n",
       "      <td>Subscriber</td>\n",
       "      <td>1991</td>\n",
       "      <td>1</td>\n",
       "    </tr>\n",
       "    <tr>\n",
       "      <th>3</th>\n",
       "      <td>597</td>\n",
       "      <td>2020-03-01 00:00:24.3510</td>\n",
       "      <td>2020-03-01 00:10:22.3390</td>\n",
       "      <td>3739</td>\n",
       "      <td>Perry St &amp; Greenwich Ave</td>\n",
       "      <td>40.735918</td>\n",
       "      <td>-74.000939</td>\n",
       "      <td>325</td>\n",
       "      <td>E 19 St &amp; 3 Ave</td>\n",
       "      <td>40.736245</td>\n",
       "      <td>-73.984738</td>\n",
       "      <td>42608</td>\n",
       "      <td>Subscriber</td>\n",
       "      <td>1989</td>\n",
       "      <td>1</td>\n",
       "    </tr>\n",
       "    <tr>\n",
       "      <th>4</th>\n",
       "      <td>1920</td>\n",
       "      <td>2020-03-01 00:00:26.1120</td>\n",
       "      <td>2020-03-01 00:32:26.2680</td>\n",
       "      <td>236</td>\n",
       "      <td>St Marks Pl &amp; 2 Ave</td>\n",
       "      <td>40.728419</td>\n",
       "      <td>-73.987140</td>\n",
       "      <td>3124</td>\n",
       "      <td>46 Ave &amp; 5 St</td>\n",
       "      <td>40.747310</td>\n",
       "      <td>-73.954510</td>\n",
       "      <td>36288</td>\n",
       "      <td>Subscriber</td>\n",
       "      <td>1993</td>\n",
       "      <td>1</td>\n",
       "    </tr>\n",
       "  </tbody>\n",
       "</table>\n",
       "</div>"
      ],
      "text/plain": [
       "   tripduration                 starttime                  stoptime  \\\n",
       "0          1589  2020-03-01 00:00:03.6400  2020-03-01 00:26:32.9860   \n",
       "1           389  2020-03-01 00:00:16.7560  2020-03-01 00:06:46.0620   \n",
       "2           614  2020-03-01 00:00:20.0580  2020-03-01 00:10:34.2200   \n",
       "3           597  2020-03-01 00:00:24.3510  2020-03-01 00:10:22.3390   \n",
       "4          1920  2020-03-01 00:00:26.1120  2020-03-01 00:32:26.2680   \n",
       "\n",
       "   start station id        start station name  start station latitude  \\\n",
       "0               224     Spruce St & Nassau St               40.711464   \n",
       "1               293     Lafayette St & E 8 St               40.730207   \n",
       "2               379           W 31 St & 7 Ave               40.749156   \n",
       "3              3739  Perry St & Greenwich Ave               40.735918   \n",
       "4               236       St Marks Pl & 2 Ave               40.728419   \n",
       "\n",
       "   start station longitude  end station id             end station name  \\\n",
       "0               -74.005524            3574  Prospect Pl & Underhill Ave   \n",
       "1               -73.991026             223              W 13 St & 7 Ave   \n",
       "2               -73.991600             515             W 43 St & 10 Ave   \n",
       "3               -74.000939             325              E 19 St & 3 Ave   \n",
       "4               -73.987140            3124                46 Ave & 5 St   \n",
       "\n",
       "   end station latitude  end station longitude  bikeid    usertype  \\\n",
       "0             40.676969             -73.965790   16214  Subscriber   \n",
       "1             40.737815             -73.999947   29994  Subscriber   \n",
       "2             40.760094             -73.994618   39853  Subscriber   \n",
       "3             40.736245             -73.984738   42608  Subscriber   \n",
       "4             40.747310             -73.954510   36288  Subscriber   \n",
       "\n",
       "   birth year  gender  \n",
       "0        1980       1  \n",
       "1        1991       2  \n",
       "2        1991       1  \n",
       "3        1989       1  \n",
       "4        1993       1  "
      ]
     },
     "execution_count": 46,
     "metadata": {},
     "output_type": "execute_result"
    }
   ],
   "source": [
    "time df.head()"
   ]
  },
  {
   "cell_type": "code",
   "execution_count": 51,
   "metadata": {},
   "outputs": [
    {
     "name": "stdout",
     "output_type": "stream",
     "text": [
      "<class 'pandas.core.frame.DataFrame'>\n",
      "RangeIndex: 1068457 entries, 0 to 1068456\n",
      "Data columns (total 15 columns):\n",
      " #   Column                   Non-Null Count    Dtype  \n",
      "---  ------                   --------------    -----  \n",
      " 0   tripduration             1068457 non-null  int64  \n",
      " 1   starttime                1068457 non-null  object \n",
      " 2   stoptime                 1068457 non-null  object \n",
      " 3   start station id         1068457 non-null  int64  \n",
      " 4   start station name       1068457 non-null  object \n",
      " 5   start station latitude   1068457 non-null  float64\n",
      " 6   start station longitude  1068457 non-null  float64\n",
      " 7   end station id           1068457 non-null  int64  \n",
      " 8   end station name         1068457 non-null  object \n",
      " 9   end station latitude     1068457 non-null  float64\n",
      " 10  end station longitude    1068457 non-null  float64\n",
      " 11  bikeid                   1068457 non-null  int64  \n",
      " 12  usertype                 1068457 non-null  object \n",
      " 13  birth year               1068457 non-null  int64  \n",
      " 14  gender                   1068457 non-null  int64  \n",
      "dtypes: float64(4), int64(6), object(5)\n",
      "memory usage: 122.3+ MB\n",
      "Wall time: 267 ms\n"
     ]
    }
   ],
   "source": [
    "time df.info()"
   ]
  },
  {
   "cell_type": "code",
   "execution_count": 110,
   "metadata": {},
   "outputs": [],
   "source": [
    "cb_df = pd.read_csv('202003-citibike-tripdata.csv')"
   ]
  },
  {
   "cell_type": "code",
   "execution_count": 11,
   "metadata": {},
   "outputs": [],
   "source": [
    "cb_df2 = pd.read_csv('202112-citibike-tripdata.csv')"
   ]
  },
  {
   "cell_type": "code",
   "execution_count": 113,
   "metadata": {
    "scrolled": true
   },
   "outputs": [
    {
     "data": {
      "text/html": [
       "<div>\n",
       "<style scoped>\n",
       "    .dataframe tbody tr th:only-of-type {\n",
       "        vertical-align: middle;\n",
       "    }\n",
       "\n",
       "    .dataframe tbody tr th {\n",
       "        vertical-align: top;\n",
       "    }\n",
       "\n",
       "    .dataframe thead th {\n",
       "        text-align: right;\n",
       "    }\n",
       "</style>\n",
       "<table border=\"1\" class=\"dataframe\">\n",
       "  <thead>\n",
       "    <tr style=\"text-align: right;\">\n",
       "      <th></th>\n",
       "      <th>tripduration</th>\n",
       "      <th>starttime</th>\n",
       "      <th>stoptime</th>\n",
       "      <th>start station id</th>\n",
       "      <th>start station name</th>\n",
       "      <th>start station latitude</th>\n",
       "      <th>start station longitude</th>\n",
       "      <th>end station id</th>\n",
       "      <th>end station name</th>\n",
       "      <th>end station latitude</th>\n",
       "      <th>end station longitude</th>\n",
       "      <th>bikeid</th>\n",
       "      <th>usertype</th>\n",
       "      <th>birth year</th>\n",
       "      <th>gender</th>\n",
       "    </tr>\n",
       "  </thead>\n",
       "  <tbody>\n",
       "    <tr>\n",
       "      <th>0</th>\n",
       "      <td>1589</td>\n",
       "      <td>2020-03-01 00:00:03.6400</td>\n",
       "      <td>2020-03-01 00:26:32.9860</td>\n",
       "      <td>224</td>\n",
       "      <td>Spruce St &amp; Nassau St</td>\n",
       "      <td>40.711464</td>\n",
       "      <td>-74.005524</td>\n",
       "      <td>3574</td>\n",
       "      <td>Prospect Pl &amp; Underhill Ave</td>\n",
       "      <td>40.676969</td>\n",
       "      <td>-73.965790</td>\n",
       "      <td>16214</td>\n",
       "      <td>Subscriber</td>\n",
       "      <td>1980</td>\n",
       "      <td>1</td>\n",
       "    </tr>\n",
       "    <tr>\n",
       "      <th>1</th>\n",
       "      <td>389</td>\n",
       "      <td>2020-03-01 00:00:16.7560</td>\n",
       "      <td>2020-03-01 00:06:46.0620</td>\n",
       "      <td>293</td>\n",
       "      <td>Lafayette St &amp; E 8 St</td>\n",
       "      <td>40.730207</td>\n",
       "      <td>-73.991026</td>\n",
       "      <td>223</td>\n",
       "      <td>W 13 St &amp; 7 Ave</td>\n",
       "      <td>40.737815</td>\n",
       "      <td>-73.999947</td>\n",
       "      <td>29994</td>\n",
       "      <td>Subscriber</td>\n",
       "      <td>1991</td>\n",
       "      <td>2</td>\n",
       "    </tr>\n",
       "    <tr>\n",
       "      <th>2</th>\n",
       "      <td>614</td>\n",
       "      <td>2020-03-01 00:00:20.0580</td>\n",
       "      <td>2020-03-01 00:10:34.2200</td>\n",
       "      <td>379</td>\n",
       "      <td>W 31 St &amp; 7 Ave</td>\n",
       "      <td>40.749156</td>\n",
       "      <td>-73.991600</td>\n",
       "      <td>515</td>\n",
       "      <td>W 43 St &amp; 10 Ave</td>\n",
       "      <td>40.760094</td>\n",
       "      <td>-73.994618</td>\n",
       "      <td>39853</td>\n",
       "      <td>Subscriber</td>\n",
       "      <td>1991</td>\n",
       "      <td>1</td>\n",
       "    </tr>\n",
       "    <tr>\n",
       "      <th>3</th>\n",
       "      <td>597</td>\n",
       "      <td>2020-03-01 00:00:24.3510</td>\n",
       "      <td>2020-03-01 00:10:22.3390</td>\n",
       "      <td>3739</td>\n",
       "      <td>Perry St &amp; Greenwich Ave</td>\n",
       "      <td>40.735918</td>\n",
       "      <td>-74.000939</td>\n",
       "      <td>325</td>\n",
       "      <td>E 19 St &amp; 3 Ave</td>\n",
       "      <td>40.736245</td>\n",
       "      <td>-73.984738</td>\n",
       "      <td>42608</td>\n",
       "      <td>Subscriber</td>\n",
       "      <td>1989</td>\n",
       "      <td>1</td>\n",
       "    </tr>\n",
       "    <tr>\n",
       "      <th>4</th>\n",
       "      <td>1920</td>\n",
       "      <td>2020-03-01 00:00:26.1120</td>\n",
       "      <td>2020-03-01 00:32:26.2680</td>\n",
       "      <td>236</td>\n",
       "      <td>St Marks Pl &amp; 2 Ave</td>\n",
       "      <td>40.728419</td>\n",
       "      <td>-73.987140</td>\n",
       "      <td>3124</td>\n",
       "      <td>46 Ave &amp; 5 St</td>\n",
       "      <td>40.747310</td>\n",
       "      <td>-73.954510</td>\n",
       "      <td>36288</td>\n",
       "      <td>Subscriber</td>\n",
       "      <td>1993</td>\n",
       "      <td>1</td>\n",
       "    </tr>\n",
       "  </tbody>\n",
       "</table>\n",
       "</div>"
      ],
      "text/plain": [
       "   tripduration                 starttime                  stoptime  \\\n",
       "0          1589  2020-03-01 00:00:03.6400  2020-03-01 00:26:32.9860   \n",
       "1           389  2020-03-01 00:00:16.7560  2020-03-01 00:06:46.0620   \n",
       "2           614  2020-03-01 00:00:20.0580  2020-03-01 00:10:34.2200   \n",
       "3           597  2020-03-01 00:00:24.3510  2020-03-01 00:10:22.3390   \n",
       "4          1920  2020-03-01 00:00:26.1120  2020-03-01 00:32:26.2680   \n",
       "\n",
       "   start station id        start station name  start station latitude  \\\n",
       "0               224     Spruce St & Nassau St               40.711464   \n",
       "1               293     Lafayette St & E 8 St               40.730207   \n",
       "2               379           W 31 St & 7 Ave               40.749156   \n",
       "3              3739  Perry St & Greenwich Ave               40.735918   \n",
       "4               236       St Marks Pl & 2 Ave               40.728419   \n",
       "\n",
       "   start station longitude  end station id             end station name  \\\n",
       "0               -74.005524            3574  Prospect Pl & Underhill Ave   \n",
       "1               -73.991026             223              W 13 St & 7 Ave   \n",
       "2               -73.991600             515             W 43 St & 10 Ave   \n",
       "3               -74.000939             325              E 19 St & 3 Ave   \n",
       "4               -73.987140            3124                46 Ave & 5 St   \n",
       "\n",
       "   end station latitude  end station longitude  bikeid    usertype  \\\n",
       "0             40.676969             -73.965790   16214  Subscriber   \n",
       "1             40.737815             -73.999947   29994  Subscriber   \n",
       "2             40.760094             -73.994618   39853  Subscriber   \n",
       "3             40.736245             -73.984738   42608  Subscriber   \n",
       "4             40.747310             -73.954510   36288  Subscriber   \n",
       "\n",
       "   birth year  gender  \n",
       "0        1980       1  \n",
       "1        1991       2  \n",
       "2        1991       1  \n",
       "3        1989       1  \n",
       "4        1993       1  "
      ]
     },
     "execution_count": 113,
     "metadata": {},
     "output_type": "execute_result"
    }
   ],
   "source": [
    "cb_df.head()"
   ]
  },
  {
   "cell_type": "code",
   "execution_count": 12,
   "metadata": {},
   "outputs": [
    {
     "data": {
      "text/html": [
       "<div>\n",
       "<style scoped>\n",
       "    .dataframe tbody tr th:only-of-type {\n",
       "        vertical-align: middle;\n",
       "    }\n",
       "\n",
       "    .dataframe tbody tr th {\n",
       "        vertical-align: top;\n",
       "    }\n",
       "\n",
       "    .dataframe thead th {\n",
       "        text-align: right;\n",
       "    }\n",
       "</style>\n",
       "<table border=\"1\" class=\"dataframe\">\n",
       "  <thead>\n",
       "    <tr style=\"text-align: right;\">\n",
       "      <th></th>\n",
       "      <th>ride_id</th>\n",
       "      <th>rideable_type</th>\n",
       "      <th>started_at</th>\n",
       "      <th>ended_at</th>\n",
       "      <th>start_station_name</th>\n",
       "      <th>start_station_id</th>\n",
       "      <th>end_station_name</th>\n",
       "      <th>end_station_id</th>\n",
       "      <th>start_lat</th>\n",
       "      <th>start_lng</th>\n",
       "      <th>end_lat</th>\n",
       "      <th>end_lng</th>\n",
       "      <th>member_casual</th>\n",
       "    </tr>\n",
       "  </thead>\n",
       "  <tbody>\n",
       "    <tr>\n",
       "      <th>0</th>\n",
       "      <td>7AE6209F17967FF2</td>\n",
       "      <td>classic_bike</td>\n",
       "      <td>2021-12-07 08:54:24</td>\n",
       "      <td>2021-12-07 08:59:46</td>\n",
       "      <td>Broadway &amp; Hancock St</td>\n",
       "      <td>4441.06</td>\n",
       "      <td>Lewis Ave &amp; Madison St</td>\n",
       "      <td>4425.02</td>\n",
       "      <td>40.686630</td>\n",
       "      <td>-73.916800</td>\n",
       "      <td>40.686312</td>\n",
       "      <td>-73.935775</td>\n",
       "      <td>member</td>\n",
       "    </tr>\n",
       "    <tr>\n",
       "      <th>1</th>\n",
       "      <td>CCE209B6D683C96A</td>\n",
       "      <td>classic_bike</td>\n",
       "      <td>2021-12-13 21:22:35</td>\n",
       "      <td>2021-12-13 21:31:24</td>\n",
       "      <td>S 4 St &amp; Wythe Ave</td>\n",
       "      <td>5204.05</td>\n",
       "      <td>Metropolitan Ave &amp; Meeker Ave</td>\n",
       "      <td>5300.05</td>\n",
       "      <td>40.712859</td>\n",
       "      <td>-73.965903</td>\n",
       "      <td>40.714133</td>\n",
       "      <td>-73.952344</td>\n",
       "      <td>member</td>\n",
       "    </tr>\n",
       "    <tr>\n",
       "      <th>2</th>\n",
       "      <td>333961DE681551DA</td>\n",
       "      <td>classic_bike</td>\n",
       "      <td>2021-12-17 22:21:56</td>\n",
       "      <td>2021-12-17 22:30:41</td>\n",
       "      <td>6 Ave &amp; Canal St</td>\n",
       "      <td>5500.07</td>\n",
       "      <td>University Pl &amp; E 14 St</td>\n",
       "      <td>5905.14</td>\n",
       "      <td>40.722438</td>\n",
       "      <td>-74.005664</td>\n",
       "      <td>40.734814</td>\n",
       "      <td>-73.992085</td>\n",
       "      <td>member</td>\n",
       "    </tr>\n",
       "    <tr>\n",
       "      <th>3</th>\n",
       "      <td>E5F6240DEF91E399</td>\n",
       "      <td>classic_bike</td>\n",
       "      <td>2021-12-13 17:44:19</td>\n",
       "      <td>2021-12-13 17:51:35</td>\n",
       "      <td>E 2 St &amp; Avenue C</td>\n",
       "      <td>5476.03</td>\n",
       "      <td>E 11 St &amp; 3 Ave</td>\n",
       "      <td>5788.16</td>\n",
       "      <td>40.720874</td>\n",
       "      <td>-73.980858</td>\n",
       "      <td>40.731270</td>\n",
       "      <td>-73.988490</td>\n",
       "      <td>member</td>\n",
       "    </tr>\n",
       "    <tr>\n",
       "      <th>4</th>\n",
       "      <td>B93587D5FA305113</td>\n",
       "      <td>classic_bike</td>\n",
       "      <td>2021-12-04 16:03:04</td>\n",
       "      <td>2021-12-04 16:06:47</td>\n",
       "      <td>Columbia St &amp; Degraw St</td>\n",
       "      <td>4422.04</td>\n",
       "      <td>Atlantic Ave &amp; Furman St</td>\n",
       "      <td>4614.04</td>\n",
       "      <td>40.685930</td>\n",
       "      <td>-74.002424</td>\n",
       "      <td>40.691652</td>\n",
       "      <td>-73.999979</td>\n",
       "      <td>member</td>\n",
       "    </tr>\n",
       "  </tbody>\n",
       "</table>\n",
       "</div>"
      ],
      "text/plain": [
       "            ride_id rideable_type           started_at             ended_at  \\\n",
       "0  7AE6209F17967FF2  classic_bike  2021-12-07 08:54:24  2021-12-07 08:59:46   \n",
       "1  CCE209B6D683C96A  classic_bike  2021-12-13 21:22:35  2021-12-13 21:31:24   \n",
       "2  333961DE681551DA  classic_bike  2021-12-17 22:21:56  2021-12-17 22:30:41   \n",
       "3  E5F6240DEF91E399  classic_bike  2021-12-13 17:44:19  2021-12-13 17:51:35   \n",
       "4  B93587D5FA305113  classic_bike  2021-12-04 16:03:04  2021-12-04 16:06:47   \n",
       "\n",
       "        start_station_name start_station_id               end_station_name  \\\n",
       "0    Broadway & Hancock St          4441.06         Lewis Ave & Madison St   \n",
       "1       S 4 St & Wythe Ave          5204.05  Metropolitan Ave & Meeker Ave   \n",
       "2         6 Ave & Canal St          5500.07        University Pl & E 14 St   \n",
       "3        E 2 St & Avenue C          5476.03                E 11 St & 3 Ave   \n",
       "4  Columbia St & Degraw St          4422.04       Atlantic Ave & Furman St   \n",
       "\n",
       "  end_station_id  start_lat  start_lng    end_lat    end_lng member_casual  \n",
       "0        4425.02  40.686630 -73.916800  40.686312 -73.935775        member  \n",
       "1        5300.05  40.712859 -73.965903  40.714133 -73.952344        member  \n",
       "2        5905.14  40.722438 -74.005664  40.734814 -73.992085        member  \n",
       "3        5788.16  40.720874 -73.980858  40.731270 -73.988490        member  \n",
       "4        4614.04  40.685930 -74.002424  40.691652 -73.999979        member  "
      ]
     },
     "execution_count": 12,
     "metadata": {},
     "output_type": "execute_result"
    }
   ],
   "source": [
    "cb_df2.head()"
   ]
  },
  {
   "cell_type": "code",
   "execution_count": 115,
   "metadata": {},
   "outputs": [
    {
     "name": "stdout",
     "output_type": "stream",
     "text": [
      "<class 'pandas.core.frame.DataFrame'>\n",
      "RangeIndex: 1068457 entries, 0 to 1068456\n",
      "Data columns (total 15 columns):\n",
      " #   Column                   Non-Null Count    Dtype  \n",
      "---  ------                   --------------    -----  \n",
      " 0   tripduration             1068457 non-null  int64  \n",
      " 1   starttime                1068457 non-null  object \n",
      " 2   stoptime                 1068457 non-null  object \n",
      " 3   start station id         1068457 non-null  int64  \n",
      " 4   start station name       1068457 non-null  object \n",
      " 5   start station latitude   1068457 non-null  float64\n",
      " 6   start station longitude  1068457 non-null  float64\n",
      " 7   end station id           1068457 non-null  int64  \n",
      " 8   end station name         1068457 non-null  object \n",
      " 9   end station latitude     1068457 non-null  float64\n",
      " 10  end station longitude    1068457 non-null  float64\n",
      " 11  bikeid                   1068457 non-null  int64  \n",
      " 12  usertype                 1068457 non-null  object \n",
      " 13  birth year               1068457 non-null  int64  \n",
      " 14  gender                   1068457 non-null  int64  \n",
      "dtypes: float64(4), int64(6), object(5)\n",
      "memory usage: 122.3+ MB\n"
     ]
    }
   ],
   "source": [
    "cb_df.info()"
   ]
  },
  {
   "cell_type": "code",
   "execution_count": 13,
   "metadata": {},
   "outputs": [
    {
     "name": "stdout",
     "output_type": "stream",
     "text": [
      "<class 'pandas.core.frame.DataFrame'>\n",
      "RangeIndex: 1748287 entries, 0 to 1748286\n",
      "Data columns (total 13 columns):\n",
      " #   Column              Dtype  \n",
      "---  ------              -----  \n",
      " 0   ride_id             object \n",
      " 1   rideable_type       object \n",
      " 2   started_at          object \n",
      " 3   ended_at            object \n",
      " 4   start_station_name  object \n",
      " 5   start_station_id    object \n",
      " 6   end_station_name    object \n",
      " 7   end_station_id      object \n",
      " 8   start_lat           float64\n",
      " 9   start_lng           float64\n",
      " 10  end_lat             float64\n",
      " 11  end_lng             float64\n",
      " 12  member_casual       object \n",
      "dtypes: float64(4), object(9)\n",
      "memory usage: 173.4+ MB\n"
     ]
    }
   ],
   "source": [
    "cb_df2.info()"
   ]
  },
  {
   "cell_type": "code",
   "execution_count": 16,
   "metadata": {},
   "outputs": [
    {
     "data": {
      "text/html": [
       "<div>\n",
       "<style scoped>\n",
       "    .dataframe tbody tr th:only-of-type {\n",
       "        vertical-align: middle;\n",
       "    }\n",
       "\n",
       "    .dataframe tbody tr th {\n",
       "        vertical-align: top;\n",
       "    }\n",
       "\n",
       "    .dataframe thead th {\n",
       "        text-align: right;\n",
       "    }\n",
       "</style>\n",
       "<table border=\"1\" class=\"dataframe\">\n",
       "  <thead>\n",
       "    <tr style=\"text-align: right;\">\n",
       "      <th></th>\n",
       "      <th>start_lat</th>\n",
       "      <th>start_lng</th>\n",
       "      <th>end_lat</th>\n",
       "      <th>end_lng</th>\n",
       "    </tr>\n",
       "  </thead>\n",
       "  <tbody>\n",
       "    <tr>\n",
       "      <th>count</th>\n",
       "      <td>1748287.00</td>\n",
       "      <td>1748287.00</td>\n",
       "      <td>1744348.00</td>\n",
       "      <td>1744348.00</td>\n",
       "    </tr>\n",
       "    <tr>\n",
       "      <th>mean</th>\n",
       "      <td>40.74</td>\n",
       "      <td>-73.98</td>\n",
       "      <td>40.74</td>\n",
       "      <td>-73.98</td>\n",
       "    </tr>\n",
       "    <tr>\n",
       "      <th>std</th>\n",
       "      <td>0.04</td>\n",
       "      <td>0.02</td>\n",
       "      <td>0.04</td>\n",
       "      <td>0.02</td>\n",
       "    </tr>\n",
       "    <tr>\n",
       "      <th>min</th>\n",
       "      <td>40.60</td>\n",
       "      <td>-74.04</td>\n",
       "      <td>40.60</td>\n",
       "      <td>-74.07</td>\n",
       "    </tr>\n",
       "    <tr>\n",
       "      <th>25%</th>\n",
       "      <td>40.72</td>\n",
       "      <td>-73.99</td>\n",
       "      <td>40.72</td>\n",
       "      <td>-73.99</td>\n",
       "    </tr>\n",
       "    <tr>\n",
       "      <th>50%</th>\n",
       "      <td>40.74</td>\n",
       "      <td>-73.98</td>\n",
       "      <td>40.74</td>\n",
       "      <td>-73.98</td>\n",
       "    </tr>\n",
       "    <tr>\n",
       "      <th>75%</th>\n",
       "      <td>40.76</td>\n",
       "      <td>-73.96</td>\n",
       "      <td>40.76</td>\n",
       "      <td>-73.96</td>\n",
       "    </tr>\n",
       "    <tr>\n",
       "      <th>max</th>\n",
       "      <td>40.88</td>\n",
       "      <td>-73.88</td>\n",
       "      <td>40.88</td>\n",
       "      <td>-73.88</td>\n",
       "    </tr>\n",
       "  </tbody>\n",
       "</table>\n",
       "</div>"
      ],
      "text/plain": [
       "        start_lat   start_lng     end_lat     end_lng\n",
       "count  1748287.00  1748287.00  1744348.00  1744348.00\n",
       "mean        40.74      -73.98       40.74      -73.98\n",
       "std          0.04        0.02        0.04        0.02\n",
       "min         40.60      -74.04       40.60      -74.07\n",
       "25%         40.72      -73.99       40.72      -73.99\n",
       "50%         40.74      -73.98       40.74      -73.98\n",
       "75%         40.76      -73.96       40.76      -73.96\n",
       "max         40.88      -73.88       40.88      -73.88"
      ]
     },
     "execution_count": 16,
     "metadata": {},
     "output_type": "execute_result"
    }
   ],
   "source": [
    "cb_df2.describe().round(2)\n",
    "\n",
    "#I rounded the numbers to two decimal places to make it easier to read\n",
    "\n",
    "\n",
    "# Observations:\n",
    "# - Trip duration is in seconds, the shortest trip is 61 seconds, the bike probably never left the lot.  Max is 3247190\n",
    "# indicating possibly that someone never returned the bike to the dock station.\n",
    "\n",
    "# - Birth year - 1885 is a red-flag, the person is unlikely to be alive\n",
    "\n",
    "# Start and Stop time is \"object\".  If we plan to keep these columns (we could consider dropping as we have trip duration)\n"
   ]
  },
  {
   "cell_type": "code",
   "execution_count": 17,
   "metadata": {},
   "outputs": [
    {
     "data": {
      "text/html": [
       "<div>\n",
       "<style scoped>\n",
       "    .dataframe tbody tr th:only-of-type {\n",
       "        vertical-align: middle;\n",
       "    }\n",
       "\n",
       "    .dataframe tbody tr th {\n",
       "        vertical-align: top;\n",
       "    }\n",
       "\n",
       "    .dataframe thead th {\n",
       "        text-align: right;\n",
       "    }\n",
       "</style>\n",
       "<table border=\"1\" class=\"dataframe\">\n",
       "  <thead>\n",
       "    <tr style=\"text-align: right;\">\n",
       "      <th></th>\n",
       "      <th>start_lat</th>\n",
       "      <th>start_lng</th>\n",
       "      <th>end_lat</th>\n",
       "      <th>end_lng</th>\n",
       "    </tr>\n",
       "  </thead>\n",
       "  <tbody>\n",
       "    <tr>\n",
       "      <th>count</th>\n",
       "      <td>1748287.00</td>\n",
       "      <td>1748287.00</td>\n",
       "      <td>1744348.00</td>\n",
       "      <td>1744348.00</td>\n",
       "    </tr>\n",
       "    <tr>\n",
       "      <th>mean</th>\n",
       "      <td>40.74</td>\n",
       "      <td>-73.98</td>\n",
       "      <td>40.74</td>\n",
       "      <td>-73.98</td>\n",
       "    </tr>\n",
       "    <tr>\n",
       "      <th>std</th>\n",
       "      <td>0.04</td>\n",
       "      <td>0.02</td>\n",
       "      <td>0.04</td>\n",
       "      <td>0.02</td>\n",
       "    </tr>\n",
       "    <tr>\n",
       "      <th>min</th>\n",
       "      <td>40.60</td>\n",
       "      <td>-74.04</td>\n",
       "      <td>40.60</td>\n",
       "      <td>-74.07</td>\n",
       "    </tr>\n",
       "    <tr>\n",
       "      <th>25%</th>\n",
       "      <td>40.72</td>\n",
       "      <td>-73.99</td>\n",
       "      <td>40.72</td>\n",
       "      <td>-73.99</td>\n",
       "    </tr>\n",
       "    <tr>\n",
       "      <th>50%</th>\n",
       "      <td>40.74</td>\n",
       "      <td>-73.98</td>\n",
       "      <td>40.74</td>\n",
       "      <td>-73.98</td>\n",
       "    </tr>\n",
       "    <tr>\n",
       "      <th>75%</th>\n",
       "      <td>40.76</td>\n",
       "      <td>-73.96</td>\n",
       "      <td>40.76</td>\n",
       "      <td>-73.96</td>\n",
       "    </tr>\n",
       "    <tr>\n",
       "      <th>max</th>\n",
       "      <td>40.88</td>\n",
       "      <td>-73.88</td>\n",
       "      <td>40.88</td>\n",
       "      <td>-73.88</td>\n",
       "    </tr>\n",
       "  </tbody>\n",
       "</table>\n",
       "</div>"
      ],
      "text/plain": [
       "        start_lat   start_lng     end_lat     end_lng\n",
       "count  1748287.00  1748287.00  1744348.00  1744348.00\n",
       "mean        40.74      -73.98       40.74      -73.98\n",
       "std          0.04        0.02        0.04        0.02\n",
       "min         40.60      -74.04       40.60      -74.07\n",
       "25%         40.72      -73.99       40.72      -73.99\n",
       "50%         40.74      -73.98       40.74      -73.98\n",
       "75%         40.76      -73.96       40.76      -73.96\n",
       "max         40.88      -73.88       40.88      -73.88"
      ]
     },
     "execution_count": 17,
     "metadata": {},
     "output_type": "execute_result"
    }
   ],
   "source": [
    "cb_df2.describe().round(2)"
   ]
  },
  {
   "cell_type": "code",
   "execution_count": 10,
   "metadata": {},
   "outputs": [
    {
     "data": {
      "text/html": [
       "<div>\n",
       "<style scoped>\n",
       "    .dataframe tbody tr th:only-of-type {\n",
       "        vertical-align: middle;\n",
       "    }\n",
       "\n",
       "    .dataframe tbody tr th {\n",
       "        vertical-align: top;\n",
       "    }\n",
       "\n",
       "    .dataframe thead th {\n",
       "        text-align: right;\n",
       "    }\n",
       "</style>\n",
       "<table border=\"1\" class=\"dataframe\">\n",
       "  <thead>\n",
       "    <tr style=\"text-align: right;\">\n",
       "      <th></th>\n",
       "      <th>Column Name</th>\n",
       "      <th>Unique</th>\n",
       "      <th>Data Type</th>\n",
       "      <th>Memory Usage</th>\n",
       "    </tr>\n",
       "  </thead>\n",
       "  <tbody>\n",
       "    <tr>\n",
       "      <th>0</th>\n",
       "      <td>tripduration</td>\n",
       "      <td>10252</td>\n",
       "      <td>int64</td>\n",
       "      <td>8547784</td>\n",
       "    </tr>\n",
       "    <tr>\n",
       "      <th>1</th>\n",
       "      <td>starttime</td>\n",
       "      <td>1068008</td>\n",
       "      <td>object</td>\n",
       "      <td>86545145</td>\n",
       "    </tr>\n",
       "    <tr>\n",
       "      <th>2</th>\n",
       "      <td>stoptime</td>\n",
       "      <td>1067964</td>\n",
       "      <td>object</td>\n",
       "      <td>86545145</td>\n",
       "    </tr>\n",
       "    <tr>\n",
       "      <th>3</th>\n",
       "      <td>start station id</td>\n",
       "      <td>889</td>\n",
       "      <td>int64</td>\n",
       "      <td>8547784</td>\n",
       "    </tr>\n",
       "    <tr>\n",
       "      <th>4</th>\n",
       "      <td>start station name</td>\n",
       "      <td>889</td>\n",
       "      <td>object</td>\n",
       "      <td>81856205</td>\n",
       "    </tr>\n",
       "    <tr>\n",
       "      <th>5</th>\n",
       "      <td>start station latitude</td>\n",
       "      <td>923</td>\n",
       "      <td>float64</td>\n",
       "      <td>8547784</td>\n",
       "    </tr>\n",
       "    <tr>\n",
       "      <th>6</th>\n",
       "      <td>start station longitude</td>\n",
       "      <td>912</td>\n",
       "      <td>float64</td>\n",
       "      <td>8547784</td>\n",
       "    </tr>\n",
       "    <tr>\n",
       "      <th>7</th>\n",
       "      <td>end station id</td>\n",
       "      <td>899</td>\n",
       "      <td>int64</td>\n",
       "      <td>8547784</td>\n",
       "    </tr>\n",
       "    <tr>\n",
       "      <th>8</th>\n",
       "      <td>end station name</td>\n",
       "      <td>899</td>\n",
       "      <td>object</td>\n",
       "      <td>81862917</td>\n",
       "    </tr>\n",
       "    <tr>\n",
       "      <th>9</th>\n",
       "      <td>end station latitude</td>\n",
       "      <td>932</td>\n",
       "      <td>float64</td>\n",
       "      <td>8547784</td>\n",
       "    </tr>\n",
       "    <tr>\n",
       "      <th>10</th>\n",
       "      <td>end station longitude</td>\n",
       "      <td>921</td>\n",
       "      <td>float64</td>\n",
       "      <td>8547784</td>\n",
       "    </tr>\n",
       "    <tr>\n",
       "      <th>11</th>\n",
       "      <td>bikeid</td>\n",
       "      <td>14882</td>\n",
       "      <td>int64</td>\n",
       "      <td>8547784</td>\n",
       "    </tr>\n",
       "    <tr>\n",
       "      <th>12</th>\n",
       "      <td>usertype</td>\n",
       "      <td>2</td>\n",
       "      <td>object</td>\n",
       "      <td>71277969</td>\n",
       "    </tr>\n",
       "    <tr>\n",
       "      <th>13</th>\n",
       "      <td>birth year</td>\n",
       "      <td>103</td>\n",
       "      <td>int64</td>\n",
       "      <td>8547784</td>\n",
       "    </tr>\n",
       "    <tr>\n",
       "      <th>14</th>\n",
       "      <td>gender</td>\n",
       "      <td>3</td>\n",
       "      <td>int64</td>\n",
       "      <td>8547784</td>\n",
       "    </tr>\n",
       "  </tbody>\n",
       "</table>\n",
       "</div>"
      ],
      "text/plain": [
       "                Column Name   Unique Data Type  Memory Usage\n",
       "0              tripduration    10252     int64       8547784\n",
       "1                 starttime  1068008    object      86545145\n",
       "2                  stoptime  1067964    object      86545145\n",
       "3          start station id      889     int64       8547784\n",
       "4        start station name      889    object      81856205\n",
       "5    start station latitude      923   float64       8547784\n",
       "6   start station longitude      912   float64       8547784\n",
       "7            end station id      899     int64       8547784\n",
       "8          end station name      899    object      81862917\n",
       "9      end station latitude      932   float64       8547784\n",
       "10    end station longitude      921   float64       8547784\n",
       "11                   bikeid    14882     int64       8547784\n",
       "12                 usertype        2    object      71277969\n",
       "13               birth year      103     int64       8547784\n",
       "14                   gender        3     int64       8547784"
      ]
     },
     "execution_count": 10,
     "metadata": {},
     "output_type": "execute_result"
    }
   ],
   "source": [
    "pd.DataFrame.from_records([(col, cb_df[col].nunique(), cb_df[col].dtype, cb_df[col].memory_usage(deep=True) )  \n",
    "    for col in cb_df.columns],\n",
    "  columns=['Column Name', 'Unique', 'Data Type','Memory Usage'])"
   ]
  },
  {
   "cell_type": "code",
   "execution_count": 11,
   "metadata": {},
   "outputs": [],
   "source": [
    "cb_df['starttime'] = pd.to_datetime(cb_df['starttime'])\n",
    "cb_df['stoptime'] = pd.to_datetime(cb_df['stoptime'])"
   ]
  },
  {
   "cell_type": "code",
   "execution_count": 19,
   "metadata": {},
   "outputs": [
    {
     "name": "stdout",
     "output_type": "stream",
     "text": [
      "<class 'pandas.core.frame.DataFrame'>\n",
      "RangeIndex: 1748287 entries, 0 to 1748286\n",
      "Data columns (total 13 columns):\n",
      " #   Column              Dtype  \n",
      "---  ------              -----  \n",
      " 0   ride_id             object \n",
      " 1   rideable_type       object \n",
      " 2   started_at          object \n",
      " 3   ended_at            object \n",
      " 4   start_station_name  object \n",
      " 5   start_station_id    object \n",
      " 6   end_station_name    object \n",
      " 7   end_station_id      object \n",
      " 8   start_lat           float64\n",
      " 9   start_lng           float64\n",
      " 10  end_lat             float64\n",
      " 11  end_lng             float64\n",
      " 12  member_casual       object \n",
      "dtypes: float64(4), object(9)\n",
      "memory usage: 173.4+ MB\n"
     ]
    }
   ],
   "source": [
    "cb_df2.info()"
   ]
  },
  {
   "cell_type": "markdown",
   "metadata": {},
   "source": [
    "### Trip Duration"
   ]
  },
  {
   "cell_type": "code",
   "execution_count": 12,
   "metadata": {},
   "outputs": [],
   "source": [
    "cb_df['tripminutes'] = cb_df['tripduration'] // 60"
   ]
  },
  {
   "cell_type": "code",
   "execution_count": 19,
   "metadata": {
    "scrolled": true
   },
   "outputs": [
    {
     "data": {
      "text/plain": [
       "<seaborn.axisgrid.FacetGrid at 0x2130d905b48>"
      ]
     },
     "execution_count": 19,
     "metadata": {},
     "output_type": "execute_result"
    },
    {
     "data": {
      "image/png": "[encoded data removed]",
      "text/plain": [
       "<Figure size 720x360 with 1 Axes>"
      ]
     },
     "metadata": {
      "needs_background": "light"
     },
     "output_type": "display_data"
    }
   ],
   "source": [
    "sns.displot(data=cb_df,x=\"tripminutes\", bins=range(1,65), aspect=10/5)"
   ]
  },
  {
   "cell_type": "code",
   "execution_count": 20,
   "metadata": {},
   "outputs": [],
   "source": [
    "cb_df2[[\"start_time\", \"end_time\"]] = cb_df2[[\"started_at\", \"ended_at\"]].apply(pd.to_datetime)\n",
    "cb_df2['duration'] = (cb_df2[\"end_time\"] - cb_df2[\"start_time\"]).astype('timedelta64[s]')\n"
   ]
  },
  {
   "cell_type": "code",
   "execution_count": 21,
   "metadata": {},
   "outputs": [
    {
     "name": "stdout",
     "output_type": "stream",
     "text": [
      "<class 'pandas.core.frame.DataFrame'>\n",
      "RangeIndex: 1748287 entries, 0 to 1748286\n",
      "Data columns (total 16 columns):\n",
      " #   Column              Dtype         \n",
      "---  ------              -----         \n",
      " 0   ride_id             object        \n",
      " 1   rideable_type       object        \n",
      " 2   started_at          object        \n",
      " 3   ended_at            object        \n",
      " 4   start_station_name  object        \n",
      " 5   start_station_id    object        \n",
      " 6   end_station_name    object        \n",
      " 7   end_station_id      object        \n",
      " 8   start_lat           float64       \n",
      " 9   start_lng           float64       \n",
      " 10  end_lat             float64       \n",
      " 11  end_lng             float64       \n",
      " 12  member_casual       object        \n",
      " 13  start_time          datetime64[ns]\n",
      " 14  end_time            datetime64[ns]\n",
      " 15  duration            float64       \n",
      "dtypes: datetime64[ns](2), float64(5), object(9)\n",
      "memory usage: 213.4+ MB\n"
     ]
    }
   ],
   "source": [
    "cb_df2.info()"
   ]
  },
  {
   "cell_type": "code",
   "execution_count": 31,
   "metadata": {},
   "outputs": [
    {
     "data": {
      "text/plain": [
       "<seaborn.axisgrid.FacetGrid at 0x1e6b272be48>"
      ]
     },
     "execution_count": 31,
     "metadata": {},
     "output_type": "execute_result"
    },
    {
     "data": {
      "image/png": "[encoded data removed]",
      "text/plain": [
       "<Figure size 1080x360 with 1 Axes>"
      ]
     },
     "metadata": {
      "needs_background": "light"
     },
     "output_type": "display_data"
    }
   ],
   "source": [
    "sns.displot(data=cb_df2,x=\"duration\", bins=range(1,300), aspect=15/5)"
   ]
  },
  {
   "cell_type": "code",
   "execution_count": null,
   "metadata": {},
   "outputs": [],
   "source": []
  },
  {
   "cell_type": "markdown",
   "metadata": {},
   "source": [
    "#### Number of rides during the day"
   ]
  },
  {
   "cell_type": "code",
   "execution_count": 77,
   "metadata": {},
   "outputs": [],
   "source": [
    "cb_df['start hour']=cb_df['starttime'].dt.hour.astype('category')\n",
    "cb_df['start day']=cb_df['starttime'].dt.day.astype('category') \n",
    "cb_df['weekday']=cb_df['starttime'].dt.weekday.astype('category')"
   ]
  },
  {
   "cell_type": "code",
   "execution_count": 78,
   "metadata": {},
   "outputs": [
    {
     "data": {
      "text/plain": [
       "<matplotlib.axes._subplots.AxesSubplot at 0x213b1382bc8>"
      ]
     },
     "execution_count": 78,
     "metadata": {},
     "output_type": "execute_result"
    },
    {
     "data": {
      "image/png": "[encoded data removed]",
      "text/plain": [
       "<Figure size 864x360 with 1 Axes>"
      ]
     },
     "metadata": {
      "needs_background": "light"
     },
     "output_type": "display_data"
    }
   ],
   "source": [
    "plt.figure(figsize=(12,5))\n",
    "sns.countplot(data=cb_df, x=\"start hour\" )"
   ]
  },
  {
   "cell_type": "markdown",
   "metadata": {},
   "source": [
    "### Rides - Weekend vs Weekday"
   ]
  },
  {
   "cell_type": "code",
   "execution_count": 79,
   "metadata": {},
   "outputs": [
    {
     "name": "stdout",
     "output_type": "stream",
     "text": [
      "<class 'pandas.core.frame.DataFrame'>\n",
      "RangeIndex: 1068457 entries, 0 to 1068456\n",
      "Data columns (total 20 columns):\n",
      " #   Column                   Non-Null Count    Dtype         \n",
      "---  ------                   --------------    -----         \n",
      " 0   tripduration             1068457 non-null  int64         \n",
      " 1   starttime                1068457 non-null  datetime64[ns]\n",
      " 2   stoptime                 1068457 non-null  datetime64[ns]\n",
      " 3   start station id         1068457 non-null  int64         \n",
      " 4   start station name       1068457 non-null  object        \n",
      " 5   start station latitude   1068457 non-null  float64       \n",
      " 6   start station longitude  1068457 non-null  float64       \n",
      " 7   end station id           1068457 non-null  int64         \n",
      " 8   end station name         1068457 non-null  object        \n",
      " 9   end station latitude     1068457 non-null  float64       \n",
      " 10  end station longitude    1068457 non-null  float64       \n",
      " 11  bikeid                   1068457 non-null  int64         \n",
      " 12  usertype                 1068457 non-null  object        \n",
      " 13  birth year               1068457 non-null  int64         \n",
      " 14  gender                   1068457 non-null  int64         \n",
      " 15  tripminutes              1068457 non-null  int64         \n",
      " 16  start hour               1068457 non-null  category      \n",
      " 17  start day                1068457 non-null  category      \n",
      " 18  weekday                  1068457 non-null  category      \n",
      " 19  weekend                  1068457 non-null  bool          \n",
      "dtypes: bool(1), category(3), datetime64[ns](2), float64(4), int64(7), object(3)\n",
      "memory usage: 134.5+ MB\n"
     ]
    }
   ],
   "source": [
    "cb_df.info()"
   ]
  },
  {
   "cell_type": "code",
   "execution_count": 80,
   "metadata": {},
   "outputs": [
    {
     "data": {
      "image/png": "[encoded data removed]",
      "text/plain": [
       "<Figure size 864x432 with 1 Axes>"
      ]
     },
     "metadata": {
      "needs_background": "light"
     },
     "output_type": "display_data"
    }
   ],
   "source": [
    "cb_df['weekend'] = [d >= 5 for d in cb_df['weekday']]\n",
    "\n",
    "plt.figure(figsize=(12,6))\n",
    "sns.set_palette(\"Set2\")\n",
    "sns.countplot(data=cb_df,x=\"start day\", hue='weekend', dodge=False) ;\n"
   ]
  },
  {
   "cell_type": "markdown",
   "metadata": {},
   "source": [
    "### 30 Most popular dock stations"
   ]
  },
  {
   "cell_type": "code",
   "execution_count": 69,
   "metadata": {},
   "outputs": [
    {
     "data": {
      "image/png": "[encoded data removed]",
      "text/plain": [
       "<Figure size 360x720 with 1 Axes>"
      ]
     },
     "metadata": {
      "needs_background": "light"
     },
     "output_type": "display_data"
    }
   ],
   "source": [
    "startstation = cb_df['start station name'].value_counts()[:30]\n",
    "plt.figure(figsize=(5,10))\n",
    "sns.barplot( x=startstation.values , y=list(startstation.index), \n",
    " orient=\"h\"  ) ;"
   ]
  },
  {
   "cell_type": "code",
   "execution_count": 33,
   "metadata": {
    "collapsed": true
   },
   "outputs": [
    {
     "data": {
      "image/png": "[encoded data removed]",
      "text/plain": [
       "<Figure size 864x720 with 1 Axes>"
      ]
     },
     "metadata": {
      "needs_background": "light"
     },
     "output_type": "display_data"
    }
   ],
   "source": [
    "startstation = cb_df2['start_station_name'].value_counts()[:50]\n",
    "plt.figure(figsize=(12,10))\n",
    "sns.barplot( x=startstation.values , y=list(startstation.index), \n",
    " orient=\"h\"  ) ;"
   ]
  },
  {
   "cell_type": "markdown",
   "metadata": {},
   "source": [
    "### Age of riders"
   ]
  },
  {
   "cell_type": "code",
   "execution_count": 82,
   "metadata": {},
   "outputs": [
    {
     "data": {
      "text/plain": [
       "<seaborn.axisgrid.FacetGrid at 0x213edc55f88>"
      ]
     },
     "execution_count": 82,
     "metadata": {},
     "output_type": "execute_result"
    },
    {
     "data": {
      "image/png": "[encoded data removed]",
      "text/plain": [
       "<Figure size 720x360 with 1 Axes>"
      ]
     },
     "metadata": {
      "needs_background": "light"
     },
     "output_type": "display_data"
    }
   ],
   "source": [
    "sns.displot(data=cb_df, x=\"birth year\" , bins=range(1946,2004),  aspect=10/5)"
   ]
  },
  {
   "cell_type": "code",
   "execution_count": 83,
   "metadata": {
    "scrolled": true
   },
   "outputs": [
    {
     "data": {
      "image/png": "[encoded data removed]",
      "text/plain": [
       "<Figure size 809.125x360 with 1 Axes>"
      ]
     },
     "metadata": {
      "needs_background": "light"
     },
     "output_type": "display_data"
    }
   ],
   "source": [
    "sns.displot(data=cb_df,x=\"birth year\", bins=range(1946,2004), hue='usertype', multiple='stack', \n",
    "hue_order=[\"Subscriber\",\"Customer\"], aspect=10/5);"
   ]
  },
  {
   "cell_type": "code",
   "execution_count": 84,
   "metadata": {},
   "outputs": [],
   "source": [
    "skip = (cb_df['birth year'] < 1946) | (cb_df['gender'] == 0) \n",
    "cb_df['age'] = (2020 - cb_df['birth year']).mask(skip,None)"
   ]
  },
  {
   "cell_type": "code",
   "execution_count": 101,
   "metadata": {
    "scrolled": true
   },
   "outputs": [
    {
     "data": {
      "image/png": "[encoded data removed]",
      "text/plain": [
       "<Figure size 1123.5x360 with 1 Axes>"
      ]
     },
     "metadata": {
      "needs_background": "light"
     },
     "output_type": "display_data"
    }
   ],
   "source": [
    "sns.displot(data=cb_df, x='age', hue='gender', multiple='stack',  aspect=15/5) ;"
   ]
  },
  {
   "cell_type": "markdown",
   "metadata": {},
   "source": [
    "### Ride Distances"
   ]
  },
  {
   "cell_type": "code",
   "execution_count": 89,
   "metadata": {},
   "outputs": [],
   "source": [
    "import numpy as np\n",
    "def haversine(lat1, lon1, lat2, lon2):\n",
    "    lon1, lat1, lon2, lat2 = \\\n",
    "    map(np.radians ,[lon1, lat1, lon2, lat2])\n",
    "    h = np.sin((lat2-lat1)/2.0)**2 + np.cos(lat1) * np.cos(lat2) * np.sin((lon2-lon1)/2.0)**2\n",
    "    miles = 3959 * (2 * np.arcsin(np.sqrt(h))) \n",
    "    return miles"
   ]
  },
  {
   "cell_type": "code",
   "execution_count": 90,
   "metadata": {},
   "outputs": [
    {
     "data": {
      "image/png": "[encoded data removed]",
      "text/plain": [
       "<Figure size 720x360 with 1 Axes>"
      ]
     },
     "metadata": {
      "needs_background": "light"
     },
     "output_type": "display_data"
    }
   ],
   "source": [
    "distance = haversine(cb_df['start station latitude'],cb_df['start station longitude'],cb_df['end station latitude'],cb_df['end station longitude'])\n",
    "cb_df['distance'] = distance\n",
    "sns.displot(data=cb_df, x=\"distance\",  aspect=10/5  ) ;"
   ]
  },
  {
   "cell_type": "code",
   "execution_count": 91,
   "metadata": {
    "scrolled": true
   },
   "outputs": [
    {
     "data": {
      "image/png": "[encoded data removed]",
      "text/plain": [
       "<Figure size 720x360 with 1 Axes>"
      ]
     },
     "metadata": {
      "needs_background": "light"
     },
     "output_type": "display_data"
    }
   ],
   "source": [
    "distance = list(filter(lambda distance: distance !=0 , distance)) \n",
    "sns.displot(x=distance ,  aspect=10/5  ) ;"
   ]
  },
  {
   "cell_type": "code",
   "execution_count": 71,
   "metadata": {},
   "outputs": [
    {
     "ename": "NameError",
     "evalue": "name 'parse' is not defined",
     "output_type": "error",
     "traceback": [
      "\u001b[1;31m---------------------------------------------------------------------------\u001b[0m",
      "\u001b[1;31mNameError\u001b[0m                                 Traceback (most recent call last)",
      "\u001b[1;32m<ipython-input-71-1409025add2c>\u001b[0m in \u001b[0;36m<module>\u001b[1;34m\u001b[0m\n\u001b[0;32m      1\u001b[0m \u001b[1;32mimport\u001b[0m \u001b[0mdatetime\u001b[0m\u001b[1;33m\u001b[0m\u001b[1;33m\u001b[0m\u001b[0m\n\u001b[0;32m      2\u001b[0m \u001b[0mdate_1\u001b[0m \u001b[1;33m=\u001b[0m \u001b[1;34m'2018-02-06'\u001b[0m\u001b[1;33m\u001b[0m\u001b[1;33m\u001b[0m\u001b[0m\n\u001b[1;32m----> 3\u001b[1;33m \u001b[0mparse\u001b[0m\u001b[1;33m(\u001b[0m\u001b[0mdate_1\u001b[0m\u001b[1;33m)\u001b[0m\u001b[1;33m.\u001b[0m\u001b[0misocalendar\u001b[0m\u001b[1;33m(\u001b[0m\u001b[1;33m)\u001b[0m\u001b[1;33m[\u001b[0m\u001b[1;36m1\u001b[0m\u001b[1;33m]\u001b[0m\u001b[1;33m\u001b[0m\u001b[1;33m\u001b[0m\u001b[0m\n\u001b[0m",
      "\u001b[1;31mNameError\u001b[0m: name 'parse' is not defined"
     ]
    }
   ],
   "source": [
    "import datetime\n",
    "date_1 = '2018-02-06'\n",
    "parse(date_1).isocalendar()[1]"
   ]
  },
  {
   "cell_type": "code",
   "execution_count": 70,
   "metadata": {},
   "outputs": [
    {
     "ename": "NameError",
     "evalue": "name 'parse' is not defined",
     "output_type": "error",
     "traceback": [
      "\u001b[1;31m---------------------------------------------------------------------------\u001b[0m",
      "\u001b[1;31mNameError\u001b[0m                                 Traceback (most recent call last)",
      "\u001b[1;32m<ipython-input-70-33a9233319c7>\u001b[0m in \u001b[0;36m<module>\u001b[1;34m\u001b[0m\n\u001b[1;32m----> 1\u001b[1;33m \u001b[0mcb_df\u001b[0m\u001b[1;33m[\u001b[0m\u001b[1;34m'weekday'\u001b[0m\u001b[1;33m]\u001b[0m \u001b[1;33m=\u001b[0m \u001b[0mcb_df\u001b[0m\u001b[1;33m[\u001b[0m\u001b[1;34m'starttime'\u001b[0m\u001b[1;33m]\u001b[0m\u001b[1;33m.\u001b[0m\u001b[0mapply\u001b[0m\u001b[1;33m(\u001b[0m\u001b[1;32mlambda\u001b[0m \u001b[0mx\u001b[0m\u001b[1;33m:\u001b[0m \u001b[0mparse\u001b[0m\u001b[1;33m(\u001b[0m\u001b[0mstr\u001b[0m\u001b[1;33m(\u001b[0m\u001b[0mx\u001b[0m\u001b[1;33m)\u001b[0m\u001b[1;33m)\u001b[0m\u001b[1;33m.\u001b[0m\u001b[0mstrftime\u001b[0m\u001b[1;33m(\u001b[0m\u001b[1;34m\"%A\"\u001b[0m\u001b[1;33m)\u001b[0m\u001b[1;33m)\u001b[0m\u001b[1;33m\u001b[0m\u001b[1;33m\u001b[0m\u001b[0m\n\u001b[0m",
      "\u001b[1;32m~\\Anaconda3\\lib\\site-packages\\pandas\\core\\series.py\u001b[0m in \u001b[0;36mapply\u001b[1;34m(self, func, convert_dtype, args, **kwargs)\u001b[0m\n\u001b[0;32m   4355\u001b[0m         \u001b[0mdtype\u001b[0m\u001b[1;33m:\u001b[0m \u001b[0mfloat64\u001b[0m\u001b[1;33m\u001b[0m\u001b[1;33m\u001b[0m\u001b[0m\n\u001b[0;32m   4356\u001b[0m         \"\"\"\n\u001b[1;32m-> 4357\u001b[1;33m         \u001b[1;32mreturn\u001b[0m \u001b[0mSeriesApply\u001b[0m\u001b[1;33m(\u001b[0m\u001b[0mself\u001b[0m\u001b[1;33m,\u001b[0m \u001b[0mfunc\u001b[0m\u001b[1;33m,\u001b[0m \u001b[0mconvert_dtype\u001b[0m\u001b[1;33m,\u001b[0m \u001b[0margs\u001b[0m\u001b[1;33m,\u001b[0m \u001b[0mkwargs\u001b[0m\u001b[1;33m)\u001b[0m\u001b[1;33m.\u001b[0m\u001b[0mapply\u001b[0m\u001b[1;33m(\u001b[0m\u001b[1;33m)\u001b[0m\u001b[1;33m\u001b[0m\u001b[1;33m\u001b[0m\u001b[0m\n\u001b[0m\u001b[0;32m   4358\u001b[0m \u001b[1;33m\u001b[0m\u001b[0m\n\u001b[0;32m   4359\u001b[0m     def _reduce(\n",
      "\u001b[1;32m~\\Anaconda3\\lib\\site-packages\\pandas\\core\\apply.py\u001b[0m in \u001b[0;36mapply\u001b[1;34m(self)\u001b[0m\n\u001b[0;32m   1041\u001b[0m             \u001b[1;32mreturn\u001b[0m \u001b[0mself\u001b[0m\u001b[1;33m.\u001b[0m\u001b[0mapply_str\u001b[0m\u001b[1;33m(\u001b[0m\u001b[1;33m)\u001b[0m\u001b[1;33m\u001b[0m\u001b[1;33m\u001b[0m\u001b[0m\n\u001b[0;32m   1042\u001b[0m \u001b[1;33m\u001b[0m\u001b[0m\n\u001b[1;32m-> 1043\u001b[1;33m         \u001b[1;32mreturn\u001b[0m \u001b[0mself\u001b[0m\u001b[1;33m.\u001b[0m\u001b[0mapply_standard\u001b[0m\u001b[1;33m(\u001b[0m\u001b[1;33m)\u001b[0m\u001b[1;33m\u001b[0m\u001b[1;33m\u001b[0m\u001b[0m\n\u001b[0m\u001b[0;32m   1044\u001b[0m \u001b[1;33m\u001b[0m\u001b[0m\n\u001b[0;32m   1045\u001b[0m     \u001b[1;32mdef\u001b[0m \u001b[0magg\u001b[0m\u001b[1;33m(\u001b[0m\u001b[0mself\u001b[0m\u001b[1;33m)\u001b[0m\u001b[1;33m:\u001b[0m\u001b[1;33m\u001b[0m\u001b[1;33m\u001b[0m\u001b[0m\n",
      "\u001b[1;32m~\\Anaconda3\\lib\\site-packages\\pandas\\core\\apply.py\u001b[0m in \u001b[0;36mapply_standard\u001b[1;34m(self)\u001b[0m\n\u001b[0;32m   1099\u001b[0m                     \u001b[0mvalues\u001b[0m\u001b[1;33m,\u001b[0m\u001b[1;33m\u001b[0m\u001b[1;33m\u001b[0m\u001b[0m\n\u001b[0;32m   1100\u001b[0m                     \u001b[0mf\u001b[0m\u001b[1;33m,\u001b[0m  \u001b[1;31m# type: ignore[arg-type]\u001b[0m\u001b[1;33m\u001b[0m\u001b[1;33m\u001b[0m\u001b[0m\n\u001b[1;32m-> 1101\u001b[1;33m                     \u001b[0mconvert\u001b[0m\u001b[1;33m=\u001b[0m\u001b[0mself\u001b[0m\u001b[1;33m.\u001b[0m\u001b[0mconvert_dtype\u001b[0m\u001b[1;33m,\u001b[0m\u001b[1;33m\u001b[0m\u001b[1;33m\u001b[0m\u001b[0m\n\u001b[0m\u001b[0;32m   1102\u001b[0m                 )\n\u001b[0;32m   1103\u001b[0m \u001b[1;33m\u001b[0m\u001b[0m\n",
      "\u001b[1;32m~\\Anaconda3\\lib\\site-packages\\pandas\\_libs\\lib.pyx\u001b[0m in \u001b[0;36mpandas._libs.lib.map_infer\u001b[1;34m()\u001b[0m\n",
      "\u001b[1;32m<ipython-input-70-33a9233319c7>\u001b[0m in \u001b[0;36m<lambda>\u001b[1;34m(x)\u001b[0m\n\u001b[1;32m----> 1\u001b[1;33m \u001b[0mcb_df\u001b[0m\u001b[1;33m[\u001b[0m\u001b[1;34m'weekday'\u001b[0m\u001b[1;33m]\u001b[0m \u001b[1;33m=\u001b[0m \u001b[0mcb_df\u001b[0m\u001b[1;33m[\u001b[0m\u001b[1;34m'starttime'\u001b[0m\u001b[1;33m]\u001b[0m\u001b[1;33m.\u001b[0m\u001b[0mapply\u001b[0m\u001b[1;33m(\u001b[0m\u001b[1;32mlambda\u001b[0m \u001b[0mx\u001b[0m\u001b[1;33m:\u001b[0m \u001b[0mparse\u001b[0m\u001b[1;33m(\u001b[0m\u001b[0mstr\u001b[0m\u001b[1;33m(\u001b[0m\u001b[0mx\u001b[0m\u001b[1;33m)\u001b[0m\u001b[1;33m)\u001b[0m\u001b[1;33m.\u001b[0m\u001b[0mstrftime\u001b[0m\u001b[1;33m(\u001b[0m\u001b[1;34m\"%A\"\u001b[0m\u001b[1;33m)\u001b[0m\u001b[1;33m)\u001b[0m\u001b[1;33m\u001b[0m\u001b[1;33m\u001b[0m\u001b[0m\n\u001b[0m",
      "\u001b[1;31mNameError\u001b[0m: name 'parse' is not defined"
     ]
    }
   ],
   "source": [
    "cb_df['weekday'] = cb_df['starttime'].apply(lambda x: parse(str(x)).strftime(\"%A\"))"
   ]
  }
 ],
 "metadata": {
  "kernelspec": {
   "display_name": "Python 3",
   "language": "python",
   "name": "python3"
  },
  "language_info": {
   "codemirror_mode": {
    "name": "ipython",
    "version": 3
   },
   "file_extension": ".py",
   "mimetype": "text/x-python",
   "name": "python",
   "nbconvert_exporter": "python",
   "pygments_lexer": "ipython3",
   "version": "3.7.4"
  }
 },
 "nbformat": 4,
 "nbformat_minor": 2
}
