{
 "cells": [
  {
   "cell_type": "code",
   "execution_count": 2,
   "id": "2d9243ca",
   "metadata": {},
   "outputs": [],
   "source": [
    "import pandas as pd"
   ]
  },
  {
   "cell_type": "code",
   "execution_count": null,
   "id": "30a16a50",
   "metadata": {},
   "outputs": [],
   "source": [
    "bike = pd.read_csv(\"JC-202201-citibike-tripdata.csv\")\n",
    "bike.head()"
   ]
  },
  {
   "cell_type": "code",
   "execution_count": null,
   "id": "2fea6e40",
   "metadata": {},
   "outputs": [],
   "source": [
    "bike.shape"
   ]
  },
  {
   "cell_type": "code",
   "execution_count": null,
   "id": "1e048644",
   "metadata": {},
   "outputs": [],
   "source": [
    "bike.isna().sum()"
   ]
  },
  {
   "cell_type": "code",
   "execution_count": null,
   "id": "ae4c448c",
   "metadata": {},
   "outputs": [],
   "source": [
    "bike.rideable_type.value_counts()"
   ]
  },
  {
   "cell_type": "code",
   "execution_count": null,
   "id": "3976e6c0",
   "metadata": {},
   "outputs": [],
   "source": [
    "bike.member_casual.value_counts()"
   ]
  },
  {
   "cell_type": "code",
   "execution_count": null,
   "id": "e8503746",
   "metadata": {},
   "outputs": [],
   "source": [
    "bike.start_station_name.map(bike.start_station_name.value_counts()).sort_values(ascending = False)"
   ]
  },
  {
   "cell_type": "code",
   "execution_count": null,
   "id": "28324b98",
   "metadata": {},
   "outputs": [],
   "source": [
    "bike.groupby('start_station_name').agg({'start_station_name': 'count'})"
   ]
  },
  {
   "cell_type": "code",
   "execution_count": null,
   "id": "f3471420",
   "metadata": {},
   "outputs": [],
   "source": [
    "bike.groupby('start_station_name')['start_station_name'].count().sort_values(ascending = False).head(15)"
   ]
  },
  {
   "cell_type": "code",
   "execution_count": null,
   "id": "221808d5",
   "metadata": {},
   "outputs": [],
   "source": [
    "bike.groupby('end_station_name')['end_station_name'].count().sort_values(ascending = False).head(15)"
   ]
  },
  {
   "cell_type": "code",
   "execution_count": null,
   "id": "3cfcab13",
   "metadata": {},
   "outputs": [],
   "source": [
    "bike.loc[bike['start_station_name'] == 'Sip Ave']\\\n",
    ".groupby('end_station_name')['end_station_name'].count()\\\n",
    ".sort_values(ascending = False).head(15)"
   ]
  },
  {
   "cell_type": "code",
   "execution_count": null,
   "id": "149e4d8f",
   "metadata": {},
   "outputs": [],
   "source": [
    "bike.loc[bike['end_station_name'] == 'Sip Ave']\\\n",
    ".groupby('start_station_name')['start_station_name'].count()\\\n",
    ".sort_values(ascending = False).head(15)"
   ]
  },
  {
   "cell_type": "code",
   "execution_count": null,
   "id": "671770d7",
   "metadata": {},
   "outputs": [],
   "source": [
    "# Scraping Citi Bike for CSV files \n",
    "import time\n",
    "from selenium.webdriver.common.by import By\n",
    "from selenium import webdriver \n",
    "pathtodriver = \"C:\\\\Program Files\\\\Google\\\\Chrome\\\\Application\\\\chromedriver.exe\""
   ]
  },
  {
   "cell_type": "code",
   "execution_count": null,
   "id": "4ab58c50",
   "metadata": {},
   "outputs": [],
   "source": [
    "#  Connecting to CitiBike Web Page \n",
    "driver = webdriver.Chrome(pathtodriver)\n",
    "driver.get('https://s3.amazonaws.com/tripdata/index.html')\n",
    "# Finding and downloading each zip file \n",
    "time.sleep(1)\n",
    "lines = driver.find_elements_by_xpath(\"//a\")\n",
    "for x in lines:\n",
    "    x.click()"
   ]
  },
  {
   "cell_type": "code",
   "execution_count": null,
   "id": "f125a5e9",
   "metadata": {},
   "outputs": [],
   "source": [
    "##### Extracting and Removing csv and zip folders\n",
    "import os\n",
    "from zipfile import ZipFile\n",
    "# Jersey City ZIPS\n",
    "source = 'C:\\\\Users\\\\Francesco\\\\Downloads\\\\CitiBikeDataJCzipped\\\\'\n",
    "for file in os.listdir(source):\n",
    "    if file.endswith('.zip'):\n",
    "        file_name = source + file\n",
    "        zip_ref = ZipFile(file_name)\n",
    "        zip_ref.extractall(source)\n",
    "        zip_ref.close()\n",
    "        os.remove(file_name)"
   ]
  },
  {
   "cell_type": "code",
   "execution_count": null,
   "id": "34153d63",
   "metadata": {},
   "outputs": [],
   "source": [
    "# NYC ZIPS\n",
    "source2 = 'C:\\\\Users\\\\Francesco\\\\Downloads\\\\CitiBikeDataNYCzipped\\\\'\n",
    "for file in os.listdir(source2):\n",
    "    if file.endswith('.zip'):\n",
    "        file_name = source2 + file\n",
    "        zip_ref = ZipFile(file_name)\n",
    "        zip_ref.extractall(source2)\n",
    "        zip_ref.close()\n",
    "        os.remove(file_name)"
   ]
  },
  {
   "cell_type": "code",
   "execution_count": null,
   "id": "aa1c8db0",
   "metadata": {},
   "outputs": [],
   "source": [
    "# loading NY files\n",
    "df1 = pd.read_csv('C:\\\\Users\\\\Francesco\\\\Desktop\\\\NYCDSA\\\\Capstone file\\\\CitiBikeDataNYCzipped\\\\201801-citibike-tripdata.csv')\n",
    "print(df1.shape)\n",
    "print(df1.columns)"
   ]
  },
  {
   "cell_type": "code",
   "execution_count": null,
   "id": "20599c83",
   "metadata": {},
   "outputs": [],
   "source": [
    "df2 = pd.read_csv('C:\\\\Users\\\\Francesco\\\\Desktop\\\\NYCDSA\\\\Capstone file\\\\CitiBikeDataNYCzipped\\\\201802-citibike-tripdata.csv')\n",
    "print(df2.shape)\n",
    "print(df2.columns)"
   ]
  },
  {
   "cell_type": "code",
   "execution_count": null,
   "id": "68f77e3f",
   "metadata": {},
   "outputs": [],
   "source": [
    "df3 = pd.read_csv('C:\\\\Users\\\\Francesco\\\\Desktop\\\\NYCDSA\\\\Capstone file\\\\CitiBikeDataNYCzipped\\\\201803-citibike-tripdata.csv')\n",
    "print(df3.shape)\n",
    "print(df3.columns)"
   ]
  },
  {
   "cell_type": "code",
   "execution_count": null,
   "id": "3b7d8406",
   "metadata": {},
   "outputs": [],
   "source": [
    "df4 = pd.read_csv('C:\\\\Users\\\\Francesco\\\\Desktop\\\\NYCDSA\\\\Capstone file\\\\CitiBikeDataNYCzipped\\\\201804-citibike-tripdata.csv')\n",
    "print(df4.shape)\n",
    "print(df4.columns)"
   ]
  },
  {
   "cell_type": "code",
   "execution_count": null,
   "id": "7c81200c",
   "metadata": {},
   "outputs": [],
   "source": [
    "df5 = pd.read_csv('C:\\\\Users\\\\Francesco\\\\Desktop\\\\NYCDSA\\\\Capstone file\\\\CitiBikeDataNYCzipped\\\\201805-citibike-tripdata.csv')\n",
    "print(df5.shape)\n",
    "print(df5.columns)"
   ]
  },
  {
   "cell_type": "code",
   "execution_count": null,
   "id": "6d8345bb",
   "metadata": {},
   "outputs": [],
   "source": [
    "df6 = pd.read_csv('C:\\\\Users\\\\Francesco\\\\Desktop\\\\NYCDSA\\\\Capstone file\\\\CitiBikeDataNYCzipped\\\\201806-citibike-tripdata.csv')\n",
    "print(df6.shape)\n",
    "print(df6.columns)"
   ]
  },
  {
   "cell_type": "code",
   "execution_count": null,
   "id": "01922b47",
   "metadata": {},
   "outputs": [],
   "source": [
    "df7 = pd.read_csv('C:\\\\Users\\\\Francesco\\\\Desktop\\\\NYCDSA\\\\Capstone file\\\\CitiBikeDataNYCzipped\\\\201807-citibike-tripdata.csv')\n",
    "print(df7.shape)\n",
    "print(df7.columns)"
   ]
  },
  {
   "cell_type": "code",
   "execution_count": null,
   "id": "409e8bd4",
   "metadata": {},
   "outputs": [],
   "source": [
    "df8 = pd.read_csv('C:\\\\Users\\\\Francesco\\\\Desktop\\\\NYCDSA\\\\Capstone file\\\\CitiBikeDataNYCzipped\\\\201808-citibike-tripdata.csv')\n",
    "print(df8.shape)\n",
    "print(df8.columns)"
   ]
  },
  {
   "cell_type": "code",
   "execution_count": null,
   "id": "3c0db264",
   "metadata": {},
   "outputs": [],
   "source": [
    "df9 = pd.read_csv('C:\\\\Users\\\\Francesco\\\\Desktop\\\\NYCDSA\\\\Capstone file\\\\CitiBikeDataNYCzipped\\\\201809-citibike-tripdata.csv')\n",
    "print(df9.shape)\n",
    "print(df9.columns)"
   ]
  },
  {
   "cell_type": "code",
   "execution_count": null,
   "id": "e4fe4371",
   "metadata": {},
   "outputs": [],
   "source": [
    "df10 = pd.read_csv('C:\\\\Users\\\\Francesco\\\\Desktop\\\\NYCDSA\\\\Capstone file\\\\CitiBikeDataNYCzipped\\\\201810-citibike-tripdata.csv')\n",
    "print(df10.shape)\n",
    "print(df10.columns)"
   ]
  },
  {
   "cell_type": "code",
   "execution_count": null,
   "id": "b20bc046",
   "metadata": {},
   "outputs": [],
   "source": [
    "df11 = pd.read_csv('C:\\\\Users\\\\Francesco\\\\Desktop\\\\NYCDSA\\\\Capstone file\\\\CitiBikeDataNYCzipped\\\\201811-citibike-tripdata.csv')\n",
    "print(df11.shape)\n",
    "print(df11.columns)"
   ]
  },
  {
   "cell_type": "code",
   "execution_count": null,
   "id": "701b8b67",
   "metadata": {},
   "outputs": [],
   "source": [
    "df12 = pd.read_csv('C:\\\\Users\\\\Francesco\\\\Desktop\\\\NYCDSA\\\\Capstone file\\\\CitiBikeDataNYCzipped\\\\201812-citibike-tripdata.csv')\n",
    "print(df12.shape)\n",
    "print(df12.columns)"
   ]
  },
  {
   "cell_type": "code",
   "execution_count": null,
   "id": "2d51e117",
   "metadata": {},
   "outputs": [],
   "source": [
    "# exploring 2020\n",
    "df1a = pd.read_csv('C:\\\\Users\\\\Francesco\\\\Desktop\\\\NYCDSA\\\\Capstone file\\\\CitiBikeDataNYCzipped\\\\202001-citibike-tripdata.csv')\n",
    "df2a = pd.read_csv('C:\\\\Users\\\\Francesco\\\\Desktop\\\\NYCDSA\\\\Capstone file\\\\CitiBikeDataNYCzipped\\\\202002-citibike-tripdata.csv')\n",
    "df3a = pd.read_csv('C:\\\\Users\\\\Francesco\\\\Desktop\\\\NYCDSA\\\\Capstone file\\\\CitiBikeDataNYCzipped\\\\202003-citibike-tripdata.csv')\n",
    "df4a = pd.read_csv('C:\\\\Users\\\\Francesco\\\\Desktop\\\\NYCDSA\\\\Capstone file\\\\CitiBikeDataNYCzipped\\\\202004-citibike-tripdata.csv')\n",
    "df5a = pd.read_csv('C:\\\\Users\\\\Francesco\\\\Desktop\\\\NYCDSA\\\\Capstone file\\\\CitiBikeDataNYCzipped\\\\202005-citibike-tripdata.csv')\n",
    "df6a = pd.read_csv('C:\\\\Users\\\\Francesco\\\\Desktop\\\\NYCDSA\\\\Capstone file\\\\CitiBikeDataNYCzipped\\\\202006-citibike-tripdata.csv')\n",
    "df7a = pd.read_csv('C:\\\\Users\\\\Francesco\\\\Desktop\\\\NYCDSA\\\\Capstone file\\\\CitiBikeDataNYCzipped\\\\202007-citibike-tripdata.csv')\n",
    "df8a = pd.read_csv('C:\\\\Users\\\\Francesco\\\\Desktop\\\\NYCDSA\\\\Capstone file\\\\CitiBikeDataNYCzipped\\\\202008-citibike-tripdata.csv')\n",
    "df9a = pd.read_csv('C:\\\\Users\\\\Francesco\\\\Desktop\\\\NYCDSA\\\\Capstone file\\\\CitiBikeDataNYCzipped\\\\202009-citibike-tripdata.csv')\n",
    "df10a = pd.read_csv('C:\\\\Users\\\\Francesco\\\\Desktop\\\\NYCDSA\\\\Capstone file\\\\CitiBikeDataNYCzipped\\\\202010-citibike-tripdata.csv')\n",
    "df11a = pd.read_csv('C:\\\\Users\\\\Francesco\\\\Desktop\\\\NYCDSA\\\\Capstone file\\\\CitiBikeDataNYCzipped\\\\202011-citibike-tripdata.csv')\n",
    "df12a = pd.read_csv('C:\\\\Users\\\\Francesco\\\\Desktop\\\\NYCDSA\\\\Capstone file\\\\CitiBikeDataNYCzipped\\\\202012-citibike-tripdata.csv')"
   ]
  },
  {
   "cell_type": "code",
   "execution_count": null,
   "id": "e19b6e50",
   "metadata": {},
   "outputs": [],
   "source": [
    "print(df1a.shape)\n",
    "print(df2a.shape)\n",
    "print(df3a.shape)\n",
    "print(df4a.shape)\n",
    "print(df5a.shape)\n",
    "print(df6a.shape)\n",
    "print(df7a.shape)\n",
    "print(df8a.shape)\n",
    "print(df9a.shape)\n",
    "print(df10a.shape)\n",
    "print(df11a.shape)\n",
    "print(df12a.shape)"
   ]
  },
  {
   "cell_type": "code",
   "execution_count": null,
   "id": "116d1c2f",
   "metadata": {},
   "outputs": [],
   "source": [
    "print(df1a.columns)\n",
    "print(df2a.columns)\n",
    "print(df3a.columns)\n",
    "print(df4a.columns)\n",
    "print(df5a.columns)\n",
    "print(df6a.columns)\n",
    "print(df7a.columns)\n",
    "print(df8a.columns)\n",
    "print(df9a.columns)\n",
    "print(df10a.columns)\n",
    "print(df11a.columns)\n",
    "print(df12a.columns)"
   ]
  },
  {
   "cell_type": "code",
   "execution_count": null,
   "id": "447f7f4c",
   "metadata": {
    "scrolled": true
   },
   "outputs": [],
   "source": [
    "# exploring 2021\n",
    "df1b = pd.read_csv('C:\\\\Users\\\\Francesco\\\\Desktop\\\\NYCDSA\\\\Capstone file\\\\CitiBikeDataNYCzipped\\\\202101-citibike-tripdata.csv')\n",
    "df2b = pd.read_csv('C:\\\\Users\\\\Francesco\\\\Desktop\\\\NYCDSA\\\\Capstone file\\\\CitiBikeDataNYCzipped\\\\202102-citibike-tripdata.csv')\n",
    "df3b = pd.read_csv('C:\\\\Users\\\\Francesco\\\\Desktop\\\\NYCDSA\\\\Capstone file\\\\CitiBikeDataNYCzipped\\\\202103-citibike-tripdata.csv')\n",
    "df4b = pd.read_csv('C:\\\\Users\\\\Francesco\\\\Desktop\\\\NYCDSA\\\\Capstone file\\\\CitiBikeDataNYCzipped\\\\202104-citibike-tripdata.csv')\n",
    "df5b = pd.read_csv('C:\\\\Users\\\\Francesco\\\\Desktop\\\\NYCDSA\\\\Capstone file\\\\CitiBikeDataNYCzipped\\\\202105-citibike-tripdata.csv')\n",
    "df6b = pd.read_csv('C:\\\\Users\\\\Francesco\\\\Desktop\\\\NYCDSA\\\\Capstone file\\\\CitiBikeDataNYCzipped\\\\202106-citibike-tripdata.csv')\n",
    "df7b = pd.read_csv('C:\\\\Users\\\\Francesco\\\\Desktop\\\\NYCDSA\\\\Capstone file\\\\CitiBikeDataNYCzipped\\\\202107-citibike-tripdata.csv')\n",
    "df8b = pd.read_csv('C:\\\\Users\\\\Francesco\\\\Desktop\\\\NYCDSA\\\\Capstone file\\\\CitiBikeDataNYCzipped\\\\202108-citibike-tripdata.csv')\n",
    "df9b = pd.read_csv('C:\\\\Users\\\\Francesco\\\\Desktop\\\\NYCDSA\\\\Capstone file\\\\CitiBikeDataNYCzipped\\\\202109-citibike-tripdata.csv')\n",
    "df10b = pd.read_csv('C:\\\\Users\\\\Francesco\\\\Desktop\\\\NYCDSA\\\\Capstone file\\\\CitiBikeDataNYCzipped\\\\202110-citibike-tripdata.csv')\n",
    "df11b = pd.read_csv('C:\\\\Users\\\\Francesco\\\\Desktop\\\\NYCDSA\\\\Capstone file\\\\CitiBikeDataNYCzipped\\\\202111-citibike-tripdata.csv')\n",
    "df12b = pd.read_csv('C:\\\\Users\\\\Francesco\\\\Desktop\\\\NYCDSA\\\\Capstone file\\\\CitiBikeDataNYCzipped\\\\202112-citibike-tripdata.csv')"
   ]
  },
  {
   "cell_type": "code",
   "execution_count": 42,
   "id": "50c3ef30",
   "metadata": {},
   "outputs": [
    {
     "name": "stderr",
     "output_type": "stream",
     "text": [
      "C:\\Users\\FRANCE~1\\AppData\\Local\\Temp/ipykernel_10172/2649554790.py:1: DtypeWarning: Columns (5,7) have mixed types. Specify dtype option on import or set low_memory=False.\n",
      "  df12b = pd.read_csv('C:\\\\Users\\\\Francesco\\\\Desktop\\\\NYCDSA\\\\Capstone file\\\\CitiBikeDataNYCzipped\\\\202112-citibike-tripdata.csv')\n"
     ]
    }
   ],
   "source": [
    "df12b = pd.read_csv('C:\\\\Users\\\\Francesco\\\\Desktop\\\\NYCDSA\\\\Capstone file\\\\CitiBikeDataNYCzipped\\\\202112-citibike-tripdata.csv')"
   ]
  },
  {
   "cell_type": "code",
   "execution_count": 43,
   "id": "7aa26b38",
   "metadata": {},
   "outputs": [
    {
     "data": {
      "text/html": [
       "<div>\n",
       "<style scoped>\n",
       "    .dataframe tbody tr th:only-of-type {\n",
       "        vertical-align: middle;\n",
       "    }\n",
       "\n",
       "    .dataframe tbody tr th {\n",
       "        vertical-align: top;\n",
       "    }\n",
       "\n",
       "    .dataframe thead th {\n",
       "        text-align: right;\n",
       "    }\n",
       "</style>\n",
       "<table border=\"1\" class=\"dataframe\">\n",
       "  <thead>\n",
       "    <tr style=\"text-align: right;\">\n",
       "      <th></th>\n",
       "      <th>ride_id</th>\n",
       "      <th>rideable_type</th>\n",
       "      <th>started_at</th>\n",
       "      <th>ended_at</th>\n",
       "      <th>start_station_name</th>\n",
       "      <th>start_station_id</th>\n",
       "      <th>end_station_name</th>\n",
       "      <th>end_station_id</th>\n",
       "      <th>start_lat</th>\n",
       "      <th>start_lng</th>\n",
       "      <th>end_lat</th>\n",
       "      <th>end_lng</th>\n",
       "      <th>member_casual</th>\n",
       "    </tr>\n",
       "  </thead>\n",
       "  <tbody>\n",
       "    <tr>\n",
       "      <th>0</th>\n",
       "      <td>7AE6209F17967FF2</td>\n",
       "      <td>classic_bike</td>\n",
       "      <td>2021-12-07 08:54:24</td>\n",
       "      <td>2021-12-07 08:59:46</td>\n",
       "      <td>Broadway &amp; Hancock St</td>\n",
       "      <td>4441.06</td>\n",
       "      <td>Lewis Ave &amp; Madison St</td>\n",
       "      <td>4425.02</td>\n",
       "      <td>40.686630</td>\n",
       "      <td>-73.916800</td>\n",
       "      <td>40.686312</td>\n",
       "      <td>-73.935775</td>\n",
       "      <td>member</td>\n",
       "    </tr>\n",
       "    <tr>\n",
       "      <th>1</th>\n",
       "      <td>CCE209B6D683C96A</td>\n",
       "      <td>classic_bike</td>\n",
       "      <td>2021-12-13 21:22:35</td>\n",
       "      <td>2021-12-13 21:31:24</td>\n",
       "      <td>S 4 St &amp; Wythe Ave</td>\n",
       "      <td>5204.05</td>\n",
       "      <td>Metropolitan Ave &amp; Meeker Ave</td>\n",
       "      <td>5300.05</td>\n",
       "      <td>40.712859</td>\n",
       "      <td>-73.965903</td>\n",
       "      <td>40.714133</td>\n",
       "      <td>-73.952344</td>\n",
       "      <td>member</td>\n",
       "    </tr>\n",
       "    <tr>\n",
       "      <th>2</th>\n",
       "      <td>333961DE681551DA</td>\n",
       "      <td>classic_bike</td>\n",
       "      <td>2021-12-17 22:21:56</td>\n",
       "      <td>2021-12-17 22:30:41</td>\n",
       "      <td>6 Ave &amp; Canal St</td>\n",
       "      <td>5500.07</td>\n",
       "      <td>University Pl &amp; E 14 St</td>\n",
       "      <td>5905.14</td>\n",
       "      <td>40.722438</td>\n",
       "      <td>-74.005664</td>\n",
       "      <td>40.734814</td>\n",
       "      <td>-73.992085</td>\n",
       "      <td>member</td>\n",
       "    </tr>\n",
       "    <tr>\n",
       "      <th>3</th>\n",
       "      <td>E5F6240DEF91E399</td>\n",
       "      <td>classic_bike</td>\n",
       "      <td>2021-12-13 17:44:19</td>\n",
       "      <td>2021-12-13 17:51:35</td>\n",
       "      <td>E 2 St &amp; Avenue C</td>\n",
       "      <td>5476.03</td>\n",
       "      <td>E 11 St &amp; 3 Ave</td>\n",
       "      <td>5788.16</td>\n",
       "      <td>40.720874</td>\n",
       "      <td>-73.980858</td>\n",
       "      <td>40.731270</td>\n",
       "      <td>-73.988490</td>\n",
       "      <td>member</td>\n",
       "    </tr>\n",
       "    <tr>\n",
       "      <th>4</th>\n",
       "      <td>B93587D5FA305113</td>\n",
       "      <td>classic_bike</td>\n",
       "      <td>2021-12-04 16:03:04</td>\n",
       "      <td>2021-12-04 16:06:47</td>\n",
       "      <td>Columbia St &amp; Degraw St</td>\n",
       "      <td>4422.04</td>\n",
       "      <td>Atlantic Ave &amp; Furman St</td>\n",
       "      <td>4614.04</td>\n",
       "      <td>40.685930</td>\n",
       "      <td>-74.002424</td>\n",
       "      <td>40.691652</td>\n",
       "      <td>-73.999979</td>\n",
       "      <td>member</td>\n",
       "    </tr>\n",
       "  </tbody>\n",
       "</table>\n",
       "</div>"
      ],
      "text/plain": [
       "            ride_id rideable_type           started_at             ended_at  \\\n",
       "0  7AE6209F17967FF2  classic_bike  2021-12-07 08:54:24  2021-12-07 08:59:46   \n",
       "1  CCE209B6D683C96A  classic_bike  2021-12-13 21:22:35  2021-12-13 21:31:24   \n",
       "2  333961DE681551DA  classic_bike  2021-12-17 22:21:56  2021-12-17 22:30:41   \n",
       "3  E5F6240DEF91E399  classic_bike  2021-12-13 17:44:19  2021-12-13 17:51:35   \n",
       "4  B93587D5FA305113  classic_bike  2021-12-04 16:03:04  2021-12-04 16:06:47   \n",
       "\n",
       "        start_station_name start_station_id               end_station_name  \\\n",
       "0    Broadway & Hancock St          4441.06         Lewis Ave & Madison St   \n",
       "1       S 4 St & Wythe Ave          5204.05  Metropolitan Ave & Meeker Ave   \n",
       "2         6 Ave & Canal St          5500.07        University Pl & E 14 St   \n",
       "3        E 2 St & Avenue C          5476.03                E 11 St & 3 Ave   \n",
       "4  Columbia St & Degraw St          4422.04       Atlantic Ave & Furman St   \n",
       "\n",
       "  end_station_id  start_lat  start_lng    end_lat    end_lng member_casual  \n",
       "0        4425.02  40.686630 -73.916800  40.686312 -73.935775        member  \n",
       "1        5300.05  40.712859 -73.965903  40.714133 -73.952344        member  \n",
       "2        5905.14  40.722438 -74.005664  40.734814 -73.992085        member  \n",
       "3        5788.16  40.720874 -73.980858  40.731270 -73.988490        member  \n",
       "4        4614.04  40.685930 -74.002424  40.691652 -73.999979        member  "
      ]
     },
     "execution_count": 43,
     "metadata": {},
     "output_type": "execute_result"
    }
   ],
   "source": [
    "df12b.head()"
   ]
  },
  {
   "cell_type": "code",
   "execution_count": null,
   "id": "75639ee1",
   "metadata": {},
   "outputs": [],
   "source": [
    "print(df1b.shape)\n",
    "print(df2b.shape)\n",
    "print(df3b.shape)\n",
    "print(df4b.shape)\n",
    "print(df5b.shape)\n",
    "print(df6b.shape)\n",
    "print(df7b.shape)\n",
    "print(df8b.shape)\n",
    "print(df9b.shape)\n",
    "print(df10b.shape)\n",
    "print(df11b.shape)\n",
    "print(df12b.shape)"
   ]
  },
  {
   "cell_type": "code",
   "execution_count": null,
   "id": "fa48ba95",
   "metadata": {},
   "outputs": [],
   "source": [
    "print(df1b.columns)\n",
    "print(df2b.columns)\n",
    "print(df3b.columns)\n",
    "print(df4b.columns)\n",
    "print(df5b.columns)\n",
    "print(df6b.columns)\n",
    "print(df7b.columns)\n",
    "print(df8b.columns)\n",
    "print(df9b.columns)\n",
    "print(df10b.columns)\n",
    "print(df11b.columns)\n",
    "print(df12b.columns)"
   ]
  },
  {
   "cell_type": "code",
   "execution_count": null,
   "id": "e127f57d",
   "metadata": {},
   "outputs": [],
   "source": [
    "df1b.head()"
   ]
  },
  {
   "cell_type": "code",
   "execution_count": null,
   "id": "cdf2070c",
   "metadata": {},
   "outputs": [],
   "source": [
    "df2b.head()"
   ]
  },
  {
   "cell_type": "code",
   "execution_count": null,
   "id": "905aefc9",
   "metadata": {},
   "outputs": [],
   "source": [
    "#exploring 2022\n",
    "df1c = pd.read_csv('C:\\\\Users\\\\Francesco\\\\Desktop\\\\NYCDSA\\\\Capstone file\\\\CitiBikeDataNYCzipped\\\\202201-citibike-tripdata.csv')\n",
    "df2c = pd.read_csv('C:\\\\Users\\\\Francesco\\\\Desktop\\\\NYCDSA\\\\Capstone file\\\\CitiBikeDataNYCzipped\\\\202202-citibike-tripdata.csv')"
   ]
  },
  {
   "cell_type": "code",
   "execution_count": null,
   "id": "1baaf781",
   "metadata": {},
   "outputs": [],
   "source": [
    "print(df1c.shape)\n",
    "print(df2c.shape)"
   ]
  },
  {
   "cell_type": "code",
   "execution_count": null,
   "id": "2e908422",
   "metadata": {},
   "outputs": [],
   "source": [
    "print(df1c.columns)\n",
    "print(df2c.columns)"
   ]
  },
  {
   "cell_type": "code",
   "execution_count": 3,
   "id": "a6672090",
   "metadata": {},
   "outputs": [],
   "source": [
    "# exploring 2015\n",
    "df1d = pd.read_csv('C:\\\\Users\\\\Francesco\\\\Desktop\\\\NYCDSA\\\\Capstone file\\\\CitiBikeDataNYCzipped\\\\201501-citibike-tripdata.csv')\n",
    "df2d = pd.read_csv('C:\\\\Users\\\\Francesco\\\\Desktop\\\\NYCDSA\\\\Capstone file\\\\CitiBikeDataNYCzipped\\\\201502-citibike-tripdata.csv')\n",
    "df3d = pd.read_csv('C:\\\\Users\\\\Francesco\\\\Desktop\\\\NYCDSA\\\\Capstone file\\\\CitiBikeDataNYCzipped\\\\201503-citibike-tripdata.csv')\n",
    "df4d = pd.read_csv('C:\\\\Users\\\\Francesco\\\\Desktop\\\\NYCDSA\\\\Capstone file\\\\CitiBikeDataNYCzipped\\\\201504-citibike-tripdata.csv')\n",
    "df5d = pd.read_csv('C:\\\\Users\\\\Francesco\\\\Desktop\\\\NYCDSA\\\\Capstone file\\\\CitiBikeDataNYCzipped\\\\201505-citibike-tripdata.csv')\n",
    "df6d = pd.read_csv('C:\\\\Users\\\\Francesco\\\\Desktop\\\\NYCDSA\\\\Capstone file\\\\CitiBikeDataNYCzipped\\\\201506-citibike-tripdata.csv')\n",
    "df7d = pd.read_csv('C:\\\\Users\\\\Francesco\\\\Desktop\\\\NYCDSA\\\\Capstone file\\\\CitiBikeDataNYCzipped\\\\201507-citibike-tripdata.csv')\n",
    "df8d = pd.read_csv('C:\\\\Users\\\\Francesco\\\\Desktop\\\\NYCDSA\\\\Capstone file\\\\CitiBikeDataNYCzipped\\\\201508-citibike-tripdata.csv')\n",
    "df9d = pd.read_csv('C:\\\\Users\\\\Francesco\\\\Desktop\\\\NYCDSA\\\\Capstone file\\\\CitiBikeDataNYCzipped\\\\201509-citibike-tripdata.csv')\n",
    "df10d = pd.read_csv('C:\\\\Users\\\\Francesco\\\\Desktop\\\\NYCDSA\\\\Capstone file\\\\CitiBikeDataNYCzipped\\\\201510-citibike-tripdata.csv')\n",
    "df11d = pd.read_csv('C:\\\\Users\\\\Francesco\\\\Desktop\\\\NYCDSA\\\\Capstone file\\\\CitiBikeDataNYCzipped\\\\201511-citibike-tripdata.csv')\n",
    "df12d = pd.read_csv('C:\\\\Users\\\\Francesco\\\\Desktop\\\\NYCDSA\\\\Capstone file\\\\CitiBikeDataNYCzipped\\\\201512-citibike-tripdata.csv')"
   ]
  },
  {
   "cell_type": "code",
   "execution_count": 4,
   "id": "a5841748",
   "metadata": {},
   "outputs": [
    {
     "name": "stdout",
     "output_type": "stream",
     "text": [
      "(285552, 15)\n",
      "(196930, 15)\n",
      "(341826, 15)\n",
      "(652390, 15)\n",
      "(961986, 15)\n",
      "(941219, 15)\n",
      "(1085676, 15)\n",
      "(1179044, 15)\n",
      "(1289699, 15)\n",
      "(1212277, 15)\n",
      "(987245, 15)\n",
      "(804125, 15)\n"
     ]
    }
   ],
   "source": [
    "print(df1d.shape)\n",
    "print(df2d.shape)\n",
    "print(df3d.shape)\n",
    "print(df4d.shape)\n",
    "print(df5d.shape)\n",
    "print(df6d.shape)\n",
    "print(df7d.shape)\n",
    "print(df8d.shape)\n",
    "print(df9d.shape)\n",
    "print(df10d.shape)\n",
    "print(df11d.shape)\n",
    "print(df12d.shape)"
   ]
  },
  {
   "cell_type": "code",
   "execution_count": 5,
   "id": "67fa47b2",
   "metadata": {},
   "outputs": [
    {
     "name": "stdout",
     "output_type": "stream",
     "text": [
      "Index(['tripduration', 'starttime', 'stoptime', 'start station id',\n",
      "       'start station name', 'start station latitude',\n",
      "       'start station longitude', 'end station id', 'end station name',\n",
      "       'end station latitude', 'end station longitude', 'bikeid', 'usertype',\n",
      "       'birth year', 'gender'],\n",
      "      dtype='object')\n",
      "Index(['tripduration', 'starttime', 'stoptime', 'start station id',\n",
      "       'start station name', 'start station latitude',\n",
      "       'start station longitude', 'end station id', 'end station name',\n",
      "       'end station latitude', 'end station longitude', 'bikeid', 'usertype',\n",
      "       'birth year', 'gender'],\n",
      "      dtype='object')\n",
      "Index(['tripduration', 'starttime', 'stoptime', 'start station id',\n",
      "       'start station name', 'start station latitude',\n",
      "       'start station longitude', 'end station id', 'end station name',\n",
      "       'end station latitude', 'end station longitude', 'bikeid', 'usertype',\n",
      "       'birth year', 'gender'],\n",
      "      dtype='object')\n",
      "Index(['tripduration', 'starttime', 'stoptime', 'start station id',\n",
      "       'start station name', 'start station latitude',\n",
      "       'start station longitude', 'end station id', 'end station name',\n",
      "       'end station latitude', 'end station longitude', 'bikeid', 'usertype',\n",
      "       'birth year', 'gender'],\n",
      "      dtype='object')\n",
      "Index(['tripduration', 'starttime', 'stoptime', 'start station id',\n",
      "       'start station name', 'start station latitude',\n",
      "       'start station longitude', 'end station id', 'end station name',\n",
      "       'end station latitude', 'end station longitude', 'bikeid', 'usertype',\n",
      "       'birth year', 'gender'],\n",
      "      dtype='object')\n",
      "Index(['tripduration', 'starttime', 'stoptime', 'start station id',\n",
      "       'start station name', 'start station latitude',\n",
      "       'start station longitude', 'end station id', 'end station name',\n",
      "       'end station latitude', 'end station longitude', 'bikeid', 'usertype',\n",
      "       'birth year', 'gender'],\n",
      "      dtype='object')\n",
      "Index(['tripduration', 'starttime', 'stoptime', 'start station id',\n",
      "       'start station name', 'start station latitude',\n",
      "       'start station longitude', 'end station id', 'end station name',\n",
      "       'end station latitude', 'end station longitude', 'bikeid', 'usertype',\n",
      "       'birth year', 'gender'],\n",
      "      dtype='object')\n",
      "Index(['tripduration', 'starttime', 'stoptime', 'start station id',\n",
      "       'start station name', 'start station latitude',\n",
      "       'start station longitude', 'end station id', 'end station name',\n",
      "       'end station latitude', 'end station longitude', 'bikeid', 'usertype',\n",
      "       'birth year', 'gender'],\n",
      "      dtype='object')\n",
      "Index(['tripduration', 'starttime', 'stoptime', 'start station id',\n",
      "       'start station name', 'start station latitude',\n",
      "       'start station longitude', 'end station id', 'end station name',\n",
      "       'end station latitude', 'end station longitude', 'bikeid', 'usertype',\n",
      "       'birth year', 'gender'],\n",
      "      dtype='object')\n",
      "Index(['tripduration', 'starttime', 'stoptime', 'start station id',\n",
      "       'start station name', 'start station latitude',\n",
      "       'start station longitude', 'end station id', 'end station name',\n",
      "       'end station latitude', 'end station longitude', 'bikeid', 'usertype',\n",
      "       'birth year', 'gender'],\n",
      "      dtype='object')\n",
      "Index(['tripduration', 'starttime', 'stoptime', 'start station id',\n",
      "       'start station name', 'start station latitude',\n",
      "       'start station longitude', 'end station id', 'end station name',\n",
      "       'end station latitude', 'end station longitude', 'bikeid', 'usertype',\n",
      "       'birth year', 'gender'],\n",
      "      dtype='object')\n",
      "Index(['tripduration', 'starttime', 'stoptime', 'start station id',\n",
      "       'start station name', 'start station latitude',\n",
      "       'start station longitude', 'end station id', 'end station name',\n",
      "       'end station latitude', 'end station longitude', 'bikeid', 'usertype',\n",
      "       'birth year', 'gender'],\n",
      "      dtype='object')\n"
     ]
    }
   ],
   "source": [
    "print(df1d.columns)\n",
    "print(df2d.columns)\n",
    "print(df3d.columns)\n",
    "print(df4d.columns)\n",
    "print(df5d.columns)\n",
    "print(df6d.columns)\n",
    "print(df7d.columns)\n",
    "print(df8d.columns)\n",
    "print(df9d.columns)\n",
    "print(df10d.columns)\n",
    "print(df11d.columns)\n",
    "print(df12d.columns)"
   ]
  },
  {
   "cell_type": "code",
   "execution_count": 7,
   "id": "dcb288d0",
   "metadata": {},
   "outputs": [],
   "source": [
    "# exploring 2014\n",
    "df1e = pd.read_csv(\"C:\\\\Users\\\\Francesco\\\\Desktop\\\\NYCDSA\\\\Capstone file\\\\CitiBikeDataNYCzipped\\\\2014-01 - Citi Bike trip data.csv\")\n",
    "df2e = pd.read_csv(\"C:\\\\Users\\\\Francesco\\\\Desktop\\\\NYCDSA\\\\Capstone file\\\\CitiBikeDataNYCzipped\\\\2014-02 - Citi Bike trip data.csv\")\n",
    "df3e = pd.read_csv(\"C:\\\\Users\\\\Francesco\\\\Desktop\\\\NYCDSA\\\\Capstone file\\\\CitiBikeDataNYCzipped\\\\2014-03 - Citi Bike trip data.csv\")\n",
    "df4e = pd.read_csv(\"C:\\\\Users\\\\Francesco\\\\Desktop\\\\NYCDSA\\\\Capstone file\\\\CitiBikeDataNYCzipped\\\\2014-04 - Citi Bike trip data.csv\")\n",
    "df5e = pd.read_csv(\"C:\\\\Users\\\\Francesco\\\\Desktop\\\\NYCDSA\\\\Capstone file\\\\CitiBikeDataNYCzipped\\\\2014-05 - Citi Bike trip data.csv\")\n",
    "df6e = pd.read_csv(\"C:\\\\Users\\\\Francesco\\\\Desktop\\\\NYCDSA\\\\Capstone file\\\\CitiBikeDataNYCzipped\\\\2014-06 - Citi Bike trip data.csv\")\n",
    "df7e = pd.read_csv(\"C:\\\\Users\\\\Francesco\\\\Desktop\\\\NYCDSA\\\\Capstone file\\\\CitiBikeDataNYCzipped\\\\2014-07 - Citi Bike trip data.csv\")\n",
    "df8e = pd.read_csv(\"C:\\\\Users\\\\Francesco\\\\Desktop\\\\NYCDSA\\\\Capstone file\\\\CitiBikeDataNYCzipped\\\\2014-08 - Citi Bike trip data.csv\")\n",
    "df9e = pd.read_csv('C:\\\\Users\\\\Francesco\\\\Desktop\\\\NYCDSA\\\\Capstone file\\\\CitiBikeDataNYCzipped\\\\201409-citibike-tripdata.csv')\n",
    "df10e = pd.read_csv('C:\\\\Users\\\\Francesco\\\\Desktop\\\\NYCDSA\\\\Capstone file\\\\CitiBikeDataNYCzipped\\\\201410-citibike-tripdata.csv')\n",
    "df11e = pd.read_csv('C:\\\\Users\\\\Francesco\\\\Desktop\\\\NYCDSA\\\\Capstone file\\\\CitiBikeDataNYCzipped\\\\201411-citibike-tripdata.csv')\n",
    "df12e = pd.read_csv('C:\\\\Users\\\\Francesco\\\\Desktop\\\\NYCDSA\\\\Capstone file\\\\CitiBikeDataNYCzipped\\\\201412-citibike-tripdata.csv')"
   ]
  },
  {
   "cell_type": "code",
   "execution_count": 9,
   "id": "e6c5a53d",
   "metadata": {},
   "outputs": [
    {
     "name": "stdout",
     "output_type": "stream",
     "text": [
      "(300400, 15)\n",
      "(224736, 15)\n",
      "(439117, 15)\n",
      "(670780, 15)\n",
      "(866117, 15)\n",
      "(936880, 15)\n",
      "(968842, 15)\n",
      "(963489, 15)\n",
      "(953887, 15)\n",
      "(828711, 15)\n",
      "(529188, 15)\n",
      "(399069, 15)\n"
     ]
    }
   ],
   "source": [
    "print(df1e.shape)\n",
    "print(df2e.shape)\n",
    "print(df3e.shape)\n",
    "print(df4e.shape)\n",
    "print(df5e.shape)\n",
    "print(df6e.shape)\n",
    "print(df7e.shape)\n",
    "print(df8e.shape)\n",
    "print(df9e.shape)\n",
    "print(df10e.shape)\n",
    "print(df11e.shape)\n",
    "print(df12e.shape)"
   ]
  },
  {
   "cell_type": "code",
   "execution_count": 10,
   "id": "c80f6ae0",
   "metadata": {},
   "outputs": [
    {
     "name": "stdout",
     "output_type": "stream",
     "text": [
      "Index(['tripduration', 'starttime', 'stoptime', 'start station id',\n",
      "       'start station name', 'start station latitude',\n",
      "       'start station longitude', 'end station id', 'end station name',\n",
      "       'end station latitude', 'end station longitude', 'bikeid', 'usertype',\n",
      "       'birth year', 'gender'],\n",
      "      dtype='object')\n",
      "Index(['tripduration', 'starttime', 'stoptime', 'start station id',\n",
      "       'start station name', 'start station latitude',\n",
      "       'start station longitude', 'end station id', 'end station name',\n",
      "       'end station latitude', 'end station longitude', 'bikeid', 'usertype',\n",
      "       'birth year', 'gender'],\n",
      "      dtype='object')\n",
      "Index(['tripduration', 'starttime', 'stoptime', 'start station id',\n",
      "       'start station name', 'start station latitude',\n",
      "       'start station longitude', 'end station id', 'end station name',\n",
      "       'end station latitude', 'end station longitude', 'bikeid', 'usertype',\n",
      "       'birth year', 'gender'],\n",
      "      dtype='object')\n",
      "Index(['tripduration', 'starttime', 'stoptime', 'start station id',\n",
      "       'start station name', 'start station latitude',\n",
      "       'start station longitude', 'end station id', 'end station name',\n",
      "       'end station latitude', 'end station longitude', 'bikeid', 'usertype',\n",
      "       'birth year', 'gender'],\n",
      "      dtype='object')\n",
      "Index(['tripduration', 'starttime', 'stoptime', 'start station id',\n",
      "       'start station name', 'start station latitude',\n",
      "       'start station longitude', 'end station id', 'end station name',\n",
      "       'end station latitude', 'end station longitude', 'bikeid', 'usertype',\n",
      "       'birth year', 'gender'],\n",
      "      dtype='object')\n",
      "Index(['tripduration', 'starttime', 'stoptime', 'start station id',\n",
      "       'start station name', 'start station latitude',\n",
      "       'start station longitude', 'end station id', 'end station name',\n",
      "       'end station latitude', 'end station longitude', 'bikeid', 'usertype',\n",
      "       'birth year', 'gender'],\n",
      "      dtype='object')\n",
      "Index(['tripduration', 'starttime', 'stoptime', 'start station id',\n",
      "       'start station name', 'start station latitude',\n",
      "       'start station longitude', 'end station id', 'end station name',\n",
      "       'end station latitude', 'end station longitude', 'bikeid', 'usertype',\n",
      "       'birth year', 'gender'],\n",
      "      dtype='object')\n",
      "Index(['tripduration', 'starttime', 'stoptime', 'start station id',\n",
      "       'start station name', 'start station latitude',\n",
      "       'start station longitude', 'end station id', 'end station name',\n",
      "       'end station latitude', 'end station longitude', 'bikeid', 'usertype',\n",
      "       'birth year', 'gender'],\n",
      "      dtype='object')\n",
      "Index(['tripduration', 'starttime', 'stoptime', 'start station id',\n",
      "       'start station name', 'start station latitude',\n",
      "       'start station longitude', 'end station id', 'end station name',\n",
      "       'end station latitude', 'end station longitude', 'bikeid', 'usertype',\n",
      "       'birth year', 'gender'],\n",
      "      dtype='object')\n",
      "Index(['tripduration', 'starttime', 'stoptime', 'start station id',\n",
      "       'start station name', 'start station latitude',\n",
      "       'start station longitude', 'end station id', 'end station name',\n",
      "       'end station latitude', 'end station longitude', 'bikeid', 'usertype',\n",
      "       'birth year', 'gender'],\n",
      "      dtype='object')\n",
      "Index(['tripduration', 'starttime', 'stoptime', 'start station id',\n",
      "       'start station name', 'start station latitude',\n",
      "       'start station longitude', 'end station id', 'end station name',\n",
      "       'end station latitude', 'end station longitude', 'bikeid', 'usertype',\n",
      "       'birth year', 'gender'],\n",
      "      dtype='object')\n",
      "Index(['tripduration', 'starttime', 'stoptime', 'start station id',\n",
      "       'start station name', 'start station latitude',\n",
      "       'start station longitude', 'end station id', 'end station name',\n",
      "       'end station latitude', 'end station longitude', 'bikeid', 'usertype',\n",
      "       'birth year', 'gender'],\n",
      "      dtype='object')\n"
     ]
    }
   ],
   "source": [
    "print(df1e.columns)\n",
    "print(df2e.columns)\n",
    "print(df3e.columns)\n",
    "print(df4e.columns)\n",
    "print(df5e.columns)\n",
    "print(df6e.columns)\n",
    "print(df7e.columns)\n",
    "print(df8e.columns)\n",
    "print(df9e.columns)\n",
    "print(df10e.columns)\n",
    "print(df11e.columns)\n",
    "print(df12e.columns)"
   ]
  },
  {
   "cell_type": "code",
   "execution_count": 41,
   "id": "1ee180b1",
   "metadata": {},
   "outputs": [
    {
     "data": {
      "text/html": [
       "<div>\n",
       "<style scoped>\n",
       "    .dataframe tbody tr th:only-of-type {\n",
       "        vertical-align: middle;\n",
       "    }\n",
       "\n",
       "    .dataframe tbody tr th {\n",
       "        vertical-align: top;\n",
       "    }\n",
       "\n",
       "    .dataframe thead th {\n",
       "        text-align: right;\n",
       "    }\n",
       "</style>\n",
       "<table border=\"1\" class=\"dataframe\">\n",
       "  <thead>\n",
       "    <tr style=\"text-align: right;\">\n",
       "      <th></th>\n",
       "      <th>tripduration</th>\n",
       "      <th>starttime</th>\n",
       "      <th>stoptime</th>\n",
       "      <th>start station id</th>\n",
       "      <th>start station name</th>\n",
       "      <th>start station latitude</th>\n",
       "      <th>start station longitude</th>\n",
       "      <th>end station id</th>\n",
       "      <th>end station name</th>\n",
       "      <th>end station latitude</th>\n",
       "      <th>end station longitude</th>\n",
       "      <th>bikeid</th>\n",
       "      <th>usertype</th>\n",
       "      <th>birth year</th>\n",
       "      <th>gender</th>\n",
       "    </tr>\n",
       "  </thead>\n",
       "  <tbody>\n",
       "    <tr>\n",
       "      <th>0</th>\n",
       "      <td>471</td>\n",
       "      <td>2014-01-01 00:00:06</td>\n",
       "      <td>2014-01-01 00:07:57</td>\n",
       "      <td>2009</td>\n",
       "      <td>Catherine St &amp; Monroe St</td>\n",
       "      <td>40.711174</td>\n",
       "      <td>-73.996826</td>\n",
       "      <td>263</td>\n",
       "      <td>Elizabeth St &amp; Hester St</td>\n",
       "      <td>40.717290</td>\n",
       "      <td>-73.996375</td>\n",
       "      <td>16379</td>\n",
       "      <td>Subscriber</td>\n",
       "      <td>1986</td>\n",
       "      <td>1</td>\n",
       "    </tr>\n",
       "    <tr>\n",
       "      <th>1</th>\n",
       "      <td>1494</td>\n",
       "      <td>2014-01-01 00:00:38</td>\n",
       "      <td>2014-01-01 00:25:32</td>\n",
       "      <td>536</td>\n",
       "      <td>1 Ave &amp; E 30 St</td>\n",
       "      <td>40.741444</td>\n",
       "      <td>-73.975361</td>\n",
       "      <td>259</td>\n",
       "      <td>South St &amp; Whitehall St</td>\n",
       "      <td>40.701221</td>\n",
       "      <td>-74.012342</td>\n",
       "      <td>15611</td>\n",
       "      <td>Subscriber</td>\n",
       "      <td>1963</td>\n",
       "      <td>1</td>\n",
       "    </tr>\n",
       "    <tr>\n",
       "      <th>2</th>\n",
       "      <td>464</td>\n",
       "      <td>2014-01-01 00:03:59</td>\n",
       "      <td>2014-01-01 00:11:43</td>\n",
       "      <td>228</td>\n",
       "      <td>E 48 St &amp; 3 Ave</td>\n",
       "      <td>40.754601</td>\n",
       "      <td>-73.971879</td>\n",
       "      <td>2022</td>\n",
       "      <td>E 59 St &amp; Sutton Pl</td>\n",
       "      <td>40.758491</td>\n",
       "      <td>-73.959206</td>\n",
       "      <td>16613</td>\n",
       "      <td>Subscriber</td>\n",
       "      <td>1991</td>\n",
       "      <td>1</td>\n",
       "    </tr>\n",
       "    <tr>\n",
       "      <th>3</th>\n",
       "      <td>373</td>\n",
       "      <td>2014-01-01 00:05:15</td>\n",
       "      <td>2014-01-01 00:11:28</td>\n",
       "      <td>519</td>\n",
       "      <td>Pershing Square N</td>\n",
       "      <td>40.751884</td>\n",
       "      <td>-73.977702</td>\n",
       "      <td>526</td>\n",
       "      <td>E 33 St &amp; 5 Ave</td>\n",
       "      <td>40.747659</td>\n",
       "      <td>-73.984907</td>\n",
       "      <td>15938</td>\n",
       "      <td>Subscriber</td>\n",
       "      <td>1989</td>\n",
       "      <td>1</td>\n",
       "    </tr>\n",
       "    <tr>\n",
       "      <th>4</th>\n",
       "      <td>660</td>\n",
       "      <td>2014-01-01 00:05:18</td>\n",
       "      <td>2014-01-01 00:16:18</td>\n",
       "      <td>83</td>\n",
       "      <td>Atlantic Ave &amp; Fort Greene Pl</td>\n",
       "      <td>40.683826</td>\n",
       "      <td>-73.976323</td>\n",
       "      <td>436</td>\n",
       "      <td>Hancock St &amp; Bedford Ave</td>\n",
       "      <td>40.682166</td>\n",
       "      <td>-73.953990</td>\n",
       "      <td>19830</td>\n",
       "      <td>Subscriber</td>\n",
       "      <td>1990</td>\n",
       "      <td>1</td>\n",
       "    </tr>\n",
       "  </tbody>\n",
       "</table>\n",
       "</div>"
      ],
      "text/plain": [
       "   tripduration            starttime             stoptime  start station id  \\\n",
       "0           471  2014-01-01 00:00:06  2014-01-01 00:07:57              2009   \n",
       "1          1494  2014-01-01 00:00:38  2014-01-01 00:25:32               536   \n",
       "2           464  2014-01-01 00:03:59  2014-01-01 00:11:43               228   \n",
       "3           373  2014-01-01 00:05:15  2014-01-01 00:11:28               519   \n",
       "4           660  2014-01-01 00:05:18  2014-01-01 00:16:18                83   \n",
       "\n",
       "              start station name  start station latitude  \\\n",
       "0       Catherine St & Monroe St               40.711174   \n",
       "1                1 Ave & E 30 St               40.741444   \n",
       "2                E 48 St & 3 Ave               40.754601   \n",
       "3              Pershing Square N               40.751884   \n",
       "4  Atlantic Ave & Fort Greene Pl               40.683826   \n",
       "\n",
       "   start station longitude  end station id          end station name  \\\n",
       "0               -73.996826             263  Elizabeth St & Hester St   \n",
       "1               -73.975361             259   South St & Whitehall St   \n",
       "2               -73.971879            2022       E 59 St & Sutton Pl   \n",
       "3               -73.977702             526           E 33 St & 5 Ave   \n",
       "4               -73.976323             436  Hancock St & Bedford Ave   \n",
       "\n",
       "   end station latitude  end station longitude  bikeid    usertype birth year  \\\n",
       "0             40.717290             -73.996375   16379  Subscriber       1986   \n",
       "1             40.701221             -74.012342   15611  Subscriber       1963   \n",
       "2             40.758491             -73.959206   16613  Subscriber       1991   \n",
       "3             40.747659             -73.984907   15938  Subscriber       1989   \n",
       "4             40.682166             -73.953990   19830  Subscriber       1990   \n",
       "\n",
       "   gender  \n",
       "0       1  \n",
       "1       1  \n",
       "2       1  \n",
       "3       1  \n",
       "4       1  "
      ]
     },
     "execution_count": 41,
     "metadata": {},
     "output_type": "execute_result"
    }
   ],
   "source": [
    "df1e.head()"
   ]
  },
  {
   "cell_type": "code",
   "execution_count": 12,
   "id": "c646b74d",
   "metadata": {},
   "outputs": [],
   "source": [
    "# exploring 2013\n",
    "df6f = pd.read_csv(\"C:\\\\Users\\\\Francesco\\\\Desktop\\\\NYCDSA\\\\Capstone file\\\\CitiBikeDataNYCzipped\\\\201306-citibike-tripdata.csv\")\n",
    "df7f = pd.read_csv(\"C:\\\\Users\\\\Francesco\\\\Desktop\\\\NYCDSA\\\\Capstone file\\\\CitiBikeDataNYCzipped\\\\2013-07 - Citi Bike trip data.csv\")\n",
    "df8f = pd.read_csv(\"C:\\\\Users\\\\Francesco\\\\Desktop\\\\NYCDSA\\\\Capstone file\\\\CitiBikeDataNYCzipped\\\\2013-08 - Citi Bike trip data.csv\")\n",
    "df9f = pd.read_csv(\"C:\\\\Users\\\\Francesco\\\\Desktop\\\\NYCDSA\\\\Capstone file\\\\CitiBikeDataNYCzipped\\\\2013-09 - Citi Bike trip data.csv\")\n",
    "df10f = pd.read_csv(\"C:\\\\Users\\\\Francesco\\\\Desktop\\\\NYCDSA\\\\Capstone file\\\\CitiBikeDataNYCzipped\\\\2013-10 - Citi Bike trip data.csv\")\n",
    "df11f = pd.read_csv(\"C:\\\\Users\\\\Francesco\\\\Desktop\\\\NYCDSA\\\\Capstone file\\\\CitiBikeDataNYCzipped\\\\2013-11 - Citi Bike trip data.csv\")\n",
    "df12f = pd.read_csv(\"C:\\\\Users\\\\Francesco\\\\Desktop\\\\NYCDSA\\\\Capstone file\\\\CitiBikeDataNYCzipped\\\\2013-12 - Citi Bike trip data.csv\")"
   ]
  },
  {
   "cell_type": "code",
   "execution_count": 13,
   "id": "62099fa3",
   "metadata": {},
   "outputs": [
    {
     "name": "stdout",
     "output_type": "stream",
     "text": [
      "(577703, 15)\n",
      "(843416, 15)\n",
      "(1001958, 15)\n",
      "(1034359, 15)\n",
      "(1037712, 15)\n",
      "(675774, 15)\n",
      "(443966, 15)\n"
     ]
    }
   ],
   "source": [
    "print(df6f.shape)\n",
    "print(df7f.shape)\n",
    "print(df8f.shape)\n",
    "print(df9f.shape)\n",
    "print(df10f.shape)\n",
    "print(df11f.shape)\n",
    "print(df12f.shape)"
   ]
  },
  {
   "cell_type": "code",
   "execution_count": 14,
   "id": "c148796a",
   "metadata": {},
   "outputs": [
    {
     "name": "stdout",
     "output_type": "stream",
     "text": [
      "Index(['tripduration', 'starttime', 'stoptime', 'start station id',\n",
      "       'start station name', 'start station latitude',\n",
      "       'start station longitude', 'end station id', 'end station name',\n",
      "       'end station latitude', 'end station longitude', 'bikeid', 'usertype',\n",
      "       'birth year', 'gender'],\n",
      "      dtype='object')\n",
      "Index(['tripduration', 'starttime', 'stoptime', 'start station id',\n",
      "       'start station name', 'start station latitude',\n",
      "       'start station longitude', 'end station id', 'end station name',\n",
      "       'end station latitude', 'end station longitude', 'bikeid', 'usertype',\n",
      "       'birth year', 'gender'],\n",
      "      dtype='object')\n",
      "Index(['tripduration', 'starttime', 'stoptime', 'start station id',\n",
      "       'start station name', 'start station latitude',\n",
      "       'start station longitude', 'end station id', 'end station name',\n",
      "       'end station latitude', 'end station longitude', 'bikeid', 'usertype',\n",
      "       'birth year', 'gender'],\n",
      "      dtype='object')\n",
      "Index(['tripduration', 'starttime', 'stoptime', 'start station id',\n",
      "       'start station name', 'start station latitude',\n",
      "       'start station longitude', 'end station id', 'end station name',\n",
      "       'end station latitude', 'end station longitude', 'bikeid', 'usertype',\n",
      "       'birth year', 'gender'],\n",
      "      dtype='object')\n",
      "Index(['tripduration', 'starttime', 'stoptime', 'start station id',\n",
      "       'start station name', 'start station latitude',\n",
      "       'start station longitude', 'end station id', 'end station name',\n",
      "       'end station latitude', 'end station longitude', 'bikeid', 'usertype',\n",
      "       'birth year', 'gender'],\n",
      "      dtype='object')\n",
      "Index(['tripduration', 'starttime', 'stoptime', 'start station id',\n",
      "       'start station name', 'start station latitude',\n",
      "       'start station longitude', 'end station id', 'end station name',\n",
      "       'end station latitude', 'end station longitude', 'bikeid', 'usertype',\n",
      "       'birth year', 'gender'],\n",
      "      dtype='object')\n",
      "Index(['tripduration', 'starttime', 'stoptime', 'start station id',\n",
      "       'start station name', 'start station latitude',\n",
      "       'start station longitude', 'end station id', 'end station name',\n",
      "       'end station latitude', 'end station longitude', 'bikeid', 'usertype',\n",
      "       'birth year', 'gender'],\n",
      "      dtype='object')\n"
     ]
    }
   ],
   "source": [
    "print(df6f.columns)\n",
    "print(df7f.columns)\n",
    "print(df8f.columns)\n",
    "print(df9f.columns)\n",
    "print(df10f.columns)\n",
    "print(df11f.columns)\n",
    "print(df12f.columns)"
   ]
  },
  {
   "cell_type": "code",
   "execution_count": 40,
   "id": "cc1d38a5",
   "metadata": {},
   "outputs": [
    {
     "name": "stdout",
     "output_type": "stream",
     "text": [
      "(4881, 13)\n",
      "Index(['ride_id', 'rideable_type', 'started_at', 'ended_at',\n",
      "       'start_station_name', 'start_station_id', 'end_station_name',\n",
      "       'end_station_id', 'start_lat', 'start_lng', 'end_lat', 'end_lng',\n",
      "       'member_casual'],\n",
      "      dtype='object')\n"
     ]
    }
   ],
   "source": [
    "# checking if there are the same changes in Jersey\n",
    "dfj1 = pd.read_csv(\"C:\\\\Users\\\\Francesco\\\\Desktop\\\\NYCDSA\\\\Capstone file\\\\CitiBikeDataJCzipped\\\\JC-202102-citibike-tripdata.csv\")\n",
    "print(dfj1.shape)\n",
    "print(dfj1.columns)"
   ]
  },
  {
   "cell_type": "code",
   "execution_count": 17,
   "id": "46c310aa",
   "metadata": {},
   "outputs": [
    {
     "name": "stdout",
     "output_type": "stream",
     "text": [
      "(33425, 15)\n",
      "Index(['Trip Duration', 'Start Time', 'Stop Time', 'Start Station ID',\n",
      "       'Start Station Name', 'Start Station Latitude',\n",
      "       'Start Station Longitude', 'End Station ID', 'End Station Name',\n",
      "       'End Station Latitude', 'End Station Longitude', 'Bike ID', 'User Type',\n",
      "       'Birth Year', 'Gender'],\n",
      "      dtype='object')\n"
     ]
    }
   ],
   "source": [
    "dfj2 = pd.read_csv(\"C:\\\\Users\\\\Francesco\\\\Desktop\\\\NYCDSA\\\\Capstone file\\\\CitiBikeDataJCzipped\\\\JC-201609-citibike-tripdata.csv\")\n",
    "print(dfj2.shape)\n",
    "print(dfj2.columns)"
   ]
  },
  {
   "cell_type": "code",
   "execution_count": 18,
   "id": "f8b28a0d",
   "metadata": {},
   "outputs": [
    {
     "name": "stdout",
     "output_type": "stream",
     "text": [
      "(29611, 15)\n",
      "Index(['Trip Duration', 'Start Time', 'Stop Time', 'Start Station ID',\n",
      "       'Start Station Name', 'Start Station Latitude',\n",
      "       'Start Station Longitude', 'End Station ID', 'End Station Name',\n",
      "       'End Station Latitude', 'End Station Longitude', 'Bike ID', 'User Type',\n",
      "       'Birth Year', 'Gender'],\n",
      "      dtype='object')\n"
     ]
    }
   ],
   "source": [
    "dfj3 = pd.read_csv(\"C:\\\\Users\\\\Francesco\\\\Desktop\\\\NYCDSA\\\\Capstone file\\\\CitiBikeDataJCzipped\\\\JC-201610-citibike-tripdata.csv\")\n",
    "print(dfj3.shape)\n",
    "print(dfj3.columns)"
   ]
  },
  {
   "cell_type": "code",
   "execution_count": 20,
   "id": "7ffa3d68",
   "metadata": {},
   "outputs": [
    {
     "name": "stdout",
     "output_type": "stream",
     "text": [
      "(15114, 15)\n",
      "Index(['Trip Duration', 'Start Time', 'Stop Time', 'Start Station ID',\n",
      "       'Start Station Name', 'Start Station Latitude',\n",
      "       'Start Station Longitude', 'End Station ID', 'End Station Name',\n",
      "       'End Station Latitude', 'End Station Longitude', 'Bike ID', 'User Type',\n",
      "       'Birth Year', 'Gender'],\n",
      "      dtype='object')\n"
     ]
    }
   ],
   "source": [
    "dfj4 = pd.read_csv(\"C:\\\\Users\\\\Francesco\\\\Desktop\\\\NYCDSA\\\\Capstone file\\\\CitiBikeDataJCzipped\\\\JC-201612-citibike-tripdata.csv\")\n",
    "print(dfj4.shape)\n",
    "print(dfj4.columns)"
   ]
  },
  {
   "cell_type": "code",
   "execution_count": 71,
   "id": "cec8b0cc",
   "metadata": {},
   "outputs": [
    {
     "name": "stderr",
     "output_type": "stream",
     "text": [
      "C:\\Users\\FRANCE~1\\AppData\\Local\\Temp/ipykernel_10172/911107671.py:1: DtypeWarning: Columns (5,7) have mixed types. Specify dtype option on import or set low_memory=False.\n",
      "  df = pd.read_csv(\"C:\\\\Users\\\\Francesco\\\\Desktop\\\\NYCDSA\\\\Capstone file\\\\CitiBikeDataNYCzipped\\\\202103-citibike-tripdata.csv\")\n"
     ]
    }
   ],
   "source": [
    "df = pd.read_csv(\"C:\\\\Users\\\\Francesco\\\\Desktop\\\\NYCDSA\\\\Capstone file\\\\CitiBikeDataNYCzipped\\\\202103-citibike-tripdata.csv\")"
   ]
  },
  {
   "cell_type": "code",
   "execution_count": 73,
   "id": "4a36f74a",
   "metadata": {},
   "outputs": [
    {
     "data": {
      "text/plain": [
       "Index(['ride_id', 'rideable_type', 'started_at', 'ended_at',\n",
       "       'start_station_name', 'start_station_id', 'end_station_name',\n",
       "       'end_station_id', 'start_lat', 'start_lng', 'end_lat', 'end_lng',\n",
       "       'member_casual'],\n",
       "      dtype='object')"
      ]
     },
     "execution_count": 73,
     "metadata": {},
     "output_type": "execute_result"
    }
   ],
   "source": [
    "df.columns"
   ]
  },
  {
   "cell_type": "code",
   "execution_count": 72,
   "id": "79fc4e48",
   "metadata": {},
   "outputs": [
    {
     "data": {
      "text/plain": [
       "docked_bike    1531094\n",
       "Name: rideable_type, dtype: int64"
      ]
     },
     "execution_count": 72,
     "metadata": {},
     "output_type": "execute_result"
    }
   ],
   "source": [
    "df.rideable_type.value_counts()"
   ]
  },
  {
   "cell_type": "code",
   "execution_count": 108,
   "id": "983b040d",
   "metadata": {},
   "outputs": [],
   "source": [
    "df1 = pd.read_csv(\"C:\\\\Users\\\\Francesco\\\\Desktop\\\\NYCDSA\\\\Capstone file\\\\CitiBikeDataNYCzipped\\\\201609-citibike-tripdata.csv\")\n",
    "df2 = pd.read_csv(\"C:\\\\Users\\\\Francesco\\\\Desktop\\\\NYCDSA\\\\Capstone file\\\\CitiBikeDataNYCzipped\\\\201610-citibike-tripdata.csv\")"
   ]
  },
  {
   "cell_type": "code",
   "execution_count": 109,
   "id": "da7abbc4",
   "metadata": {},
   "outputs": [
    {
     "name": "stdout",
     "output_type": "stream",
     "text": [
      "Index(['tripduration', 'starttime', 'stoptime', 'start station id',\n",
      "       'start station name', 'start station latitude',\n",
      "       'start station longitude', 'end station id', 'end station name',\n",
      "       'end station latitude', 'end station longitude', 'bikeid', 'usertype',\n",
      "       'birth year', 'gender'],\n",
      "      dtype='object')\n",
      "Index(['Trip Duration', 'Start Time', 'Stop Time', 'Start Station ID',\n",
      "       'Start Station Name', 'Start Station Latitude',\n",
      "       'Start Station Longitude', 'End Station ID', 'End Station Name',\n",
      "       'End Station Latitude', 'End Station Longitude', 'Bike ID', 'User Type',\n",
      "       'Birth Year', 'Gender'],\n",
      "      dtype='object')\n"
     ]
    }
   ],
   "source": [
    "print(df1.columns)\n",
    "print(df2.columns)"
   ]
  },
  {
   "cell_type": "code",
   "execution_count": 110,
   "id": "6f9fcabb",
   "metadata": {},
   "outputs": [],
   "source": [
    "def Col_rename(df):\n",
    "    for i in list(df.columns):\n",
    "        if i in ['starttime','started_at','Start Time']:\n",
    "            df.rename({i:'start_time'}, axis=1, inplace = True)\n",
    "        if i in ['member_casual','User Type','usertype']:\n",
    "            df.rename({i: 'user_type'}, axis =1, inplace = True)\n",
    "        if i in ['tripduration' , 'Trip Duration']:\n",
    "            df.rename({i: 'duration'}, axis =1, inplace = True)\n",
    "        if i in ['stoptime'  , 'Stop Time'  ,'ended_at']:\n",
    "            df.rename({i: 'end_time'}, axis =1, inplace = True)\n",
    "        if i in ['start station id',  'Start Station ID' ]:\n",
    "            df.rename({i: 'start_station_id'}, axis =1, inplace = True)\n",
    "        if i in ['start station name' , 'Start Station Name' ]:\n",
    "            df.rename({i: 'start_station_name'}, axis =1, inplace = True)\n",
    "        if i in ['start station latitude' , 'Start Station Latitude' ]:\n",
    "            df.rename({i: 'start_lat'}, axis =1, inplace = True)\n",
    "        if i in ['start station longitude', 'Start Station Longitude' ]:\n",
    "            df.rename({i: 'start_lng'}, axis =1, inplace = True)\n",
    "        if i in ['end station id' , 'End Station ID' ]:\n",
    "            df.rename({i: 'end_station_id'}, axis =1, inplace = True)\n",
    "        if i in ['end station name' ,'End Station Name']:\n",
    "            df.rename({i: 'end_station_name'}, axis =1, inplace = True)\n",
    "        if i in ['end station latitude'  ,'End Station Latitude']:\n",
    "            df.rename({i: 'end_lat'}, axis =1, inplace = True)\n",
    "        if i in ['end station longitude', 'End Station Longitude']:\n",
    "            df.rename({i: 'end_lng'}, axis =1, inplace = True)"
   ]
  },
  {
   "cell_type": "code",
   "execution_count": 111,
   "id": "f4b08f33",
   "metadata": {},
   "outputs": [],
   "source": [
    "Col_rename(df2)"
   ]
  },
  {
   "cell_type": "code",
   "execution_count": 112,
   "id": "5f2e4b2c",
   "metadata": {},
   "outputs": [
    {
     "data": {
      "text/plain": [
       "Index(['duration', 'start_time', 'end_time', 'start_station_id',\n",
       "       'start_station_name', 'start_lat', 'start_lng', 'end_station_id',\n",
       "       'end_station_name', 'end_lat', 'end_lng', 'Bike ID', 'user_type',\n",
       "       'Birth Year', 'Gender'],\n",
       "      dtype='object')"
      ]
     },
     "execution_count": 112,
     "metadata": {},
     "output_type": "execute_result"
    }
   ],
   "source": [
    "df2.columns"
   ]
  },
  {
   "cell_type": "code",
   "execution_count": 134,
   "id": "232d0340",
   "metadata": {},
   "outputs": [
    {
     "data": {
      "text/plain": [
       "duration                     float64\n",
       "start_time            datetime64[ns]\n",
       "end_time              datetime64[ns]\n",
       "start_station_id               int64\n",
       "start_station_name            object\n",
       "start_lat                    float64\n",
       "start_lng                    float64\n",
       "end_station_id                 int64\n",
       "end_station_name              object\n",
       "end_lat                      float64\n",
       "end_lng                      float64\n",
       "Bike ID                        int64\n",
       "user_type                     object\n",
       "Birth Year                   float64\n",
       "Gender                         int64\n",
       "dtype: object"
      ]
     },
     "execution_count": 134,
     "metadata": {},
     "output_type": "execute_result"
    }
   ],
   "source": [
    "df2.dtypes"
   ]
  },
  {
   "cell_type": "code",
   "execution_count": 114,
   "id": "938c7e0e",
   "metadata": {},
   "outputs": [],
   "source": [
    "df[[\"start_time\", \"end_time\"]] = df[[\"start_time\", \"end_time\"]].apply(pd.to_datetime)\n",
    "df['duration'] = (df[\"end_time\"] - df[\"start_time\"]).astype('timedelta64[s]')"
   ]
  },
  {
   "cell_type": "code",
   "execution_count": 133,
   "id": "3c38d011",
   "metadata": {},
   "outputs": [],
   "source": [
    "df['duration'] = (df[\"end_time\"] - df[\"start_time\"]).astype('timedelta64[s]')"
   ]
  },
  {
   "cell_type": "code",
   "execution_count": 130,
   "id": "c775261e",
   "metadata": {},
   "outputs": [
    {
     "ename": "AttributeError",
     "evalue": "'Series' object has no attribute 'seconds'",
     "output_type": "error",
     "traceback": [
      "\u001b[1;31m---------------------------------------------------------------------------\u001b[0m",
      "\u001b[1;31mAttributeError\u001b[0m                            Traceback (most recent call last)",
      "\u001b[1;32mC:\\Users\\FRANCE~1\\AppData\\Local\\Temp/ipykernel_10172/3102604629.py\u001b[0m in \u001b[0;36m<module>\u001b[1;34m\u001b[0m\n\u001b[1;32m----> 1\u001b[1;33m \u001b[0mdf2\u001b[0m\u001b[1;33m[\u001b[0m\u001b[1;34m'duration'\u001b[0m\u001b[1;33m]\u001b[0m \u001b[1;33m=\u001b[0m \u001b[0mdf2\u001b[0m\u001b[1;33m[\u001b[0m\u001b[1;34m'duration'\u001b[0m\u001b[1;33m]\u001b[0m\u001b[1;33m.\u001b[0m\u001b[0mseconds\u001b[0m\u001b[1;33m\u001b[0m\u001b[1;33m\u001b[0m\u001b[0m\n\u001b[0m",
      "\u001b[1;32m~\\anaconda3\\lib\\site-packages\\pandas\\core\\generic.py\u001b[0m in \u001b[0;36m__getattr__\u001b[1;34m(self, name)\u001b[0m\n\u001b[0;32m   5581\u001b[0m         ):\n\u001b[0;32m   5582\u001b[0m             \u001b[1;32mreturn\u001b[0m \u001b[0mself\u001b[0m\u001b[1;33m[\u001b[0m\u001b[0mname\u001b[0m\u001b[1;33m]\u001b[0m\u001b[1;33m\u001b[0m\u001b[1;33m\u001b[0m\u001b[0m\n\u001b[1;32m-> 5583\u001b[1;33m         \u001b[1;32mreturn\u001b[0m \u001b[0mobject\u001b[0m\u001b[1;33m.\u001b[0m\u001b[0m__getattribute__\u001b[0m\u001b[1;33m(\u001b[0m\u001b[0mself\u001b[0m\u001b[1;33m,\u001b[0m \u001b[0mname\u001b[0m\u001b[1;33m)\u001b[0m\u001b[1;33m\u001b[0m\u001b[1;33m\u001b[0m\u001b[0m\n\u001b[0m\u001b[0;32m   5584\u001b[0m \u001b[1;33m\u001b[0m\u001b[0m\n\u001b[0;32m   5585\u001b[0m     \u001b[1;32mdef\u001b[0m \u001b[0m__setattr__\u001b[0m\u001b[1;33m(\u001b[0m\u001b[0mself\u001b[0m\u001b[1;33m,\u001b[0m \u001b[0mname\u001b[0m\u001b[1;33m:\u001b[0m \u001b[0mstr\u001b[0m\u001b[1;33m,\u001b[0m \u001b[0mvalue\u001b[0m\u001b[1;33m)\u001b[0m \u001b[1;33m->\u001b[0m \u001b[1;32mNone\u001b[0m\u001b[1;33m:\u001b[0m\u001b[1;33m\u001b[0m\u001b[1;33m\u001b[0m\u001b[0m\n",
      "\u001b[1;31mAttributeError\u001b[0m: 'Series' object has no attribute 'seconds'"
     ]
    }
   ],
   "source": [
    "df2['duration'] = df2['duration'].seconds"
   ]
  },
  {
   "cell_type": "code",
   "execution_count": 135,
   "id": "5c8ec476",
   "metadata": {},
   "outputs": [
    {
     "data": {
      "text/html": [
       "<div>\n",
       "<style scoped>\n",
       "    .dataframe tbody tr th:only-of-type {\n",
       "        vertical-align: middle;\n",
       "    }\n",
       "\n",
       "    .dataframe tbody tr th {\n",
       "        vertical-align: top;\n",
       "    }\n",
       "\n",
       "    .dataframe thead th {\n",
       "        text-align: right;\n",
       "    }\n",
       "</style>\n",
       "<table border=\"1\" class=\"dataframe\">\n",
       "  <thead>\n",
       "    <tr style=\"text-align: right;\">\n",
       "      <th></th>\n",
       "      <th>duration</th>\n",
       "      <th>start_time</th>\n",
       "      <th>end_time</th>\n",
       "      <th>start_station_id</th>\n",
       "      <th>start_station_name</th>\n",
       "      <th>start_lat</th>\n",
       "      <th>start_lng</th>\n",
       "      <th>end_station_id</th>\n",
       "      <th>end_station_name</th>\n",
       "      <th>end_lat</th>\n",
       "      <th>end_lng</th>\n",
       "      <th>Bike ID</th>\n",
       "      <th>user_type</th>\n",
       "      <th>Birth Year</th>\n",
       "      <th>Gender</th>\n",
       "    </tr>\n",
       "  </thead>\n",
       "  <tbody>\n",
       "    <tr>\n",
       "      <th>0</th>\n",
       "      <td>328.0</td>\n",
       "      <td>2016-10-01 00:00:07</td>\n",
       "      <td>2016-10-01 00:05:35</td>\n",
       "      <td>471</td>\n",
       "      <td>Grand St &amp; Havemeyer St</td>\n",
       "      <td>40.712868</td>\n",
       "      <td>-73.956981</td>\n",
       "      <td>3077</td>\n",
       "      <td>Stagg St &amp; Union Ave</td>\n",
       "      <td>40.708771</td>\n",
       "      <td>-73.950953</td>\n",
       "      <td>25254</td>\n",
       "      <td>Subscriber</td>\n",
       "      <td>1992.0</td>\n",
       "      <td>1</td>\n",
       "    </tr>\n",
       "    <tr>\n",
       "      <th>1</th>\n",
       "      <td>398.0</td>\n",
       "      <td>2016-10-01 00:00:11</td>\n",
       "      <td>2016-10-01 00:06:49</td>\n",
       "      <td>3147</td>\n",
       "      <td>E 85 St &amp; 3 Ave</td>\n",
       "      <td>40.778012</td>\n",
       "      <td>-73.954071</td>\n",
       "      <td>3140</td>\n",
       "      <td>1 Ave &amp; E 78 St</td>\n",
       "      <td>40.771404</td>\n",
       "      <td>-73.953517</td>\n",
       "      <td>17810</td>\n",
       "      <td>Subscriber</td>\n",
       "      <td>1988.0</td>\n",
       "      <td>2</td>\n",
       "    </tr>\n",
       "    <tr>\n",
       "      <th>2</th>\n",
       "      <td>431.0</td>\n",
       "      <td>2016-10-01 00:00:14</td>\n",
       "      <td>2016-10-01 00:07:25</td>\n",
       "      <td>345</td>\n",
       "      <td>W 13 St &amp; 6 Ave</td>\n",
       "      <td>40.736494</td>\n",
       "      <td>-73.997044</td>\n",
       "      <td>470</td>\n",
       "      <td>W 20 St &amp; 8 Ave</td>\n",
       "      <td>40.743453</td>\n",
       "      <td>-74.000040</td>\n",
       "      <td>20940</td>\n",
       "      <td>Subscriber</td>\n",
       "      <td>1965.0</td>\n",
       "      <td>1</td>\n",
       "    </tr>\n",
       "    <tr>\n",
       "      <th>3</th>\n",
       "      <td>351.0</td>\n",
       "      <td>2016-10-01 00:00:21</td>\n",
       "      <td>2016-10-01 00:06:12</td>\n",
       "      <td>3307</td>\n",
       "      <td>West End Ave &amp; W 94 St</td>\n",
       "      <td>40.794165</td>\n",
       "      <td>-73.974124</td>\n",
       "      <td>3357</td>\n",
       "      <td>W 106 St &amp; Amsterdam Ave</td>\n",
       "      <td>40.800836</td>\n",
       "      <td>-73.966449</td>\n",
       "      <td>19086</td>\n",
       "      <td>Subscriber</td>\n",
       "      <td>1993.0</td>\n",
       "      <td>1</td>\n",
       "    </tr>\n",
       "    <tr>\n",
       "      <th>4</th>\n",
       "      <td>2694.0</td>\n",
       "      <td>2016-10-01 00:00:21</td>\n",
       "      <td>2016-10-01 00:45:15</td>\n",
       "      <td>3428</td>\n",
       "      <td>8 Ave &amp; W 16 St</td>\n",
       "      <td>40.740983</td>\n",
       "      <td>-74.001702</td>\n",
       "      <td>3323</td>\n",
       "      <td>W 106 St &amp; Central Park West</td>\n",
       "      <td>40.798186</td>\n",
       "      <td>-73.960591</td>\n",
       "      <td>26502</td>\n",
       "      <td>Subscriber</td>\n",
       "      <td>1991.0</td>\n",
       "      <td>1</td>\n",
       "    </tr>\n",
       "  </tbody>\n",
       "</table>\n",
       "</div>"
      ],
      "text/plain": [
       "   duration          start_time            end_time  start_station_id  \\\n",
       "0     328.0 2016-10-01 00:00:07 2016-10-01 00:05:35               471   \n",
       "1     398.0 2016-10-01 00:00:11 2016-10-01 00:06:49              3147   \n",
       "2     431.0 2016-10-01 00:00:14 2016-10-01 00:07:25               345   \n",
       "3     351.0 2016-10-01 00:00:21 2016-10-01 00:06:12              3307   \n",
       "4    2694.0 2016-10-01 00:00:21 2016-10-01 00:45:15              3428   \n",
       "\n",
       "        start_station_name  start_lat  start_lng  end_station_id  \\\n",
       "0  Grand St & Havemeyer St  40.712868 -73.956981            3077   \n",
       "1          E 85 St & 3 Ave  40.778012 -73.954071            3140   \n",
       "2          W 13 St & 6 Ave  40.736494 -73.997044             470   \n",
       "3   West End Ave & W 94 St  40.794165 -73.974124            3357   \n",
       "4          8 Ave & W 16 St  40.740983 -74.001702            3323   \n",
       "\n",
       "               end_station_name    end_lat    end_lng  Bike ID   user_type  \\\n",
       "0          Stagg St & Union Ave  40.708771 -73.950953    25254  Subscriber   \n",
       "1               1 Ave & E 78 St  40.771404 -73.953517    17810  Subscriber   \n",
       "2               W 20 St & 8 Ave  40.743453 -74.000040    20940  Subscriber   \n",
       "3      W 106 St & Amsterdam Ave  40.800836 -73.966449    19086  Subscriber   \n",
       "4  W 106 St & Central Park West  40.798186 -73.960591    26502  Subscriber   \n",
       "\n",
       "   Birth Year  Gender  \n",
       "0      1992.0       1  \n",
       "1      1988.0       2  \n",
       "2      1965.0       1  \n",
       "3      1993.0       1  \n",
       "4      1991.0       1  "
      ]
     },
     "execution_count": 135,
     "metadata": {},
     "output_type": "execute_result"
    }
   ],
   "source": [
    "df2.head()"
   ]
  },
  {
   "cell_type": "code",
   "execution_count": 136,
   "id": "2fbdf17c",
   "metadata": {},
   "outputs": [
    {
     "data": {
      "text/plain": [
       "dtype('float64')"
      ]
     },
     "execution_count": 136,
     "metadata": {},
     "output_type": "execute_result"
    }
   ],
   "source": [
    "df2.duration.dtype"
   ]
  },
  {
   "cell_type": "code",
   "execution_count": 139,
   "id": "b9954169",
   "metadata": {},
   "outputs": [
    {
     "data": {
      "text/plain": [
       "array([ 471, 3147,  345, 3307, 3428,  433, 3314,  453,  534,  128,  391,\n",
       "        377,  127,  484,  254, 3398,  248,  539,  438, 3260,  297, 2002,\n",
       "        470,  383,  533,  247, 3137,  417, 3141, 3259,  228, 2000, 3417,\n",
       "        405, 3313,  423,  384, 3074,  505, 3167, 3145,  359, 3419,  537,\n",
       "        432,  509,  146,  449,  478,  444, 3224, 3263,  116,  490,  494,\n",
       "       3085,  455,  365,  236, 3429,  519,  536, 2004,  387,  320, 2008,\n",
       "        303,  428,  265,  461, 3427, 3155,  497,  173,  450, 3410,  394,\n",
       "        217,  396, 3134,  520, 3379,  137, 3436, 3242,  527,  502,  150,\n",
       "        517, 3092,  402,  422,  281,  475,  360,  525, 3055,  466,  483,\n",
       "       3119, 3113,  151, 3321, 3357, 3435,  498,  321,  325,  323,  482,\n",
       "       3246, 3095,  362, 3064, 3284,  161, 3163, 3105,  531,  492, 3110,\n",
       "        296,  285,  477,  264,  529, 3265,  407, 2012,  515, 3399,  316,\n",
       "        410, 3078, 3236,  311,  528,  369,  280, 3049,  435,  368,  412,\n",
       "       3289, 3117,  486,  237,  334,  460,  522, 3226, 3125, 3016,  366,\n",
       "        243,  480,  447, 3153,  336,  523,  120,  380,  456, 3112,  518,\n",
       "        382, 3062,  476,  496, 3244,  307,  152,  284, 3086,  493,  252,\n",
       "        446,  503,  398,  174, 3305, 2021,  458,  457,  279,  499, 3152,\n",
       "       3298, 3043,  306,  143,  229,  479,  319, 2017,  411, 3418,  330,\n",
       "       3077,  305,  462,  357, 3177, 3082,  376,  168,  276,  430,  249,\n",
       "       3108, 3079, 3087,  301,  312, 3091,  346,  434, 3249,   72,  225,\n",
       "        350, 3142, 3329,  251, 3335, 3297,  261,  473,  530,  335,  268,\n",
       "       3164,  491, 3071,  441, 3002, 3084,  147, 3256,  358,  513,  508,\n",
       "        469, 3431,  317,  302, 3293,  472, 3414, 3223,  445,  500, 3076,\n",
       "       3372,  310, 3258, 3255,  392, 3101,  485,  388,  426, 3107,  326,\n",
       "       3409, 3359, 3140,  399,  253,  212, 3381, 3042, 3093, 3090, 3286,\n",
       "        437,  532, 3264, 3118,  409, 3301, 3382, 3383,  245, 3121, 3063,\n",
       "        442, 3171, 3413, 2023,  238,  511, 3146, 3100,  324,  468,  414,\n",
       "       3345,  401, 3364, 3312, 3416,  474,   83, 3360,  347,  395, 3170,\n",
       "        526,  361, 3344, 3144,  308,  257, 3066, 3231,  481,  389,  354,\n",
       "       3103,  379,  267,  524,  540, 3415, 3173, 3073, 3156,  349, 3430,\n",
       "        266, 3089,  313,  495,  167,  488,  157,  546,  274,  322,  153,\n",
       "        467, 3325,  258, 3374, 3109, 3350,  415, 3402,  348, 3041, 3080,\n",
       "       3358, 3172,  372, 3159,  340, 3067, 2006,  507,  514, 3081,  224,\n",
       "       3241, 3235, 3243,  341, 3048, 3176, 3336,  443,  385, 3290, 3047,\n",
       "       3283, 3323, 3135, 3294,  367, 3387,  342, 3397,  270, 3115, 3178,\n",
       "       3285,  295, 3331, 3327,  421, 3288, 2009,  282, 3116, 3179, 3363,\n",
       "       3434,  304,  501, 3311,   82,  278, 3390, 3309, 3317,  291, 3425,\n",
       "       3165, 3057, 3378, 3054, 3158, 3150,  363, 3238, 3368,  393,  427,\n",
       "        331,  448, 3065,  419, 3151, 3129, 3295,  406, 3060, 3400,  339,\n",
       "       3052, 3375,  440,  355, 3131,  454, 3300, 3367,  400, 3161, 3306,\n",
       "       3328, 3148,  332, 3111,  364, 3343,  408, 3175, 3392, 3059, 3351,\n",
       "        164, 3366,  262, 3083, 3377, 3389, 3124,  356, 3169,  244, 3162,\n",
       "        459, 3386, 3304, 3143, 3061, 2022, 3408, 3132, 3348, 3393, 2010,\n",
       "        260, 3354, 3370, 3319, 3099,  327, 3106, 3339,  390,  420, 3120,\n",
       "        119, 3050, 3362,  397, 3315, 3349, 3122, 3404, 3320, 3232, 3347,\n",
       "       3088,  386, 3396, 3405, 3411, 3046, 3166, 3361,  241,  516,  259,\n",
       "       3316, 3303, 3341,  239, 3412,  436, 3233, 3422,  195,   79, 3096,\n",
       "       3282,  309, 3356, 3292, 3180, 3423, 3056, 3424, 3332, 3373, 3126,\n",
       "       3395, 3053, 3160,  373, 3322, 3072, 3365, 2001, 3070,  315,  353,\n",
       "        344,  275, 3324, 3128, 3308, 3098, 3384,  289, 3075,  343, 3401,\n",
       "       3302, 3420, 3237, 3376, 3069,  351, 3310,  418, 3353,  337, 3139,\n",
       "       3094, 3123,  144, 3355, 3058, 3421, 3221,  232, 3102,  298, 3068,\n",
       "        242, 3403, 3391, 3333, 3338, 3388,  216, 3394, 3340, 3127, 3330,\n",
       "       3342, 3044, 3114, 3326, 3230, 3245, 2005, 3250, 3157,  255, 3254,\n",
       "       3346, 3407, 2003,  487, 3154, 3219,  504, 3040,  328, 3017,  352,\n",
       "        439,  416, 3168], dtype=int64)"
      ]
     },
     "execution_count": 139,
     "metadata": {},
     "output_type": "execute_result"
    }
   ],
   "source": [
    "df2.start_station_id.unique()"
   ]
  },
  {
   "cell_type": "code",
   "execution_count": 140,
   "id": "613e48eb",
   "metadata": {},
   "outputs": [],
   "source": [
    "df1 = pd.read_csv(\"C:\\\\Users\\\\Francesco\\\\Desktop\\\\NYCDSA\\\\Capstone file\\\\CitiBikeDataNYCzipped\\\\202008-citibike-tripdata.csv\")"
   ]
  },
  {
   "cell_type": "code",
   "execution_count": 141,
   "id": "d4e54629",
   "metadata": {},
   "outputs": [
    {
     "data": {
      "text/plain": [
       "Index(['tripduration', 'starttime', 'stoptime', 'start station id',\n",
       "       'start station name', 'start station latitude',\n",
       "       'start station longitude', 'end station id', 'end station name',\n",
       "       'end station latitude', 'end station longitude', 'bikeid', 'usertype',\n",
       "       'birth year', 'gender'],\n",
       "      dtype='object')"
      ]
     },
     "execution_count": 141,
     "metadata": {},
     "output_type": "execute_result"
    }
   ],
   "source": [
    "df1.columns"
   ]
  },
  {
   "cell_type": "code",
   "execution_count": 144,
   "id": "3929c55c",
   "metadata": {},
   "outputs": [
    {
     "data": {
      "text/html": [
       "<div>\n",
       "<style scoped>\n",
       "    .dataframe tbody tr th:only-of-type {\n",
       "        vertical-align: middle;\n",
       "    }\n",
       "\n",
       "    .dataframe tbody tr th {\n",
       "        vertical-align: top;\n",
       "    }\n",
       "\n",
       "    .dataframe thead th {\n",
       "        text-align: right;\n",
       "    }\n",
       "</style>\n",
       "<table border=\"1\" class=\"dataframe\">\n",
       "  <thead>\n",
       "    <tr style=\"text-align: right;\">\n",
       "      <th></th>\n",
       "      <th>tripduration</th>\n",
       "      <th>starttime</th>\n",
       "      <th>stoptime</th>\n",
       "      <th>start station id</th>\n",
       "      <th>start station name</th>\n",
       "      <th>start station latitude</th>\n",
       "      <th>start station longitude</th>\n",
       "      <th>end station id</th>\n",
       "      <th>end station name</th>\n",
       "      <th>end station latitude</th>\n",
       "      <th>end station longitude</th>\n",
       "      <th>bikeid</th>\n",
       "      <th>usertype</th>\n",
       "      <th>birth year</th>\n",
       "      <th>gender</th>\n",
       "    </tr>\n",
       "  </thead>\n",
       "  <tbody>\n",
       "    <tr>\n",
       "      <th>92</th>\n",
       "      <td>735</td>\n",
       "      <td>2020-08-01 00:02:30.9080</td>\n",
       "      <td>2020-08-01 00:14:46.2430</td>\n",
       "      <td>3467</td>\n",
       "      <td>W Broadway &amp; Spring St</td>\n",
       "      <td>40.724947</td>\n",
       "      <td>-74.001659</td>\n",
       "      <td>346</td>\n",
       "      <td>Bank St &amp; Hudson St</td>\n",
       "      <td>40.736529</td>\n",
       "      <td>-74.006180</td>\n",
       "      <td>42181</td>\n",
       "      <td>Subscriber</td>\n",
       "      <td>1989</td>\n",
       "      <td>1</td>\n",
       "    </tr>\n",
       "    <tr>\n",
       "      <th>587</th>\n",
       "      <td>1991</td>\n",
       "      <td>2020-08-01 00:18:03.4880</td>\n",
       "      <td>2020-08-01 00:51:15.1390</td>\n",
       "      <td>3467</td>\n",
       "      <td>W Broadway &amp; Spring St</td>\n",
       "      <td>40.724947</td>\n",
       "      <td>-74.001659</td>\n",
       "      <td>2003</td>\n",
       "      <td>1 Ave &amp; E 18 St</td>\n",
       "      <td>40.733812</td>\n",
       "      <td>-73.980544</td>\n",
       "      <td>43089</td>\n",
       "      <td>Subscriber</td>\n",
       "      <td>1998</td>\n",
       "      <td>1</td>\n",
       "    </tr>\n",
       "    <tr>\n",
       "      <th>635</th>\n",
       "      <td>1712</td>\n",
       "      <td>2020-08-01 00:19:36.8680</td>\n",
       "      <td>2020-08-01 00:48:09.3690</td>\n",
       "      <td>3467</td>\n",
       "      <td>W Broadway &amp; Spring St</td>\n",
       "      <td>40.724947</td>\n",
       "      <td>-74.001659</td>\n",
       "      <td>223</td>\n",
       "      <td>W 13 St &amp; 7 Ave</td>\n",
       "      <td>40.737815</td>\n",
       "      <td>-73.999947</td>\n",
       "      <td>39844</td>\n",
       "      <td>Subscriber</td>\n",
       "      <td>1994</td>\n",
       "      <td>1</td>\n",
       "    </tr>\n",
       "    <tr>\n",
       "      <th>637</th>\n",
       "      <td>1895</td>\n",
       "      <td>2020-08-01 00:19:41.1250</td>\n",
       "      <td>2020-08-01 00:51:16.9880</td>\n",
       "      <td>3467</td>\n",
       "      <td>W Broadway &amp; Spring St</td>\n",
       "      <td>40.724947</td>\n",
       "      <td>-74.001659</td>\n",
       "      <td>2003</td>\n",
       "      <td>1 Ave &amp; E 18 St</td>\n",
       "      <td>40.733812</td>\n",
       "      <td>-73.980544</td>\n",
       "      <td>38050</td>\n",
       "      <td>Subscriber</td>\n",
       "      <td>1997</td>\n",
       "      <td>2</td>\n",
       "    </tr>\n",
       "    <tr>\n",
       "      <th>758</th>\n",
       "      <td>645</td>\n",
       "      <td>2020-08-01 00:23:34.9530</td>\n",
       "      <td>2020-08-01 00:34:20.6650</td>\n",
       "      <td>3467</td>\n",
       "      <td>W Broadway &amp; Spring St</td>\n",
       "      <td>40.724947</td>\n",
       "      <td>-74.001659</td>\n",
       "      <td>401</td>\n",
       "      <td>Allen St &amp; Rivington St</td>\n",
       "      <td>40.720196</td>\n",
       "      <td>-73.989978</td>\n",
       "      <td>19477</td>\n",
       "      <td>Subscriber</td>\n",
       "      <td>1987</td>\n",
       "      <td>2</td>\n",
       "    </tr>\n",
       "    <tr>\n",
       "      <th>...</th>\n",
       "      <td>...</td>\n",
       "      <td>...</td>\n",
       "      <td>...</td>\n",
       "      <td>...</td>\n",
       "      <td>...</td>\n",
       "      <td>...</td>\n",
       "      <td>...</td>\n",
       "      <td>...</td>\n",
       "      <td>...</td>\n",
       "      <td>...</td>\n",
       "      <td>...</td>\n",
       "      <td>...</td>\n",
       "      <td>...</td>\n",
       "      <td>...</td>\n",
       "      <td>...</td>\n",
       "    </tr>\n",
       "    <tr>\n",
       "      <th>2327819</th>\n",
       "      <td>514</td>\n",
       "      <td>2020-08-31 22:42:48.8270</td>\n",
       "      <td>2020-08-31 22:51:23.7910</td>\n",
       "      <td>3467</td>\n",
       "      <td>W Broadway &amp; Spring St</td>\n",
       "      <td>40.724947</td>\n",
       "      <td>-74.001659</td>\n",
       "      <td>236</td>\n",
       "      <td>St Marks Pl &amp; 2 Ave</td>\n",
       "      <td>40.728419</td>\n",
       "      <td>-73.987140</td>\n",
       "      <td>25030</td>\n",
       "      <td>Customer</td>\n",
       "      <td>1997</td>\n",
       "      <td>1</td>\n",
       "    </tr>\n",
       "    <tr>\n",
       "      <th>2328087</th>\n",
       "      <td>616</td>\n",
       "      <td>2020-08-31 22:52:38.9410</td>\n",
       "      <td>2020-08-31 23:02:55.1690</td>\n",
       "      <td>3467</td>\n",
       "      <td>W Broadway &amp; Spring St</td>\n",
       "      <td>40.724947</td>\n",
       "      <td>-74.001659</td>\n",
       "      <td>326</td>\n",
       "      <td>E 11 St &amp; 1 Ave</td>\n",
       "      <td>40.729538</td>\n",
       "      <td>-73.984267</td>\n",
       "      <td>45665</td>\n",
       "      <td>Subscriber</td>\n",
       "      <td>1993</td>\n",
       "      <td>1</td>\n",
       "    </tr>\n",
       "    <tr>\n",
       "      <th>2328244</th>\n",
       "      <td>342</td>\n",
       "      <td>2020-08-31 22:57:24.3090</td>\n",
       "      <td>2020-08-31 23:03:06.9910</td>\n",
       "      <td>3467</td>\n",
       "      <td>W Broadway &amp; Spring St</td>\n",
       "      <td>40.724947</td>\n",
       "      <td>-74.001659</td>\n",
       "      <td>3435</td>\n",
       "      <td>Grand St &amp; Elizabeth St</td>\n",
       "      <td>40.718822</td>\n",
       "      <td>-73.995960</td>\n",
       "      <td>46168</td>\n",
       "      <td>Subscriber</td>\n",
       "      <td>1983</td>\n",
       "      <td>2</td>\n",
       "    </tr>\n",
       "    <tr>\n",
       "      <th>2328395</th>\n",
       "      <td>547</td>\n",
       "      <td>2020-08-31 23:03:32.2600</td>\n",
       "      <td>2020-08-31 23:12:39.8800</td>\n",
       "      <td>3467</td>\n",
       "      <td>W Broadway &amp; Spring St</td>\n",
       "      <td>40.724947</td>\n",
       "      <td>-74.001659</td>\n",
       "      <td>336</td>\n",
       "      <td>Sullivan St &amp; Washington Sq</td>\n",
       "      <td>40.730477</td>\n",
       "      <td>-73.999061</td>\n",
       "      <td>28181</td>\n",
       "      <td>Subscriber</td>\n",
       "      <td>1986</td>\n",
       "      <td>1</td>\n",
       "    </tr>\n",
       "    <tr>\n",
       "      <th>2328947</th>\n",
       "      <td>613</td>\n",
       "      <td>2020-08-31 23:27:36.0110</td>\n",
       "      <td>2020-08-31 23:37:49.5110</td>\n",
       "      <td>3467</td>\n",
       "      <td>W Broadway &amp; Spring St</td>\n",
       "      <td>40.724947</td>\n",
       "      <td>-74.001659</td>\n",
       "      <td>224</td>\n",
       "      <td>Spruce St &amp; Nassau St</td>\n",
       "      <td>40.711464</td>\n",
       "      <td>-74.005524</td>\n",
       "      <td>41111</td>\n",
       "      <td>Subscriber</td>\n",
       "      <td>1989</td>\n",
       "      <td>1</td>\n",
       "    </tr>\n",
       "  </tbody>\n",
       "</table>\n",
       "<p>3714 rows × 15 columns</p>\n",
       "</div>"
      ],
      "text/plain": [
       "         tripduration                 starttime                  stoptime  \\\n",
       "92                735  2020-08-01 00:02:30.9080  2020-08-01 00:14:46.2430   \n",
       "587              1991  2020-08-01 00:18:03.4880  2020-08-01 00:51:15.1390   \n",
       "635              1712  2020-08-01 00:19:36.8680  2020-08-01 00:48:09.3690   \n",
       "637              1895  2020-08-01 00:19:41.1250  2020-08-01 00:51:16.9880   \n",
       "758               645  2020-08-01 00:23:34.9530  2020-08-01 00:34:20.6650   \n",
       "...               ...                       ...                       ...   \n",
       "2327819           514  2020-08-31 22:42:48.8270  2020-08-31 22:51:23.7910   \n",
       "2328087           616  2020-08-31 22:52:38.9410  2020-08-31 23:02:55.1690   \n",
       "2328244           342  2020-08-31 22:57:24.3090  2020-08-31 23:03:06.9910   \n",
       "2328395           547  2020-08-31 23:03:32.2600  2020-08-31 23:12:39.8800   \n",
       "2328947           613  2020-08-31 23:27:36.0110  2020-08-31 23:37:49.5110   \n",
       "\n",
       "         start station id      start station name  start station latitude  \\\n",
       "92                   3467  W Broadway & Spring St               40.724947   \n",
       "587                  3467  W Broadway & Spring St               40.724947   \n",
       "635                  3467  W Broadway & Spring St               40.724947   \n",
       "637                  3467  W Broadway & Spring St               40.724947   \n",
       "758                  3467  W Broadway & Spring St               40.724947   \n",
       "...                   ...                     ...                     ...   \n",
       "2327819              3467  W Broadway & Spring St               40.724947   \n",
       "2328087              3467  W Broadway & Spring St               40.724947   \n",
       "2328244              3467  W Broadway & Spring St               40.724947   \n",
       "2328395              3467  W Broadway & Spring St               40.724947   \n",
       "2328947              3467  W Broadway & Spring St               40.724947   \n",
       "\n",
       "         start station longitude  end station id             end station name  \\\n",
       "92                    -74.001659             346          Bank St & Hudson St   \n",
       "587                   -74.001659            2003              1 Ave & E 18 St   \n",
       "635                   -74.001659             223              W 13 St & 7 Ave   \n",
       "637                   -74.001659            2003              1 Ave & E 18 St   \n",
       "758                   -74.001659             401      Allen St & Rivington St   \n",
       "...                          ...             ...                          ...   \n",
       "2327819               -74.001659             236          St Marks Pl & 2 Ave   \n",
       "2328087               -74.001659             326              E 11 St & 1 Ave   \n",
       "2328244               -74.001659            3435      Grand St & Elizabeth St   \n",
       "2328395               -74.001659             336  Sullivan St & Washington Sq   \n",
       "2328947               -74.001659             224        Spruce St & Nassau St   \n",
       "\n",
       "         end station latitude  end station longitude  bikeid    usertype  \\\n",
       "92                  40.736529             -74.006180   42181  Subscriber   \n",
       "587                 40.733812             -73.980544   43089  Subscriber   \n",
       "635                 40.737815             -73.999947   39844  Subscriber   \n",
       "637                 40.733812             -73.980544   38050  Subscriber   \n",
       "758                 40.720196             -73.989978   19477  Subscriber   \n",
       "...                       ...                    ...     ...         ...   \n",
       "2327819             40.728419             -73.987140   25030    Customer   \n",
       "2328087             40.729538             -73.984267   45665  Subscriber   \n",
       "2328244             40.718822             -73.995960   46168  Subscriber   \n",
       "2328395             40.730477             -73.999061   28181  Subscriber   \n",
       "2328947             40.711464             -74.005524   41111  Subscriber   \n",
       "\n",
       "         birth year  gender  \n",
       "92             1989       1  \n",
       "587            1998       1  \n",
       "635            1994       1  \n",
       "637            1997       2  \n",
       "758            1987       2  \n",
       "...             ...     ...  \n",
       "2327819        1997       1  \n",
       "2328087        1993       1  \n",
       "2328244        1983       2  \n",
       "2328395        1986       1  \n",
       "2328947        1989       1  \n",
       "\n",
       "[3714 rows x 15 columns]"
      ]
     },
     "execution_count": 144,
     "metadata": {},
     "output_type": "execute_result"
    }
   ],
   "source": [
    "df1.loc[df1['start station name'] == 'W Broadway & Spring St']"
   ]
  },
  {
   "cell_type": "code",
   "execution_count": 146,
   "id": "a11f20ef",
   "metadata": {},
   "outputs": [
    {
     "data": {
      "text/plain": [
       "1039"
      ]
     },
     "execution_count": 146,
     "metadata": {},
     "output_type": "execute_result"
    }
   ],
   "source": [
    "df1['start station name'].nunique()"
   ]
  },
  {
   "cell_type": "code",
   "execution_count": null,
   "id": "4d7293cf",
   "metadata": {},
   "outputs": [],
   "source": []
  }
 ],
 "metadata": {
  "kernelspec": {
   "display_name": "Python 3 (ipykernel)",
   "language": "python",
   "name": "python3"
  },
  "language_info": {
   "codemirror_mode": {
    "name": "ipython",
    "version": 3
   },
   "file_extension": ".py",
   "mimetype": "text/x-python",
   "name": "python",
   "nbconvert_exporter": "python",
   "pygments_lexer": "ipython3",
   "version": "3.8.8"
  }
 },
 "nbformat": 4,
 "nbformat_minor": 5
}
