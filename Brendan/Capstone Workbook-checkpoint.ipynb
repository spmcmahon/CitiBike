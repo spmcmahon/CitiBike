{
 "cells": [
  {
   "cell_type": "markdown",
   "id": "f53b0808",
   "metadata": {},
   "source": [
    "1. Trip Duration (seconds) - How long a trip lasted\n",
    "2. Start Time and Date - Self explanatory\n",
    "3. Stop Time and Date - Self explanatory\n",
    "4. Start Station Name - Self explanatory\n",
    "5. End Station Name - Self explanatory\n",
    "6. Station ID - Unique identifier for each station\n",
    "7. Station Lat/Long - Coordinates\n",
    "8. Bike ID - unique identifier for each bike\n",
    "9. User Type (Customer = 24-hour pass or 3-day pass user;  Subscriber = Annual Member) - Customers are usually tourists, subscribers are usually NYC residents\n",
    "10. Gender (Zero=unknown; 1=male; 2=female) - Usually unknown for customers since they often sign up at a kiosk\n",
    "11. Year of Birth - Self entered, not validated by an ID."
   ]
  },
  {
   "cell_type": "code",
   "execution_count": null,
   "id": "f4745638",
   "metadata": {},
   "outputs": [],
   "source": [
    "inferential , \n",
    "\n",
    "how will we use our predictive modelling \n",
    " \n",
    "- how busy a region is so more stations are needed. \n",
    "\n",
    "charectizes stations - what kinda feature do we need to generate\n",
    "what kind of stations are expanding \n",
    "post covid demand is different , suggestions for improvement \n"
   ]
  },
  {
   "cell_type": "code",
   "execution_count": null,
   "id": "4dc7f156",
   "metadata": {},
   "outputs": [],
   "source": [
    "## Reading in Data set for first round analysis "
   ]
  },
  {
   "cell_type": "code",
   "execution_count": null,
   "id": "2e6d9660",
   "metadata": {},
   "outputs": [],
   "source": [
    "import pandas as pd \n",
    "import numpy as np\n"
   ]
  },
  {
   "cell_type": "code",
   "execution_count": null,
   "id": "9e5fc381",
   "metadata": {},
   "outputs": [],
   "source": [
    "import requests\n",
    "import urllib.request\n",
    "from bs4 import BeautifulSoup\n",
    "\n",
    "import webbrowser\n",
    "from time import sleep\n",
    "from tqdm import tqdm\n",
    "import os"
   ]
  },
  {
   "cell_type": "code",
   "execution_count": null,
   "id": "388ac4cc",
   "metadata": {},
   "outputs": [],
   "source": [
    "# Reading in Data for First Round Analysis"
   ]
  },
  {
   "cell_type": "code",
   "execution_count": null,
   "id": "c2e35929",
   "metadata": {},
   "outputs": [],
   "source": [
    "df= pd.read_csv(\"C:/Users/brend/Downloads/CitiBikeDataJCzipped/JC-202202-citibike-tripdata.csv\")"
   ]
  },
  {
   "cell_type": "code",
   "execution_count": null,
   "id": "0d8b474e",
   "metadata": {},
   "outputs": [],
   "source": [
    "df1 = pd.read_csv('202202-citibike-tripdata.csv')"
   ]
  },
  {
   "cell_type": "code",
   "execution_count": null,
   "id": "6a995ba2",
   "metadata": {},
   "outputs": [],
   "source": [
    "df2 = pd.read_csv(\"C:/Users/brend/Downloads/CitiBikeDataNYCzipped/202202-citibike-tripdata.csv\")"
   ]
  },
  {
   "cell_type": "code",
   "execution_count": null,
   "id": "83ed1973",
   "metadata": {},
   "outputs": [],
   "source": [
    "df2.isna().sum()"
   ]
  },
  {
   "cell_type": "code",
   "execution_count": null,
   "id": "884b06c1",
   "metadata": {},
   "outputs": [],
   "source": [
    "print(df.columns)\n",
    "print(df2.columns)"
   ]
  },
  {
   "cell_type": "code",
   "execution_count": null,
   "id": "7b2d8979",
   "metadata": {},
   "outputs": [],
   "source": [
    "df.shape"
   ]
  },
  {
   "cell_type": "code",
   "execution_count": null,
   "id": "ee6ca841",
   "metadata": {},
   "outputs": [],
   "source": [
    "df.ride_id.nunique"
   ]
  },
  {
   "cell_type": "code",
   "execution_count": null,
   "id": "31c8884f",
   "metadata": {},
   "outputs": [],
   "source": [
    "uniquestationdf = pd.read_feather(\"C:\\\\Users\\\\brend\\\\NYCDSA\\\\Capstone Project\\\\NY2021_sub25.feather\") \n",
    "\n",
    "starts = uniquestationdf[['start_station_name', 'start_lat', 'start_lng']]\n",
    "ends = uniquestationdf[['end_station_name', 'end_lat', 'end_lng']]\n",
    "\n",
    "\n",
    "starts.drop_duplicates(subset=['start_station_name'],inplace=True,ignore_index=True)\n",
    "ends.drop_duplicates(subset=['end_station_name'],inplace=True,ignore_index=True)\n",
    "starts.dropna(axis=0, inplace=True)"
   ]
  },
  {
   "cell_type": "code",
   "execution_count": null,
   "id": "e12e15c2",
   "metadata": {},
   "outputs": [],
   "source": [
    "starts1 =pd.read_csv('starts1.csv')\n",
    "ends1 = pd.read_csv('ends1.csv')"
   ]
  },
  {
   "cell_type": "code",
   "execution_count": null,
   "id": "37da8cbb",
   "metadata": {},
   "outputs": [],
   "source": [
    "print(starts1.isna().sum())\n",
    "print(starts1.loc[starts1.coords.isna()])\n",
    "print(ends1.isna().sum())\n",
    "print(ends1.loc[ends1.coords.isna()])\n",
    "ends1.dropna(inplace =True)\n",
    "starts1.dropna(inplace=True)\n"
   ]
  },
  {
   "cell_type": "code",
   "execution_count": null,
   "id": "9eae3360",
   "metadata": {
    "scrolled": true
   },
   "outputs": [],
   "source": [
    "\n",
    "starts['coords'] = list(zip(starts['start_lat'],starts['start_lng']))\n",
    "\n",
    "ends['coords'] = list(zip(ends['end_lat'],ends['end_lng']))"
   ]
  },
  {
   "cell_type": "code",
   "execution_count": null,
   "id": "90251994",
   "metadata": {
    "scrolled": false
   },
   "outputs": [],
   "source": [
    "print(df2.started_at.sort_values(ascending = True))\n",
    "\n",
    "print(df.columns)\n",
    "\n",
    "print(df.head())\n",
    "\n",
    "print(df.started_at.sort_values(ascending = True))\n",
    "\n",
    "dfmap = df.drop_duplicates(subset = ['start_lat'])\n",
    "dfmap2 = df2.drop_duplicates(subset = ['start_lat'])\n"
   ]
  },
  {
   "cell_type": "code",
   "execution_count": null,
   "id": "a6828b09",
   "metadata": {},
   "outputs": [],
   "source": [
    "df2.head()\n"
   ]
  },
  {
   "cell_type": "code",
   "execution_count": null,
   "id": "67dc1238",
   "metadata": {},
   "outputs": [],
   "source": [
    "print(len(np.unique(df2.start_lat)))\n",
    "print(len(np.unique(df2.end_lat)))\n",
    "print(len(np.unique(df2.start_lng)))\n",
    "print(len(np.unique(df2.end_lng)))\n",
    "subwaydistancelatdfNYC = df2.drop_duplicates(subset =['start_lat','start_lng'])\n",
    "print(len(subwaydistancelatdfNYC))\n",
    "len(np.unique(subwaydistancelatdfNYC.start_lat))\n",
    "print(subwaydistancelatdfNYC.isna().sum())"
   ]
  },
  {
   "cell_type": "code",
   "execution_count": null,
   "id": "8616a116",
   "metadata": {},
   "outputs": [],
   "source": [
    "subwaydistancelatdfNYC.dropna(inplace = True)"
   ]
  },
  {
   "cell_type": "code",
   "execution_count": null,
   "id": "2a75d4a7",
   "metadata": {},
   "outputs": [],
   "source": [
    "# subwaydistancelatdfNYC.dropna(inplace=True)\n",
    "\n",
    "subwaydistancelatdfNYC.reset_index(inplace=True)"
   ]
  },
  {
   "cell_type": "code",
   "execution_count": null,
   "id": "4b336f94",
   "metadata": {},
   "outputs": [],
   "source": [
    "len(subwaydistancelatdfNYC)"
   ]
  },
  {
   "cell_type": "markdown",
   "id": "57a91f50",
   "metadata": {},
   "source": [
    "## subway DF"
   ]
  },
  {
   "cell_type": "code",
   "execution_count": null,
   "id": "c0fe5103",
   "metadata": {},
   "outputs": [],
   "source": [
    "subwaydf = pd.read_csv(\"C:\\\\Users\\\\brend\\\\NYCDSA\\\\Capstone Project\\\\DOITT_SUBWAY_STATION_01_13SEPT2010.csv\")\n",
    "\n",
    "\n",
    "subwaydf.the_geom = subwaydf.the_geom.map(lambda string: string.strip('POINT'))\n",
    "\n",
    "subwaydf.the_geom = subwaydf.the_geom.map(lambda string: string.strip(')'))\n",
    "\n",
    "subwaydf.the_geom = subwaydf.the_geom.map(lambda string: string.strip(' ('))\n",
    "\n",
    "# subwaydf.the_geom = subwaydf.the_geom.map(lambda string: string.strip('-'))\n",
    "\n",
    "subwaydf.the_geom = subwaydf.the_geom.map(lambda string: string.strip(','))\n",
    "\n",
    "subwaydf.the_geom = subwaydf.the_geom.map(lambda string: string.split(' '))\n",
    "\n",
    "\n",
    "\n",
    "# swap for correct lat, lon format \n",
    "for i in subwaydf.the_geom:\n",
    "     i= i.reverse()\n",
    "    \n",
    "   "
   ]
  },
  {
   "cell_type": "code",
   "execution_count": null,
   "id": "4c5689e7",
   "metadata": {},
   "outputs": [],
   "source": [
    "subwaydf.the_geom.dropna(inplace=True)\n",
    " "
   ]
  },
  {
   "cell_type": "code",
   "execution_count": null,
   "id": "82299171",
   "metadata": {},
   "outputs": [],
   "source": [
    "subwaydf.dtypes\n",
    "\n",
    "subwaydf.head()\n",
    "\n",
    "subwaydf.isna().sum()\n",
    "\n",
    "subwaydf.columns"
   ]
  },
  {
   "cell_type": "code",
   "execution_count": null,
   "id": "06e901cd",
   "metadata": {},
   "outputs": [],
   "source": [
    "type(subwaydf['the_geom'][0][1])"
   ]
  },
  {
   "cell_type": "code",
   "execution_count": null,
   "id": "f1cd02f0",
   "metadata": {},
   "outputs": [],
   "source": [
    "subwaydf = subwaydf.drop_duplicates('NAME')"
   ]
  },
  {
   "cell_type": "code",
   "execution_count": null,
   "id": "0a3ef859",
   "metadata": {
    "scrolled": true
   },
   "outputs": [],
   "source": [
    "print(len(subwaydf))\n"
   ]
  },
  {
   "cell_type": "code",
   "execution_count": null,
   "id": "00a8fa49",
   "metadata": {},
   "outputs": [],
   "source": [
    "# creating combined coordinate column\n",
    "subwaydf['coords'] = list(zip(subwaydf['lat'],subwaydf['lng']))"
   ]
  },
  {
   "cell_type": "code",
   "execution_count": null,
   "id": "98c83583",
   "metadata": {},
   "outputs": [],
   "source": [
    "# created combined coordinate column\n",
    "subwaydistancelatdfNYC['coords'] = list(zip(subwaydistancelatdfNYC['start_lat'],subwaydistancelatdfNYC['start_lng']))\n",
    "print(len(subwaydistancelatdfNYC))\n",
    "print(subwaydistancelatdfNYC.isna().sum())"
   ]
  },
  {
   "cell_type": "code",
   "execution_count": null,
   "id": "d6e00087",
   "metadata": {
    "scrolled": true
   },
   "outputs": [],
   "source": [
    "print(len(subwaydistancelatdfNYC))\n",
    "subwaydistancelatdfNYC.dropna(subset=['start_station_name', 'start_lat','start_lng'])\n",
    "print(len(subwaydistancelatdfNYC))\n",
    "print(subwaydistancelatdfNYC.isna().sum())"
   ]
  },
  {
   "cell_type": "markdown",
   "id": "2b12c862",
   "metadata": {},
   "source": [
    "## final subway distances code "
   ]
  },
  {
   "cell_type": "code",
   "execution_count": null,
   "id": "f4285e9e",
   "metadata": {},
   "outputs": [],
   "source": [
    "# data set with current unique stations \n",
    "stations = pd.read_feather('stations.feather')\n"
   ]
  },
  {
   "cell_type": "code",
   "execution_count": null,
   "id": "285effa1",
   "metadata": {},
   "outputs": [],
   "source": [
    "stations.coords = stations.coords.apply(lambda x: (float(x[0]), float(x[1])))\n",
    "stations.coords"
   ]
  },
  {
   "cell_type": "code",
   "execution_count": null,
   "id": "e1fac7f9",
   "metadata": {},
   "outputs": [],
   "source": [
    "print(subwaydf.isna().sum())\n",
    "print(starts.isna().sum())\n",
    "print(ends.isna().sum())"
   ]
  },
  {
   "cell_type": "code",
   "execution_count": null,
   "id": "40663e87",
   "metadata": {
    "scrolled": true
   },
   "outputs": [],
   "source": [
    "# subway distances \n",
    "import geopy.distance\n",
    "from geopy.distance import geodesic\n",
    "from tqdm import tqdm\n",
    "\n",
    "startdistances = []\n",
    "for z,i in enumerate(stations.coords):\n",
    "    startdistances.clear()\n",
    "    print(z)    \n",
    "    for x in subwaydf.the_geom:\n",
    "        startdistances.append(geodesic(x,i).miles)\n",
    "      \n",
    "    stations.loc[z,'subway_distances']=(min(startdistances))"
   ]
  },
  {
   "cell_type": "code",
   "execution_count": null,
   "id": "824f09d5",
   "metadata": {},
   "outputs": [],
   "source": [
    "min(stations.subway_distances)"
   ]
  },
  {
   "cell_type": "code",
   "execution_count": null,
   "id": "a9cb6e4c",
   "metadata": {},
   "outputs": [],
   "source": [
    "# subway distances for old start stations \n",
    "import geopy.distance\n",
    "from geopy.distance import geodesic\n",
    "from tqdm import tqdm\n",
    "\n",
    "startdistances = []\n",
    "\n",
    "\n",
    "for z,i in enumerate(starts.coords):\n",
    "    startdistances.clear()\n",
    "        \n",
    "    for x in subwaydf.the_geom:\n",
    "        startdistances.append(geodesic(x,i).miles)\n",
    "      \n",
    "    starts.loc[z,'subway_distances']=(min(startdistances))\n",
    "    "
   ]
  },
  {
   "cell_type": "code",
   "execution_count": null,
   "id": "e67a8ce0",
   "metadata": {},
   "outputs": [],
   "source": [
    "starts.subway_distances.head()"
   ]
  },
  {
   "cell_type": "code",
   "execution_count": null,
   "id": "e2159ea8",
   "metadata": {},
   "outputs": [],
   "source": [
    "# subway distances for old end stations\n",
    "\n",
    "enddistances = []\n",
    "\n",
    "\n",
    "for z,i in enumerate(ends.coords):\n",
    "    enddistances.clear()\n",
    "        \n",
    "    for x in subwaydf.the_geom:\n",
    "        enddistances.append(geodesic(x,i).miles)\n",
    "      \n",
    "    ends.loc[z,'subway_distances']=(min(enddistances))\n",
    "    "
   ]
  },
  {
   "cell_type": "code",
   "execution_count": null,
   "id": "9dfde68f",
   "metadata": {},
   "outputs": [],
   "source": [
    "min(ends.subway_distances)"
   ]
  },
  {
   "cell_type": "code",
   "execution_count": null,
   "id": "b810ffb8",
   "metadata": {},
   "outputs": [],
   "source": [
    "# bus distances \n",
    "print(busdf.isna().sum())\n",
    "print(starts.isna().sum())\n",
    "print(ends.isna().sum())"
   ]
  },
  {
   "cell_type": "code",
   "execution_count": null,
   "id": "17afe484",
   "metadata": {},
   "outputs": [],
   "source": [
    "starts.dropna(inplace = True)"
   ]
  },
  {
   "cell_type": "code",
   "execution_count": null,
   "id": "dad97cd8",
   "metadata": {},
   "outputs": [],
   "source": [
    "# bus distances\n",
    "\n",
    "busdistances = []\n",
    "\n",
    "\n",
    "for z,i in enumerate(stations.coords):\n",
    "    busdistances.clear()\n",
    "        \n",
    "    for x in busdf.coords:\n",
    "        busdistances.append(geodesic(x,i).miles)\n",
    "       \n",
    "    stations.loc[z,'bus_distances']=(min(busdistances))\n",
    "    \n",
    "endbusdistances = []"
   ]
  },
  {
   "cell_type": "code",
   "execution_count": null,
   "id": "770e1992",
   "metadata": {},
   "outputs": [],
   "source": [
    "stations.bus_distances"
   ]
  },
  {
   "cell_type": "code",
   "execution_count": null,
   "id": "857c5977",
   "metadata": {},
   "outputs": [],
   "source": []
  },
  {
   "cell_type": "code",
   "execution_count": null,
   "id": "35be702b",
   "metadata": {},
   "outputs": [],
   "source": [
    "# bus distances\n",
    "\n",
    "busdistances = []\n",
    "\n",
    "\n",
    "for z,i in enumerate(starts.coords):\n",
    "    busdistances.clear()\n",
    "        \n",
    "    for x in busdf.coords:\n",
    "        busdistances.append(geodesic(x,i).miles)\n",
    "       \n",
    "    starts.loc[z,'bus_distances']=(min(busdistances))\n",
    "    \n",
    "endbusdistances = []"
   ]
  },
  {
   "cell_type": "code",
   "execution_count": null,
   "id": "2402f63b",
   "metadata": {},
   "outputs": [],
   "source": [
    "min(starts.bus_distances)"
   ]
  },
  {
   "cell_type": "code",
   "execution_count": null,
   "id": "09b4fa78",
   "metadata": {
    "scrolled": true
   },
   "outputs": [],
   "source": [
    "for z,i in enumerate(ends.coords):\n",
    "    endbusdistances.clear()\n",
    "        \n",
    "    for x in busdf.coords:\n",
    "        endbusdistances.append(geodesic(x,i).miles)\n",
    "       \n",
    "    ends.loc[z,'bus_distances']=(min(endbusdistances))"
   ]
  },
  {
   "cell_type": "code",
   "execution_count": null,
   "id": "f8cb79c3",
   "metadata": {},
   "outputs": [],
   "source": [
    "min(ends.bus_distances)"
   ]
  },
  {
   "cell_type": "code",
   "execution_count": null,
   "id": "4fbd7f11",
   "metadata": {},
   "outputs": [],
   "source": [
    "# park distances \n",
    "print(busdf.isna().sum())\n",
    "print(starts.isna().sum())\n",
    "print(ends.isna().sum())"
   ]
  },
  {
   "cell_type": "code",
   "execution_count": null,
   "id": "477c89aa",
   "metadata": {},
   "outputs": [],
   "source": [
    "## park distances \n",
    "print(parksdf.the_geom.isna().sum())\n",
    "print(starts.isna().sum())\n",
    "print(ends.isna().sum())\n",
    "print(starts.loc[starts.start_lat.isna()])"
   ]
  },
  {
   "cell_type": "code",
   "execution_count": null,
   "id": "477f1d11",
   "metadata": {
    "scrolled": true
   },
   "outputs": [],
   "source": [
    "starts.dropna(inplace = True)"
   ]
  },
  {
   "cell_type": "code",
   "execution_count": null,
   "id": "14001724",
   "metadata": {},
   "outputs": [],
   "source": [
    "# park distances \n",
    "import geopandas\n",
    "parkdist =[]\n",
    "\n",
    "\n",
    "for z,i in enumerate(starts.coords):\n",
    "    parkdist.clear()\n",
    "    temp = i\n",
    "    for x in parkspolys: \n",
    "    \n",
    "        t = geopandas.GeoSeries(x)\n",
    "        t2 = geopandas.GeoSeries(Point(temp))\n",
    "        \n",
    "        parkdist.append(t.distance(t2)[0])\n",
    "        \n",
    "    starts.loc[z,'park_distances'] = min(parkdist)"
   ]
  },
  {
   "cell_type": "code",
   "execution_count": null,
   "id": "f0fce871",
   "metadata": {},
   "outputs": [],
   "source": [
    "min(starts.park_distances)"
   ]
  },
  {
   "cell_type": "code",
   "execution_count": null,
   "id": "4cfa7473",
   "metadata": {
    "scrolled": true
   },
   "outputs": [],
   "source": [
    "\n",
    "%%time\n",
    "for z,i in enumerate(ends.coords):\n",
    "    parkdist.clear()\n",
    "    temp = i\n",
    "    for x in parkspolys: \n",
    "    \n",
    "        t = geopandas.GeoSeries(x)\n",
    "        t2 = geopandas.GeoSeries(Point(temp))\n",
    "        \n",
    "        parkdist.append(t.distance(t2)[0])\n",
    "       \n",
    "    ends.loc[z,'park_distances'] = min(parkdist)"
   ]
  },
  {
   "cell_type": "code",
   "execution_count": null,
   "id": "cde4ef3f",
   "metadata": {},
   "outputs": [],
   "source": [
    "min(ends.park_distances)"
   ]
  },
  {
   "cell_type": "code",
   "execution_count": null,
   "id": "0b37b7c2",
   "metadata": {},
   "outputs": [],
   "source": [
    "print(parksdf.the_geom.isna().sum())\n",
    "print(starts.isna().sum())\n",
    "print(ends.isna().sum())\n",
    "print(starts.loc[starts.start_lat.isna()])"
   ]
  },
  {
   "cell_type": "code",
   "execution_count": null,
   "id": "d49eb68f",
   "metadata": {},
   "outputs": [],
   "source": [
    "\n"
   ]
  },
  {
   "cell_type": "code",
   "execution_count": null,
   "id": "0d80cb39",
   "metadata": {},
   "outputs": [],
   "source": [
    "# high traffic\n",
    "from shapely.geometry import Polygon, Point\n",
    "starts['high_traffic'] = 0\n",
    "\n",
    "for z,i in enumerate(starts.coords):\n",
    "    for x in polygonlist_:\n",
    "        if  Point(i).within(x) == True: \n",
    "            starts.loc[z,'high_traffic'] = 1 \n",
    "            break"
   ]
  },
  {
   "cell_type": "code",
   "execution_count": null,
   "id": "b165517a",
   "metadata": {
    "scrolled": true
   },
   "outputs": [],
   "source": [
    "ends['high_traffic'] = 0\n",
    "\n",
    "for z,i in enumerate(ends.coords):\n",
    "    for x in polygonlist_:\n",
    "        if  Point(i).within(x) == True: \n",
    "            ends.loc[z,'high_traffic'] = 1 \n",
    "            break"
   ]
  },
  {
   "cell_type": "code",
   "execution_count": null,
   "id": "bf23176f",
   "metadata": {},
   "outputs": [],
   "source": [
    "# polygon distances\n",
    "print(parksdf.the_geom.isna().sum())\n",
    "print(starts.isna().sum())\n",
    "print(ends.isna().sum())\n",
    "print(starts.loc[starts.start_lat.isna()])"
   ]
  },
  {
   "cell_type": "code",
   "execution_count": null,
   "id": "8b8c7bd5",
   "metadata": {},
   "outputs": [],
   "source": [
    "print(len(ends))\n",
    "len(starts)"
   ]
  },
  {
   "cell_type": "code",
   "execution_count": null,
   "id": "6854bedd",
   "metadata": {},
   "outputs": [],
   "source": [
    "# distance from polygons high traffic "
   ]
  },
  {
   "cell_type": "code",
   "execution_count": null,
   "id": "56ad600b",
   "metadata": {},
   "outputs": [],
   "source": [
    "# distacne from high traffic polygons\n",
    "%time\n",
    "import geopandas\n",
    "alldist =[]\n",
    "\n",
    "for z,i in enumerate(starts.coords):\n",
    "    alldist.clear()\n",
    "    temp = i\n",
    "    for x in polygonlist_: \n",
    "    \n",
    "        t = geopandas.GeoSeries(x)\n",
    "        t2 = geopandas.GeoSeries(Point(temp))\n",
    "    \n",
    "        alldist.append(t.distance(t2)[0])\n",
    "    starts.loc[z,'poly_distances'] = min(alldist)\n",
    "    print(min(alldist))\n",
    " "
   ]
  },
  {
   "cell_type": "code",
   "execution_count": null,
   "id": "33149569",
   "metadata": {},
   "outputs": [],
   "source": [
    "min(starts.poly_distances)"
   ]
  },
  {
   "cell_type": "code",
   "execution_count": null,
   "id": "d49eac56",
   "metadata": {
    "scrolled": true
   },
   "outputs": [],
   "source": [
    "%time\n",
    "for z,i in enumerate(ends.coords):\n",
    "    alldist.clear()\n",
    "    temp = i\n",
    "    for x in polygonlist_: \n",
    "    \n",
    "        t = geopandas.GeoSeries(x)\n",
    "        t2 = geopandas.GeoSeries(Point(temp))\n",
    "    \n",
    "        alldist.append(t.distance(t2)[0])\n",
    "    ends.loc[z,'poly_distances'] = min(alldist)"
   ]
  },
  {
   "cell_type": "code",
   "execution_count": null,
   "id": "3418d132",
   "metadata": {},
   "outputs": [],
   "source": [
    "min(ends.poly_distances)"
   ]
  },
  {
   "cell_type": "code",
   "execution_count": null,
   "id": "acf0184c",
   "metadata": {},
   "outputs": [],
   "source": [
    "print(starts1.isna().sum())\n",
    "starts1.dropna(inplace=True)"
   ]
  },
  {
   "cell_type": "code",
   "execution_count": null,
   "id": "28a6667a",
   "metadata": {},
   "outputs": [],
   "source": [
    "# Zip codes "
   ]
  },
  {
   "cell_type": "code",
   "execution_count": null,
   "id": "9d08765a",
   "metadata": {},
   "outputs": [],
   "source": [
    "starts1.coords"
   ]
  },
  {
   "cell_type": "code",
   "execution_count": null,
   "id": "a966d654",
   "metadata": {},
   "outputs": [],
   "source": [
    "starts1.coords = [str(i).replace(')','') for i  in starts1.coords]\n",
    "starts1.coords = [i.replace('(','') for i  in starts1.coords]\n"
   ]
  },
  {
   "cell_type": "code",
   "execution_count": null,
   "id": "27c09c9c",
   "metadata": {},
   "outputs": [],
   "source": [
    "starts1.coords"
   ]
  },
  {
   "cell_type": "code",
   "execution_count": null,
   "id": "3b29ef9f",
   "metadata": {},
   "outputs": [],
   "source": [
    "# zip codes \n",
    "import geopy\n",
    "import pandas as pd\n",
    "import time"
   ]
  },
  {
   "cell_type": "code",
   "execution_count": null,
   "id": "61025507",
   "metadata": {},
   "outputs": [],
   "source": [
    "%time\n",
    "geolocator = geopy.Nominatim(user_agent='Mozilla/5.0 (Windows NT 10.0; Win64; x64) AppleWebKit/537.36 (KHTML, like Gecko) Chrome/99.0.4844.51 Safari/537.36',timeout =10)"
   ]
  },
  {
   "cell_type": "code",
   "execution_count": null,
   "id": "90156d35",
   "metadata": {},
   "outputs": [],
   "source": [
    "\n",
    "starts1['start_Zipcode']= list(map(lambda x: geolocator.reverse(x).raw['address']['postcode'], starts1['coords']))"
   ]
  },
  {
   "cell_type": "code",
   "execution_count": null,
   "id": "2e4aea5d",
   "metadata": {},
   "outputs": [],
   "source": [
    "time.sleep(.5)\n",
    "for z,i in enumerate(starts1.coords):\n",
    "    \n",
    "    location = geolocator.reverse(i)\n",
    "    if 'postcode'in location.raw['address'].keys():\n",
    "        starts1.loc[z,'start_Zipcode']= location.raw['address']['postcode']\n",
    "    else:\n",
    "        starts1.loc[z,'start_Zipcode']= np.nan\n",
    "    print(z)\n",
    "    "
   ]
  },
  {
   "cell_type": "code",
   "execution_count": null,
   "id": "5c4a1bee",
   "metadata": {},
   "outputs": [],
   "source": [
    "for z,i in enumerate(ends1.coords):\n",
    "    location = geolocator.reverse(i)\n",
    "    if 'postcode' in location.raw['address'].keys():\n",
    "        ends1.loc[z,'start_Zipcode']= location.raw['address']['postcode']\n",
    "    else:\n",
    "        ends1.loc[z,'start_Zipcode']= np.nan"
   ]
  },
  {
   "cell_type": "code",
   "execution_count": null,
   "id": "7236de2d",
   "metadata": {},
   "outputs": [],
   "source": [
    "%time\n",
    "def get_zip():\n",
    "    for z,i in enumerate(starts1.coords):\n",
    "        location = geolocator.reverse(i)\n",
    "        if 'postcode'in location.raw['address'].keys():\n",
    "            starts1.loc[z,'start_Zipcode']= location.raw['address']['postcode']\n",
    "        else:\n",
    "            starts1.loc[z,'start_Zipcode']= np.nan\n",
    "\n",
    "\n",
    "    for z,i in enumerate(ends1.coords):\n",
    "        location = geolocator.reverse(i)\n",
    "        if 'postcode' in location.raw['address'].keys():\n",
    "            ends1.loc[z,'start_Zipcode']= location.raw['address']['postcode']\n",
    "        else:\n",
    "            ends1.loc[z,'start_Zipcode']= np.nan"
   ]
  },
  {
   "cell_type": "code",
   "execution_count": null,
   "id": "6ad6da96",
   "metadata": {
    "scrolled": true
   },
   "outputs": [],
   "source": [
    "\n",
    "\n",
    "distances = []\n",
    "mindistances =[]\n",
    "\n",
    "for z,i in enumerate(subwaydistancelatdfNYC.coords):\n",
    "    distances.clear()\n",
    "        \n",
    "    for x in subwaydf.the_geom:\n",
    "        distances.append(geodesic(x,i).miles)\n",
    "      \n",
    "    subwaydistancelatdfNYC.loc[z,'subway_distances']=(min(distances))"
   ]
  },
  {
   "cell_type": "code",
   "execution_count": null,
   "id": "2f3bf0bf",
   "metadata": {},
   "outputs": [],
   "source": [
    "len(subwaydistancelatdfNYC)\n"
   ]
  },
  {
   "cell_type": "code",
   "execution_count": null,
   "id": "44a91653",
   "metadata": {},
   "outputs": [],
   "source": [
    "print(subwaydistancelatdfNYC.isna().sum())"
   ]
  },
  {
   "cell_type": "code",
   "execution_count": null,
   "id": "7b1f12f2",
   "metadata": {},
   "outputs": [],
   "source": [
    "len(mindistances)\n"
   ]
  },
  {
   "cell_type": "code",
   "execution_count": null,
   "id": "689c7997",
   "metadata": {},
   "outputs": [],
   "source": [
    "# for i in subwaycoords:\n",
    "#     i= tuple(reversed(i))\n",
    "          \n"
   ]
  },
  {
   "cell_type": "markdown",
   "id": "ac39a3d0",
   "metadata": {},
   "source": [
    "## GRAPHING / DISTANCES "
   ]
  },
  {
   "cell_type": "code",
   "execution_count": null,
   "id": "826f9cdc",
   "metadata": {},
   "outputs": [],
   "source": [
    "subwaydf.the_geom.head()"
   ]
  },
  {
   "cell_type": "code",
   "execution_count": null,
   "id": "c102f7f1",
   "metadata": {
    "scrolled": true
   },
   "outputs": [],
   "source": [
    "import networkx as nx\n",
    "import osmnx as ox"
   ]
  },
  {
   "cell_type": "code",
   "execution_count": null,
   "id": "71e93828",
   "metadata": {},
   "outputs": [],
   "source": [
    "graph_area = (\"New York City, New York, USA\")\n",
    "\n",
    "G = ox.graph_from_place(graph_area, network_type='drive')\n",
    "ox.plot_graph(G)"
   ]
  },
  {
   "cell_type": "code",
   "execution_count": null,
   "id": "1b722640",
   "metadata": {},
   "outputs": [],
   "source": [
    "# Parks \n",
    "# ferry \n",
    "# busstops \n",
    "# major transit hubs\n",
    "\n"
   ]
  },
  {
   "cell_type": "markdown",
   "id": "23232d98",
   "metadata": {},
   "source": [
    "## bus distances "
   ]
  },
  {
   "cell_type": "code",
   "execution_count": null,
   "id": "3b52eb78",
   "metadata": {},
   "outputs": [],
   "source": [
    "busdf = pd.read_csv('Bus_Stop_Shelter.csv')\n",
    "\n",
    "print(busdf.columns)\n",
    "busdf['coords'] = list(zip(busdf['LATITUDE'],busdf['LONGITUDE']))\n",
    "print(busdf.isna().sum())\n",
    "busdf.LATITUDE.drop_duplicates(inplace =True)\n",
    "len(busdf.LATITUDE)\n",
    "print(busdf.LATITUDE[1])"
   ]
  },
  {
   "cell_type": "code",
   "execution_count": null,
   "id": "bbcbbf3f",
   "metadata": {
    "scrolled": true
   },
   "outputs": [],
   "source": [
    "import geopy.distance\n",
    "from geopy.distance import geodesic\n",
    "from tqdm import tqdm\n",
    "\n",
    "busdistances = []\n",
    "\n",
    "\n",
    "for z,i in enumerate(subwaydistancelatdfNYC.coords):\n",
    "    busdistances.clear()\n",
    "        \n",
    "    for x in busdf.coords:\n",
    "        busdistances.append(geodesic(x,i).miles)\n",
    "       \n",
    "    subwaydistancelatdfNYC.loc[z,'bus_distances']=(min(busdistances))"
   ]
  },
  {
   "cell_type": "code",
   "execution_count": null,
   "id": "b50194d0",
   "metadata": {},
   "outputs": [],
   "source": [
    "print(subwaydistancelatdfNYC.isna().sum())"
   ]
  },
  {
   "cell_type": "markdown",
   "id": "11e65012",
   "metadata": {},
   "source": [
    "## park distances "
   ]
  },
  {
   "cell_type": "code",
   "execution_count": null,
   "id": "de608bea",
   "metadata": {},
   "outputs": [],
   "source": [
    "parksdf= pd.read_csv('OpenData_ParksProperties.csv')"
   ]
  },
  {
   "cell_type": "code",
   "execution_count": null,
   "id": "c9b406ad",
   "metadata": {
    "scrolled": true
   },
   "outputs": [],
   "source": [
    "print(parksdf.isna().sum())\n",
    "print(parksdf.size)\n"
   ]
  },
  {
   "cell_type": "code",
   "execution_count": null,
   "id": "c0543e03",
   "metadata": {},
   "outputs": [],
   "source": [
    "parksdf.the_geom=[i.strip('MULTIPOLYGON ')for i in parksdf.the_geom]\n",
    "parksdf.the_geom=[i.replace(',','') for i in parksdf.the_geom]\n",
    "parksdf.the_geom=[i.strip('(' and ')') for i in parksdf.the_geom]\n",
    "\n",
    "\n",
    "parksdf.the_geom=[i.strip('(') for i in parksdf.the_geom]\n",
    "\n",
    "parksdf.the_geom=[i.strip(')') for i in parksdf.the_geom]\n",
    "parksdf.the_geom=[i.strip('))') for i in parksdf.the_geom]\n",
    "parksdf.the_geom=[i.strip(')))') for i in parksdf.the_geom]\n",
    "parksdf.the_geom=[i.replace(')','') for i in parksdf.the_geom]\n",
    "parksdf.the_geom=[i.replace('(','') for i in parksdf.the_geom]\n",
    "# =[i.strip('(' and ')') for i in parksdf.the_geom]"
   ]
  },
  {
   "cell_type": "code",
   "execution_count": null,
   "id": "10cbdca1",
   "metadata": {},
   "outputs": [],
   "source": [
    "parksdf.the_geom=[i.split(' ') for i in parksdf.the_geom]\n",
    "   "
   ]
  },
  {
   "cell_type": "code",
   "execution_count": null,
   "id": "e518d996",
   "metadata": {},
   "outputs": [],
   "source": [
    "badlist = parksdf.the_geom\n",
    "\n",
    "def get_coords(x):\n",
    "    longs = []\n",
    "    lats = []\n",
    "    for i in range(0, len(x)):\n",
    "        if i % 2:\n",
    "            lats.append(float(x[i]))\n",
    "        else :\n",
    "            longs.append(float(x[i]))\n",
    "\n",
    "    return list(zip(lats,longs))\n",
    "        "
   ]
  },
  {
   "cell_type": "code",
   "execution_count": null,
   "id": "a0d138c7",
   "metadata": {},
   "outputs": [],
   "source": [
    "parksdf.the_geom = parksdf.the_geom.apply(lambda x: get_coords(x))"
   ]
  },
  {
   "cell_type": "code",
   "execution_count": null,
   "id": "6d45cc35",
   "metadata": {},
   "outputs": [],
   "source": [
    "# shapely polygon each list of geom coordinates \n",
    "\n",
    "from shapely.geometry import Polygon, Point\n",
    "\n",
    "\n",
    "parkspolys = []\n",
    "for i in parksdf.the_geom: \n",
    "    parkspolys.append(Polygon(i))\n",
    "   "
   ]
  },
  {
   "cell_type": "code",
   "execution_count": null,
   "id": "ab940202",
   "metadata": {},
   "outputs": [],
   "source": [
    "stations = pd.read_feather('stations.feather')\n",
    "stations['coords2'] = list(zip(stations['lat'],stations['lon']))\n",
    "stations.coords= stations.coords.apply(lambda x: (float(x[0]),float(x[1])))\n",
    "stations.coords"
   ]
  },
  {
   "cell_type": "code",
   "execution_count": null,
   "id": "35156c70",
   "metadata": {
    "scrolled": false
   },
   "outputs": [],
   "source": [
    "\n",
    "\n",
    "\n",
    "parkdist =[]\n",
    "\n",
    "\n",
    "for z,i in enumerate(stations.coords):\n",
    "    parkdist.clear()\n",
    "    temp = i\n",
    "    print(z)\n",
    "    for x in parkspolys: \n",
    "        t = geopandas.GeoSeries(x)\n",
    "        t2 = geopandas.GeoSeries(Point(temp))\n",
    "        parkdist.append(t.distance(t2)[0])\n",
    "      \n",
    "    stations.loc[z,'park_distances'] = min(parkdist)"
   ]
  },
  {
   "cell_type": "code",
   "execution_count": null,
   "id": "8cf1bb85",
   "metadata": {
    "scrolled": true
   },
   "outputs": [],
   "source": [
    "stations.park_distances"
   ]
  },
  {
   "cell_type": "markdown",
   "id": "df905491",
   "metadata": {},
   "source": [
    "## basic map "
   ]
  },
  {
   "cell_type": "code",
   "execution_count": null,
   "id": "09c677a9",
   "metadata": {},
   "outputs": [],
   "source": [
    "import folium"
   ]
  },
  {
   "cell_type": "code",
   "execution_count": null,
   "id": "07d3b56f",
   "metadata": {},
   "outputs": [],
   "source": [
    "mcircle = folium.Map(location=[40.723714, -73.959532], zoom_start=12,tiles='Stamen Terrain' )\n",
    "\n",
    "folium.Circle(\n",
    "    radius=100,\n",
    "    location=[40.761073, -73.970325],\n",
    "    popup=\"Midtown\",\n",
    "    color=\"crimson\",\n",
    "    fill=True,\n",
    ").add_to(mcircle)\n",
    "mcircle"
   ]
  },
  {
   "cell_type": "code",
   "execution_count": null,
   "id": "83572186",
   "metadata": {
    "scrolled": true
   },
   "outputs": [],
   "source": [
    "import folium\n",
    "\n",
    "\n",
    "m = folium.Map(location=[40.723714, -73.959532], zoom_start=10)\n",
    "\n",
    "    \n",
    "for indice, row in dfmap.iterrows():\n",
    "    folium.Marker(\n",
    "        location=[row[\"start_lat\"], row[\"start_lng\"]],\n",
    "        popup=row['start_station_name'],\n",
    "        icon=folium.map.Icon(color='blue')\n",
    "    ).add_to(m)\n",
    "    \n",
    "for indice, row in dfmap2.iterrows():\n",
    "    folium.Marker(\n",
    "        location=[row[\"start_lat\"], row[\"start_lng\"]],\n",
    "        popup=row['start_station_name'],\n",
    "        icon=folium.map.Icon(color='blue')\n",
    "    ).add_to(m)\n",
    "\n",
    "\n",
    "\n",
    "m"
   ]
  },
  {
   "cell_type": "markdown",
   "id": "7f0e4b35",
   "metadata": {},
   "source": [
    "## Polygon of High Traffic areas as show by google maps "
   ]
  },
  {
   "cell_type": "code",
   "execution_count": null,
   "id": "bf4d0a9a",
   "metadata": {},
   "outputs": [],
   "source": [
    "chelseapoly = [(40.743444, -74.007521),(40.741112, -74.001775),(40.738586, -74.003627),(40.740180, -74.009236)]\n",
    "\n",
    "hudsonyardspoly = [(40.754237, -73.999560),(40.748296, -74.003720),(40.751239, -74.008032),(40.754441, -74.006523)]\n",
    "\n",
    "upperwestsidepoly =[(40.787947, -73.976628),(40.786461, -73.972250),(40.777170, -73.978979),(40.779173, -73.983053)]\n",
    "uppereastsidepoly =[(40.781996, -73.951659),(40.780173, -73.947053),(40.767879, -73.956147),(40.768991, -73.958335)]\n",
    "\n",
    "manhattanvalleypoly = [(40.793000, -73.973780), (40.791857, -73.971255),(40.802812, -73.963587),(40.804593, -73.966323)]\n",
    "\n",
    "northcentralparkpoly = [(40.806877, -73.954236),(40.804820, -73.953624),(40.801279, -73.947903),\n",
    "                        (40.803268, -73.954759),(40.801733, -73.956929),(40.802100, -73.957736)]\n",
    "\n",
    "centralharmlempoly = [(40.811595, -73.951944),(40.805072, -73.936918),(40.803842, -73.937813),(40.810282, -73.953519)]\n",
    "\n",
    "striversrowpoly =[(40.817539, -73.946912),(40.814871, -73.942518),(40.812597, -73.945129),(40.813080, -73.946241),\n",
    "                  (40.814882, -73.944873),(40.815814, -73.947132)]\n",
    "\n",
    "sugarhillpoly =[(40.830471, -73.947740),(40.829053, -73.944883),(40.822017, -73.950119),(40.823251, -73.953070),(\n",
    "40.823251, -73.953070)]\n",
    "\n",
    "midtownpoly =[(40.752172, -73.992732), (40.755401, -73.994286), (40.760237, -73.991181),\n",
    "                (40.752040, -73.982192), (40.744962, -73.986951),(40.747290, -73.989538),(40.749871, -73.987852)]\n",
    "\n",
    "diamonddistrictpoly = [(40.761100, -73.979588), (40.757113, -73.982420),(40.755552, -73.977468),\n",
    "                (40.759106, -73.974907)]\n",
    "\n",
    "midtowneastpoly =[(40.761073, -73.970325), (40.759004, -73.965620),(40.754328, -73.968978),\n",
    "                (40.756285, -73.973816)]\n",
    "\n",
    "unionsqpoly = [(40.741606, -73.991612), (40.740153, -73.985912),(40.734924, -73.989831),\n",
    "                (40.736142, -73.993679)]\n",
    "lespoly =[(40.730396, -73.986388), (40.728311, -73.982061),(40.717995, -73.988481),\n",
    "                (40.718878, -73.990608)]\n",
    "\n",
    "batterypoly =[(40.714912, -74.011333), (40.716416, -74.006217),(40.705548, -74.007962),\n",
    "                (40.703494, -74.011730)]\n",
    "\n",
    "lwspoly =[(40.736332, -74.000850), (40.735229, -74.005158),(40.728107, -74.002226),\n",
    "                (40.727124, -73.999801),(40.729327, -73.997966),(40.731648, -74.000936),(40.734133, -73.999883)]\n",
    "\n",
    "sohopoly =[(40.726551, -74.002222), (40.724359, -73.993556),(40.716517, -73.997021),\n",
    "                (40.722027, -74.005334)]\n",
    "\n",
    "washheights = [(40.851729, -73.938787), (40.850820, -73.939386),(40.849625, -73.937075),(40.843491, -73.939899)\n",
    "               ,(40.842901, -73.937661),(40.855729, -73.928286), (40.856464, -73.929483),(40.850747, -73.934289)]\n",
    "\n",
    "lincolnsq = [(40.776022, -73.983067),(40.774816, -73.980548),(40.772549, -73.980942),(40.770342, -73.981462)\n",
    "             ,(40.771546, -73.984403)]\n",
    "\n",
    "eastharlem = [(40.799649, -73.941970),(40.798278, -73.943042),(40.796307, -73.938227),\n",
    "              (40.797623, -73.937170),(40.799265, -73.939026),(40.799569, -73.941689)]\n",
    "\n",
    "onetwelvestreet =[(40.794991, -73.942906),(40.793699, -73.939830),(40.791327, -73.941670),(40.792403, -73.944156)]\n",
    "\n",
    "inwood = [(40.866627, -73.928608),(40.868973, -73.920062),(40.864191, -73.918197),(40.863709, -73.919701)\n",
    "          ,(40.866928, -73.921661),(40.865581, -73.926024),(40.861972, -73.924191),(40.860061, -73.928164),\n",
    "         (40.860734, -73.928610),(40.862052, -73.925980),(40.865103, -73.927822)]\n",
    "\n",
    "kingswood = [(40.885251, -73.901128),(40.884183, -73.898253),(40.876792, -73.904074)\n",
    "             ,(40.878170, -73.906521),(40.879817, -73.906555)]\n",
    "\n",
    "vinegar = [(40.704308, -73.983806),(40.701528, -73.986239),(40.701795, -73.990745),\n",
    "           (40.703030, -73.994265),(40.703927, -73.993345),(40.703865, -73.989203),(40.704437, -73.986109)]\n",
    "\n",
    "bkheights =[(40.696571, -73.995161),(40.694703, -73.996111),(40.693438, -73.991464)\n",
    "            ,(40.691151, -73.992298),(40.691365, -73.990421),(40.694380, -73.990482)]\n",
    "\n",
    "livingstonbk =[(40.692790, -73.987294),(40.692070, -73.982638),(40.689298, -73.983224)\n",
    "               ,(40.689905, -73.984880),(40.687860, -73.985823),(40.687081, -73.983790),\n",
    "               (40.686309, -73.984368),(40.688062, -73.988902),(40.681009, -73.993634),(40.681920, -73.996740),\n",
    "              (40.689229, -73.993214),(40.690713, -73.997965),(40.691733, -73.997177),(40.689320, -73.989099)\n",
    "               ,(40.692566, -73.987331)]\n",
    "fortgreen = [(40.687462, -73.976696),(40.687338, -73.973965),(40.685292, -73.973226),(40.685325, -73.975232)]\n",
    "\n",
    "prospectheights =[(40.683397, -73.976704),(40.665389, -73.990061),(40.664712, -73.989305),(40.680536, -73.976759)\n",
    "                  ,(40.679931, -73.975085),(40.675216, -73.971706),(40.676194, -73.970877),(40.683120, -73.974327)]\n",
    "\n",
    "seventhavebk =[(40.675882, -73.974972),(40.675409, -73.973896),(40.664676, -73.982471),(40.665369, -73.983679)]\n",
    "\n",
    "williamsburg =[(40.716592, -73.966422),(40.723585, -73.958136),(40.718674, -73.953228),(40.715482, -73.957077),\n",
    "               (40.714097, -73.955003),(40.710070, -73.957927),(40.710492, -73.959026),(40.712788, -73.958722),\n",
    "               (40.713798, -73.961053),(40.711709, -73.962403),(40.712188, -73.963311),(40.714631, -73.963619)]\n",
    "\n",
    "sunsetpark = [(40.643972, -74.005281),(40.636451, -74.014081),(40.633825, -74.009978), (40.643568, -74.000305)]\n",
    "\n",
    "boroughpark =[(40.638576, -73.995009),(40.631162, -73.996129),(40.633377, -73.992388),\n",
    "              (40.632664, -73.990234),(40.638431, -73.984122),(40.642145, -73.985707),(40.636841, -73.992097)]\n",
    "\n",
    "bayridge =[(40.636519, -74.026557),(40.633801, -74.019906),(40.620953, -74.025302),(40.621951, -74.032301),(40.636731, -74.026540)]\n",
    "\n",
    "\n",
    "littlecarribean =[(40.663008, -73.962586),(40.663348, -73.959945),(40.652306, -73.957958),\n",
    "                  (40.652553, -73.946943),(40.647069, -73.949099),(40.649743, -73.950538),\n",
    "                  (40.649449, -73.957756),(40.644453, -73.956579),(40.645312, -73.959031)]\n",
    "\n",
    "bedstuy =[(40.684011, -73.963687),(40.681027, -73.963266),(40.679785, -73.950581),(40.670903, -73.951042),\n",
    "         (40.670903, -73.949751),(40.679637, -73.948809),(40.679229, -73.938550),(40.680426, -73.938553)]\n",
    "\n",
    "bushwick = [(40.705355, -73.931162),(40.698076, -73.918366),(40.699714, -73.904322),(40.701088, -73.904833),\n",
    "           (40.700285, -73.918548),(40.706146, -73.928658)]\n",
    "\n",
    "greenpoint =[(40.733360, -73.959186),(40.734077, -73.953951),(40.724489, -73.950240),(40.726067, -73.945973),\n",
    "             (40.724903, -73.945599),(40.721761, -73.950592),(40.728550, -73.954563),(40.728275, -73.959381)]\n",
    "\n",
    "sunnyside =[(40.745692, -73.923944),(40.744787, -73.916535),(40.740892, -73.917136),(40.741187, -73.920300),(40.743408, -73.926252)]\n",
    "\n",
    "\n",
    "queens = [(40.764472, -73.927576),(40.762579, -73.929175),(40.757631, -73.918995),(40.768682, -73.909900),\n",
    "          (40.769015, -73.911786),(40.764832, -73.915382),(40.766621, -73.919451),(40.765464, -73.920368),\n",
    "          (40.763691, -73.916229),(40.759988, -73.919353),(40.764218, -73.927661)]\n",
    "\n",
    "astoria = [(40.774204, -73.915283),(40.772485, -73.913221),(40.773066, -73.911112),(40.774830, -73.909865)\n",
    "           ,(40.772552, -73.906525),(40.773351, -73.905537),(40.777095, -73.909569),(40.776832, -73.911632),\n",
    "           (40.774327, -73.914736)]\n",
    "\n",
    "newportJC = [(40.729471, -74.039705),(40.729322, -74.034221),(40.724464, -74.036093),(40.725099, -74.040453)]\n",
    "\n",
    "JCdowntown =[(40.725282, -74.050600),(40.724474, -74.051943),(40.719173, -74.044501),(40.717029, -74.044992),\n",
    "             (40.716599, -74.041995),(40.718433, -74.040961),(40.717747, -74.038907),(40.716247, -74.039196),\n",
    "             (40.715137, -74.036542),\n",
    "            (40.713058, -74.036992),(40.712690, -74.033334),(40.717716, -74.032942),\n",
    "             (40.721626, -74.041601),(40.723598, -74.048129),(40.725741, -74.051127)]\n",
    "\n",
    "hoboken =[(40.737566, -74.035612),(40.738733, -74.035288),(40.738243, -74.032500),\n",
    "          (40.740017, -74.031023),(40.751208, -74.027435),(40.751078, -74.026201),\n",
    "          (40.739232, -74.029721),(40.738759, -74.027299),(40.735668, -74.028130),\n",
    "          (40.735581, -74.031475),(40.737080, -74.032039),(40.737617, -74.035569)]\n",
    "\n",
    "\n",
    "\n",
    "polygonlist = [sohopoly,lwspoly,batterypoly,lespoly,unionsqpoly,\n",
    "               midtowneastpoly,diamonddistrictpoly,midtownpoly, sugarhillpoly,\n",
    "              striversrowpoly,centralharmlempoly,northcentralparkpoly,uppereastsidepoly,upperwestsidepoly,\n",
    "               hudsonyardspoly,chelseapoly,hoboken,JCdowntown,newportJC,astoria,\n",
    "               queens,sunnyside,greenpoint,bushwick,bedstuy,\n",
    "               littlecarribean,bayridge,boroughpark,sunsetpark,williamsburg,\n",
    "               seventhavebk,prospectheights,fortgreen,livingstonbk,bkheights,vinegar,\n",
    "               inwood,kingswood,onetwelvestreet,eastharlem,lincolnsq,washheights]\n",
    "\n",
    "\n",
    "\n",
    "\n",
    "\n",
    "\n",
    "\n"
   ]
  },
  {
   "cell_type": "code",
   "execution_count": null,
   "id": "18074e43",
   "metadata": {
    "scrolled": true
   },
   "outputs": [],
   "source": [
    "import folium\n",
    "from folium.features import DivIcon\n",
    "import geojson\n",
    "\n"
   ]
  },
  {
   "cell_type": "code",
   "execution_count": null,
   "id": "950297f5",
   "metadata": {
    "scrolled": true
   },
   "outputs": [],
   "source": [
    "point_name = 'midtown'\n",
    "point = [40.753204, -73.988509]\n",
    "# Map it!\n",
    "mpoly = folium.Map(location=point, zoom_start=12, tiles='cartodbpositron')\n",
    "\n",
    "for i in polygonlist:\n",
    "\n",
    "    folium.Polygon(i,\n",
    "                   weight=2,\n",
    "                   color=\"green\",\n",
    "                   fill_color=\"blue\",\n",
    "                   fill_opacity=0.3).add_to(mpoly)\n",
    "mpoly"
   ]
  },
  {
   "cell_type": "markdown",
   "id": "454d42fd",
   "metadata": {},
   "source": [
    "## high density feature "
   ]
  },
  {
   "cell_type": "code",
   "execution_count": null,
   "id": "0331002b",
   "metadata": {},
   "outputs": [],
   "source": [
    "import geopandas"
   ]
  },
  {
   "cell_type": "code",
   "execution_count": null,
   "id": "0936ded4",
   "metadata": {},
   "outputs": [],
   "source": [
    "# useing shapely polygon function to polygon each high traffic coordinates\n",
    "\n",
    "polygonlist_ = [Polygon(x) for x in polygonlist]\n",
    "\n",
    "polygonlist_"
   ]
  },
  {
   "cell_type": "markdown",
   "id": "d311edf9",
   "metadata": {},
   "source": [
    "## high density area boolean"
   ]
  },
  {
   "cell_type": "code",
   "execution_count": null,
   "id": "ccb0bbe8",
   "metadata": {},
   "outputs": [],
   "source": [
    "from shapely.geometry import Polygon, Point"
   ]
  },
  {
   "cell_type": "code",
   "execution_count": null,
   "id": "6544a0f8",
   "metadata": {},
   "outputs": [],
   "source": [
    "## stations one \n",
    "\n",
    "from shapely.geometry import Polygon, Point\n",
    "stations['high_traffic'] = 0\n",
    "\n",
    "for z,i in enumerate(stations.coords):\n",
    "    for x in polygonlist_:\n",
    "        if  Point(i).within(x) == True: \n",
    "            stations.loc[z,'high_traffic'] = 1 \n",
    "            break"
   ]
  },
  {
   "cell_type": "code",
   "execution_count": null,
   "id": "7b6ad747",
   "metadata": {},
   "outputs": [],
   "source": [
    "from shapely.geometry import Polygon, Point\n",
    "subwaydistancelatdfNYC['high_traffic'] = 0\n",
    "\n",
    "for z,i in enumerate(subwaydistancelatdfNYC.coords):\n",
    "    for x in polygonlist_:\n",
    "        print(z)\n",
    "        if  Point(i).within(x) == True: \n",
    "            subwaydistancelatdfNYC.loc[z,'high_traffic'] = 1 \n",
    "            break"
   ]
  },
  {
   "cell_type": "markdown",
   "id": "caa23c2f",
   "metadata": {},
   "source": [
    "## distance from polygons to dockstations"
   ]
  },
  {
   "cell_type": "code",
   "execution_count": null,
   "id": "2d0a4c0d",
   "metadata": {},
   "outputs": [],
   "source": [
    "# stations polygon distance \n",
    "from shapely.geometry import Polygon, Point\n",
    "import geopandas\n",
    "alldist =[]\n",
    "polygondist = []\n",
    "\n",
    "for z,i in enumerate(stations.coords):\n",
    "    alldist.clear()\n",
    "    temp = i\n",
    "    for x in polygonlist_: \n",
    "        print(z)\n",
    "    \n",
    "        t = geopandas.GeoSeries(Polygon(x))\n",
    "        t2 = geopandas.GeoSeries(Point(temp))\n",
    "    \n",
    "        alldist.append(t.distance(t2)[0])\n",
    "    stations.loc[z,'Commercial_distances'] = min(alldist)"
   ]
  },
  {
   "cell_type": "code",
   "execution_count": null,
   "id": "edbd8034",
   "metadata": {},
   "outputs": [],
   "source": [
    "import geopandas\n",
    "alldist =[]\n",
    "polygondist = []\n",
    "\n",
    "for z,i in enumerate(subwaydistancelatdfNYC.coords):\n",
    "    alldist.clear()\n",
    "    temp = i\n",
    "    for x in polygonlist: \n",
    "    \n",
    "        t = geopandas.GeoSeries(Polygon(x))\n",
    "        t2 = geopandas.GeoSeries(Point(temp))\n",
    "    \n",
    "        alldist.append(t.distance(t2)[0])\n",
    "    subwaydistancelatdfNYC.loc[z,'poly_distances'] = min(alldist)\n",
    "   "
   ]
  },
  {
   "cell_type": "markdown",
   "id": "07673c3c",
   "metadata": {},
   "source": [
    "## Weather Data"
   ]
  },
  {
   "cell_type": "code",
   "execution_count": null,
   "id": "c6be1e05",
   "metadata": {},
   "outputs": [],
   "source": [
    "precipdf = pd.read_csv('precipitationdata.csv')"
   ]
  },
  {
   "cell_type": "code",
   "execution_count": null,
   "id": "c699adbf",
   "metadata": {},
   "outputs": [],
   "source": [
    "print(precipdf.size)\n",
    "print(precipdf.isna().sum())\n",
    "print(precipdf.columns)"
   ]
  },
  {
   "cell_type": "code",
   "execution_count": null,
   "id": "2c45343f",
   "metadata": {},
   "outputs": [],
   "source": [
    "citytempdf= pd.read_csv('city_temp\\city_temperature.csv',parse_dates= {\"date\" : [\"Year\",\"Month\",\"Day\"]})\n"
   ]
  },
  {
   "cell_type": "code",
   "execution_count": null,
   "id": "3459ad2c",
   "metadata": {},
   "outputs": [],
   "source": [
    "pd.options.display.max_rows = 400\n",
    "z =citytempdf.loc[citytempdf.City =='New York City']\n",
    "z['date'] = pd.to_datetime(z.date)\n",
    "z = z.loc[z['date'] > '2013-01-01']\n"
   ]
  },
  {
   "cell_type": "code",
   "execution_count": null,
   "id": "a39e0278",
   "metadata": {},
   "outputs": [],
   "source": [
    "precipdf.dropna(inplace=True)"
   ]
  },
  {
   "cell_type": "code",
   "execution_count": null,
   "id": "e2cf528b",
   "metadata": {},
   "outputs": [],
   "source": [
    "precipdf.hour_beginning.sort_values(ascending = True)"
   ]
  },
  {
   "cell_type": "code",
   "execution_count": null,
   "id": "712d5bd9",
   "metadata": {},
   "outputs": [],
   "source": [
    "year-month-day hour min seconds - military time "
   ]
  },
  {
   "cell_type": "code",
   "execution_count": null,
   "id": "d88b7243",
   "metadata": {},
   "outputs": [],
   "source": [
    "tempdf = pd.read_csv(\"NYCweatherdata2013-2017\\\\temperature.csv\")"
   ]
  },
  {
   "cell_type": "code",
   "execution_count": null,
   "id": "d32b02d6",
   "metadata": {},
   "outputs": [],
   "source": [
    "raindf= pd.read_csv(\"NYCweatherdata2013-2017\\\\weather_description.csv\")\n",
    "citydf= pd.read_csv(\"NYCweatherdata2013-2017\\\\city_attributes.csv\")"
   ]
  },
  {
   "cell_type": "code",
   "execution_count": null,
   "id": "72b4581d",
   "metadata": {},
   "outputs": [],
   "source": [
    "NYtempdf = tempdf[['datetime','New York']]"
   ]
  },
  {
   "cell_type": "code",
   "execution_count": null,
   "id": "94a71cae",
   "metadata": {},
   "outputs": [],
   "source": [
    "NYraindf = raindf[['datetime','New York']]"
   ]
  },
  {
   "cell_type": "code",
   "execution_count": null,
   "id": "cac9b49e",
   "metadata": {},
   "outputs": [],
   "source": [
    "weatherdf= pd.concat([NYtempdf,NYraindf], axis =1)"
   ]
  },
  {
   "cell_type": "code",
   "execution_count": null,
   "id": "9a08ab87",
   "metadata": {},
   "outputs": [],
   "source": [
    "weatherdf.dropna(inplace=True)"
   ]
  },
  {
   "cell_type": "code",
   "execution_count": null,
   "id": "df1ab0bd",
   "metadata": {},
   "outputs": [],
   "source": [
    "weatherdf2=NYraindf.merge(NYtempdf, on = 'datetime', how = 'left')\n"
   ]
  },
  {
   "cell_type": "markdown",
   "id": "7dafc55e",
   "metadata": {},
   "source": [
    "## Zip codes "
   ]
  },
  {
   "cell_type": "code",
   "execution_count": null,
   "id": "0e57cd60",
   "metadata": {},
   "outputs": [],
   "source": [
    "stations.drop('start_zipcode', axis = 1, inplace = True)"
   ]
  },
  {
   "cell_type": "code",
   "execution_count": null,
   "id": "8c2e5c64",
   "metadata": {},
   "outputs": [],
   "source": [
    "stations.to_feather('stations_with_features.feather')"
   ]
  },
  {
   "cell_type": "code",
   "execution_count": null,
   "id": "234e1efc",
   "metadata": {
    "scrolled": true
   },
   "outputs": [],
   "source": [
    "import geopy\n",
    "import pandas as pd\n",
    "import time\n",
    "\n",
    "geolocator = geopy.Nominatim(user_agent='Mozilla/5.0 (Windows NT 10.0; Win64; x64) AppleWebKit/537.36 (KHTML, like Gecko) Chrome/99.0.4844.51 Safari/537.36',timeout =10)\n",
    "\n",
    "\n",
    "for z,i in enumerate(stations.coords):\n",
    "\n",
    "    location = geolocator.reverse(i)\n",
    "    print(z)\n",
    "  \n",
    "    if 'postcode' in location.raw['address'].keys():\n",
    "        \n",
    "         stations.loc[z,'start_zipcode']= location.raw['address']['postcode']\n",
    "    else: \n",
    "         stations.loc[z,'start_zipcode']= np.nan\n",
    "\n",
    "%%time\n"
   ]
  },
  {
   "cell_type": "code",
   "execution_count": null,
   "id": "249eae37",
   "metadata": {},
   "outputs": [],
   "source": [
    "end_old_stations = pd.read_feather('more_old_stations.feather')\n",
    "end_old_stations.columns\n",
    "\n",
    "end_old_stations.end_coords= end_old_stations.end_coords.apply(lambda x: (float(x[0]),float(x[1])))\n",
    "end_old_stations.end_coords"
   ]
  },
  {
   "cell_type": "code",
   "execution_count": null,
   "id": "746d3afe",
   "metadata": {},
   "outputs": [],
   "source": [
    "old_stations = pd.read_feather('old_stations.feather')\n",
    "\n",
    "old_stations.start_coords= old_stations.start_coords.apply(lambda x: (float(x[0]),float(x[1])))\n",
    "old_stations.start_coords"
   ]
  },
  {
   "cell_type": "code",
   "execution_count": null,
   "id": "89d01574",
   "metadata": {},
   "outputs": [],
   "source": [
    "\n",
    "for z,i in enumerate(old_stations.start_coords):\n",
    "    location = geolocator.reverse(i)\n",
    "    print(z)\n",
    "    \n",
    "    if 'postcode' in location.raw['address'].keys():\n",
    "        \n",
    "        old_stations.loc[z,'start_zipcode']= location.raw['address']['postcode']\n",
    "    else: \n",
    "      \n",
    "        old_stations.loc[z,'start_zipcode']= np.nan\n"
   ]
  },
  {
   "cell_type": "code",
   "execution_count": null,
   "id": "a5685ac5",
   "metadata": {},
   "outputs": [],
   "source": [
    "# end old stations zips \n",
    "\n",
    "for z,i in enumerate(end_old_stations.end_coords):\n",
    "    location = geolocator.reverse(i)\n",
    "    print(z)\n",
    "    if 'postcode' in location.raw['address'].keys():\n",
    "        \n",
    "        end_old_stations.loc[z,'start_zipcode']= location.raw['address']['postcode']\n",
    "    else: \n",
    "      \n",
    "        end_old_stations.loc[z,'start_zipcode']= np.nan\n",
    "%%time  "
   ]
  },
  {
   "cell_type": "code",
   "execution_count": null,
   "id": "ffd9e37b",
   "metadata": {},
   "outputs": [],
   "source": [
    "end_old_stations.to_feather('final_end_old_stations.feather')"
   ]
  },
  {
   "cell_type": "code",
   "execution_count": null,
   "id": "893dc73e",
   "metadata": {},
   "outputs": [],
   "source": [
    "subwaydistancelatdfNYC.start_Zipcode"
   ]
  },
  {
   "cell_type": "code",
   "execution_count": null,
   "id": "3ac9b823",
   "metadata": {},
   "outputs": [],
   "source": [
    "pd.read_csv('citibike_polygon.csv')['start_Zipcode'].value_counts()"
   ]
  },
  {
   "cell_type": "markdown",
   "id": "7706e725",
   "metadata": {},
   "source": [
    "# basic EDA"
   ]
  },
  {
   "cell_type": "code",
   "execution_count": null,
   "id": "0f80d2e4",
   "metadata": {
    "scrolled": true
   },
   "outputs": [],
   "source": [
    "print(df.dtypes)\n",
    "\n",
    "print(df.rideable_type.value_counts())\n",
    "\n",
    "print(len(pd.unique(df.start_station_id)))\n",
    "\n",
    "print(len(pd.unique(df.end_station_id)))\n",
    "\n",
    "print(df.member_casual.value_counts())\n",
    "\n",
    "print(df.isna().sum())\n",
    "\n",
    "print(df[df.isna().any(axis=1)])"
   ]
  },
  {
   "cell_type": "code",
   "execution_count": null,
   "id": "cf63074a",
   "metadata": {},
   "outputs": [],
   "source": [
    "df[df['start_station_id']=='JC005']"
   ]
  },
  {
   "cell_type": "code",
   "execution_count": null,
   "id": "e192c18a",
   "metadata": {},
   "outputs": [],
   "source": [
    "print(df2.dtypes)\n",
    "print(df2014.dtypes)\n",
    "print(df2015.dtypes)\n",
    "print(df2016.dtypes)\n",
    "print(df2017.dtypes)\n",
    "print(df2018.dtypes)\n",
    "print(df2019.dtypes)\n",
    "print(df2020.dtypes)\n",
    "print(df2021.dtypes)"
   ]
  },
  {
   "cell_type": "code",
   "execution_count": null,
   "id": "0bf1726a",
   "metadata": {},
   "outputs": [],
   "source": [
    "# creating re order funciton for cleaning \n",
    "def Col_reorder(df):\n",
    "    df = df.reindex(['start_time','end_time','duration','start_station_name','start_station_id',\n",
    "                     'end_station_name','end_station_id', \n",
    "                     'start_lat','start_lng', 'end_lat','end_lng', 'user_type'], axis=1)"
   ]
  },
  {
   "cell_type": "code",
   "execution_count": null,
   "id": "a831d661",
   "metadata": {},
   "outputs": [],
   "source": [
    "df.drop('birth_year', 'gender','bike_id',axis =1)\n",
    "df.rename({'starttime':'start_time'}, axis=1, inplace = True)\n",
    "df.ranem({'Start Time' : 'start_time'}, axis=1, inplace= True)\n",
    "df.rename({'started_at' : 'start_time'}, axis=1, inplace = True)\n",
    "\n",
    "df.rename({'member_casual': 'user_type'}, axis =1, inplace = True)\n",
    "df.drop('ride_id','rideable_type', axis =1 )\n",
    "df.user_type.fillna('Customer')\n",
    "df.dropna(axis =0,inplace = True)"
   ]
  },
  {
   "cell_type": "code",
   "execution_count": null,
   "id": "e50bec60",
   "metadata": {},
   "outputs": [],
   "source": [
    "# creating rename columns for cleaning \n",
    "\n",
    "def Col_rename(df): \n",
    "    for i in list(df.columns): \n",
    "        if i in ['starttime','started_at','Start Time']:\n",
    "            df.rename({i:'start_time'}, axis=1, inplace = True)\n",
    "\n",
    "        if i in ['member_casual','User Type','usertype']:\n",
    "            df.rename({i: 'user_type'}, axis =1, inplace = True)\n",
    "\n",
    "        if i in ['tripduration' , 'Trip Duration']:\n",
    "            df.rename({i: 'duration'}, axis =1, inplace = True)\n",
    "\n",
    "        if i in ['stoptime'  , 'Stop Time'  ,'ended_at']:\n",
    "            df.rename({i: 'end_time'}, axis =1, inplace = True)\n",
    "\n",
    "        if i in ['start station id',  'Start Station ID' ]:\n",
    "            df.rename({i: 'start_station_id'}, axis =1, inplace = True)\n",
    "\n",
    "        if i in ['start station name' , 'Start Station Name' ]:\n",
    "            df.rename({i: 'start_station_name'}, axis =1, inplace = True)\n",
    "\n",
    "        if i in ['start station latitude' , 'Start Station Latitude' ]:\n",
    "            df.rename({i: 'start_lat'}, axis =1, inplace = True)\n",
    "\n",
    "        if i in ['start station longitude', 'Start Station Longitude' ]:\n",
    "            df.rename({i: 'start_lng'}, axis =1, inplace = True)\n",
    "\n",
    "        if i in ['end station id' , 'End Station ID' ]:\n",
    "            df.rename({i: 'end_station_id'}, axis =1, inplace = True)\n",
    "\n",
    "        if i in ['end station name' ,'End Station Name']:\n",
    "            df.rename({i: 'end_station_name'}, axis =1, inplace = True)\n",
    "\n",
    "        if i in ['end station latitude'  ,'End Station Latitude']:\n",
    "            df.rename({i: 'end_lat'}, axis =1, inplace = True)\n",
    "\n",
    "        if i in ['end station longitude', 'End Station Longitude']:\n",
    "            df.rename({i: 'end_lng'}, axis =1, inplace = True)\n"
   ]
  },
  {
   "cell_type": "code",
   "execution_count": null,
   "id": "f6e93b0b",
   "metadata": {},
   "outputs": [],
   "source": [
    "Col_rename(df2)\n"
   ]
  },
  {
   "cell_type": "markdown",
   "id": "f45dc564",
   "metadata": {},
   "source": [
    "# Scraping for Citi Bike Zip Files "
   ]
  },
  {
   "cell_type": "code",
   "execution_count": null,
   "id": "dc94bdfe",
   "metadata": {},
   "outputs": [],
   "source": [
    "import time\n",
    "from selenium.webdriver.common.by import By\n",
    "from selenium import webdriver "
   ]
  },
  {
   "cell_type": "code",
   "execution_count": null,
   "id": "32cf59f2",
   "metadata": {},
   "outputs": [],
   "source": [
    "driver = webdriver.Chrome(\"C:\\\\Users\\\\brend\\\\chromedriver\\\\chromedriver_win32\\\\chromedriver.exe\")\n",
    "driver.get('https://s3.amazonaws.com/tripdata/index.html')"
   ]
  },
  {
   "cell_type": "code",
   "execution_count": null,
   "id": "25e65e33",
   "metadata": {
    "scrolled": true
   },
   "outputs": [],
   "source": [
    "time.sleep(1)\n",
    "lines = driver.find_elements_by_xpath(\"//a\")\n",
    "for x in lines:\n",
    "    x.click()\n",
    " \n",
    "    "
   ]
  },
  {
   "cell_type": "code",
   "execution_count": null,
   "id": "1bf9d237",
   "metadata": {},
   "outputs": [],
   "source": []
  },
  {
   "cell_type": "code",
   "execution_count": null,
   "id": "c0c0d598",
   "metadata": {},
   "outputs": [],
   "source": []
  },
  {
   "cell_type": "markdown",
   "id": "8b00fae5",
   "metadata": {},
   "source": [
    "# Extracting Zip Files "
   ]
  },
  {
   "cell_type": "code",
   "execution_count": null,
   "id": "24017e57",
   "metadata": {},
   "outputs": [],
   "source": [
    "import os\n",
    "import shutil\n",
    "from zipfile import ZipFile"
   ]
  },
  {
   "cell_type": "code",
   "execution_count": null,
   "id": "a8f9896a",
   "metadata": {},
   "outputs": [],
   "source": [
    "# JC ZIPS\n",
    "source = 'C:\\\\Users\\\\brend\\\\Downloads\\\\CitiBikeDataJCzipped\\\\'\n",
    "# destination = '/Users/brend/NYCDSA/Capstone Project/CitiBikeData/'\n",
    "\n",
    "for file in os.listdir(source):\n",
    "    if file.endswith('.zip'):\n",
    "        file_name = source + file\n",
    "        zip_ref = ZipFile(file_name)\n",
    "        zip_ref.extractall(source)\n",
    "        os.remove(file_name)\n",
    "\n",
    "\n",
    "            \n",
    "            "
   ]
  },
  {
   "cell_type": "code",
   "execution_count": null,
   "id": "aa7abc1b",
   "metadata": {},
   "outputs": [],
   "source": []
  },
  {
   "cell_type": "code",
   "execution_count": null,
   "id": "e291515f",
   "metadata": {},
   "outputs": [],
   "source": [
    "## unzipping NYC Zip files"
   ]
  },
  {
   "cell_type": "code",
   "execution_count": null,
   "id": "8b1c3235",
   "metadata": {
    "scrolled": true
   },
   "outputs": [],
   "source": [
    "\n",
    "source2 = 'C:\\\\Users\\\\brend\\\\Downloads\\\\CitiBikeDataNYCzipped\\\\'\n",
    "destination = '/Users/brend/NYCDSA/Capstone Project/CitiBikeData/'\n",
    "for file in os.listdir(source):\n",
    "    if file.endswith('.zip'):\n",
    "        file_name = source + file\n",
    "        zip_ref = ZipFile(file_name)\n",
    "        zip_ref.extractall(source)\n",
    "        os.remove(file_name) "
   ]
  },
  {
   "cell_type": "code",
   "execution_count": null,
   "id": "45cf81fd",
   "metadata": {},
   "outputs": [],
   "source": []
  },
  {
   "cell_type": "code",
   "execution_count": null,
   "id": "c91e91be",
   "metadata": {},
   "outputs": [],
   "source": []
  },
  {
   "cell_type": "code",
   "execution_count": null,
   "id": "c389a627",
   "metadata": {},
   "outputs": [],
   "source": []
  },
  {
   "cell_type": "markdown",
   "id": "392cf986",
   "metadata": {},
   "source": [
    "## Visualizations "
   ]
  },
  {
   "cell_type": "code",
   "execution_count": null,
   "id": "714cd170",
   "metadata": {},
   "outputs": [],
   "source": [
    "df = pd.read_feather('notquitethere.feather')"
   ]
  },
  {
   "cell_type": "code",
   "execution_count": null,
   "id": "f0ae9a1e",
   "metadata": {},
   "outputs": [],
   "source": [
    "df.drop_duplicates(subset = ['start_time', 'end_time'], \n",
    "                   inplace=True, ignore_index=True)"
   ]
  },
  {
   "cell_type": "code",
   "execution_count": null,
   "id": "882600c9",
   "metadata": {},
   "outputs": [],
   "source": [
    "df.head(5)"
   ]
  },
  {
   "cell_type": "code",
   "execution_count": null,
   "id": "509c033d",
   "metadata": {},
   "outputs": [],
   "source": [
    "df.columns"
   ]
  },
  {
   "cell_type": "code",
   "execution_count": null,
   "id": "dfb4357c",
   "metadata": {},
   "outputs": [],
   "source": [
    "import plotly.express as px "
   ]
  },
  {
   "cell_type": "code",
   "execution_count": null,
   "id": "4b0cf8c4",
   "metadata": {},
   "outputs": [],
   "source": [
    "df.groupby(['year', 'user_type']).size().to_frame().reset_index()"
   ]
  },
  {
   "cell_type": "code",
   "execution_count": null,
   "id": "06f21f53",
   "metadata": {},
   "outputs": [],
   "source": []
  },
  {
   "cell_type": "code",
   "execution_count": null,
   "id": "e901c895",
   "metadata": {
    "scrolled": true
   },
   "outputs": [],
   "source": [
    "# line graph of amount of user type per year \n",
    "\n",
    "fig = px.line(df.groupby(['year', 'user_type']).size().to_frame().reset_index(), x = 'year', y = [0] \n",
    "              ,color = 'user_type',title=\"Annual Rides By User Type\")\n",
    "fig.update_xaxes(nticks=4,\n",
    "        title_text = \"year\",\n",
    "        title_font = {\"size\": 20},\n",
    "        title_standoff = 25)\n",
    "newnames = {'0':'Casual', '1': 'Member'}\n",
    "fig.for_each_trace(lambda t: t.update(name = newnames[t.name],\n",
    "                                      legendgroup = newnames[t.name],\n",
    "                                      hovertemplate = t.hovertemplate.replace(t.name, newnames[t.name])))\n",
    "fig.update_layout(legend_title = 'User Type')\n",
    "\n",
    "fig.update_yaxes(\n",
    "        title_text = \"Total Number of Rides\",\n",
    "        title_standoff = 25)\n"
   ]
  },
  {
   "cell_type": "code",
   "execution_count": null,
   "id": "bcd461a7",
   "metadata": {},
   "outputs": [],
   "source": []
  },
  {
   "cell_type": "code",
   "execution_count": null,
   "id": "ac5968d2",
   "metadata": {},
   "outputs": [],
   "source": [
    "monyeardf = df.groupby(['month','year']).size().to_frame().reset_index()\n",
    "monyeardf.columns\n"
   ]
  },
  {
   "cell_type": "code",
   "execution_count": null,
   "id": "b38ce688",
   "metadata": {},
   "outputs": [],
   "source": [
    "# total number of rides per month and year \n",
    "\n",
    "fig1 = px.line(monyeardf, x = 'month', y = [0] \n",
    "              ,color = 'year',title=\"Month Rides By User Type and Year\")\n",
    "fig1.update_xaxes(nticks=12,\n",
    "        title_text = \"Month\",\n",
    "        title_font = {\"size\": 20},\n",
    "        title_standoff = 25)\n",
    "\n",
    "fig1.update_layout(legend_title = 'Year')\n",
    "\n",
    "fig1.update_yaxes(\n",
    "        title_text = \"Total Number of Rides\",\n",
    "        title_standoff = 25)"
   ]
  },
  {
   "cell_type": "code",
   "execution_count": null,
   "id": "6c37c318",
   "metadata": {},
   "outputs": [],
   "source": [
    "# normalizing duratioin times \n",
    "df['log_duration']= df.duration.apply(lambda x:np.log(x))"
   ]
  },
  {
   "cell_type": "code",
   "execution_count": null,
   "id": "6d33fe7c",
   "metadata": {},
   "outputs": [],
   "source": [
    "import random"
   ]
  },
  {
   "cell_type": "code",
   "execution_count": null,
   "id": "2b226fc8",
   "metadata": {},
   "outputs": [],
   "source": [
    "# taking random samples of duration per year \n",
    "b = random.sample(df.loc[df['year'] ==2018]['log_duration'].to_list(),100000)\n",
    "r = random.sample(df.loc[df['year'] ==2019]['log_duration'].to_list(),100000)\n",
    "e = random.sample(df.loc[df['year'] ==2020]['log_duration'].to_list(),100000)\n",
    "n = random.sample(df.loc[df['year'] ==2021]['log_duration'].to_list(),100000)"
   ]
  },
  {
   "cell_type": "code",
   "execution_count": null,
   "id": "7f18e376",
   "metadata": {},
   "outputs": [],
   "source": [
    "len(n)"
   ]
  },
  {
   "cell_type": "code",
   "execution_count": null,
   "id": "e984ccce",
   "metadata": {},
   "outputs": [],
   "source": [
    "import plotly.figure_factory as ff\n",
    "import plotly.graph_objs as go\n",
    "import plotly.express as px\n",
    "import matplotlib.pyplot as plt\n",
    "\n",
    "import plotly.graph_objs as go\n",
    "from plotly.offline import init_notebook_mode, iplot\n",
    "init_notebook_mode(connected=True) \n"
   ]
  },
  {
   "cell_type": "code",
   "execution_count": null,
   "id": "516f30b9",
   "metadata": {},
   "outputs": [],
   "source": [
    "\n",
    "layout = go.Layout(width=500,\n",
    "title = ‘Transaction Value’,\n",
    "yaxis = dict(title = ‘Value’),\n",
    "xaxis = dict(title = ‘Month’))\n",
    "trace1 = go.Scatter(x = [0,1,2,3], y=[3, 0, 1, 6], mode = ‘lines’,\n",
    "name = ‘Value’, line = dict(shape = ‘spline’))\n",
    "fig = go.Figure(data = [trace1], layout = layout)\n",
    "\n",
    "fig.show()"
   ]
  },
  {
   "cell_type": "code",
   "execution_count": null,
   "id": "09feb6ac",
   "metadata": {},
   "outputs": [],
   "source": [
    "\n",
    "fig5 = ff.create_distplot([b,r,e,n],group_labels = ['2018','2019','2020','2021'],show_hist=False,show_rug=False)\n",
    "fig5.show()\n",
    "\n"
   ]
  },
  {
   "cell_type": "code",
   "execution_count": null,
   "id": "5f73ed52",
   "metadata": {
    "scrolled": true
   },
   "outputs": [],
   "source": [
    "px.bar(df.groupby('year')['start_time'].size(), x='start_time',color = 'month')"
   ]
  },
  {
   "cell_type": "code",
   "execution_count": null,
   "id": "f12635ba",
   "metadata": {},
   "outputs": [],
   "source": [
    "# merge new station ids, names and regions \n",
    "df = df.merge(stations, \n",
    "         how = 'left', \n",
    "         left_on = 'start_coords', \n",
    "         right_on= 'coords', \n",
    "         suffixes = (None, '_start')).merge(stations, \n",
    "                  how = 'left', \n",
    "                  left_on = 'end_coords', \n",
    "                  right_on= 'coords', \n",
    "                  suffixes = ('_start', '_end'))\n",
    "                                            \n",
    "                                            \n",
    "df.drop(['coords_start', 'coords_end',\n",
    "         'capacity_start', 'capacity_end'], axis=1, \n",
    "        inplace=True)  \n",
    "\n",
    "df.rename(columns = {'name_start': 'start_name', 'name_end': 'end_name'}, \n",
    "          inplace=True)\n",
    "                                          \n",
    "                                            \n",
    " # merge distance data for start/end stations                                            \n",
    "df = df.merge(distances, \n",
    "         how = 'left', \n",
    "         left_on = 'start_coords', \n",
    "         right_on= 'coords', \n",
    "         suffixes = (None, '_start')).merge(distances, \n",
    "                  how = 'left', \n",
    "                  left_on = 'end_coords', \n",
    "                  right_on= 'coords', \n",
    "                  suffixes = ('_start', '_end'))\n",
    "                                             \n",
    "                  how = 'left', \n",
    "                  left_on = 'end_coords', \n",
    "                  right_on= 'coords', \n",
    "                  suffixes = ('_start', '_end'))\n",
    "                                            "
   ]
  }
 ],
 "metadata": {
  "kernelspec": {
   "display_name": "Python 3",
   "language": "python",
   "name": "python3"
  },
  "language_info": {
   "codemirror_mode": {
    "name": "ipython",
    "version": 3
   },
   "file_extension": ".py",
   "mimetype": "text/x-python",
   "name": "python",
   "nbconvert_exporter": "python",
   "pygments_lexer": "ipython3",
   "version": "3.8.8"
  }
 },
 "nbformat": 4,
 "nbformat_minor": 5
}
