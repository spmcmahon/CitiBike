{
 "cells": [
  {
   "cell_type": "code",
   "execution_count": null,
   "id": "e682d7df",
   "metadata": {},
   "outputs": [],
   "source": [
    "import pandas as pd \n",
    "import numpy as np\n",
    "import geopy \n",
    "import tqdm as tqdm \n",
    "import time \n",
    "from shapely.geometry import Polygon, Point\n",
    "import geopandas"
   ]
  },
  {
   "cell_type": "code",
   "execution_count": null,
   "id": "6929f691",
   "metadata": {},
   "outputs": [],
   "source": [
    "df = pd.read_feather('stations.feather')\n",
    "df.columns"
   ]
  },
  {
   "cell_type": "code",
   "execution_count": null,
   "id": "73166b92",
   "metadata": {},
   "outputs": [],
   "source": [
    "df.loc[df.name.str.startswith('')]"
   ]
  },
  {
   "cell_type": "code",
   "execution_count": null,
   "id": "3356ec83",
   "metadata": {},
   "outputs": [],
   "source": [
    "starts = pd.read_csv('starts1.csv')\n",
    "ends = pd.read_csv('ends1.csv')"
   ]
  },
  {
   "cell_type": "code",
   "execution_count": null,
   "id": "ac494869",
   "metadata": {},
   "outputs": [],
   "source": [
    "starts.columns"
   ]
  },
  {
   "cell_type": "code",
   "execution_count": null,
   "id": "ce429310",
   "metadata": {},
   "outputs": [],
   "source": [
    "starts.loc[1560, 'poly_distances'] = starts.loc[1561, 'poly_distances']"
   ]
  },
  {
   "cell_type": "code",
   "execution_count": null,
   "id": "8130a0d6",
   "metadata": {},
   "outputs": [],
   "source": [
    "starts.drop(1561,inplace=True\n",
    "            "
   ]
  },
  {
   "cell_type": "code",
   "execution_count": null,
   "id": "1c34eb8b",
   "metadata": {},
   "outputs": [],
   "source": [
    "starts['lat'] = starts['start_lat'].apply(lambda x: '%.6f' %x )\n",
    "starts['lon'] = starts['start_lng'].apply(lambda x: '%.6f' %x )\n",
    "starts['coords2'] = list(zip(starts['start_lat'], starts['start_lng']))"
   ]
  },
  {
   "cell_type": "code",
   "execution_count": null,
   "id": "8606a24c",
   "metadata": {},
   "outputs": [],
   "source": [
    "starts.high_traffic.value_counts()"
   ]
  },
  {
   "cell_type": "code",
   "execution_count": null,
   "id": "aa6e1762",
   "metadata": {},
   "outputs": [],
   "source": [
    "stations = pd.read_feather('stations.feather')"
   ]
  },
  {
   "cell_type": "code",
   "execution_count": null,
   "id": "191ced71",
   "metadata": {
    "scrolled": true
   },
   "outputs": [],
   "source": [
    "stations.coords2 = stations.coords.apply(lambda x: tuple(x) if type(x)!= str else tuple([x]))"
   ]
  },
  {
   "cell_type": "code",
   "execution_count": null,
   "id": "48c2fe40",
   "metadata": {},
   "outputs": [],
   "source": [
    "print(starts.columns)\n",
    "print(stations.columns)"
   ]
  },
  {
   "cell_type": "code",
   "execution_count": null,
   "id": "6e40d6e4",
   "metadata": {},
   "outputs": [],
   "source": [
    "mergestarts = stations.merge(starts, left_on = 'name', right_on = 'start_station_name', how = 'left')"
   ]
  },
  {
   "cell_type": "code",
   "execution_count": null,
   "id": "7bcd6d46",
   "metadata": {},
   "outputs": [],
   "source": [
    "mergestarts.isna().sum()"
   ]
  },
  {
   "cell_type": "code",
   "execution_count": null,
   "id": "ce305a64",
   "metadata": {},
   "outputs": [],
   "source": [
    "mergestarts.nunique"
   ]
  },
  {
   "cell_type": "code",
   "execution_count": null,
   "id": "c4d2a689",
   "metadata": {},
   "outputs": [],
   "source": [
    "mergestarts.loc[mergestarts.park_distances.isna()]"
   ]
  },
  {
   "cell_type": "code",
   "execution_count": null,
   "id": "cf82ea6d",
   "metadata": {},
   "outputs": [],
   "source": [
    "from shapely.geometry import Polygon, Point\n",
    "upperwestsidepoly =[(40.787947, -73.976628),(40.786461, -73.972250),(40.777170, -73.978979),(40.779173, -73.983053)]\n",
    "uppereastsidepoly =[(40.781996, -73.951659),(40.780173, -73.947053),(40.767879, -73.956147),(40.768991, -73.958335)]\n",
    "\n",
    "manhattanvalleypoly = [(40.793000, -73.973780), (40.791857, -73.971255),(40.802812, -73.963587),(40.804593, -73.966323)]\n",
    "\n",
    "northcentralparkpoly = [(40.806877, -73.954236),(40.804820, -73.953624),(40.801279, -73.947903),\n",
    "                        (40.803268, -73.954759),(40.801733, -73.956929),(40.802100, -73.957736)]\n",
    "chelseapoly = [(40.743444, -74.007521),(40.741112, -74.001775),(40.738586, -74.003627),(40.740180, -74.009236)]\n",
    "\n",
    "hudsonyardspoly = [(40.754237, -73.999560),(40.748296, -74.003720),(40.751239, -74.008032),(40.754441, -74.006523)]\n",
    "\n",
    "centralharmlempoly = [(40.811595, -73.951944),(40.805072, -73.936918),(40.803842, -73.937813),(40.810282, -73.953519)]\n",
    "\n",
    "striversrowpoly =[(40.817539, -73.946912),(40.814871, -73.942518),(40.812597, -73.945129),(40.813080, -73.946241),\n",
    "                  (40.814882, -73.944873),(40.815814, -73.947132)]\n",
    "\n",
    "sugarhillpoly =[(40.830471, -73.947740),(40.829053, -73.944883),(40.822017, -73.950119),(40.823251, -73.953070),(\n",
    "40.823251, -73.953070)]\n",
    "\n",
    "midtownpoly =[(40.752172, -73.992732), (40.755401, -73.994286), (40.760237, -73.991181),\n",
    "                (40.752040, -73.982192), (40.744962, -73.986951),(40.747290, -73.989538),(40.749871, -73.987852)]\n",
    "\n",
    "diamonddistrictpoly = [(40.761100, -73.979588), (40.757113, -73.982420),(40.755552, -73.977468),\n",
    "                (40.759106, -73.974907)]\n",
    "\n",
    "midtowneastpoly =[(40.761073, -73.970325), (40.759004, -73.965620),(40.754328, -73.968978),\n",
    "                (40.756285, -73.973816)]\n",
    "\n",
    "unionsqpoly = [(40.741606, -73.991612), (40.740153, -73.985912),(40.734924, -73.989831),\n",
    "                (40.736142, -73.993679)]\n",
    "lespoly =[(40.730396, -73.986388), (40.728311, -73.982061),(40.717995, -73.988481),\n",
    "                (40.718878, -73.990608)]\n",
    "\n",
    "batterypoly =[(40.714912, -74.011333), (40.716416, -74.006217),(40.705548, -74.007962),\n",
    "                (40.703494, -74.011730)]\n",
    "\n",
    "lwspoly =[(40.736332, -74.000850), (40.735229, -74.005158),(40.728107, -74.002226),\n",
    "                (40.727124, -73.999801),(40.729327, -73.997966),(40.731648, -74.000936),(40.734133, -73.999883)]\n",
    "\n",
    "sohopoly =[(40.726551, -74.002222), (40.724359, -73.993556),(40.716517, -73.997021),\n",
    "                (40.722027, -74.005334)]\n",
    "\n",
    "washheights = [(40.851729, -73.938787), (40.850820, -73.939386),(40.849625, -73.937075),(40.843491, -73.939899)\n",
    "               ,(40.842901, -73.937661),(40.855729, -73.928286), (40.856464, -73.929483),(40.850747, -73.934289)]\n",
    "\n",
    "lincolnsq = [(40.776022, -73.983067),(40.774816, -73.980548),(40.772549, -73.980942),(40.770342, -73.981462)\n",
    "             ,(40.771546, -73.984403)]\n",
    "\n",
    "eastharlem = [(40.799649, -73.941970),(40.798278, -73.943042),(40.796307, -73.938227),\n",
    "              (40.797623, -73.937170),(40.799265, -73.939026),(40.799569, -73.941689)]\n",
    "\n",
    "onetwelvestreet =[(40.794991, -73.942906),(40.793699, -73.939830),(40.791327, -73.941670),(40.792403, -73.944156)]\n",
    "\n",
    "inwood = [(40.866627, -73.928608),(40.868973, -73.920062),(40.864191, -73.918197),(40.863709, -73.919701)\n",
    "          ,(40.866928, -73.921661),(40.865581, -73.926024),(40.861972, -73.924191),(40.860061, -73.928164),\n",
    "         (40.860734, -73.928610),(40.862052, -73.925980),(40.865103, -73.927822)]\n",
    "\n",
    "kingswood = [(40.885251, -73.901128),(40.884183, -73.898253),(40.876792, -73.904074)\n",
    "             ,(40.878170, -73.906521),(40.879817, -73.906555)]\n",
    "\n",
    "vinegar = [(40.704308, -73.983806),(40.701528, -73.986239),(40.701795, -73.990745),\n",
    "           (40.703030, -73.994265),(40.703927, -73.993345),(40.703865, -73.989203),(40.704437, -73.986109)]\n",
    "\n",
    "bkheights =[(40.696571, -73.995161),(40.694703, -73.996111),(40.693438, -73.991464)\n",
    "            ,(40.691151, -73.992298),(40.691365, -73.990421),(40.694380, -73.990482)]\n",
    "\n",
    "livingstonbk =[(40.692790, -73.987294),(40.692070, -73.982638),(40.689298, -73.983224)\n",
    "               ,(40.689905, -73.984880),(40.687860, -73.985823),(40.687081, -73.983790),\n",
    "               (40.686309, -73.984368),(40.688062, -73.988902),(40.681009, -73.993634),(40.681920, -73.996740),\n",
    "              (40.689229, -73.993214),(40.690713, -73.997965),(40.691733, -73.997177),(40.689320, -73.989099)\n",
    "               ,(40.692566, -73.987331)]\n",
    "fortgreen = [(40.687462, -73.976696),(40.687338, -73.973965),(40.685292, -73.973226),(40.685325, -73.975232)]\n",
    "\n",
    "prospectheights =[(40.683397, -73.976704),(40.665389, -73.990061),(40.664712, -73.989305),(40.680536, -73.976759)\n",
    "                  ,(40.679931, -73.975085),(40.675216, -73.971706),(40.676194, -73.970877),(40.683120, -73.974327)]\n",
    "\n",
    "seventhavebk =[(40.675882, -73.974972),(40.675409, -73.973896),(40.664676, -73.982471),(40.665369, -73.983679)]\n",
    "\n",
    "williamsburg =[(40.716592, -73.966422),(40.723585, -73.958136),(40.718674, -73.953228),(40.715482, -73.957077),\n",
    "               (40.714097, -73.955003),(40.710070, -73.957927),(40.710492, -73.959026),(40.712788, -73.958722),\n",
    "               (40.713798, -73.961053),(40.711709, -73.962403),(40.712188, -73.963311),(40.714631, -73.963619)]\n",
    "\n",
    "sunsetpark = [(40.643972, -74.005281),(40.636451, -74.014081),(40.633825, -74.009978), (40.643568, -74.000305)]\n",
    "\n",
    "boroughpark =[(40.638576, -73.995009),(40.631162, -73.996129),(40.633377, -73.992388),\n",
    "              (40.632664, -73.990234),(40.638431, -73.984122),(40.642145, -73.985707),(40.636841, -73.992097)]\n",
    "\n",
    "bayridge =[(40.636519, -74.026557),(40.633801, -74.019906),(40.620953, -74.025302),(40.621951, -74.032301),(40.636731, -74.026540)]\n",
    "\n",
    "\n",
    "littlecarribean =[(40.663008, -73.962586),(40.663348, -73.959945),(40.652306, -73.957958),\n",
    "                  (40.652553, -73.946943),(40.647069, -73.949099),(40.649743, -73.950538),\n",
    "                  (40.649449, -73.957756),(40.644453, -73.956579),(40.645312, -73.959031)]\n",
    "\n",
    "bedstuy =[(40.684011, -73.963687),(40.681027, -73.963266),(40.679785, -73.950581),(40.670903, -73.951042),\n",
    "         (40.670903, -73.949751),(40.679637, -73.948809),(40.679229, -73.938550),(40.680426, -73.938553)]\n",
    "\n",
    "bushwick = [(40.705355, -73.931162),(40.698076, -73.918366),(40.699714, -73.904322),(40.701088, -73.904833),\n",
    "           (40.700285, -73.918548),(40.706146, -73.928658)]\n",
    "\n",
    "greenpoint =[(40.733360, -73.959186),(40.734077, -73.953951),(40.724489, -73.950240),(40.726067, -73.945973),\n",
    "             (40.724903, -73.945599),(40.721761, -73.950592),(40.728550, -73.954563),(40.728275, -73.959381)]\n",
    "\n",
    "sunnyside =[(40.745692, -73.923944),(40.744787, -73.916535),(40.740892, -73.917136),(40.741187, -73.920300),(40.743408, -73.926252)]\n",
    "\n",
    "\n",
    "queens = [(40.764472, -73.927576),(40.762579, -73.929175),(40.757631, -73.918995),(40.768682, -73.909900),\n",
    "          (40.769015, -73.911786),(40.764832, -73.915382),(40.766621, -73.919451),(40.765464, -73.920368),\n",
    "          (40.763691, -73.916229),(40.759988, -73.919353),(40.764218, -73.927661)]\n",
    "\n",
    "astoria = [(40.774204, -73.915283),(40.772485, -73.913221),(40.773066, -73.911112),(40.774830, -73.909865)\n",
    "           ,(40.772552, -73.906525),(40.773351, -73.905537),(40.777095, -73.909569),(40.776832, -73.911632),\n",
    "           (40.774327, -73.914736)]\n",
    "\n",
    "newportJC = [(40.729471, -74.039705),(40.729322, -74.034221),(40.724464, -74.036093),(40.725099, -74.040453)]\n",
    "\n",
    "JCdowntown =[(40.725282, -74.050600),(40.724474, -74.051943),(40.719173, -74.044501),(40.717029, -74.044992),\n",
    "             (40.716599, -74.041995),(40.718433, -74.040961),(40.717747, -74.038907),(40.716247, -74.039196),\n",
    "             (40.715137, -74.036542),\n",
    "            (40.713058, -74.036992),(40.712690, -74.033334),(40.717716, -74.032942),\n",
    "             (40.721626, -74.041601),(40.723598, -74.048129),(40.725741, -74.051127)]\n",
    "\n",
    "hoboken =[(40.737566, -74.035612),(40.738733, -74.035288),(40.738243, -74.032500),\n",
    "          (40.740017, -74.031023),(40.751208, -74.027435),(40.751078, -74.026201),\n",
    "          (40.739232, -74.029721),(40.738759, -74.027299),(40.735668, -74.028130),\n",
    "          (40.735581, -74.031475),(40.737080, -74.032039),(40.737617, -74.035569)]\n",
    "\n",
    "\n",
    "\n",
    "polygonlist = [sohopoly,lwspoly,batterypoly,lespoly,unionsqpoly,\n",
    "               midtowneastpoly,diamonddistrictpoly,midtownpoly, sugarhillpoly,\n",
    "              striversrowpoly,centralharmlempoly,northcentralparkpoly,uppereastsidepoly,upperwestsidepoly,\n",
    "               hudsonyardspoly,chelseapoly,hoboken,JCdowntown,newportJC,astoria,\n",
    "               queens,sunnyside,greenpoint,bushwick,bedstuy,\n",
    "               littlecarribean,bayridge,boroughpark,sunsetpark,williamsburg,\n",
    "               seventhavebk,prospectheights,fortgreen,livingstonbk,bkheights,vinegar,\n",
    "               inwood,kingswood,onetwelvestreet,eastharlem,lincolnsq,washheights]\n",
    "\n",
    "polylist = []\n",
    "for i in polygonlist:\n",
    "    polylist.append(Polygon(i))\n",
    "print(polylist[1]) \n"
   ]
  },
  {
   "cell_type": "markdown",
   "id": "f51f55f2",
   "metadata": {},
   "source": [
    "## end old stations "
   ]
  },
  {
   "cell_type": "code",
   "execution_count": null,
   "id": "34311334",
   "metadata": {},
   "outputs": [],
   "source": [
    "end_old_stations = pd.read_feather('more_old_stations.feather')\n",
    "end_old_stations.columns"
   ]
  },
  {
   "cell_type": "code",
   "execution_count": null,
   "id": "0ff32801",
   "metadata": {},
   "outputs": [],
   "source": [
    "end_old_stations.end_coords= end_old_stations.end_coords.apply(lambda x: (float(x[0]),float(x[1])))\n",
    "end_old_stations.end_coords"
   ]
  },
  {
   "cell_type": "markdown",
   "id": "8c0b0d35",
   "metadata": {},
   "source": [
    "## start old stations "
   ]
  },
  {
   "cell_type": "code",
   "execution_count": null,
   "id": "47ef24c9",
   "metadata": {},
   "outputs": [],
   "source": [
    "old_stations = pd.read_feather('old_stations.feather')"
   ]
  },
  {
   "cell_type": "code",
   "execution_count": null,
   "id": "944c60b6",
   "metadata": {},
   "outputs": [],
   "source": [
    "old_stations.start_coords= old_stations.start_coords.apply(lambda x: (float(x[0]),float(x[1])))\n",
    "old_stations.start_coords\n"
   ]
  },
  {
   "cell_type": "code",
   "execution_count": null,
   "id": "f00cf3ec",
   "metadata": {},
   "outputs": [],
   "source": [
    "## subway data frame \n",
    "\n",
    "subwaydf = pd.read_csv(\"C:\\\\Users\\\\brend\\\\NYCDSA\\\\Capstone Project\\\\DOITT_SUBWAY_STATION_01_13SEPT2010.csv\")\n",
    "\n",
    "\n",
    "subwaydf.the_geom = subwaydf.the_geom.map(lambda string: string.strip('POINT'))\n",
    "\n",
    "subwaydf.the_geom = subwaydf.the_geom.map(lambda string: string.strip(')'))\n",
    "\n",
    "subwaydf.the_geom = subwaydf.the_geom.map(lambda string: string.strip(' ('))\n",
    "\n",
    "# subwaydf.the_geom = subwaydf.the_geom.map(lambda string: string.strip('-'))\n",
    "\n",
    "subwaydf.the_geom = subwaydf.the_geom.map(lambda string: string.strip(','))\n",
    "\n",
    "subwaydf.the_geom = subwaydf.the_geom.map(lambda string: string.split(' '))\n",
    "\n",
    "# swap index of coordinate pairs\n",
    "for i in subwaydf.the_geom:\n",
    "     i= i.reverse()\n",
    "    \n",
    "   \n",
    "\n",
    "\n",
    " \n",
    "# subwaydf.dtypes\n",
    "\n",
    "# subwaydf.head()\n",
    "\n",
    "# subwaydf.isna().sum()\n",
    "\n",
    "# subwaydf.columns\n",
    "\n",
    "type(subwaydf['the_geom'][0][1])\n",
    "\n",
    "subwaydf.the_geom\n",
    "\n",
    "subwaydf = subwaydf.drop_duplicates('NAME')\n",
    "\n",
    "subwaydf.the_geom.dropna(inplace=True)\n",
    "print(subwaydf.the_geom)"
   ]
  },
  {
   "cell_type": "code",
   "execution_count": null,
   "id": "a42f4abf",
   "metadata": {},
   "outputs": [],
   "source": [
    "\n",
    "## bus dataFrame \n",
    "\n",
    "busdf = pd.read_csv('Bus_Stop_Shelter.csv')\n",
    "busdf['coords'] = list(zip(busdf['LATITUDE'],busdf['LONGITUDE']))\n",
    "print(busdf.isna().sum())\n",
    "busdf.LATITUDE.drop_duplicates(inplace =True)\n",
    "len(busdf.LATITUDE)\n",
    "print(busdf.LATITUDE[1])\n",
    "print(busdf.coords[1])\n",
    "print(len(busdf))"
   ]
  },
  {
   "cell_type": "code",
   "execution_count": null,
   "id": "9d4e7095",
   "metadata": {},
   "outputs": [],
   "source": [
    "## park data frame \n",
    "parksdf= pd.read_csv('OpenData_ParksProperties.csv')\n",
    "\n",
    "parksdf.the_geom=[i.strip('MULTIPOLYGON ')for i in parksdf.the_geom]\n",
    "parksdf.the_geom=[i.replace(',','') for i in parksdf.the_geom]\n",
    "parksdf.the_geom=[i.strip('(' and ')') for i in parksdf.the_geom]\n",
    "parksdf.the_geom=[i.replace(')','') for i in parksdf.the_geom]\n",
    "\n",
    "parksdf.the_geom=[i.replace('(','') for i in parksdf.the_geom]\n",
    "\n",
    "parksdf.the_geom=[i.split(' ') for i in parksdf.the_geom]\n",
    "\n",
    "print(parksdf.the_geom.sample(10))\n",
    "\n",
    "\n",
    "def get_coords(x):\n",
    "    longs = []\n",
    "    lats = []\n",
    "    for i in range(0, len(x)):\n",
    "        if i % 2:\n",
    "            lats.append(float(x[i]))\n",
    "        else :\n",
    "            longs.append(float(x[i]))\n",
    "\n",
    "    return list(zip(lats,longs))\n",
    "\n",
    "parksdf.the_geom = parksdf.the_geom.apply(lambda x: get_coords(x))\n",
    "\n",
    "print(parksdf.the_geom.sample(10))\n",
    "\n",
    "parkspolys = []\n",
    "for i in parksdf.the_geom: \n",
    "    parkspolys.append(Polygon(i))\n",
    "print(parksdf.the_geom)\n",
    "print(parkspolys[2])\n"
   ]
  },
  {
   "cell_type": "markdown",
   "id": "818d0d17",
   "metadata": {},
   "source": [
    "## subway distances"
   ]
  },
  {
   "cell_type": "code",
   "execution_count": null,
   "id": "db809bdd",
   "metadata": {},
   "outputs": [],
   "source": [
    "startdistances = []\n",
    "for z,i in enumerate(end_old_stations.end_coords):\n",
    "    startdistances.clear()\n",
    "    print(z)    \n",
    "    for x in subwaydf.the_geom:\n",
    "        startdistances.append(geodesic(x,i).miles)\n",
    "      \n",
    "    end_old_stations.loc[z,'subway_distances']=(min(startdistances))"
   ]
  },
  {
   "cell_type": "code",
   "execution_count": null,
   "id": "037dce62",
   "metadata": {},
   "outputs": [],
   "source": [
    "# subway distances \n",
    "import geopy.distance\n",
    "from geopy.distance import geodesic\n",
    "from tqdm import tqdm\n",
    "\n",
    "startdistances = []\n",
    "for z,i in enumerate(old_stations.start_coords):\n",
    "    startdistances.clear()\n",
    "    print(z)    \n",
    "    for x in subwaydf.the_geom:\n",
    "        startdistances.append(geodesic(x,i).miles)\n",
    "      \n",
    "    old_stations.loc[z,'subway_distances']=(min(startdistances))"
   ]
  },
  {
   "cell_type": "code",
   "execution_count": null,
   "id": "2289ed30",
   "metadata": {},
   "outputs": [],
   "source": [
    "old_stations.subway_distances"
   ]
  },
  {
   "cell_type": "markdown",
   "id": "1ee94fe3",
   "metadata": {},
   "source": [
    "# bus Distances "
   ]
  },
  {
   "cell_type": "code",
   "execution_count": null,
   "id": "8cbb70a4",
   "metadata": {},
   "outputs": [],
   "source": [
    "\n",
    "busdistances = []\n",
    "\n",
    "\n",
    "for z,i in enumerate(old_stations.start_coords):\n",
    "    busdistances.clear()\n",
    "        \n",
    "    for x in busdf.coords:\n",
    "        busdistances.append(geodesic(x,i).miles)\n",
    "       \n",
    "    old_stations.loc[z,'bus_distances']=(min(busdistances))"
   ]
  },
  {
   "cell_type": "code",
   "execution_count": null,
   "id": "4c7c811d",
   "metadata": {},
   "outputs": [],
   "source": [
    "busdistances = []\n",
    "\n",
    "\n",
    "for z,i in enumerate(end_old_stations.end_coords):\n",
    "    busdistances.clear()\n",
    "    print(z)\n",
    "    for x in busdf.coords:\n",
    "        busdistances.append(geodesic(x,i).miles)\n",
    "       \n",
    "    end_old_stations.loc[z,'bus_distances']=(min(busdistances))"
   ]
  },
  {
   "cell_type": "markdown",
   "id": "ea1fdd0a",
   "metadata": {},
   "source": [
    "## commercial  Distances "
   ]
  },
  {
   "cell_type": "code",
   "execution_count": null,
   "id": "60d8d4f1",
   "metadata": {},
   "outputs": [],
   "source": [
    "import geopandas"
   ]
  },
  {
   "cell_type": "code",
   "execution_count": null,
   "id": "974e2507",
   "metadata": {},
   "outputs": [],
   "source": [
    "# end old station poly distances \n",
    "\n",
    "alldist =[]\n",
    "\n",
    "\n",
    "for z,i in enumerate(end_old_stations.end_coords):\n",
    "    alldist.clear()\n",
    "    temp = i\n",
    "    print(z)\n",
    "    for x in polylist: \n",
    "       \n",
    "    \n",
    "        t = geopandas.GeoSeries(x)\n",
    "        t2 = geopandas.GeoSeries(Point(temp))\n",
    "    \n",
    "        alldist.append(t.distance(t2)[0])\n",
    "    end_old_stations.loc[z,'Commercial_distances'] = min(alldist)\n",
    "%time"
   ]
  },
  {
   "cell_type": "code",
   "execution_count": null,
   "id": "08ceda9f",
   "metadata": {},
   "outputs": [],
   "source": [
    "end_old_stations"
   ]
  },
  {
   "cell_type": "code",
   "execution_count": null,
   "id": "d2ed8125",
   "metadata": {},
   "outputs": [],
   "source": []
  },
  {
   "cell_type": "code",
   "execution_count": null,
   "id": "d950d9dd",
   "metadata": {},
   "outputs": [],
   "source": [
    "# stations polygon distance \n",
    "alldist =[]\n",
    "\n",
    "\n",
    "for z,i in enumerate(old_stations.start_coords):\n",
    "    alldist.clear()\n",
    "    temp = i\n",
    "    for x in polylist: \n",
    "        print(z)\n",
    "    \n",
    "        t = geopandas.GeoSeries(x)\n",
    "        t2 = geopandas.GeoSeries(Point(temp))\n",
    "    \n",
    "        alldist.append(t.distance(t2)[0])\n",
    "    old_stations.loc[z,'Commercial_distances'] = min(alldist)\n",
    "%time"
   ]
  },
  {
   "cell_type": "markdown",
   "id": "e201c059",
   "metadata": {},
   "source": [
    "## commercial areas "
   ]
  },
  {
   "cell_type": "code",
   "execution_count": null,
   "id": "78523698",
   "metadata": {},
   "outputs": [],
   "source": [
    "from shapely.geometry import Polygon, Point"
   ]
  },
  {
   "cell_type": "code",
   "execution_count": null,
   "id": "a1807d18",
   "metadata": {},
   "outputs": [],
   "source": [
    "end_old_stations['high_traffic'] = 0\n",
    "\n",
    "for z,i in enumerate(end_old_stations.end_coords):\n",
    "    for x in polylist:\n",
    "        if  Point(i).within(x) == True: \n",
    "            end_old_stations.loc[z,'high_traffic'] = 1 \n",
    "            break\n",
    "%time"
   ]
  },
  {
   "cell_type": "code",
   "execution_count": null,
   "id": "2d86c572",
   "metadata": {},
   "outputs": [],
   "source": [
    "end_old_stations.high_traffic"
   ]
  },
  {
   "cell_type": "code",
   "execution_count": null,
   "id": "485665a0",
   "metadata": {},
   "outputs": [],
   "source": [
    "## stations one \n",
    "\n",
    "from shapely.geometry import Polygon, Point\n",
    "old_stations['high_traffic'] = 0\n",
    "\n",
    "for z,i in enumerate(old_stations.start_coords):\n",
    "    for x in polylist:\n",
    "        if  Point(i).within(x) == True: \n",
    "            old_stations.loc[z,'high_traffic'] = 1 \n",
    "            break\n",
    "            \n",
    "%time"
   ]
  },
  {
   "cell_type": "code",
   "execution_count": null,
   "id": "632d53f2",
   "metadata": {},
   "outputs": [],
   "source": [
    "print(old_stations.high_traffic)"
   ]
  },
  {
   "cell_type": "markdown",
   "id": "b577a917",
   "metadata": {},
   "source": [
    "# park distances "
   ]
  },
  {
   "cell_type": "code",
   "execution_count": null,
   "id": "6f3076e3",
   "metadata": {},
   "outputs": [],
   "source": [
    "end_old_stations.to_feather('end_old_stations.feather')"
   ]
  },
  {
   "cell_type": "code",
   "execution_count": null,
   "id": "91f7672b",
   "metadata": {
    "scrolled": false
   },
   "outputs": [],
   "source": [
    "\n",
    "parkdist =[]\n",
    "\n",
    "\n",
    "for z,i in enumerate(end_old_stations.end_coords):\n",
    "    parkdist.clear()\n",
    "    temp = i\n",
    "    print(z)\n",
    "    for x in parkspolys: \n",
    "        t = geopandas.GeoSeries(x)\n",
    "        t2 = geopandas.GeoSeries(Point(temp))\n",
    "        parkdist.append(t.distance(t2)[0])\n",
    "      \n",
    "    end_old_stations.loc[z,'park_distances'] = min(parkdist)\n",
    "%time"
   ]
  },
  {
   "cell_type": "code",
   "execution_count": null,
   "id": "94bea5d1",
   "metadata": {},
   "outputs": [],
   "source": [
    "\n",
    "parkdist =[]\n",
    "\n",
    "\n",
    "for z,i in enumerate(old_stations.start_coords):\n",
    "    parkdist.clear()\n",
    "    temp = i\n",
    "    print(z)\n",
    "    for x in parkspolys: \n",
    "        t = geopandas.GeoSeries(x)\n",
    "        t2 = geopandas.GeoSeries(Point(temp))\n",
    "        parkdist.append(t.distance(t2)[0])\n",
    "      \n",
    "    old_stations.loc[z,'park_distances'] = min(parkdist)\n",
    "%time"
   ]
  },
  {
   "cell_type": "markdown",
   "id": "5f46d241",
   "metadata": {},
   "source": [
    "## Zip codes"
   ]
  },
  {
   "cell_type": "code",
   "execution_count": null,
   "id": "5cead600",
   "metadata": {},
   "outputs": [],
   "source": [
    "geolocator = geopy.Nominatim(user_agent='Mozilla/5.0 (Windows NT 10.0; Win64; x64) AppleWebKit/537.36 (KHTML, like Gecko) Chrome/99.0.4844.51 Safari/537.36',timeout =10)"
   ]
  },
  {
   "cell_type": "code",
   "execution_count": null,
   "id": "2153fa86",
   "metadata": {
    "scrolled": false
   },
   "outputs": [],
   "source": [
    "\n",
    "for z,i in enumerate(old_stations.start_coords):\n",
    "    location = geolocator.reverse(i)\n",
    "    print(z)\n",
    "    if 'postcode' in location.raw['address'].keys():\n",
    "        \n",
    "        old_stations.loc[z,'start_zipcode']= location.raw['address']['postcode']\n",
    "    else: \n",
    "      \n",
    "        old_stations.loc[z,'start_zipcode']= np.nan\n",
    "%%time       "
   ]
  },
  {
   "cell_type": "code",
   "execution_count": null,
   "id": "518bf399",
   "metadata": {},
   "outputs": [],
   "source": [
    "# end old stations zips \n",
    "\n",
    "for z,i in enumerate(end_old_stations.end_coords):\n",
    "    location = geolocator.reverse(i)\n",
    "    print(z)\n",
    "    if 'postcode' in location.raw['address'].keys():\n",
    "        \n",
    "        end_old_stations.loc[z,'start_zipcode']= location.raw['address']['postcode']\n",
    "    else: \n",
    "      \n",
    "        end_old_stations.loc[z,'start_zipcode']= np.nan\n",
    "%%time  "
   ]
  },
  {
   "cell_type": "code",
   "execution_count": null,
   "id": "d16cc251",
   "metadata": {},
   "outputs": [],
   "source": [
    "print(stations.columns)\n",
    "print(old_stations.columns)\n",
    "print(end_old_stations.columns)"
   ]
  },
  {
   "cell_type": "code",
   "execution_count": null,
   "id": "a9d20c1f",
   "metadata": {},
   "outputs": [],
   "source": [
    "old_stations.start_zipcode"
   ]
  },
  {
   "cell_type": "code",
   "execution_count": null,
   "id": "1e55baf3",
   "metadata": {},
   "outputs": [],
   "source": [
    "old_stations"
   ]
  },
  {
   "cell_type": "code",
   "execution_count": null,
   "id": "afcceed0",
   "metadata": {},
   "outputs": [],
   "source": [
    "import itertools\n",
    "enumerate(itertools.chain(old_stations.start_coords,end_old_stations.end_coords))"
   ]
  },
  {
   "cell_type": "code",
   "execution_count": null,
   "id": "ba0f6310",
   "metadata": {},
   "outputs": [],
   "source": [
    "import geopy.distance\n",
    "from geopy.distance import geodesic\n",
    "\n",
    "\n",
    "\n",
    "\n",
    "\n",
    "for x,z,i in enumerate(itertools.chain(df.start_coords,df.end_coords)):\n",
    "    df.loc[x,'bus_distances']= (geodesic(z,i).miles)\n",
    "        \n",
    "       \n"
   ]
  },
  {
   "cell_type": "code",
   "execution_count": null,
   "id": "4a699568",
   "metadata": {},
   "outputs": [],
   "source": [
    "\n",
    "McMahon  8:05 PM\n",
    "\n",
    "if df['short_name_start'].startswith('HB')  then 311\n",
    "df['short_name_end'].startswith('JC') then 70\n",
    "else 71"
   ]
  },
  {
   "cell_type": "code",
   "execution_count": null,
   "id": "70002f4a",
   "metadata": {
    "scrolled": true
   },
   "outputs": [],
   "source": [
    "  np.where(df['short_name_start'].startswith('HB')&(df.short_name_start.isna()))['region_id'] "
   ]
  },
  {
   "cell_type": "code",
   "execution_count": null,
   "id": "725a27ea",
   "metadata": {},
   "outputs": [],
   "source": [
    "\n",
    "if (df['short_name_start'].startswith('HB')) & (df.short_name_start.isna()):\n",
    "    \n",
    "    np.where(df['short_name_start'].startswith('HB')&(df.short_name_start.isna()))['region_id'] = 311 \n",
    "\n",
    "elif  df['short_name_end'].str.startswith('JC')& (df.short_name_start.isna()):\n",
    "     np.where(df['short_name_start'].startswith('JC')&(df.short_name_start.isna()))['region_id'] =70 \n",
    "else: \n",
    "    np.where(df.short_name_start.isna())['region_id'] =70 \n",
    "        "
   ]
  }
 ],
 "metadata": {
  "kernelspec": {
   "display_name": "Python 3",
   "language": "python",
   "name": "python3"
  },
  "language_info": {
   "codemirror_mode": {
    "name": "ipython",
    "version": 3
   },
   "file_extension": ".py",
   "mimetype": "text/x-python",
   "name": "python",
   "nbconvert_exporter": "python",
   "pygments_lexer": "ipython3",
   "version": "3.8.8"
  }
 },
 "nbformat": 4,
 "nbformat_minor": 5
}
