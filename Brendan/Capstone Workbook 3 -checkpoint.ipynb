{
 "cells": [
  {
   "cell_type": "code",
   "execution_count": null,
   "id": "3c33c962",
   "metadata": {},
   "outputs": [],
   "source": [
    "import pandas as pd \n",
    "import numpy as np\n",
    "import plotly.express as px \n",
    "import time \n",
    "from pandas.tseries.holiday import *"
   ]
  },
  {
   "cell_type": "code",
   "execution_count": null,
   "id": "16a0bf5b",
   "metadata": {},
   "outputs": [],
   "source": [
    "df = pd.read_feather('notquitethere.feather')"
   ]
  },
  {
   "cell_type": "code",
   "execution_count": null,
   "id": "8928fcea",
   "metadata": {},
   "outputs": [],
   "source": [
    "\n",
    "df.drop_duplicates(subset = ['start_time', 'end_time'], \n",
    "                   inplace=True, ignore_index=True)"
   ]
  },
  {
   "cell_type": "code",
   "execution_count": null,
   "id": "23742b05",
   "metadata": {},
   "outputs": [],
   "source": [
    "# converting and creating time columns \n",
    "def Day_type(df):\n",
    "    df[\"day_type\"] = df[\"start_time\"].dt.weekday\n",
    "    df[\"day_type\"] = np.where(df[\"day_type\"] > 4, \"Weekend\",\"Weekday\")\n",
    "    sdt = df[\"start_time\"].iat[0].strftime(\"%Y-%m-%d\")\n",
    "    edt = df[\"start_time\"].iat[-1].strftime(\"%Y-%m-%d\")\n",
    "    cal = USFederalHolidayCalendar()\n",
    "    holidays = cal.holidays(start=sdt, end=edt).strftime(\"%Y-%m-%d\")\n",
    "    df.loc[df['start_time'].dt.strftime(\"%Y-%m-%d\").isin(holidays), 'day_type'] = 'Holidays'\n",
    "\n",
    "\n",
    "Day_type(df)"
   ]
  },
  {
   "cell_type": "code",
   "execution_count": null,
   "id": "80a8ead8",
   "metadata": {},
   "outputs": [],
   "source": [
    "\n",
    "current =pd.read_feather('final_stations.feather')\n",
    "end=pd.read_feather('final_end_old_stations.feather')\n",
    "start = pd.read_feather('final_start_old_stations.feather')"
   ]
  },
  {
   "cell_type": "code",
   "execution_count": null,
   "id": "16312495",
   "metadata": {},
   "outputs": [],
   "source": [
    "print(end.columns)\n",
    "print(start.columns)\n",
    "print(current.columns)"
   ]
  },
  {
   "cell_type": "code",
   "execution_count": null,
   "id": "68580706",
   "metadata": {
    "scrolled": true
   },
   "outputs": [],
   "source": [
    "current = current[['name', 'coords','start_Zipcode']]\n",
    "current.rename(columns = {'start_Zipcode':'start_zipcode'}, inplace=True)\n",
    "current.columns"
   ]
  },
  {
   "cell_type": "code",
   "execution_count": null,
   "id": "74c87b29",
   "metadata": {},
   "outputs": [],
   "source": [
    "\n",
    "curr_cols = { 'subway_distances': 'subway_dist', \n",
    "              'bus_distances' : 'bus_dist', \n",
    "              'park_distances' :'park_dist', \n",
    "              'Commercial_distances' : 'comm_dist'}\n",
    "\n",
    "# drop_cols = ['start_Zipcode', 'short_name',\n",
    "#              'lat', 'lon', 'region_id', 'capacity']\n",
    "\n",
    "current.rename(columns = curr_cols, inplace=True)\n",
    "# current.drop(drop_cols, axis=1, inplace = True)\n",
    "\n",
    "\n",
    "\n",
    "start_cols = {'start_station_name' : 'name', \n",
    "              'start_coords' : 'coords', \n",
    "              'subway_distances': 'subway_dist', \n",
    "              'bus_distances' : 'bus_dist', \n",
    "              'park_distances' :'park_dist', \n",
    "              'Commercial_distances' : 'comm_dist'}\n",
    "\n",
    "\n",
    "start.rename(columns = start_cols, inplace=True)\n",
    "# start.drop('start_zipcode', axis=1, inplace = True)\n",
    "\n",
    "end_cols = {'end_station_name' : 'name', \n",
    "              'end_coords' : 'coords', \n",
    "              'subway_distances': 'subway_dist', \n",
    "              'bus_distances' : 'bus_dist', \n",
    "              'park_distances' :'park_dist', \n",
    "              'Commercial_distances' : 'comm_dist'}\n",
    "\n",
    "\n",
    "\n",
    "\n",
    "end.rename(columns = end_cols, inplace = True)\n",
    "\n",
    "distances = pd.concat([start, end, current], \n",
    "                      axis=0, \n",
    "                      ignore_index=True)"
   ]
  },
  {
   "cell_type": "code",
   "execution_count": null,
   "id": "46f083e3",
   "metadata": {},
   "outputs": [],
   "source": [
    "zipcodedf = distances \n",
    "zipcodedf.head()\n",
    "# zipcodedf.to_feather('zipcodedf.feather')"
   ]
  },
  {
   "cell_type": "code",
   "execution_count": null,
   "id": "f8e4864c",
   "metadata": {},
   "outputs": [],
   "source": [
    "# formatting coordinates for merge \n",
    "df.start_coords = df.start_coords.apply(lambda x: (float(x[0]), float(x[1])))\n",
    "df.end_coords = df.end_coords.apply(lambda x: (float(x[0]), float(x[1])))\n",
    "\n",
    "zipcodedf.coords = zipcodedf.coords.apply(lambda x: (float(x[0]), float(x[1])))\n",
    "zipcodedf.coords = zipcodedf.coords.apply(lambda x: (float(x[0]), float(x[1])))"
   ]
  },
  {
   "cell_type": "code",
   "execution_count": null,
   "id": "6848f665",
   "metadata": {},
   "outputs": [],
   "source": [
    "zipcodedf.rename(columns = {'start_zipcode':'zipcode'},inplace =True)\n"
   ]
  },
  {
   "cell_type": "code",
   "execution_count": null,
   "id": "3f573212",
   "metadata": {},
   "outputs": [],
   "source": [
    "# imputing zipcodes missing zipcodes \n",
    "zipcodedf.loc[371,'zipcode'] = 10003\n",
    "zipcodedf.loc[49,'zipcode'] = 10036\n",
    "zipcodedf.loc[330,'zipcode'] = 10019\n",
    "zipcodedf.loc[757,'zipcode'] = 10036\n",
    "        \n",
    "              "
   ]
  },
  {
   "cell_type": "code",
   "execution_count": null,
   "id": "da235d2f",
   "metadata": {},
   "outputs": [],
   "source": []
  },
  {
   "cell_type": "code",
   "execution_count": null,
   "id": "7e39e2c6",
   "metadata": {},
   "outputs": [],
   "source": [
    "# merge new station ids, names and regions \n",
    "df = df.merge(zipcodedf, \n",
    "         how = 'left', \n",
    "         left_on = 'start_coords', \n",
    "         right_on= 'coords', \n",
    "         suffixes = (None, '_start')).merge(zipcodedf, \n",
    "                  how = 'left', \n",
    "                  left_on = 'end_coords', \n",
    "                  right_on= 'coords', \n",
    "                  suffixes = ('_start', '_end'))\n",
    "                                            \n",
    "                                          "
   ]
  },
  {
   "cell_type": "code",
   "execution_count": null,
   "id": "647258f6",
   "metadata": {},
   "outputs": [],
   "source": [
    "# dropping secondary zip code\n",
    "df.zipcode_start =  df.zipcode_start.apply(lambda x: str(x).split(' ')[0])\n",
    "\n",
    "df.zipcode_end =  df.zipcode_end.apply(lambda x: str(x).split(' ')[0])"
   ]
  },
  {
   "cell_type": "code",
   "execution_count": null,
   "id": "ae67329f",
   "metadata": {},
   "outputs": [],
   "source": [
    "\n",
    "df.drop_duplicates(subset = ['start_time', 'end_time'], \n",
    "                   inplace=True, ignore_index=True)"
   ]
  },
  {
   "cell_type": "code",
   "execution_count": null,
   "id": "dce33658",
   "metadata": {
    "scrolled": true
   },
   "outputs": [],
   "source": [
    "# almost finished data frame missing  trip distances \n",
    "# df.to_feather('pidgeon.feather')  "
   ]
  },
  {
   "cell_type": "code",
   "execution_count": null,
   "id": "bc291fa2",
   "metadata": {},
   "outputs": [],
   "source": [
    "\n",
    "df.drop(['coords_start', 'coords_end'], axis=1, \n",
    "        inplace=True)  \n",
    "\n",
    "df.rename(columns = {'name_start': 'start_name', 'name_end': 'end_name'}, \n",
    "          inplace=True)"
   ]
  },
  {
   "cell_type": "code",
   "execution_count": null,
   "id": "211f7d55",
   "metadata": {},
   "outputs": [],
   "source": [
    "                                          \n",
    "                                            \n",
    " # merge distance data for start/end stations                                            \n",
    "df = df.merge(distances, \n",
    "         how = 'left', \n",
    "         left_on = 'start_coords', \n",
    "         right_on= 'coords', \n",
    "         suffixes = (None, '_start')).merge(distances, \n",
    "                  how = 'left', \n",
    "                  left_on = 'end_coords', \n",
    "                  right_on= 'coords', \n",
    "                  suffixes = ('_start', '_end'))\n",
    "                                             \n",
    "                  how = 'left', \n",
    "                  left_on = 'end_coords', \n",
    "                  right_on= 'coords', \n",
    "                  suffixes = ('_start', '_end'))"
   ]
  },
  {
   "cell_type": "code",
   "execution_count": null,
   "id": "aa00883a",
   "metadata": {},
   "outputs": [],
   "source": [
    "# formatting coordinates for successful merge \n",
    "df['round_end_lng']=df.end_lng.apply(lambda x: \"{:.7}\".format(x))\n",
    "df['round_end_lat']=df.end_lat.apply(lambda x: \"{:.7}\".format(x))\n",
    "df['round_start_lng']=df.start_lng.apply(lambda x: \"{:.7}\".format(x))\n",
    "df['round_start_lat']=df.start_lat.apply(lambda x: \"{:.7}\".format(x))\n",
    "\n",
    "df['group'] = list(zip(df.round_start_lat,df.round_end_lat))\n",
    "\n",
    "df.loc[df['year']==2018].groupby('group').size()\n",
    "\n",
    "df.loc[df['year']==2019].groupby('group').size()\n",
    "\n",
    "df.loc[df['year']==2020].groupby('group').size()\n",
    "\n",
    "df.loc[df['year']==2021].groupby('group').size()\n",
    "\n",
    "\n",
    "\n",
    "len(df.groupby(['start_name','end_name']).size())"
   ]
  },
  {
   "cell_type": "code",
   "execution_count": null,
   "id": "d1e13bad",
   "metadata": {},
   "outputs": [],
   "source": [
    "df.groupby([\"round_end_lng\",\"round_end_lat\",\"round_start_lat\",\"round_start_lat\"]).size().head(50)"
   ]
  },
  {
   "cell_type": "code",
   "execution_count": null,
   "id": "8f8e7d8a",
   "metadata": {},
   "outputs": [],
   "source": [
    "\n",
    "rides in million by month by year \n",
    "rides by day of week and type of day \n",
    "histogram ,mean / median lines , \n",
    "most popular stations, \n",
    "\n"
   ]
  },
  {
   "cell_type": "code",
   "execution_count": null,
   "id": "307ffaf1",
   "metadata": {
    "scrolled": false
   },
   "outputs": [],
   "source": [
    "# trip with same start and end locations \n",
    "\n",
    "df[df['start_coords']==df['end_coords']]"
   ]
  },
  {
   "cell_type": "code",
   "execution_count": null,
   "id": "ee27dfc0",
   "metadata": {},
   "outputs": [],
   "source": [
    "# getting trip distances     \n",
    "from geopy.distance import lonlat, distance\n",
    "\n",
    "\n",
    "            \n",
    "def trip_distance(row):\n",
    "    return distance(lonlat(*row['start_coords']), lonlat(*row['end_coords'])).miles\n",
    "\n",
    "df['trip_distances']=df.apply(trip_distance, axis=1)"
   ]
  },
  {
   "cell_type": "code",
   "execution_count": null,
   "id": "17062ec0",
   "metadata": {},
   "outputs": [],
   "source": [
    "# df.to_feather('df_with_trip_distances.feather')"
   ]
  },
  {
   "cell_type": "code",
   "execution_count": null,
   "id": "ead9b1da",
   "metadata": {},
   "outputs": [],
   "source": [
    "# Reading in Cleaned full data set\n",
    "\n",
    "df = pd.read_feather('the_final_df.feather')"
   ]
  },
  {
   "cell_type": "markdown",
   "id": "16bf24c6",
   "metadata": {},
   "source": [
    "## Pre /Post Covid Analysis "
   ]
  },
  {
   "cell_type": "code",
   "execution_count": null,
   "id": "9063c340",
   "metadata": {},
   "outputs": [],
   "source": [
    "# loading in Pre and Post covid data sets \n",
    "pre = pd.read_feather('pre_df.feather')\n",
    "post = pd.read_feather('post_df.feather')"
   ]
  },
  {
   "cell_type": "code",
   "execution_count": null,
   "id": "b75bd584",
   "metadata": {},
   "outputs": [],
   "source": [
    "print(pre.shape)\n",
    "print(post.shape)"
   ]
  },
  {
   "cell_type": "code",
   "execution_count": null,
   "id": "8f3147ab",
   "metadata": {
    "scrolled": true
   },
   "outputs": [],
   "source": [
    "# df = pd.concat([pre, post], axis=0)"
   ]
  },
  {
   "cell_type": "code",
   "execution_count": null,
   "id": "55e2c772",
   "metadata": {},
   "outputs": [],
   "source": [
    "df.reset_index(inplace =True)"
   ]
  },
  {
   "cell_type": "code",
   "execution_count": null,
   "id": "4680aab1",
   "metadata": {},
   "outputs": [],
   "source": [
    "# df.to_feather('the_final_df.feather')"
   ]
  },
  {
   "cell_type": "code",
   "execution_count": null,
   "id": "a3f2bf0a",
   "metadata": {},
   "outputs": [],
   "source": [
    "#eda\n",
    "print(df.isna().sum())\n",
    "print(df.columns)\n",
    "print(df.shape)\n",
    "print(df[df.isna()])\n",
    "df.head()"
   ]
  },
  {
   "cell_type": "code",
   "execution_count": null,
   "id": "4dd95c5a",
   "metadata": {},
   "outputs": [],
   "source": [
    "distinct_pre = pre.drop_duplicates(subset=['start_name'])\n",
    "distinct_post = post.drop_duplicates(subset=['start_name'])"
   ]
  },
  {
   "cell_type": "code",
   "execution_count": null,
   "id": "ef5a6630",
   "metadata": {
    "scrolled": true
   },
   "outputs": [],
   "source": [
    "print(pre.columns)\n",
    "print(post.columns)"
   ]
  },
  {
   "cell_type": "code",
   "execution_count": null,
   "id": "0d6dab9b",
   "metadata": {},
   "outputs": [],
   "source": []
  },
  {
   "cell_type": "code",
   "execution_count": null,
   "id": "64f5c780",
   "metadata": {},
   "outputs": [],
   "source": [
    "# getting full list of stations for each year \n",
    "precovid_stations = pre[['start_name','end_name']].stack().reset_index()\n",
    "postcovid_stations = post[['start_name','end_name']].stack().reset_index()\n",
    "\n",
    "precovid_stations.rename(columns ={ 0:'station_name'},inplace =True)\n",
    "print(precovid_stations.station_name.nunique())\n",
    "postcovid_stations.rename(columns ={ 0:'station_name'},inplace =True)\n",
    "print(postcovid_stations.station_name.nunique())\n",
    "\n",
    "pre_station_popularity = precovid_stations.groupby('station_name').size().to_frame().reset_index()\n",
    "post_station_popularity = postcovid_stations.groupby('station_name').size().to_frame().reset_index()\n",
    "pre_station_popularity.rename(columns ={ 0:'popularity'},inplace =True)\n",
    "post_station_popularity.rename(columns ={ 0:'popularity'},inplace =True)\n",
    "\n",
    "\n",
    "pre_station_popularity.sort_values(by = 'popularity' ,ascending = False, inplace = True)\n",
    "pre_station_popularity.sort_values(by = 'popularity' ,ascending = False, inplace = True)\n"
   ]
  },
  {
   "cell_type": "code",
   "execution_count": null,
   "id": "4267c62f",
   "metadata": {},
   "outputs": [],
   "source": [
    "pre_station_popularity.head()\n",
    "post_station_popularity.head()"
   ]
  },
  {
   "cell_type": "markdown",
   "id": "78ea83aa",
   "metadata": {},
   "source": [
    "## Visualizations "
   ]
  },
  {
   "cell_type": "code",
   "execution_count": null,
   "id": "38fd68e3",
   "metadata": {},
   "outputs": [],
   "source": [
    "len(distinct_pre)"
   ]
  },
  {
   "cell_type": "code",
   "execution_count": null,
   "id": "ef620b30",
   "metadata": {},
   "outputs": [],
   "source": [
    "import seaborn as sns \n",
    "import matplotlib.pyplot as plt\n",
    "from plotly.offline import init_notebook_mode, iplot\n",
    "\n",
    "init_notebook_mode(connected=True) "
   ]
  },
  {
   "cell_type": "code",
   "execution_count": null,
   "id": "b81ff49b",
   "metadata": {
    "scrolled": true
   },
   "outputs": [],
   "source": [
    "# distribution of durations by year \n",
    "p = sns.displot(df.loc[df['durationmins'] <60 ],x = 'durationmins', hue='year', kind = 'kde', height=8.27, aspect=11.7/8.27).set(title='Distribution of Ride Duration by Year')\n",
    "\n",
    "p.set_ylabel(\"Density\", fontsize = 20)\n",
    "plt.show()"
   ]
  },
  {
   "cell_type": "code",
   "execution_count": null,
   "id": "c463e493",
   "metadata": {},
   "outputs": [],
   "source": [
    "# most popular stations - Pre covid  \n",
    "px.bar(pre[['Popularity','start_name']].sort_values(by = 'Popularity', ascending = False).drop_duplicates(subset =['start_name']).head(10), x = 'start_name', y='Popularity')"
   ]
  },
  {
   "cell_type": "code",
   "execution_count": null,
   "id": "7e7824be",
   "metadata": {},
   "outputs": [],
   "source": [
    "# most popular stations post covid \n",
    "px.bar(post[['Popularity','start_name']].sort_values(by = 'Popularity', ascending = False).drop_duplicates(subset =['start_name']).head(10), x = 'start_name', y='Popularity')"
   ]
  },
  {
   "cell_type": "code",
   "execution_count": null,
   "id": "14b5c486",
   "metadata": {},
   "outputs": [],
   "source": [
    "# distribution of ride duration weekend vs weekway by year - pre covid \n",
    "\n",
    "\n",
    "plot = sns.FacetGrid(pre[['day_type','year','hour_of_day']], col = 'day_type', hue = 'year', height=8.27, aspect=11.7/8.27)\n",
    "plot.map(sns.histplot, 'hour_of_day', bins = 20).add_legend() #.set(title='Distribution of Ride Duration by Year')\n",
    "\n",
    "\n",
    "plt.show()"
   ]
  },
  {
   "cell_type": "code",
   "execution_count": null,
   "id": "6c763cf5",
   "metadata": {},
   "outputs": [],
   "source": [
    "# distribution of ride duration weekend vs weekway by year - post covid \n",
    "\n",
    "\n",
    "plot = sns.FacetGrid(post[['day_type','year','hour_of_day']], col = 'day_type', hue = 'year', height=8.27, aspect=11.7/8.27)\n",
    "plot.map(sns.histplot, 'hour_of_day', bins = 20).add_legend().set(title='Distribution of Ride Duration by Year')\n",
    "\n",
    "\n",
    "plt.show()"
   ]
  },
  {
   "cell_type": "code",
   "execution_count": null,
   "id": "5bb7098b",
   "metadata": {},
   "outputs": [],
   "source": [
    "# mapping we wants \n",
    "\n",
    " -map pre / post covid \n",
    "- map for popular dockstations pre / post covid \n",
    "\n"
   ]
  },
  {
   "cell_type": "code",
   "execution_count": null,
   "id": "2f3862a6",
   "metadata": {},
   "outputs": [],
   "source": [
    "# scatter plot of popularity vs subway distances from start \n",
    "\n",
    "px.scatter(distinct_pre[['start_name','Popularity', 'subway_dist_start']].loc[distinct_pre['subway_dist_start'] < 50],\n",
    "           x = 'Popularity', y='subway_dist_start', hover_name = 'start_name')"
   ]
  },
  {
   "cell_type": "code",
   "execution_count": null,
   "id": "13419243",
   "metadata": {
    "scrolled": true
   },
   "outputs": [],
   "source": [
    "# post covid popularity / start dock subway distance correlation \n",
    "\n",
    "px.scatter(distinct_post[['Popularity', 'subway_dist_start', 'start_name']],\n",
    "                     x = 'Popularity', y='subway_dist_start', hover_name = 'start_name')\n"
   ]
  },
  {
   "cell_type": "code",
   "execution_count": null,
   "id": "ee67fe26",
   "metadata": {
    "scrolled": true
   },
   "outputs": [],
   "source": [
    "# correlation between subway end distance and popularity  - Pre covid \n",
    "px.scatter(distinct_pre[['end_name','Popularity', 'subway_dist_end']].loc[distinct_pre['subway_dist_end'] < 50],\n",
    "           x = 'Popularity', \n",
    "           y='subway_dist_end', hover_name = 'end_name')"
   ]
  },
  {
   "cell_type": "code",
   "execution_count": null,
   "id": "5607d2d2",
   "metadata": {},
   "outputs": [],
   "source": [
    "# post covid correlation of end station distance and popularity \n",
    "px.scatter(distinct_post[['end_name','Popularity', 'subway_dist_end']], x = 'Popularity',\n",
    "           y='subway_dist_end', hover_name = 'end_name')"
   ]
  },
  {
   "cell_type": "code",
   "execution_count": null,
   "id": "597be9ae",
   "metadata": {},
   "outputs": [],
   "source": [
    "# pre covid scatter of popularity and high traffic start \n",
    "px.scatter(distinct_pre[['Popularity', 'comm_dist_start', 'start_name']].loc[distinct_pre['comm_dist_start']<3],\n",
    "           x = 'Popularity', y='comm_dist_start', hover_name = 'start_name')\n"
   ]
  },
  {
   "cell_type": "code",
   "execution_count": null,
   "id": "e27e263e",
   "metadata": {
    "scrolled": true
   },
   "outputs": [],
   "source": [
    "# post covid correlation between commerical distance and popularity \n",
    "px.scatter(distinct_post[['Popularity', 'comm_dist_start', 'start_name']],\n",
    "           x = 'Popularity', y='comm_dist_start', hover_name = 'start_name')\n"
   ]
  },
  {
   "cell_type": "code",
   "execution_count": null,
   "id": "283f4b16",
   "metadata": {},
   "outputs": [],
   "source": [
    "# pre covid popularity and park distance correlations \n",
    "px.scatter(distinct_pre[['Popularity', 'park_dist_start', 'start_name']].loc[distinct_pre['comm_dist_start']<3],\n",
    "           x = 'Popularity', y='park_dist_start', hover_name = 'start_name')"
   ]
  },
  {
   "cell_type": "code",
   "execution_count": null,
   "id": "c7ea8742",
   "metadata": {
    "scrolled": true
   },
   "outputs": [],
   "source": [
    "#post covid park distance and popularity correlation\n",
    "px.scatter(distinct_post[['Popularity', 'park_dist_start', 'start_name']],\n",
    "           x = 'Popularity', y='park_dist_start', hover_name = 'start_name')"
   ]
  },
  {
   "cell_type": "code",
   "execution_count": null,
   "id": "cf0c75c6",
   "metadata": {},
   "outputs": [],
   "source": [
    "# park distacne end correlation to popualrity \n",
    "px.scatter(distinct_pre[['Popularity', 'park_dist_end', 'start_name']].loc[distinct_pre['comm_dist_start']<3],\n",
    "           x = 'Popularity', y='park_dist_end', hover_name = 'start_name')\n"
   ]
  },
  {
   "cell_type": "code",
   "execution_count": null,
   "id": "921ada70",
   "metadata": {},
   "outputs": [],
   "source": [
    "# park distacne end correlation to popualrity \n",
    "px.scatter(distinct_post[['Popularity', 'park_dist_end', 'start_name']],\n",
    "           x = 'Popularity', y='park_dist_end', hover_name = 'start_name')"
   ]
  },
  {
   "cell_type": "code",
   "execution_count": null,
   "id": "bbdc3c5b",
   "metadata": {},
   "outputs": [],
   "source": [
    "# line graph of amount of user type per year \n",
    "\n",
    "fig = px.line(df.groupby(['year', 'user_type']).size().to_frame().reset_index(), x = 'year', y = [0] \n",
    "              ,color = 'user_type',title=\"Annual Rides By User Type\")\n",
    "fig.update_xaxes(nticks=4,\n",
    "        title_text = \"year\",\n",
    "        title_font = {\"size\": 20},\n",
    "        title_standoff = 25)\n",
    "newnames = {'0':'Casual', '1': 'Member'}\n",
    "fig.for_each_trace(lambda t: t.update(name = newnames[t.name],\n",
    "                                      legendgroup = newnames[t.name],\n",
    "                                      hovertemplate = t.hovertemplate.replace(t.name, newnames[t.name])))\n",
    "fig.update_layout(legend_title = 'User Type')\n",
    "\n",
    "fig.update_yaxes(\n",
    "        title_text = \"Total Number of Rides\",\n",
    "        title_standoff = 25)\n"
   ]
  },
  {
   "cell_type": "code",
   "execution_count": null,
   "id": "f67f23ef",
   "metadata": {},
   "outputs": [],
   "source": [
    "# number of rides by user type and year \n",
    "\n",
    "fig1 = px.line(df.groupby(['month','year']).size().to_frame().reset_index(), x = 'month', y = [0] \n",
    "              ,color = 'year',title=\"Month Rides By User Type and Year\")\n",
    "fig1.update_xaxes(nticks=12,\n",
    "        title_text = \"Month\",\n",
    "        title_font = {\"size\": 20},\n",
    "        title_standoff = 25)\n",
    "\n",
    "fig1.update_layout(legend_title = 'Year')\n",
    "\n",
    "fig1.update_yaxes(\n",
    "        title_text = \"Total Number of Rides\",\n",
    "        title_standoff = 25)"
   ]
  },
  {
   "cell_type": "code",
   "execution_count": null,
   "id": "484a825e",
   "metadata": {},
   "outputs": [],
   "source": [
    "distinct_post.columns"
   ]
  },
  {
   "cell_type": "code",
   "execution_count": null,
   "id": "57ed665b",
   "metadata": {},
   "outputs": [],
   "source": []
  },
  {
   "cell_type": "code",
   "execution_count": null,
   "id": "283be629",
   "metadata": {},
   "outputs": [],
   "source": [
    "import plotly.figure_factory as ff\n",
    "import plotly.graph_objs as go\n",
    "import plotly.express as px\n",
    "from plotly.offline import init_notebook_mode, iplot\n",
    "import random\n",
    "init_notebook_mode(connected=True) "
   ]
  },
  {
   "cell_type": "code",
   "execution_count": null,
   "id": "cddfe43d",
   "metadata": {},
   "outputs": [],
   "source": [
    "ff.create_distplot?"
   ]
  },
  {
   "cell_type": "code",
   "execution_count": null,
   "id": "c2a2d6f8",
   "metadata": {},
   "outputs": [],
   "source": [
    "# taking random samples of duration per year \n",
    "b = random.sample(df.loc[df['year'] ==2018]['duration'].to_list(),100000)\n",
    "r = random.sample(df.loc[df['year'] ==2019]['duration'].to_list(),100000)\n",
    "e = random.sample(df.loc[df['year'] ==2020]['duration'].to_list(),100000)\n",
    "n = random.sample(df.loc[df['year'] ==2021]['duration'].to_list(),100000)"
   ]
  },
  {
   "cell_type": "code",
   "execution_count": null,
   "id": "d2bde0be",
   "metadata": {},
   "outputs": [],
   "source": [
    "# removing outliers \n",
    "h = random.sample(df.loc[(df['year'] ==2018)]['durationmins'].to_list(),100000)\n",
    "u = random.sample(df.loc[df['year'] ==2019]['durationmins'].to_list(),100000)\n",
    "t = random.sample(df.loc[df['year'] ==2020]['durationmins'].to_list(),100000)\n",
    "c = random.sample(df.loc[df['year'] ==2021]['durationmins'].to_list(),100000)"
   ]
  },
  {
   "cell_type": "code",
   "execution_count": null,
   "id": "665c9478",
   "metadata": {},
   "outputs": [],
   "source": []
  },
  {
   "cell_type": "code",
   "execution_count": null,
   "id": "fd259cc3",
   "metadata": {},
   "outputs": [],
   "source": [
    "xx = [np.log(i) for i in h]\n",
    "yy = [np.log(i) for i in u]\n",
    "zz = [np.log(i) for i in t]\n",
    "pp = [np.log(i) for i in c]"
   ]
  },
  {
   "cell_type": "code",
   "execution_count": null,
   "id": "3a9e0018",
   "metadata": {},
   "outputs": [],
   "source": [
    "\n",
    "fig5 = ff.create_distplot([xx,yy,zz,pp],group_labels = ['2018','2019','2020','2021'],show_hist=False,show_rug=False)\n",
    "fig5.show()"
   ]
  },
  {
   "cell_type": "code",
   "execution_count": null,
   "id": "8cc3fe82",
   "metadata": {},
   "outputs": [],
   "source": []
  },
  {
   "cell_type": "code",
   "execution_count": null,
   "id": "da23a973",
   "metadata": {},
   "outputs": [],
   "source": [
    "# too big \n",
    "fig6 = ff.create_distplot([df.loc[df['year'] ==2018]['durationmins'].to_list(),df.loc[df['year'] ==2019]['durationmins'].to_list(),\n",
    "                           df.loc[df['year'] ==2020]['durationmins'].to_list(),df.loc[df['year'] ==2021]['durationmins'].to_list()],\n",
    "                           group_labels = ['2018','2019','2020','2021'],show_hist=False,show_rug=False)\n",
    "fig6.show()"
   ]
  },
  {
   "cell_type": "code",
   "execution_count": null,
   "id": "3c2770f8",
   "metadata": {},
   "outputs": [],
   "source": [
    "df.columns"
   ]
  },
  {
   "cell_type": "code",
   "execution_count": null,
   "id": "4d7875c7",
   "metadata": {},
   "outputs": [],
   "source": [
    "\n",
    "\n",
    "features = ['start_lng', 'start_lat', 'user_type', 'month',\n",
    "'year', 'day_of_week', 'hour_of_day', 'region_id_start',\n",
    "'subway_dist_start','bus_dist_start','high_traffic_start',\n",
    "'comm_dist_start', 'zipcode_start', 'day_type'] "
   ]
  },
  {
   "cell_type": "code",
   "execution_count": null,
   "id": "e64fff07",
   "metadata": {},
   "outputs": [],
   "source": [
    "pd.concat([post[features], dummies]).columns"
   ]
  },
  {
   "cell_type": "code",
   "execution_count": null,
   "id": "0fe4f23c",
   "metadata": {},
   "outputs": [],
   "source": [
    "region_id_start   'zipcode_start' 'start_lng start_lat day -type , park distacnes "
   ]
  },
  {
   "cell_type": "code",
   "execution_count": null,
   "id": "a8ee139c",
   "metadata": {},
   "outputs": [],
   "source": [
    "# organizing data for models \n"
   ]
  },
  {
   "cell_type": "code",
   "execution_count": null,
   "id": "1ba07eb6",
   "metadata": {},
   "outputs": [],
   "source": [
    "\n",
    "\n",
    "features = ['user_type', 'month',\n",
    "'year', 'day_of_week', 'hour_of_day',\n",
    "'subway_dist_start','bus_dist_start','high_traffic_start',\n",
    "'comm_dist_start'] "
   ]
  },
  {
   "cell_type": "code",
   "execution_count": null,
   "id": "8ea4ffe6",
   "metadata": {},
   "outputs": [],
   "source": [
    "y = post['durationmins']\n",
    "\n",
    "dummies = pd.get_dummies(post['day_type'], drop_first=True)\n",
    "\n",
    "x = pd.concat([post[features], dummies], axis = 1)\n"
   ]
  },
  {
   "cell_type": "code",
   "execution_count": null,
   "id": "5429ddee",
   "metadata": {},
   "outputs": [],
   "source": [
    "\n",
    "X_train, X_test, y_train, y_test = train_test_split(x,y, test_size=0.2, random_state=0)\n",
    "\n",
    "from sklearn.model_selection import train_test_split\n",
    "import sklearn.model_selection as ms\n",
    "from sklearn import ensemble\n",
    "\n",
    "randomForest = ensemble.RandomForestRegressor()\n"
   ]
  },
  {
   "cell_type": "code",
   "execution_count": null,
   "id": "1b8bfb1e",
   "metadata": {},
   "outputs": [],
   "source": [
    "%time randomForest.fit(X_train, y_train) \n",
    "\n",
    "randomForest.score(X_train,y_train)\n",
    "\n",
    "randomForest.score(X_test,y_test)\n"
   ]
  },
  {
   "cell_type": "code",
   "execution_count": null,
   "id": "ac2024d6",
   "metadata": {},
   "outputs": [],
   "source": [
    "# Grid Search \n",
    "grid_para_tree = [\n",
    "    {'max_depth': range(1, 31)\n",
    "    'n_estimators' : range(10,100,10)}\n",
    "]\n",
    "\n",
    "tree_model.set_params(random_state=0)\n",
    "grid_search_tree = ms.GridSearchCV(tree_model.fit(X_train, y_train),grid_para_tree, scoring='r2', cv=3, n_jobs=-1, return_train_score=True)\n",
    "grid_search_tree.fit(X_train, y_train)"
   ]
  },
  {
   "cell_type": "code",
   "execution_count": null,
   "id": "cbf933b9",
   "metadata": {},
   "outputs": [],
   "source": []
  }
 ],
 "metadata": {
  "kernelspec": {
   "display_name": "Python 3",
   "language": "python",
   "name": "python3"
  },
  "language_info": {
   "codemirror_mode": {
    "name": "ipython",
    "version": 3
   },
   "file_extension": ".py",
   "mimetype": "text/x-python",
   "name": "python",
   "nbconvert_exporter": "python",
   "pygments_lexer": "ipython3",
   "version": "3.8.8"
  }
 },
 "nbformat": 4,
 "nbformat_minor": 5
}
