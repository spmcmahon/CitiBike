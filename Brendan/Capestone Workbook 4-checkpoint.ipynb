{
 "cells": [
  {
   "cell_type": "code",
   "execution_count": null,
   "id": "78cdcddf",
   "metadata": {},
   "outputs": [],
   "source": [
    "import pandas as pd \n",
    "import numpy as np \n",
    "import time\n",
    "import geopandas as gpd\n",
    "import plotly.express as px\n",
    "import matplotlib.pyplot as plt\n",
    "import plotly.graph_objects as go"
   ]
  },
  {
   "cell_type": "code",
   "execution_count": null,
   "id": "c4747345",
   "metadata": {},
   "outputs": [],
   "source": [
    "# outdated df \n",
    "df = pd.read_feather('pidgeon.feather')"
   ]
  },
  {
   "cell_type": "code",
   "execution_count": null,
   "id": "964d388b",
   "metadata": {},
   "outputs": [],
   "source": [
    "tripdistance = pd.read_feather('df_with_trip_distances.feather')"
   ]
  },
  {
   "cell_type": "code",
   "execution_count": null,
   "id": "69554e82",
   "metadata": {},
   "outputs": [],
   "source": [
    "tripdistance = tripdistance[['start_time','end_time','trip_distances']]"
   ]
  },
  {
   "cell_type": "code",
   "execution_count": null,
   "id": "08cff8e9",
   "metadata": {},
   "outputs": [],
   "source": [
    "df2 = tripdistance.merge(df, how = 'left' , left_on = ['start_time','end_time'], right_on= ['start_time','end_time'])"
   ]
  },
  {
   "cell_type": "code",
   "execution_count": null,
   "id": "3d3aeee6",
   "metadata": {
    "scrolled": false
   },
   "outputs": [],
   "source": [
    "# seperating data set for pre and post covid analysis \n",
    "\n",
    "precovidf =df2.loc[(df2['year']== 2018) |( df2['year'] == 2019)]\n",
    "postcovidf =df2.loc[(df2['year']== 2020) |( df2['year'] == 2021)]\n",
    "precovidf['group'] = list(zip(precovidf.start_coords, precovidf.end_coords))\n",
    "precovidf['final_group']= precovidf.group.apply(lambda i: str(i[1][1]) + str(i[0][0]) + str(i[0][1])+ str(i[1][0]))\n",
    "precovidf.shape\n",
    "postcovidf['group'] = list(zip(postcovidf.start_coords, postcovidf.end_coords))\n",
    "postcovidf['final_group']= postcovidf.group.apply(lambda i: str(i[1][1]) + str(i[0][0]) + str(i[0][1])+ str(i[1][0]))\n",
    "print(precovidf.shape)\n",
    "print(postcovidf.shape)"
   ]
  },
  {
   "cell_type": "code",
   "execution_count": null,
   "id": "59fd51aa",
   "metadata": {},
   "outputs": [],
   "source": [
    "# number of rides between each distinct start and end coordinates\n",
    "precovrides = precovidf.groupby('final_group').count()[['group']] \n",
    "postcovrides = postcovidf.groupby('final_group').count()[['group']] \n",
    "\n",
    "len(precovrides)\n",
    "\n",
    "precovrides.rename(columns= {'group':'num_rides'},inplace = True)\n",
    "postcovrides.rename(columns= {'group':'num_rides'},inplace = True)\n",
    "\n",
    "precovrides.reset_index(inplace=True)\n",
    "postcovrides.reset_index(inplace=True)"
   ]
  },
  {
   "cell_type": "code",
   "execution_count": null,
   "id": "4b0cc31b",
   "metadata": {},
   "outputs": [],
   "source": [
    "# merging pre and post covid data to get popularaity or number unique rides from one station to another \n",
    "\n",
    "pre_df= precovrides.merge(precovidf, how = 'left', left_on = 'final_group', right_on= 'final_group')\n",
    "post_df= postcovrides.merge(postcovidf, how = 'left', left_on = 'final_group', right_on= 'final_group')"
   ]
  },
  {
   "cell_type": "code",
   "execution_count": null,
   "id": "4a15e6c8",
   "metadata": {},
   "outputs": [],
   "source": [
    "print(pre_df.shape)\n",
    "print(post_df.shape)\n",
    "print(post_df.columns)\n",
    "print(post_df.isna().sum())\n"
   ]
  },
  {
   "cell_type": "code",
   "execution_count": null,
   "id": "a5cf84ec",
   "metadata": {},
   "outputs": [],
   "source": [
    "# data set with only unique station.\n",
    "prestations =pre_df.drop_duplicates(['start_name'])\n",
    "poststations =post_df.drop_duplicates(['start_name'])\n",
    "print(prestations.shape)\n",
    "print(poststations.shape)"
   ]
  },
  {
   "cell_type": "code",
   "execution_count": null,
   "id": "074a219f",
   "metadata": {},
   "outputs": [],
   "source": [
    "# finding number of rides per start station  or the popularity for color mapping \n",
    "\n",
    "ridesdf = pre_df.groupby('start_name').count()[['end_coords']]\n",
    "\n",
    "ridesdf.rename(columns ={'end_coords': 'Popularity'}, inplace = True)\n",
    "ridesdf.reset_index(inplace = True)\n",
    "\n",
    "postridesdf = post_df.groupby('start_name').count()[['end_coords']]\n",
    "\n",
    "postridesdf.rename(columns ={'end_coords': 'Popularity'}, inplace = True)\n",
    "postridesdf.reset_index(inplace = True)"
   ]
  },
  {
   "cell_type": "code",
   "execution_count": null,
   "id": "2eca2e3f",
   "metadata": {},
   "outputs": [],
   "source": [
    "# merging popularity back onto original pre and post covid data frames \n",
    "final_pre_df= ridesdf.merge(pre_df, how = 'left', left_on = 'start_name', right_on= 'start_name')\n",
    "final_post_df= postridesdf.merge(post_df, how = 'left', left_on = 'start_name', right_on= 'start_name')\n",
    "print(final_post_df.shape)\n",
    "print(final_post_df.columns)\n",
    "print(final_post_df.isna().sum())\n",
    "print(final_pre_df.shape)"
   ]
  },
  {
   "cell_type": "code",
   "execution_count": null,
   "id": "cc5bdb31",
   "metadata": {},
   "outputs": [],
   "source": [
    "df2.shape\n",
    "ridesdf.shape\n",
    "pd.merge?"
   ]
  },
  {
   "cell_type": "code",
   "execution_count": null,
   "id": "dc403681",
   "metadata": {},
   "outputs": [],
   "source": [
    "pd.concat([df2, ], axis=0)"
   ]
  },
  {
   "cell_type": "code",
   "execution_count": null,
   "id": "5c52381f",
   "metadata": {},
   "outputs": [],
   "source": [
    "# saving final pre and post data to feather files \n",
    "# final_pre_df.to_feather('pre_df.feather')\n",
    "# final_post_df.to_feather('post_df.feather')"
   ]
  },
  {
   "cell_type": "code",
   "execution_count": null,
   "id": "cc9a4ead",
   "metadata": {},
   "outputs": [],
   "source": [
    "print(final_pre_df.isna().sum())"
   ]
  },
  {
   "cell_type": "code",
   "execution_count": null,
   "id": "b631fdd7",
   "metadata": {},
   "outputs": [],
   "source": [
    "# lopping thru popularity to assign color values based on ranges - pre covid \n",
    "ridesdf['color_map'] = ''\n",
    "for i in range(len(ridesdf.index)):\n",
    "    if ridesdf.Popularity.iloc[i]  >= 50000: ridesdf.loc[i,'color_map']= 'red'\n",
    "    elif (ridesdf.Popularity.iloc[i]  < 50000 )& (ridesdf.Popularity.iloc[i]> 20000 ): ridesdf.loc[i,'color_map']='orange'\n",
    "    elif( ridesdf.Popularity.iloc[i]  < 20000 ) & (ridesdf.Popularity.iloc[i] >5000) : ridesdf.loc[i,'color_map']='yellow'\n",
    "    elif (ridesdf.Popularity.iloc[i]  <5000) & (ridesdf.Popularity.iloc[i] >1000):ridesdf.loc[i,'color_map']= 'green'\n",
    "    elif (ridesdf.Popularity.iloc[i] <1000) & (ridesdf.Popularity.iloc[i] > 100):ridesdf.loc[i,'color_map']= 'blue'\n",
    "    else :ridesdf.loc[i,'color_map']= 'purple'\n",
    "    "
   ]
  },
  {
   "cell_type": "code",
   "execution_count": null,
   "id": "8e1f0dab",
   "metadata": {},
   "outputs": [],
   "source": [
    "# post covid \n",
    "postridesdf['color_map'] = ''\n",
    "for i in range(len(postridesdf.index)):\n",
    "    if postridesdf.Popularity.iloc[i]  >= 50000: postridesdf.loc[i,'color_map']= 'red'\n",
    "    elif (postridesdf.Popularity.iloc[i]  < 50000 )& (postridesdf.Popularity.iloc[i]> 20000 ): postridesdf.loc[i,'color_map']='orange'\n",
    "    elif( postridesdf.Popularity.iloc[i]  < 20000 ) & (postridesdf.Popularity.iloc[i] >5000) : postridesdf.loc[i,'color_map']='yellow'\n",
    "    elif (postridesdf.Popularity.iloc[i]  <5000) & (postridesdf.Popularity.iloc[i] >1000):postridesdf.loc[i,'color_map']= 'green'\n",
    "    elif (postridesdf.Popularity.iloc[i] <1000) & (postridesdf.Popularity.iloc[i] > 100):postridesdf.loc[i,'color_map']= 'blue'\n",
    "    else :postridesdf.loc[i,'color_map']= 'purple'"
   ]
  },
  {
   "cell_type": "code",
   "execution_count": null,
   "id": "9d3eb12c",
   "metadata": {},
   "outputs": [],
   "source": [
    "# merging back onto unique indivudal stations to get coordinate pairs \n",
    "\n",
    "pre_popdf = prestations.merge(ridesdf, how = 'right', left_on = 'start_name', right_on = 'start_name')\n",
    "post_popdf = poststations.merge(postridesdf, how = 'right', left_on = 'start_name', right_on = 'start_name')"
   ]
  },
  {
   "cell_type": "code",
   "execution_count": null,
   "id": "2768ff58",
   "metadata": {},
   "outputs": [],
   "source": [
    "print(pre_popdf.shape)\n",
    "print(post_popdf.shape)\n",
    "print(ridesdf.shape)\n",
    "print(postridesdf.shape)"
   ]
  },
  {
   "cell_type": "code",
   "execution_count": null,
   "id": "79062974",
   "metadata": {},
   "outputs": [],
   "source": [
    "# pre and post data with only unique paths \n",
    "pre_df1 = pre_df.drop_duplicates(subset = ['final_group'])\n",
    "post_df1 = post_df.drop_duplicates(subset = ['final_group'])\n"
   ]
  },
  {
   "cell_type": "code",
   "execution_count": null,
   "id": "ba863712",
   "metadata": {},
   "outputs": [],
   "source": [
    "print(pre_df1.shape)\n",
    "print(post_df1.shape)"
   ]
  },
  {
   "cell_type": "code",
   "execution_count": null,
   "id": "c1a02fab",
   "metadata": {
    "scrolled": true
   },
   "outputs": [],
   "source": [
    "# ensuring all duplicates are dropped \n",
    "\n",
    "pre_df1.drop_duplicates(subset = ['start_name','end_name','num_rides'],inplace =True)\n",
    "post_df1.drop_duplicates(subset = ['start_name','end_name','num_rides'],inplace =True)"
   ]
  },
  {
   "cell_type": "code",
   "execution_count": null,
   "id": "b66e31c6",
   "metadata": {},
   "outputs": [],
   "source": [
    "print(pre_df1.shape)"
   ]
  },
  {
   "cell_type": "code",
   "execution_count": null,
   "id": "6ce8b9a9",
   "metadata": {
    "scrolled": true
   },
   "outputs": [],
   "source": [
    "pre_df1.reset_index(inplace=True)\n",
    "post_df1.reset_index(inplace=True)"
   ]
  },
  {
   "cell_type": "code",
   "execution_count": null,
   "id": "2d59675c",
   "metadata": {},
   "outputs": [],
   "source": [
    "pre_df1.num_rides.sort_values(ascending = False)\n"
   ]
  },
  {
   "cell_type": "code",
   "execution_count": null,
   "id": "c47c26e7",
   "metadata": {},
   "outputs": [],
   "source": [
    "# unique station coordinates pre and post covid \n",
    "pree =pre_df1.drop_duplicates(['start_name'])\n",
    "posts =post_df1.drop_duplicates(['start_name'])\n",
    "print(pree.shape)\n",
    "print(posts.shape)"
   ]
  },
  {
   "cell_type": "code",
   "execution_count": null,
   "id": "d6f425bc",
   "metadata": {},
   "outputs": [],
   "source": [
    "## geting boro locations for low density dockstations "
   ]
  },
  {
   "cell_type": "code",
   "execution_count": null,
   "id": "33abaf99",
   "metadata": {
    "scrolled": false
   },
   "outputs": [],
   "source": [
    "import geopandas\n",
    "from shapely.geometry import Polygon, Point\n",
    "import geojson\n",
    "north = [(40.872944, -73.927418),(40.895429, -73.917247),(40.884413, -73.888250),(40.853074, -73.815674)\n",
    "              ,(40.813691, -73.816279),(40.798995, -73.908538),(40.810716, -73.932721),(40.837119, -73.931637)]\n",
    "\n",
    "north = Polygon(north)\n",
    "\n",
    "astoria =[(40.778900, -73.924769),(40.767786, -73.911384),(40.753993, -73.912774),\n",
    "          (40.762848, -73.860803),(40.790865, -73.907390)]\n",
    "astoria = Polygon(astoria)\n",
    "\n",
    "redhook =[(40.667686, -74.002683),(40.640777, -73.955835),(40.603101, -74.016806),(40.628058, -74.048852)]\n",
    "redhook = Polygon(redhook)\n",
    "flushing =[(40.725841, -73.880005),(40.702408, -73.928458),(40.678606, -73.922120),(40.704628, -73.856625)]\n",
    "flushing = Polygon(flushing) \n",
    "\n",
    "\n",
    "print(redhook)\n",
    "print(flushing)\n",
    "print(north)\n",
    "print(astoria)\n"
   ]
  },
  {
   "cell_type": "code",
   "execution_count": null,
   "id": "38a20a81",
   "metadata": {},
   "outputs": [],
   "source": [
    "post.reset_index(inplace =True)"
   ]
  },
  {
   "cell_type": "code",
   "execution_count": null,
   "id": "7f894b8a",
   "metadata": {},
   "outputs": [],
   "source": [
    "pre.reset_index(inplace=True)"
   ]
  },
  {
   "cell_type": "code",
   "execution_count": null,
   "id": "177aa41a",
   "metadata": {},
   "outputs": [],
   "source": [
    "pre_exp=pre.loc[(pre['color_map'] =='blue')|(pre['color_map']== 'purple')|(pre['color_map'] == 'green')][['start_name', 'end_name', 'end_coords',\n",
    "                                                                                                          'expansion','final_group', 'start_time','end_time','end_lng','end_lat']]\n",
    "post_exp=post.loc[(post['color_map'] =='blue')|(post['color_map']== 'purple')|(post['color_map'] == 'green')][['start_name', 'end_name', 'end_coords','final_group',\n",
    "                                                                                                               'start_time','end_time','end_lat','end_lng']]"
   ]
  },
  {
   "cell_type": "code",
   "execution_count": null,
   "id": "bbbb6355",
   "metadata": {},
   "outputs": [],
   "source": [
    "pre_exp.drop_duplicates(subset = ['start_name'],inplace=True)\n",
    "post_exp.drop_duplicates(subset=['start_name'],inplace=True)\n",
    "print(post.columns)\n",
    "print(pre_exp.columns)\n",
    "print(pre_exp.shape)\n",
    "print(post_exp.shape)"
   ]
  },
  {
   "cell_type": "code",
   "execution_count": null,
   "id": "871f1937",
   "metadata": {
    "scrolled": false
   },
   "outputs": [],
   "source": [
    "\n",
    "exp_pre1.end_lng =exp_pre1.end_lng.apply(lambda x:float(x))\n",
    "exp_pre1.end_lat=exp_pre1.end_lat.apply(lambda x:float(x))\n",
    "\n",
    "exp_post1.end_lng=exp_post1.end_lng.apply(lambda x:float(x))\n",
    "exp_post1.end_lat=exp_post1.end_lat.apply(lambda x:float(x))\n"
   ]
  },
  {
   "cell_type": "code",
   "execution_count": null,
   "id": "144c3620",
   "metadata": {},
   "outputs": [],
   "source": [
    "exp_pre1.reset_index(inplace=True)\n",
    "exp_post1.reset_index(inplace=True)"
   ]
  },
  {
   "cell_type": "code",
   "execution_count": null,
   "id": "824a25d4",
   "metadata": {
    "scrolled": true
   },
   "outputs": [],
   "source": [
    "# post exapansion area keys \n",
    "\n",
    "from shapely.geometry import Polygon, Point\n",
    "\n",
    "exp_pre1['expansion'] = 0 \n",
    "\n",
    "for z,i in enumerate(list(zip(exp_pre1.end_lat,exp_pre1.end_lng))):\n",
    "    if Point(i).within(astoria):\n",
    "        print(True)\n",
    "        exp_pre1.loc[z,'expansion'] = 2\n",
    "    \n",
    "    elif Point(i).within(north):\n",
    "         exp_pre1.loc[z,'expansion'] = 1\n",
    "    elif Point(i).within(redhook):\n",
    "        exp_pre1.loc[z,'expansion'] = 4\n",
    "    elif Point(i).within(flushing): \n",
    "        exp_pre1.loc[z,'expansion'] = 3 \n",
    "\n",
    "    print(z)"
   ]
  },
  {
   "cell_type": "code",
   "execution_count": null,
   "id": "77324454",
   "metadata": {},
   "outputs": [],
   "source": [
    "# pre expansion area keys \n",
    "\n",
    "from shapely.geometry import Polygon, Point\n",
    "exp_post1['expansion'] = 0\n",
    "\n",
    "for z,i in enumerate(list(zip(exp_post1.end_lat,exp_post1.end_lng))):\n",
    "    if Point(i).within(astoria):\n",
    "         exp_post1.loc[z,'expansion'] = 2\n",
    "    elif Point(i).within(north):\n",
    "         exp_post1.loc[z,'expansion'] = 1\n",
    "    elif Point(i).within(redhook):\n",
    "        exp_post1.loc[z,'expansion'] = 4\n",
    "    elif Point(i).within(flushing): \n",
    "        exp_post1.loc[z,'expansion'] = 3 \n",
    "  \n",
    "    print(z)\n",
    "            \n",
    "       \n",
    "      "
   ]
  },
  {
   "cell_type": "code",
   "execution_count": null,
   "id": "77566215",
   "metadata": {},
   "outputs": [],
   "source": [
    "# pre covid "
   ]
  },
  {
   "cell_type": "code",
   "execution_count": null,
   "id": "240c437e",
   "metadata": {},
   "outputs": [],
   "source": [
    "exp_stsP=['St Johns Pl & Washington Ave',\n",
    "\n",
    "\n",
    "'Graham Ave & Withers St', 'St Johns Pl & Washington Ave',\n",
    "       'Lewis Ave & Madison St', 'N 11 St & Kent Ave',\n",
    "       'Cambridge Pl & Gates Ave',\n",
    "\n",
    "\n",
    "'Graham Ave & Withers St', '3 Ave & E 71 St', 'India St & West St',\n",
    "       '31 St & Newtown Ave', 'N 11 St & Kent Ave']"
   ]
  },
  {
   "cell_type": "code",
   "execution_count": null,
   "id": "a74610e0",
   "metadata": {},
   "outputs": [],
   "source": [
    "# post covid "
   ]
  },
  {
   "cell_type": "code",
   "execution_count": null,
   "id": "a9b01598",
   "metadata": {
    "scrolled": true
   },
   "outputs": [],
   "source": [
    "exp2019 = pre_exp.loc[(pre_exp.start_name_x.isin(exp_stsP)) &(pre_exp.expansion_y !=0)]"
   ]
  },
  {
   "cell_type": "code",
   "execution_count": null,
   "id": "3728a7b8",
   "metadata": {},
   "outputs": [],
   "source": [
    "exp2019.head()"
   ]
  },
  {
   "cell_type": "code",
   "execution_count": null,
   "id": "5c7ef3df",
   "metadata": {},
   "outputs": [],
   "source": [
    "exp2020 = post_exp.loc[post_exp.start_name_x.isin(exp_sts) & (post_exp.expansion_y !=0)]"
   ]
  },
  {
   "cell_type": "code",
   "execution_count": null,
   "id": "5ac3b49f",
   "metadata": {},
   "outputs": [],
   "source": [
    "exp2020.sort_values(by='num_rides',ascending = True).reset_index(inplace= True)"
   ]
  },
  {
   "cell_type": "code",
   "execution_count": null,
   "id": "ea684ae4",
   "metadata": {},
   "outputs": [],
   "source": [
    "exp2020.loc[exp2020['expansion_y']==4][['start_name_x','num_rides','end_name']].sort_values(by='num_rides',ascending = False)"
   ]
  },
  {
   "cell_type": "code",
   "execution_count": null,
   "id": "cc7cc6d8",
   "metadata": {},
   "outputs": [],
   "source": [
    "len(exp2020.drop_duplicates(subset=['final_group_x']))"
   ]
  },
  {
   "cell_type": "code",
   "execution_count": null,
   "id": "5f3fc5b2",
   "metadata": {},
   "outputs": [],
   "source": [
    "#4\n",
    "exp_sts= ['1 Pl & Clinton St' ,           \n",
    "'1 St & 6 Ave'        ,           \n",
    "'10 St & 2 Ave'        ,       \n",
    "'11 Ave & Prospect Ave' ,        \n",
    "'10 Hudson Yards',\n",
    "\n",
    "\n",
    "'1 Pl & Clinton St',        \n",
    "'1 St & 6 Ave'      ,       \n",
    "'11 St & 43 Ave'      ,     \n",
    "'10 Hudson Yards'    ,      \n",
    "'2 Ave & E 122 St'     ,    \n",
    "'10 St & 2 Ave'         ,   \n",
    "'11 Ave & Prospect Ave'  ,  \n",
    "'19 St & 24 Ave '  ,\n",
    "\n",
    "\n",
    "'1 Pl & Clinton St' ,            \n",
    "'1 St & 6 Ave'       ,           \n",
    "'10 Hudson Yards'     ,          \n",
    "'11 St & 43 Ave'       ,         \n",
    "'10 St & 5 Ave'         ,      \n",
    "'11 Ave & Prospect Ave'  ,        \n",
    "'10 St & 2 Ave'           ,       \n",
    "'11 St & 35 Ave'           ,     \n",
    "'2 Ave & E 125 St'          ,     \n",
    "'2 Ave & E 122 St'           ,    \n",
    "'17 St & 5 Ave'               ,  \n",
    "'10 Ave & W 207 St',\n",
    "\n",
    "\n",
    "'1 Pl & Clinton St ',       \n",
    "'2 Ave & E 122 St'   ,      \n",
    "'11 St & 43 Ave'      ,    \n",
    "'10 Hudson Yards'      ,    \n",
    "'19 St & 24 Ave'        ,   \n",
    "'10 St & 2 Ave'          , \n",
    "'10 Ave & W 202 St'] "
   ]
  },
  {
   "cell_type": "code",
   "execution_count": null,
   "id": "74873963",
   "metadata": {},
   "outputs": [],
   "source": [
    "pre_exp.loc[]"
   ]
  },
  {
   "cell_type": "code",
   "execution_count": null,
   "id": "af7edd27",
   "metadata": {},
   "outputs": [],
   "source": [
    "pre_exp = pre_exp.merge(pre, how = \"right\", left_on = 'end_name', right_on= 'end_name')\n",
    "post_exp = post_exp.merge(post, how = \"right\", left_on = 'end_name', right_on= 'end_name')\n",
    "post_exp.expansion_y.value_counts()\n",
    "pre_exp.expansion_y.value_counts()\n",
    "\n"
   ]
  },
  {
   "cell_type": "code",
   "execution_count": null,
   "id": "1777e880",
   "metadata": {},
   "outputs": [],
   "source": [
    "print(pre_exp.loc[pre_exp['expansion_y']==4].start_name_x.value_counts().index)\n",
    "print(pre_exp.loc[pre_exp['expansion_y']==3].start_name_x.value_counts().index)\n",
    "print(pre_exp.loc[pre_exp['expansion_y']==2].start_name_x.value_counts().index)\n",
    "print(pre_exp.loc[pre_exp['expansion_y']==1].start_name_x.value_counts().index)"
   ]
  },
  {
   "cell_type": "code",
   "execution_count": null,
   "id": "34502740",
   "metadata": {
    "scrolled": true
   },
   "outputs": [],
   "source": [
    "print(post_exp.loc[post_exp['expansion_y']==4].start_name_x.value_counts())\n",
    "print(post_exp.loc[post_exp['expansion_y']==3].start_name_x.value_counts())\n",
    "print(post_exp.loc[post_exp['expansion_y']==2].start_name_x.value_counts())\n",
    "print(post_exp.loc[post_exp['expansion_y']==1].start_name_x.value_counts())"
   ]
  },
  {
   "cell_type": "code",
   "execution_count": null,
   "id": "913aa52b",
   "metadata": {},
   "outputs": [],
   "source": [
    "pre_exp = pre[['expansion', 'start_lng', 'end_lng', 'start_lat', 'end_lat', \n",
    "               'start_coords', 'end_coords', 'num_rides', 'Popularity', 'name_end',\n",
    "               'start_name', 'color_map', 'final_group']]\n",
    "\n",
    "# post_exp = post[['expansion', 'start_lng', 'end_lng', 'start_lat', 'end_lat', \n",
    "#                'start_coords', 'end_coords', 'num_rides', 'Popularity', 'name_end',\n",
    "#                'start_name', 'color_map', 'final_group']]\n",
    "\n",
    "# post_exp.to_feather('post_exp.feather')\n",
    "\n",
    "# pre_exp.to_feather('pre_exp.feather')"
   ]
  },
  {
   "cell_type": "code",
   "execution_count": null,
   "id": "ca107cd8",
   "metadata": {},
   "outputs": [],
   "source": [
    "nsdf = pre.loc[pre['Popularity']< 300][['start_name','start_lat', 'start_lng','end_lng','end_lat', 'Popularity', 'num_rides']]\n",
    "nsdf= nsdf.drop_duplicates(subset=['start_name'])\n",
    "nsdf.reset_index(inplace=True)"
   ]
  },
  {
   "cell_type": "code",
   "execution_count": null,
   "id": "141c7a9f",
   "metadata": {
    "scrolled": true
   },
   "outputs": [],
   "source": [
    "pre.loc[(pre['color_map']=='blue' )|(pre['color_map']=='purple' )| pre['color_map']=='green']"
   ]
  },
  {
   "cell_type": "code",
   "execution_count": null,
   "id": "e8206d0f",
   "metadata": {},
   "outputs": [],
   "source": [
    "# getting important exapansion area stations "
   ]
  },
  {
   "cell_type": "code",
   "execution_count": null,
   "id": "144e5e8e",
   "metadata": {},
   "outputs": [],
   "source": [
    "pre = pd.read_feather('pre_df.feather')\n",
    "post = pd.read_feather('post_df.feather')"
   ]
  },
  {
   "cell_type": "code",
   "execution_count": null,
   "id": "85168623",
   "metadata": {},
   "outputs": [],
   "source": [
    "df = pd.read_feather('the_final_df.feather')\n"
   ]
  },
  {
   "cell_type": "code",
   "execution_count": null,
   "id": "0620638a",
   "metadata": {},
   "outputs": [],
   "source": [
    "exp_pre1 = pd.read_feather('exp_data_pre.feather')\n",
    "exp_post1 = pd.read_feather('exp_data_post.feather')"
   ]
  },
  {
   "cell_type": "code",
   "execution_count": null,
   "id": "6bd468f2",
   "metadata": {},
   "outputs": [],
   "source": [
    "distinct_pre = pre.drop_duplicates(subset=['start_name'])\n",
    "distinct_post = post.drop_duplicates(subset=['start_name'])"
   ]
  },
  {
   "cell_type": "code",
   "execution_count": null,
   "id": "50520cb9",
   "metadata": {},
   "outputs": [],
   "source": [
    "# dropping duplicate rides \n",
    "exp_pre = pre.drop_duplicates(subset=['final_group'])\n",
    "exp_post = post.drop_duplicates(subset =['final_group'])\n",
    "print(exp_pre.shape)\n",
    "print(exp_post.shape)"
   ]
  },
  {
   "cell_type": "code",
   "execution_count": null,
   "id": "87f21a6b",
   "metadata": {},
   "outputs": [],
   "source": [
    "# filtering data for start stations with highest value counts of end stations in expansion areas \n",
    "exp_post1 =exp_post.loc[(exp_post.start_name.isin(exp_sts))]"
   ]
  },
  {
   "cell_type": "code",
   "execution_count": null,
   "id": "2b681df4",
   "metadata": {},
   "outputs": [],
   "source": [
    "exp_pre1 = exp_pre.loc[(exp_pre.start_name.isin(exp_stsP))]\n",
    "print(exp_pre1.shape)\n",
    "print(exp_post1.shape)\n",
    "print(exp_post1.isna().sum())"
   ]
  },
  {
   "cell_type": "code",
   "execution_count": null,
   "id": "506846aa",
   "metadata": {},
   "outputs": [],
   "source": [
    "# filtering the data for only end stations in exansion zones \n",
    "exp_post1 =exp_post1[exp_post1['expansion']!=0]\n",
    "exp_pre1 =exp_pre1[exp_pre1['expansion']!=0]\n",
    "\n"
   ]
  },
  {
   "cell_type": "code",
   "execution_count": null,
   "id": "ed74027c",
   "metadata": {},
   "outputs": [],
   "source": [
    "# sorting stations with the maximum number of rides \n",
    "exp_pre1= exp_pre1.sort_values(by='num_rides', ascending = False)\n",
    "exp_post1=exp_post1.sort_values(by='num_rides', ascending = False)\n"
   ]
  },
  {
   "cell_type": "code",
   "execution_count": null,
   "id": "648f42ff",
   "metadata": {},
   "outputs": [],
   "source": [
    "# saving data for future use in maps \n",
    "\n",
    "# exp_post1.reset_index(inplace=True)\n",
    "# exp_pre1.reset_index(inplace=True)\n",
    "exp_post1.index\n",
    "exp_pre1.set_index('group',inplace =True)\n",
    "exp_pre1.reset_index(inplace=True)"
   ]
  },
  {
   "cell_type": "code",
   "execution_count": null,
   "id": "13f57efc",
   "metadata": {},
   "outputs": [],
   "source": [
    "# exp_pre1.to_feather('exp_data_pre.feather')\n",
    "# exp_post1.to_feather('exp_data_post.feather')"
   ]
  },
  {
   "cell_type": "code",
   "execution_count": null,
   "id": "c40f11c6",
   "metadata": {},
   "outputs": [],
   "source": [
    "from plotly.offline import init_notebook_mode, iplot\n",
    "init_notebook_mode(connected=True)  "
   ]
  },
  {
   "cell_type": "code",
   "execution_count": null,
   "id": "1e2799c9",
   "metadata": {},
   "outputs": [],
   "source": [
    "figpost = go.Figure()\n",
    "\n",
    "\n",
    "figpost.add_trace(go.Scattermapbox(\n",
    "    lon = distinct_post['start_lng'],\n",
    "    lat = distinct_post['start_lat'],\n",
    "    hoverinfo = 'text',\n",
    "    text = distinct_post['start_name'],\n",
    "    mode = 'markers',\n",
    "    marker = dict(\n",
    "        size = 4,\n",
    "        color = distinct_post['color_map']\n",
    "        )\n",
    "    ))\n",
    "\n",
    "for i in range(len(exp_post1)):\n",
    "    figpost.add_trace(\n",
    "        go.Scattermapbox(\n",
    "            \n",
    "            lon = [exp_post1['start_lng'].iloc[i], exp_post1['end_lng'].iloc[i]],\n",
    "            lat = [exp_post1['start_lat'].iloc[i], exp_post1['end_lat'].iloc[i]],\n",
    "            mode = 'lines',\n",
    "            hoverinfo = 'text',\n",
    "            text = exp_post1['start_name'].iloc[i],\n",
    "            line = dict(width =( exp_post1.num_rides.iloc[i]/50 ),color = 'red')\n",
    "\n",
    "          \n",
    "        )\n",
    "    )\n",
    "figpost.update_geos(center=dict(lat = 40.7831, lon = -73.9712 ),fitbounds = 'locations')\n",
    "figpost.update_layout(mapbox_style=\"open-street-map\", mapbox = dict(center=dict(lat = 40.7831, lon = -73.9712 ), zoom =10), showlegend=False)\n",
    "\n",
    "figpost.show()"
   ]
  },
  {
   "cell_type": "code",
   "execution_count": null,
   "id": "17e7a801",
   "metadata": {},
   "outputs": [],
   "source": [
    "# Pre covid analysis "
   ]
  },
  {
   "cell_type": "code",
   "execution_count": null,
   "id": "a4b0bfb4",
   "metadata": {
    "scrolled": true
   },
   "outputs": [],
   "source": [
    "figpre = go.Figure()\n",
    "\n",
    "\n",
    "figpre.add_trace(go.Scattermapbox(\n",
    "    lon = distinct_pre['start_lng'],\n",
    "    lat = distinct_pre['start_lat'],\n",
    "    hoverinfo = 'text',\n",
    "    text = distinct_pre['start_name'],\n",
    "    mode = 'markers',\n",
    "    marker = dict(\n",
    "        size = 4,\n",
    "        color = distinct_pre['color_map']\n",
    "        )\n",
    "    ))\n",
    "\n",
    "for i in range(len(exp_pre1)):\n",
    "    figpre.add_trace(\n",
    "        go.Scattermapbox(\n",
    "            \n",
    "            lon = [exp_pre1['start_lng'].iloc[i], exp_pre1['end_lng'].iloc[i]],\n",
    "            lat = [exp_pre1['start_lat'].iloc[i], exp_pre1['end_lat'].iloc[i]],\n",
    "            mode = 'lines',\n",
    "            hoverinfo = 'text',\n",
    "            text = exp_pre1['start_name'].iloc[i],\n",
    "            line = dict(width =( exp_pre1.num_rides.iloc[i]/50 ),color = 'red')\n",
    "          \n",
    "        )\n",
    "    )\n",
    "figpre.update_geos(center=dict(lat = 40.7831, lon = -73.9712 ),fitbounds = 'locations')\n",
    "figpre.update_layout(mapbox_style=\"open-street-map\", mapbox = dict(center=dict(lat = 40.7831, lon = -73.9712 ), zoom =10), showlegend=False)\n",
    "\n",
    "figpre.show()"
   ]
  },
  {
   "cell_type": "code",
   "execution_count": null,
   "id": "6e7681b4",
   "metadata": {},
   "outputs": [],
   "source": [
    "# post covid analysis"
   ]
  },
  {
   "cell_type": "code",
   "execution_count": null,
   "id": "f8dfd324",
   "metadata": {
    "scrolled": true
   },
   "outputs": [],
   "source": [
    "import seaborn as sns"
   ]
  },
  {
   "cell_type": "code",
   "execution_count": null,
   "id": "ec217499",
   "metadata": {},
   "outputs": [],
   "source": [
    "dfmodel = df[df['year']==2021].sample(100000)"
   ]
  },
  {
   "cell_type": "code",
   "execution_count": null,
   "id": "b6ff6f59",
   "metadata": {},
   "outputs": [],
   "source": [
    "df.columns"
   ]
  },
  {
   "cell_type": "code",
   "execution_count": null,
   "id": "1510ecea",
   "metadata": {},
   "outputs": [],
   "source": [
    "dfmodel.end_lng =dfmodel.end_lng.apply(lambda x:float(x))\n",
    "dfmodel.end_lat=dfmodel.end_lat.apply(lambda x:float(x))\n",
    "\n",
    "dfmodel.start_lng=dfmodel.start_lng.apply(lambda x:float(x))\n",
    "dfmodel.start_lat=dfmodel.start_lat.apply(lambda x:float(x))"
   ]
  },
  {
   "cell_type": "code",
   "execution_count": null,
   "id": "7eb6c48e",
   "metadata": {},
   "outputs": [],
   "source": [
    "# organizing data for models \n",
    "\n",
    "features1 = [ 'user_type', 'month',\n",
    "'year', 'day_of_week', 'hour_of_day', \n",
    "'subway_dist_end','bus_dist_end','high_traffic_start','park_dist_end',\n",
    "'comm_dist_end','end_lng','end_lat'] \n",
    "\n",
    "features =[ 'user_type', 'month',\n",
    "'year', 'day_of_week', 'hour_of_day', \n",
    "'subway_dist_start','bus_dist_start','high_traffic_start','park_dist_start',\n",
    "'comm_dist_start','start_lng','start_lat'] \n",
    "\n",
    "y = dfmodel['durationmins']\n",
    "\n",
    "dummies = pd.get_dummies(dfmodel['day_type'], drop_first=True)\n",
    "\n",
    "x = pd.concat([dfmodel[features], dummies], axis = 1)\n"
   ]
  },
  {
   "cell_type": "code",
   "execution_count": null,
   "id": "a597a66c",
   "metadata": {},
   "outputs": [],
   "source": [
    "# LINEAR REGRESSION  - Cant predict duration based on start distances and time \n",
    "\n",
    "from sklearn.linear_model import LinearRegression\n",
    "\n",
    "\n",
    "lm = LinearRegression()\n",
    "lm.fit(X_train,y_train)\n",
    "print(lm.score(X_train,y_train))\n",
    "print(lm.score(X_test,y_test))\n"
   ]
  },
  {
   "cell_type": "code",
   "execution_count": null,
   "id": "ce0d79b4",
   "metadata": {},
   "outputs": [],
   "source": [
    "## random forest - unable to predict \n",
    "\n",
    "import sklearn.model_selection as ms\n",
    "from sklearn import ensemble\n",
    "from sklearn.model_selection import train_test_split\n",
    "\n",
    "X_train, X_test, y_train, y_test = train_test_split(x,y, test_size=0.2, random_state=0)\n",
    "\n",
    "\n",
    "randomForest = ensemble.RandomForestRegressor()\n",
    "\n",
    "randomForest.set_params(random_state=0, max_depth = 15)\n",
    "\n",
    "randomForest.fit(X_train, y_train)\n",
    "\n",
    "print(randomForest.score(X_train,y_train))\n",
    "print(randomForest.score(X_test,y_test))\n",
    "\n"
   ]
  },
  {
   "cell_type": "code",
   "execution_count": null,
   "id": "98331cdb",
   "metadata": {},
   "outputs": [],
   "source": [
    "# Grid Search \n",
    "grid_para_tree = [\n",
    "    {'max_depth': range(1, 31)}\n",
    "]\n",
    "\n",
    "tree_model.set_params(random_state=0)\n",
    "grid_search_tree = ms.GridSearchCV(tree_model.fit(X_train, y_train),grid_para_tree, scoring='r2', cv=3, n_jobs=-1, return_train_score=True)\n",
    "grid_search_tree.fit(X_train, y_train)"
   ]
  },
  {
   "cell_type": "code",
   "execution_count": null,
   "id": "c07bf1c8",
   "metadata": {},
   "outputs": [],
   "source": [
    "# DASH APP"
   ]
  },
  {
   "cell_type": "code",
   "execution_count": null,
   "id": "49d7ae44",
   "metadata": {},
   "outputs": [],
   "source": [
    "import dash\n",
    "from dash import Dash, html, dcc"
   ]
  },
  {
   "cell_type": "code",
   "execution_count": null,
   "id": "5b81520d",
   "metadata": {},
   "outputs": [],
   "source": [
    "\n",
    "pre1 = pre.drop_duplicates(subset=['start_name']).sort_values(by = \"Popularity\", ascending = False).head(20)\n",
    "post1 = post.drop_duplicates(subset=['start_name']).sort_values(by = \"Popularity\", ascending = False).head(20)\n",
    "post1.reset_index(inplace =True)\n",
    "pre1.reset_index(inplace =True)"
   ]
  },
  {
   "cell_type": "code",
   "execution_count": null,
   "id": "c0f2daa7",
   "metadata": {},
   "outputs": [],
   "source": [
    "#edas  For app \n",
    "import seaborn as sns\n",
    "import matplotlib.pyplot as plt\n",
    "from plotly.offline import init_notebook_mode, iplot"
   ]
  },
  {
   "cell_type": "code",
   "execution_count": null,
   "id": "9c9de0dc",
   "metadata": {},
   "outputs": [],
   "source": [
    "p = sns.displot(df.loc[df['durationmins'] <60 ],x = 'durationmins', hue='year', kind = 'kde', height=8.27, aspect=11.7/8.27).set(title='Distribution of Ride Duration by Year')\n",
    "\n",
    "p.set_ylabel(\"Density\", fontsize = 20)\n",
    "plt.show()"
   ]
  },
  {
   "cell_type": "code",
   "execution_count": null,
   "id": "b77fb479",
   "metadata": {},
   "outputs": [],
   "source": [
    "# distribution of ride duration weekend vs weekway by year - pre covid \n",
    "\n",
    "\n",
    "plot1 = sns.FacetGrid(pre[['day_type','year','hour_of_day']], col = 'day_type', hue = 'year', height=8.27, aspect=11.7/8.27)\n",
    "plot1.map(sns.histplot, 'hour_of_day', bins = 20).add_legend() #.set(title='Distribution of Ride Duration by Year')\n",
    "\n",
    "\n",
    "plt.show()"
   ]
  },
  {
   "cell_type": "code",
   "execution_count": null,
   "id": "f6dd4a37",
   "metadata": {
    "scrolled": true
   },
   "outputs": [],
   "source": [
    "# distribution of ride horus weekend vs weekway by year - post covid \n",
    "\n",
    "\n",
    "plot2 = sns.FacetGrid(post[['day_type','year','hour_of_day']], col = 'day_type', hue = 'year', height=8.27, aspect=11.7/8.27)\n",
    "plot2.map(sns.histplot, 'hour_of_day', bins = 20).add_legend().set(title='Distribution of Ride Duration by Year')\n",
    "\n",
    "\n",
    "plt.show()"
   ]
  },
  {
   "cell_type": "code",
   "execution_count": null,
   "id": "14128cf1",
   "metadata": {},
   "outputs": [],
   "source": [
    "# line graph of amount of user type per year \n",
    "\n",
    "figRide = px.line(df.groupby(['year', 'user_type']).size().to_frame().reset_index(), x = 'year', y = [0] \n",
    "              ,color = 'user_type',title=\"Annual Rides By User Type\")\n",
    "figRide.update_xaxes(nticks=4,\n",
    "        title_text = \"year\",\n",
    "        title_font = {\"size\": 20},\n",
    "        title_standoff = 25)\n",
    "newnames = {'0':'Casual', '1': 'Member'}\n",
    "figRide.for_each_trace(lambda t: t.update(name = newnames[t.name],\n",
    "                                      legendgroup = newnames[t.name],\n",
    "                                      hovertemplate = t.hovertemplate.replace(t.name, newnames[t.name])))\n",
    "figRide.update_layout(legend_title = 'User Type')\n",
    "\n",
    "figRide.update_yaxes(\n",
    "        title_text = \"Total Number of Rides\",\n",
    "        title_standoff = 25)"
   ]
  },
  {
   "cell_type": "code",
   "execution_count": null,
   "id": "ad944497",
   "metadata": {
    "scrolled": true
   },
   "outputs": [],
   "source": [
    "# number of rides by user type and year \n",
    "\n",
    "figMonth = px.line(df.groupby(['month','year']).size().to_frame().reset_index(), x = 'month', y = [0] \n",
    "              ,color = 'year',title=\"Month Rides By User Type and Year\")\n",
    "figMonth.update_xaxes(nticks=12,\n",
    "        title_text = \"Month\",\n",
    "        title_font = {\"size\": 20},\n",
    "        title_standoff = 25)\n",
    "\n",
    "figMonth.update_layout(legend_title = 'Year')\n",
    "\n",
    "figMonth.update_yaxes(\n",
    "        title_text = \"Total Number of Rides\",\n",
    "        title_standoff = 25)"
   ]
  },
  {
   "cell_type": "code",
   "execution_count": null,
   "id": "4b1d74bb",
   "metadata": {
    "scrolled": true
   },
   "outputs": [],
   "source": [
    "# scattters \n",
    "# post covid correlation between commerical distance and popularity \n",
    "comscatpre = px.scatter(distinct_post[['Popularity', 'comm_dist_start', 'start_name']],\n",
    "           x = 'Popularity', y='comm_dist_start', hover_name = 'start_name')"
   ]
  },
  {
   "cell_type": "code",
   "execution_count": null,
   "id": "4629e8b1",
   "metadata": {},
   "outputs": [],
   "source": [
    "comscatpost = px.scatter(distinct_post[['Popularity', 'comm_dist_end', 'start_name']],\n",
    "           x = 'Popularity', y='comm_dist_end', hover_name = 'start_name')"
   ]
  },
  {
   "cell_type": "code",
   "execution_count": null,
   "id": "8c7f2564",
   "metadata": {},
   "outputs": [],
   "source": [
    "#post covid park distance and popularity correlation\n",
    "px.scatter(distinct_post[['Popularity', 'park_dist_start', 'start_name']],\n",
    "           x = 'Popularity', y='park_dist_start', hover_name = 'start_name')\n"
   ]
  },
  {
   "cell_type": "code",
   "execution_count": null,
   "id": "2af485f2",
   "metadata": {},
   "outputs": [],
   "source": [
    "distinct_pre\n",
    "distinct_post"
   ]
  },
  {
   "cell_type": "code",
   "execution_count": null,
   "id": "461cbb62",
   "metadata": {},
   "outputs": [],
   "source": [
    "    # Filtering relevant data\n",
    "    duration_data = df[\"durationmins\"]\n",
    "    dur_fig = plt.figure(figsize=(15,7))\n",
    "    ax = dur_fig.add_axes([0.1, 0.1, 0.8, 0.8])\n",
    "\n",
    "    # Ploting the histogram\n",
    "    plt.hist(duration_data, bins = range(62),color = \"blue\", histtype =\"bar\")\n",
    "\n",
    "    # Adding median and mean lines\n",
    "    plt.axvline(df[\"durationmins\"].mean(), color=\"MAGENTA\", linestyle='-', linewidth=2 )\n",
    "    plt.axvline(df[\"durationmins\"].median(), color=\"GREEN\", linestyle='-', linewidth=2 )\n",
    "    plt.axvline(x = 30, color=\"blue\", linestyle='-', linewidth=1 )\n",
    "\n",
    "    # Adding median and mean texts\n",
    "    min_ylim, max_ylim = plt.ylim()\n",
    "    plt.text(df[\"durationmins\"].mean()*1.1, max_ylim*0.9, 'Mean: {:.0f} min'.format(df[\"durationmins\"].mean()), color = \"MAGENTA\",  fontsize= 12)\n",
    "    plt.text(df[\"durationmins\"].median()*1.1, max_ylim*0.8, 'Median: {:.0f} min'.format(df[\"durationmins\"].median()), color = \"GREEN\", fontsize= 12)\n",
    "    plt.text(x= 28,y=200000, s=\"Free\", color = \"GREEN\", fontsize= 12)\n",
    "    plt.text(x= 30.5,y=200000, s=\"Extra Charge\", color = \"grey\", fontsize= 12)\n",
    "\n",
    "    # Seting ticks on x axis\n",
    "    ticks =range(0, 62, 2)\n",
    "    plt.xticks(ticks)\n",
    "    # Seting ticks on y axis\n",
    "    ticks =range(0, 7000, 2000)\n",
    "\n",
    "    # Labeling Axes\n",
    "    plt.xlabel(\"Duration of Rides\", fontsize= 12)\n",
    "    plt.ylabel(\"Number of Rides\", fontsize= 12)\n",
    "\n",
    "    # Adding Grid\n",
    "    plt.grid(linestyle=\":\", color='grey')\n",
    "\n",
    "    plt.show()"
   ]
  },
  {
   "cell_type": "code",
   "execution_count": null,
   "id": "added512",
   "metadata": {},
   "outputs": [],
   "source": [
    "#  interactive graph \n",
    "\n",
    "app = dash.Dash(__name__)\n",
    "    \n",
    "    "
   ]
  },
  {
   "cell_type": "code",
   "execution_count": null,
   "id": "d3ad392a",
   "metadata": {},
   "outputs": [],
   "source": [
    "# app with only map visualizations \n",
    "\n",
    "app.layout = html.Div([\n",
    "    dcc.Tabs([ dcc.Tab(label='Pre Covid Map', children=[\n",
    "                dcc.Graph(\n",
    "                id='Pre-Covid Popular Regions and Expansion Areas',style={'width': '90vh', 'height': '90vh'},\n",
    "                figure= figpre)]),\n",
    "              dcc.Tab(label='Post Covid Map', children=[\n",
    "                dcc.Graph(\n",
    "                id='Post-Covid Popular Regions and Expansion Areas',style={'width': '90vh', 'height': '90vh'},\n",
    "                figure= figpost)])\n",
    "             ])\n",
    "])\n",
    "        \n",
    "        \n",
    "        \n",
    "        \n",
    "        \n",
    "        \n",
    "        \n",
    "        \n",
    "        \n",
    "        \n",
    "        \n",
    "        "
   ]
  },
  {
   "cell_type": "code",
   "execution_count": null,
   "id": "4cf780d0",
   "metadata": {},
   "outputs": [],
   "source": [
    "# App with all visualizaitons \n",
    "\n",
    "\n",
    "\n",
    "\n",
    "# app.layout = html.Div([\n",
    "#     dcc.Tabs([ dcc.Tab(label='Number of Rides', children=[\n",
    "#                 dcc.Graph(\n",
    "#                 id='Rides Per Month by Year',\n",
    "#                 figure= figMonth), \n",
    "#                 dcc.Graph(\n",
    "#                 id='Number of Rides by User Type ',\n",
    "#                 figure= figRide)\n",
    "#                 ]),\n",
    "#             dcc.Tab(label='Station Popularity', children =[\n",
    "#                 dcc.Graph(figure={\"data\": [\n",
    "#                             {\n",
    "#                                 \"x\": pre1[\"start_name\"],\n",
    "#                                 \"y\": pre1[\"Popularity\"],\n",
    "#                                 \"type\": \"bar\",\n",
    "#                             },\n",
    "#                         ],\n",
    "#                         \"layout\": {\"title\": \"Pre Covid Station Popularity\"},\n",
    "#                     },\n",
    "#                         ),\n",
    "#                 dcc.Graph( \n",
    "#                    figure={ \"data\": [{\"x\": post1[\"start_name\"],\"y\": post1[\"Popularity\"], \"type\": \"bar\"}],\n",
    "#                            \"layout\": {\"title\": \"Post Covid Station Popularity\"},\n",
    "#                     }\n",
    "                    \n",
    "#                     )]),\n",
    "            \n",
    "#             dcc.Tab(label='Pre Covid Map', children=[\n",
    "#                 dcc.Graph(\n",
    "#                 id='Pre-Covid Popular Regions and Expansion Areas',style={'width': '90vh', 'height': '90vh'},\n",
    "#                 figure= figpre),\n",
    "#                 dcc.Graph(\n",
    "#                 id='Post-Covid Popular Regions and Expansion Areas',style={'width': '90vh', 'height': '90vh'},\n",
    "#                 figure= figpost)\n",
    "#             ]),\n",
    "#              dcc.Tab(label='Correlations', children=[\n",
    "#                 dcc.Graph(\n",
    "#                 id='Correlation between commerical distance start and station popularity',\n",
    "#                 figure=comscatpre),\n",
    "#                 dcc.Graph(\n",
    "#                 id='Correlation between commercial distance end and station poularity',\n",
    "#                 figure=comscatpost )\n",
    "#              ])\n",
    "#              ])\n",
    "#              ])\n",
    "\n",
    "               \n",
    "             \n",
    "        \n"
   ]
  },
  {
   "cell_type": "code",
   "execution_count": null,
   "id": "b5765e0e",
   "metadata": {},
   "outputs": [],
   "source": [
    "if __name__ == '__main__':\n",
    "    app.run_server(debug=False)"
   ]
  },
  {
   "cell_type": "code",
   "execution_count": null,
   "id": "7073da2b",
   "metadata": {},
   "outputs": [],
   "source": []
  }
 ],
 "metadata": {
  "kernelspec": {
   "display_name": "Python 3",
   "language": "python",
   "name": "python3"
  },
  "language_info": {
   "codemirror_mode": {
    "name": "ipython",
    "version": 3
   },
   "file_extension": ".py",
   "mimetype": "text/x-python",
   "name": "python",
   "nbconvert_exporter": "python",
   "pygments_lexer": "ipython3",
   "version": "3.8.8"
  }
 },
 "nbformat": 4,
 "nbformat_minor": 5
}
